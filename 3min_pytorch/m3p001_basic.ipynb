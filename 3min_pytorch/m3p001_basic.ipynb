{
 "cells": [
  {
   "cell_type": "markdown",
   "metadata": {},
   "source": [
    "### 텐서 기본"
   ]
  },
  {
   "cell_type": "code",
   "execution_count": 1,
   "metadata": {},
   "outputs": [],
   "source": [
    "import torch"
   ]
  },
  {
   "cell_type": "code",
   "execution_count": 3,
   "metadata": {},
   "outputs": [
    {
     "name": "stdout",
     "output_type": "stream",
     "text": [
      "tensor([[1, 2, 3],\n",
      "        [4, 5, 6],\n",
      "        [7, 8, 9]])\n",
      "Size: torch.Size([3, 3])\n",
      "Shape: torch.Size([3, 3])\n",
      "Rank(Dimension): 2\n"
     ]
    }
   ],
   "source": [
    "x = torch.tensor([[1,2,3], [4,5,6], [7,8,9]])\n",
    "print(x)\n",
    "print(\"Size:\", x.size())\n",
    "print(\"Shape:\", x.shape)\n",
    "print(\"Rank(Dimension):\", x.ndimension())"
   ]
  },
  {
   "cell_type": "code",
   "execution_count": 7,
   "metadata": {},
   "outputs": [
    {
     "name": "stdout",
     "output_type": "stream",
     "text": [
      "tensor([[[1, 2, 3],\n",
      "         [4, 5, 6],\n",
      "         [7, 8, 9]]])\n",
      "Size: torch.Size([1, 3, 3])\n",
      "Shape: torch.Size([1, 3, 3])\n",
      "Rank(Dimension): 3\n"
     ]
    }
   ],
   "source": [
    "# 랭크(차원) 늘리기\n",
    "x = torch.unsqueeze(x, 0)\n",
    "print(x)\n",
    "print(\"Size:\", x.size())\n",
    "print(\"Shape:\", x.shape)\n",
    "print(\"Rank(Dimension):\", x.ndimension())"
   ]
  },
  {
   "cell_type": "code",
   "execution_count": 8,
   "metadata": {},
   "outputs": [
    {
     "name": "stdout",
     "output_type": "stream",
     "text": [
      "tensor([[1, 2, 3],\n",
      "        [4, 5, 6],\n",
      "        [7, 8, 9]])\n",
      "Size: torch.Size([3, 3])\n",
      "Shape: torch.Size([3, 3])\n",
      "Rank(Dimension): 2\n"
     ]
    }
   ],
   "source": [
    "# 랭크 줄이기\n",
    "x = torch.squeeze(x)\n",
    "print(x)\n",
    "print(\"Size:\", x.size())\n",
    "print(\"Shape:\", x.shape) #[3, 3] 2개의 차원에 각 3개의 원소를 가진 텐서\n",
    "print(\"Rank(Dimension):\", x.ndimension())"
   ]
  },
  {
   "cell_type": "code",
   "execution_count": 9,
   "metadata": {},
   "outputs": [
    {
     "name": "stdout",
     "output_type": "stream",
     "text": [
      "tensor([1, 2, 3, 4, 5, 6, 7, 8, 9])\n",
      "Size: torch.Size([9])\n",
      "Shape: torch.Size([9])\n",
      "Rank(Dimension): 1\n"
     ]
    }
   ],
   "source": [
    "# 랭크의 형태 바꾸기\n",
    "x = x.view(9)\n",
    "print(x)\n",
    "print(\"Size:\", x.size())\n",
    "print(\"Shape:\", x.shape)\n",
    "print(\"Rank(Dimension):\", x.ndimension())"
   ]
  },
  {
   "cell_type": "code",
   "execution_count": 14,
   "metadata": {},
   "outputs": [
    {
     "name": "stdout",
     "output_type": "stream",
     "text": [
      "shape '[2, 4]' is invalid for input of size 9\n"
     ]
    }
   ],
   "source": [
    "try:\n",
    "    x = x.view(2,4)\n",
    "    print(x)\n",
    "except Exception as e:\n",
    "    print(e) #에러 출력"
   ]
  },
  {
   "cell_type": "code",
   "execution_count": 15,
   "metadata": {},
   "outputs": [
    {
     "name": "stdout",
     "output_type": "stream",
     "text": [
      "tensor([[1, 2, 3],\n",
      "        [4, 5, 6],\n",
      "        [7, 8, 9]])\n"
     ]
    }
   ],
   "source": [
    "try:\n",
    "    x = x.view(3,3)\n",
    "    print(x)\n",
    "except Exception as e:\n",
    "    print(e) #에러 출력"
   ]
  },
  {
   "cell_type": "markdown",
   "metadata": {},
   "source": [
    "#### 연산과 행렬곱"
   ]
  },
  {
   "cell_type": "code",
   "execution_count": 16,
   "metadata": {},
   "outputs": [
    {
     "name": "stdout",
     "output_type": "stream",
     "text": [
      "w size: torch.Size([5, 3])\n",
      "x size: torch.Size([3, 2])\n",
      "w: tensor([[-0.0407,  0.0852,  0.3237],\n",
      "        [ 1.1919,  0.4505,  2.4119],\n",
      "        [ 0.3384, -0.1425, -2.0910],\n",
      "        [ 0.1089, -0.6897,  1.5481],\n",
      "        [-0.7361, -1.0800,  1.0334]])\n",
      "x: tensor([[1., 2.],\n",
      "        [3., 4.],\n",
      "        [5., 6.]])\n"
     ]
    }
   ],
   "source": [
    "w = torch.randn(5,3, dtype=torch.float)\n",
    "x = torch.tensor([[1.0,2.0], [3.0,4.0], [5.0,6.0]])\n",
    "print(\"w size:\", w.size())\n",
    "print(\"x size:\", x.size())\n",
    "print(\"w:\", w)\n",
    "print(\"x:\", x)"
   ]
  },
  {
   "cell_type": "code",
   "execution_count": 18,
   "metadata": {},
   "outputs": [
    {
     "name": "stdout",
     "output_type": "stream",
     "text": [
      "b: torch.Size([5, 2])\n",
      "b: tensor([[-1.0902,  2.0504],\n",
      "        [-0.7136, -0.7415],\n",
      "        [ 0.6327, -0.3788],\n",
      "        [-0.4368, -1.3595],\n",
      "        [ 1.0969, -0.3333]])\n"
     ]
    }
   ],
   "source": [
    "b = torch.randn(5,2, dtype=torch.float)\n",
    "print(\"b:\", b.size())\n",
    "print(\"b:\", b)"
   ]
  },
  {
   "cell_type": "code",
   "execution_count": 19,
   "metadata": {},
   "outputs": [
    {
     "name": "stdout",
     "output_type": "stream",
     "text": [
      "wx size: torch.Size([5, 2])\n",
      "wx: tensor([[  1.8332,   2.2013],\n",
      "        [ 14.6029,  18.6571],\n",
      "        [-10.5440, -12.4392],\n",
      "        [  5.7803,   6.7476],\n",
      "        [  1.1908,   0.4081]])\n"
     ]
    }
   ],
   "source": [
    "wx = torch.mm(w,x) # w의 행은 5, x의 열은 2, 즉 shape는 [5, 2]입니다.\n",
    "print(\"wx size:\", wx.size())\n",
    "print(\"wx:\", wx)\n"
   ]
  },
  {
   "cell_type": "code",
   "execution_count": 20,
   "metadata": {},
   "outputs": [
    {
     "name": "stdout",
     "output_type": "stream",
     "text": [
      "result size: torch.Size([5, 2])\n",
      "result: tensor([[  0.7430,   4.2517],\n",
      "        [ 13.8892,  17.9156],\n",
      "        [ -9.9113, -12.8180],\n",
      "        [  5.3434,   5.3881],\n",
      "        [  2.2877,   0.0748]])\n"
     ]
    }
   ],
   "source": [
    "result = wx + b\t\n",
    "print(\"result size:\", result.size()) \n",
    "print(\"result:\", result) "
   ]
  },
  {
   "cell_type": "markdown",
   "metadata": {},
   "source": [
    "#### 미분"
   ]
  },
  {
   "cell_type": "code",
   "execution_count": 27,
   "metadata": {},
   "outputs": [
    {
     "name": "stdout",
     "output_type": "stream",
     "text": [
      "l을 w로 미분한 값은 18.0\n"
     ]
    }
   ],
   "source": [
    "w = torch.tensor(1.0, requires_grad=True)\n",
    "\n",
    "a = w*3\n",
    "l = a**2\n",
    "\n",
    "l.backward()\n",
    "\n",
    "print('l을 w로 미분한 값은 {}'.format(w.grad))"
   ]
  },
  {
   "cell_type": "code",
   "execution_count": 25,
   "metadata": {},
   "outputs": [
    {
     "name": "stdout",
     "output_type": "stream",
     "text": [
      "x에 대한 미분 (dz/dx): 4.0\n",
      "y에 대한 미분 (dz/dy): 27.0\n"
     ]
    }
   ],
   "source": [
    "# 1. 텐서 정의 및 requires_grad=True 설정. 해당 텐서에 대해 미분 값을 추적하겠음\n",
    "x = torch.tensor(2.0, requires_grad=True)  # x는 미분 계산에 포함됨\n",
    "y = torch.tensor(3.0, requires_grad=True)  # y도 포함\n",
    "\n",
    "# 2. 계산 그래프 생성\n",
    "z = x ** 2 + y ** 3  # z = x^2 + y^3\n",
    "\n",
    "# 3. z를 기준으로 미분 수행 (backpropagation)\n",
    "z.backward()\n",
    "\n",
    "# 4. 결과 출력. 미분결과는 각 텐서의 .grad 속성에 저장\n",
    "print(f\"x에 대한 미분 (dz/dx): {x.grad}\")  # dz/dx = 2*x = 4\n",
    "print(f\"y에 대한 미분 (dz/dy): {y.grad}\")  # dz/dy = 3*y^2 = 27"
   ]
  }
 ],
 "metadata": {
  "kernelspec": {
   "display_name": "Python 3",
   "language": "python",
   "name": "python3"
  },
  "language_info": {
   "codemirror_mode": {
    "name": "ipython",
    "version": 3
   },
   "file_extension": ".py",
   "mimetype": "text/x-python",
   "name": "python",
   "nbconvert_exporter": "python",
   "pygments_lexer": "ipython3",
   "version": "3.11.9"
  }
 },
 "nbformat": 4,
 "nbformat_minor": 2
}
