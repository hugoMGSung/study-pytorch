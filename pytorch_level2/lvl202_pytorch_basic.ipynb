{
 "cells": [
  {
   "cell_type": "markdown",
   "metadata": {},
   "source": [
    "## PyTorch 학습 레벨 2 - 002\n",
    "---\n",
    "\n",
    "### 순서\n",
    "- Tensor\n",
    "- _~~Augograd~~_\n",
    "- DataSet, DataLoader\n",
    "- Transform"
   ]
  },
  {
   "cell_type": "code",
   "execution_count": 1,
   "metadata": {},
   "outputs": [],
   "source": [
    "import numpy as np\n",
    "import torch"
   ]
  },
  {
   "cell_type": "markdown",
   "metadata": {},
   "source": [
    "### Autograd\n",
    "- Automatic gradient calculating API \n",
    "- forward(Forward Propagation: 순전파)와 backward(Backward Propagation: 역전파)가 가능하게 해줌\n",
    "- [참조](https://tutorials.pytorch.kr/beginner/basics/autogradqs_tutorial.html)\n",
    "\n",
    "```python\n",
    "import torch\n",
    "\n",
    "x = torch.ones(5)  # input tensor\n",
    "y = torch.zeros(3)  # expected output\n",
    "w = torch.randn(5, 3, requires_grad=True)\n",
    "b = torch.randn(3, requires_grad=True)\n",
    "z = torch.matmul(x, w)+b\n",
    "loss = torch.nn.functional.binary_cross_entropy_with_logits(z, y)\n",
    "```\n",
    "\n",
    "<img src=\"https://tutorials.pytorch.kr/_images/comp-graph.png\" width=\"700\" style=\"background:white;\">\n",
    "\n",
    "\n",
    "- 이 신경망에서, w(가중치)와 b(절편편)는 최적화를 해야 하는 매개변수\n",
    "    - requires_grad=True 를 사용해서 추적가능\n",
    "- 변화도(Gradient) 계산, 변화도 추적\n",
    "- 다음번 노드 계산에서 사용할 때, 좀더 나은 값을 변경(조정)되어 대입되어야 함 -> 역전파\n"
   ]
  }
 ],
 "metadata": {
  "kernelspec": {
   "display_name": "Python 3",
   "language": "python",
   "name": "python3"
  },
  "language_info": {
   "codemirror_mode": {
    "name": "ipython",
    "version": 3
   },
   "file_extension": ".py",
   "mimetype": "text/x-python",
   "name": "python",
   "nbconvert_exporter": "python",
   "pygments_lexer": "ipython3",
   "version": "3.11.9"
  }
 },
 "nbformat": 4,
 "nbformat_minor": 2
}
