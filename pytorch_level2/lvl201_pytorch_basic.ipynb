{
 "cells": [
  {
   "cell_type": "markdown",
   "metadata": {},
   "source": [
    "## PyTorch 학습 레벨 2 - 001\n",
    "---\n",
    "\n",
    "### 순서\n",
    "- _~~Tensor~~_\n",
    "- Augograd\n",
    "- DataSet, DataLoader\n",
    "- Transform"
   ]
  },
  {
   "cell_type": "code",
   "execution_count": 1,
   "metadata": {},
   "outputs": [],
   "source": [
    "import numpy as np\n",
    "import torch"
   ]
  },
  {
   "cell_type": "markdown",
   "metadata": {},
   "source": [
    "### Tensor\n",
    "- Tensor(텐서)는 Numpy의 ndarray와 유사한 특수 자료형\n",
    "- PyTorch에서는 텐서를 사용 모델의 입력과 출력, 매개변수들을 부호화(encoding)\n",
    "\n",
    "- Numpy와 Tensor는 동일한 내부구조를 공유. 단, GPU를 사용할 수 있다는 점만 차이\n",
    "- Tensor는 Autograd(자동미분)에 최적화 되어 있음"
   ]
  },
  {
   "cell_type": "markdown",
   "metadata": {},
   "source": [
    "### 1. Initialize Tensor\n",
    "\n",
    "#### 데이터로 직접생성"
   ]
  },
  {
   "cell_type": "code",
   "execution_count": 16,
   "metadata": {},
   "outputs": [
    {
     "data": {
      "text/plain": [
       "tensor([[1., 2.],\n",
       "        [3., 4.]])"
      ]
     },
     "execution_count": 16,
     "metadata": {},
     "output_type": "execute_result"
    }
   ],
   "source": [
    "# 하나라도 소수점을 찍으면 모든 요소가 float화 됨\n",
    "x = [[1, 2],[3, 4.]]\n",
    "tensor_x = torch.tensor(x)\n",
    "tensor_x"
   ]
  },
  {
   "cell_type": "markdown",
   "metadata": {},
   "source": [
    "#### Numpy를 변형, 생성"
   ]
  },
  {
   "cell_type": "code",
   "execution_count": 11,
   "metadata": {},
   "outputs": [
    {
     "data": {
      "text/plain": [
       "array([[1., 2.],\n",
       "       [3., 4.]])"
      ]
     },
     "execution_count": 11,
     "metadata": {},
     "output_type": "execute_result"
    }
   ],
   "source": [
    "narray = np.array(x)\n",
    "narray"
   ]
  },
  {
   "cell_type": "code",
   "execution_count": 12,
   "metadata": {},
   "outputs": [
    {
     "data": {
      "text/plain": [
       "tensor([[1., 2.],\n",
       "        [3., 4.]], dtype=torch.float64)"
      ]
     },
     "execution_count": 12,
     "metadata": {},
     "output_type": "execute_result"
    }
   ],
   "source": [
    "tensor_np = torch.from_numpy(narray)\n",
    "tensor_np"
   ]
  },
  {
   "cell_type": "markdown",
   "metadata": {},
   "source": [
    "#### 다른 방법\n",
    "- 명시적으로 재정의(override)하지 않으면, 인자로 주어진 Tensor 속성(모양(shape), 자료형(datatype))을 유지"
   ]
  },
  {
   "cell_type": "code",
   "execution_count": 22,
   "metadata": {},
   "outputs": [
    {
     "data": {
      "text/plain": [
       "tensor([[1., 1.],\n",
       "        [1., 1.]])"
      ]
     },
     "execution_count": 22,
     "metadata": {},
     "output_type": "execute_result"
    }
   ],
   "source": [
    "ones_x = torch.ones_like(tensor_x) # , dtype=torch.int64) # 데이터타입 설정\n",
    "ones_x"
   ]
  },
  {
   "cell_type": "code",
   "execution_count": 24,
   "metadata": {},
   "outputs": [
    {
     "data": {
      "text/plain": [
       "tensor([[0., 0.],\n",
       "        [0., 0.]])"
      ]
     },
     "execution_count": 24,
     "metadata": {},
     "output_type": "execute_result"
    }
   ],
   "source": [
    "zeros_x = torch.zeros_like(tensor_x) # , dtype=torch.int64) # 데이터타입 설정\n",
    "zeros_x"
   ]
  },
  {
   "cell_type": "code",
   "execution_count": 25,
   "metadata": {},
   "outputs": [
    {
     "data": {
      "text/plain": [
       "tensor([[0.3258, 0.5098],\n",
       "        [0.8040, 0.4555]])"
      ]
     },
     "execution_count": 25,
     "metadata": {},
     "output_type": "execute_result"
    }
   ],
   "source": [
    "rand_x = torch.rand_like(tensor_x)\n",
    "rand_x"
   ]
  },
  {
   "cell_type": "code",
   "execution_count": 26,
   "metadata": {},
   "outputs": [
    {
     "data": {
      "text/plain": [
       "tensor([[-0.4891,  1.1529],\n",
       "        [ 0.7452,  0.3608]])"
      ]
     },
     "execution_count": 26,
     "metadata": {},
     "output_type": "execute_result"
    }
   ],
   "source": [
    "randn_x = torch.randn_like(tensor_x)\n",
    "randn_x"
   ]
  },
  {
   "cell_type": "markdown",
   "metadata": {},
   "source": [
    "#### shape 사용 == size"
   ]
  },
  {
   "cell_type": "code",
   "execution_count": 31,
   "metadata": {},
   "outputs": [
    {
     "data": {
      "text/plain": [
       "tensor([[0.0444, 0.6804, 0.3741, 0.3331],\n",
       "        [0.5641, 0.7834, 0.5764, 0.5407],\n",
       "        [0.0893, 0.4645, 0.8782, 0.6303]])"
      ]
     },
     "execution_count": 31,
     "metadata": {},
     "output_type": "execute_result"
    }
   ],
   "source": [
    "shape = (3, 4) # size\n",
    "rand_y = torch.rand(shape)\n",
    "\n",
    "rand_y"
   ]
  },
  {
   "cell_type": "code",
   "execution_count": 29,
   "metadata": {},
   "outputs": [
    {
     "data": {
      "text/plain": [
       "tensor([[-0.1053, -0.3802,  1.2611,  0.4437],\n",
       "        [ 1.3979,  1.1228,  1.1377, -0.1064],\n",
       "        [ 0.9539, -0.5034, -0.2658, -0.0215]])"
      ]
     },
     "execution_count": 29,
     "metadata": {},
     "output_type": "execute_result"
    }
   ],
   "source": [
    "torch.randn(shape)"
   ]
  },
  {
   "cell_type": "code",
   "execution_count": 30,
   "metadata": {},
   "outputs": [
    {
     "data": {
      "text/plain": [
       "tensor([[1., 1., 1., 1.],\n",
       "        [1., 1., 1., 1.],\n",
       "        [1., 1., 1., 1.]])"
      ]
     },
     "execution_count": 30,
     "metadata": {},
     "output_type": "execute_result"
    }
   ],
   "source": [
    "torch.ones(shape)"
   ]
  },
  {
   "cell_type": "code",
   "execution_count": 32,
   "metadata": {},
   "outputs": [
    {
     "data": {
      "text/plain": [
       "tensor([[0., 0., 0., 0.],\n",
       "        [0., 0., 0., 0.],\n",
       "        [0., 0., 0., 0.]])"
      ]
     },
     "execution_count": 32,
     "metadata": {},
     "output_type": "execute_result"
    }
   ],
   "source": [
    "torch.zeros(shape)"
   ]
  },
  {
   "cell_type": "markdown",
   "metadata": {},
   "source": [
    "### 2. Attribute of Tensor\n",
    "\n",
    "- 텐서의 속성은 텐서의 모양(shape), 자료형(datatype) 및 저장장치 설정 등"
   ]
  },
  {
   "cell_type": "code",
   "execution_count": 33,
   "metadata": {},
   "outputs": [],
   "source": [
    "tensor_z = torch.rand(4, 5)"
   ]
  },
  {
   "cell_type": "code",
   "execution_count": 34,
   "metadata": {},
   "outputs": [
    {
     "data": {
      "text/plain": [
       "tensor([[0.6642, 0.6552, 0.0135, 0.0057, 0.4253],\n",
       "        [0.2883, 0.9247, 0.6103, 0.9424, 0.0984],\n",
       "        [0.7389, 0.9142, 0.6756, 0.0271, 0.4904],\n",
       "        [0.9005, 0.6029, 0.6661, 0.6147, 0.0703]])"
      ]
     },
     "execution_count": 34,
     "metadata": {},
     "output_type": "execute_result"
    }
   ],
   "source": [
    "tensor_z"
   ]
  },
  {
   "cell_type": "code",
   "execution_count": 35,
   "metadata": {},
   "outputs": [
    {
     "data": {
      "text/plain": [
       "'텐서 모양: torch.Size([4, 5])'"
      ]
     },
     "execution_count": 35,
     "metadata": {},
     "output_type": "execute_result"
    }
   ],
   "source": [
    "f'텐서 모양: {tensor_z.shape}'"
   ]
  },
  {
   "cell_type": "code",
   "execution_count": 36,
   "metadata": {},
   "outputs": [
    {
     "data": {
      "text/plain": [
       "'텐서 데이터형: torch.float32'"
      ]
     },
     "execution_count": 36,
     "metadata": {},
     "output_type": "execute_result"
    }
   ],
   "source": [
    "f'텐서 데이터형: {tensor_z.dtype}'"
   ]
  },
  {
   "cell_type": "code",
   "execution_count": 37,
   "metadata": {},
   "outputs": [
    {
     "data": {
      "text/plain": [
       "'텐서 저장소: cpu'"
      ]
     },
     "execution_count": 37,
     "metadata": {},
     "output_type": "execute_result"
    }
   ],
   "source": [
    "f'텐서 저장소: {tensor_z.device}'"
   ]
  },
  {
   "cell_type": "markdown",
   "metadata": {},
   "source": [
    "#### GPU 사용하려면..."
   ]
  },
  {
   "cell_type": "code",
   "execution_count": 2,
   "metadata": {},
   "outputs": [
    {
     "data": {
      "text/plain": [
       "'cuda'"
      ]
     },
     "execution_count": 2,
     "metadata": {},
     "output_type": "execute_result"
    }
   ],
   "source": [
    "if torch.cuda.is_available():\n",
    "    DEVICE = 'cuda'\n",
    "else:\n",
    "    DEVICE = 'cpu'\n",
    "\n",
    "DEVICE"
   ]
  },
  {
   "cell_type": "code",
   "execution_count": 43,
   "metadata": {},
   "outputs": [],
   "source": [
    "tensor_z_gpu = tensor_z.to(DEVICE)"
   ]
  },
  {
   "cell_type": "code",
   "execution_count": 44,
   "metadata": {},
   "outputs": [
    {
     "data": {
      "text/plain": [
       "'텐서 저장소: cuda:0'"
      ]
     },
     "execution_count": 44,
     "metadata": {},
     "output_type": "execute_result"
    }
   ],
   "source": [
    "f'텐서 저장소: {tensor_z_gpu.device}'"
   ]
  },
  {
   "cell_type": "markdown",
   "metadata": {},
   "source": [
    "### 3. Tensor operations\n",
    "- 수많은 연산에 대한 내용은 [참조링크](https://pytorch.org/docs/stable/torch.html) 확인\n",
    "- 위에서 본 GPU로 이동하면, 연산 시간 및 공간 절약\n",
    "- Numpy 연산과 유사!"
   ]
  },
  {
   "cell_type": "code",
   "execution_count": 48,
   "metadata": {},
   "outputs": [
    {
     "name": "stdout",
     "output_type": "stream",
     "text": [
      "tensor([[0.6642, 0.6552, 0.0135, 0.0057, 0.4253],\n",
      "        [0.2883, 0.9247, 0.6103, 0.9424, 0.0984],\n",
      "        [0.7389, 0.9142, 0.6756, 0.0271, 0.4904],\n",
      "        [0.9005, 0.6029, 0.6661, 0.6147, 0.0703]], device='cuda:0')\n",
      "Device tensor is stored on: cuda:0\n"
     ]
    }
   ],
   "source": [
    "# GPU가 존재하면 텐서를 이동\n",
    "tensor = tensor_z\n",
    "\n",
    "if torch.cuda.is_available():\n",
    "    tensor = tensor.to(DEVICE)  # 같은 변수명으로 덮어씌우는 것 추천(메모리 절약면)\n",
    "    print(tensor)\n",
    "\n",
    "print(f'Device tensor is stored on: {tensor.device}')"
   ]
  },
  {
   "cell_type": "markdown",
   "metadata": {},
   "source": [
    "#### 인덱싱, 슬라이싱\n",
    "- Numpy와 동일"
   ]
  },
  {
   "cell_type": "code",
   "execution_count": 3,
   "metadata": {},
   "outputs": [
    {
     "data": {
      "text/plain": [
       "tensor([[0.5819, 0.9129, 0.9531, 0.6309],\n",
       "        [0.4820, 0.3969, 0.0148, 0.6980],\n",
       "        [0.8121, 0.0394, 0.8732, 0.3338],\n",
       "        [0.0659, 0.4022, 0.8110, 0.9602]])"
      ]
     },
     "execution_count": 3,
     "metadata": {},
     "output_type": "execute_result"
    }
   ],
   "source": [
    "tensor = torch.rand(4, 4)\n",
    "tensor"
   ]
  },
  {
   "cell_type": "code",
   "execution_count": 4,
   "metadata": {},
   "outputs": [
    {
     "data": {
      "text/plain": [
       "tensor(0.6309)"
      ]
     },
     "execution_count": 4,
     "metadata": {},
     "output_type": "execute_result"
    }
   ],
   "source": [
    "# row, column 인덱싱\n",
    "tensor[0, 3]"
   ]
  },
  {
   "cell_type": "code",
   "execution_count": 5,
   "metadata": {},
   "outputs": [
    {
     "data": {
      "text/plain": [
       "tensor([0.4820, 0.3969, 0.0148, 0.6980])"
      ]
     },
     "execution_count": 5,
     "metadata": {},
     "output_type": "execute_result"
    }
   ],
   "source": [
    "# row 슬라이싱\n",
    "tensor[1]"
   ]
  },
  {
   "cell_type": "code",
   "execution_count": 6,
   "metadata": {},
   "outputs": [
    {
     "data": {
      "text/plain": [
       "tensor([0.9129, 0.3969, 0.0394, 0.4022])"
      ]
     },
     "execution_count": 6,
     "metadata": {},
     "output_type": "execute_result"
    }
   ],
   "source": [
    "# column 슬라이싱\n",
    "tensor[:, 1]"
   ]
  },
  {
   "cell_type": "code",
   "execution_count": 7,
   "metadata": {},
   "outputs": [
    {
     "data": {
      "text/plain": [
       "tensor([0.6309, 0.6980, 0.3338, 0.9602])"
      ]
     },
     "execution_count": 7,
     "metadata": {},
     "output_type": "execute_result"
    }
   ],
   "source": [
    "# 마지막 column 슬라이싱\n",
    "tensor[..., -1]"
   ]
  },
  {
   "cell_type": "code",
   "execution_count": 8,
   "metadata": {},
   "outputs": [],
   "source": [
    "# 2번 column 값 모두 변경\n",
    "tensor[:, 2] = 0.999"
   ]
  },
  {
   "cell_type": "code",
   "execution_count": 9,
   "metadata": {},
   "outputs": [
    {
     "data": {
      "text/plain": [
       "tensor([[0.5819, 0.9129, 0.9990, 0.6309],\n",
       "        [0.4820, 0.3969, 0.9990, 0.6980],\n",
       "        [0.8121, 0.0394, 0.9990, 0.3338],\n",
       "        [0.0659, 0.4022, 0.9990, 0.9602]])"
      ]
     },
     "execution_count": 9,
     "metadata": {},
     "output_type": "execute_result"
    }
   ],
   "source": [
    "tensor"
   ]
  },
  {
   "cell_type": "markdown",
   "metadata": {},
   "source": [
    "#### Tensor 결합\n",
    "- cat(concatenate), stack() 등 활용"
   ]
  },
  {
   "cell_type": "code",
   "execution_count": 10,
   "metadata": {},
   "outputs": [
    {
     "data": {
      "text/plain": [
       "torch.Size([4, 4])"
      ]
     },
     "execution_count": 10,
     "metadata": {},
     "output_type": "execute_result"
    }
   ],
   "source": [
    "# concatenate\n",
    "tensor.shape"
   ]
  },
  {
   "cell_type": "code",
   "execution_count": 11,
   "metadata": {},
   "outputs": [
    {
     "data": {
      "text/plain": [
       "tensor([[0.5819, 0.9129, 0.9990, 0.6309],\n",
       "        [0.4820, 0.3969, 0.9990, 0.6980],\n",
       "        [0.8121, 0.0394, 0.9990, 0.3338],\n",
       "        [0.0659, 0.4022, 0.9990, 0.9602],\n",
       "        [0.5819, 0.9129, 0.9990, 0.6309],\n",
       "        [0.4820, 0.3969, 0.9990, 0.6980],\n",
       "        [0.8121, 0.0394, 0.9990, 0.3338],\n",
       "        [0.0659, 0.4022, 0.9990, 0.9602],\n",
       "        [0.5819, 0.9129, 0.9990, 0.6309],\n",
       "        [0.4820, 0.3969, 0.9990, 0.6980],\n",
       "        [0.8121, 0.0394, 0.9990, 0.3338],\n",
       "        [0.0659, 0.4022, 0.9990, 0.9602]])"
      ]
     },
     "execution_count": 11,
     "metadata": {},
     "output_type": "execute_result"
    }
   ],
   "source": [
    "# 0번 차원에 모두 결합(행으로 쌓음음)\n",
    "tensor1 = torch.cat([tensor, tensor, tensor], dim=0)\n",
    "tensor1"
   ]
  },
  {
   "cell_type": "code",
   "execution_count": 12,
   "metadata": {},
   "outputs": [
    {
     "data": {
      "text/plain": [
       "torch.Size([12, 4])"
      ]
     },
     "execution_count": 12,
     "metadata": {},
     "output_type": "execute_result"
    }
   ],
   "source": [
    "tensor1.shape"
   ]
  },
  {
   "cell_type": "code",
   "execution_count": 13,
   "metadata": {},
   "outputs": [
    {
     "data": {
      "text/plain": [
       "tensor([[0.5819, 0.9129, 0.9990, 0.6309, 0.5819, 0.9129, 0.9990, 0.6309, 0.5819,\n",
       "         0.9129, 0.9990, 0.6309],\n",
       "        [0.4820, 0.3969, 0.9990, 0.6980, 0.4820, 0.3969, 0.9990, 0.6980, 0.4820,\n",
       "         0.3969, 0.9990, 0.6980],\n",
       "        [0.8121, 0.0394, 0.9990, 0.3338, 0.8121, 0.0394, 0.9990, 0.3338, 0.8121,\n",
       "         0.0394, 0.9990, 0.3338],\n",
       "        [0.0659, 0.4022, 0.9990, 0.9602, 0.0659, 0.4022, 0.9990, 0.9602, 0.0659,\n",
       "         0.4022, 0.9990, 0.9602]])"
      ]
     },
     "execution_count": 13,
     "metadata": {},
     "output_type": "execute_result"
    }
   ],
   "source": [
    "# 1번 차원에 모두 결합(열로 붙임)\n",
    "tensor2 = torch.cat([tensor, tensor, tensor], dim=1)\n",
    "tensor2"
   ]
  },
  {
   "cell_type": "code",
   "execution_count": 14,
   "metadata": {},
   "outputs": [
    {
     "data": {
      "text/plain": [
       "torch.Size([4, 12])"
      ]
     },
     "execution_count": 14,
     "metadata": {},
     "output_type": "execute_result"
    }
   ],
   "source": [
    "tensor2.shape"
   ]
  },
  {
   "cell_type": "code",
   "execution_count": 15,
   "metadata": {},
   "outputs": [
    {
     "data": {
      "text/plain": [
       "torch.Size([3, 4, 4])"
      ]
     },
     "execution_count": 15,
     "metadata": {},
     "output_type": "execute_result"
    }
   ],
   "source": [
    "# stack - 차원을 늘리면서 쌓기, 2차원 -> 3차원으로\n",
    "# 0번째 차원을 새로 생성하면서 합침\n",
    "tensor3 = torch.stack([tensor, tensor, tensor], dim=0)\n",
    "tensor3.shape"
   ]
  },
  {
   "cell_type": "code",
   "execution_count": 16,
   "metadata": {},
   "outputs": [
    {
     "data": {
      "text/plain": [
       "torch.Size([4, 3, 4])"
      ]
     },
     "execution_count": 16,
     "metadata": {},
     "output_type": "execute_result"
    }
   ],
   "source": [
    "# 1번째 차원을 새로 생성하면서 합침\n",
    "tensor4 = torch.stack([tensor, tensor, tensor], dim=1)\n",
    "tensor4.shape"
   ]
  },
  {
   "cell_type": "code",
   "execution_count": 17,
   "metadata": {},
   "outputs": [
    {
     "data": {
      "text/plain": [
       "torch.Size([4, 4, 3])"
      ]
     },
     "execution_count": 17,
     "metadata": {},
     "output_type": "execute_result"
    }
   ],
   "source": [
    "# 2번째 차원을 새로 생성하면서 합침\n",
    "tensor5 = torch.stack([tensor, tensor, tensor], dim=2)\n",
    "tensor5.shape"
   ]
  },
  {
   "cell_type": "markdown",
   "metadata": {},
   "source": [
    "#### Arthimetic operations\n",
    "- 행렬합, 행렬곱 등의 행렬과 관련된 연산들이 존재"
   ]
  },
  {
   "cell_type": "code",
   "execution_count": 18,
   "metadata": {},
   "outputs": [
    {
     "data": {
      "text/plain": [
       "torch.Size([3, 4])"
      ]
     },
     "execution_count": 18,
     "metadata": {},
     "output_type": "execute_result"
    }
   ],
   "source": [
    "tensor = torch.rand(3, 4)\n",
    "tensor.shape"
   ]
  },
  {
   "cell_type": "code",
   "execution_count": 19,
   "metadata": {},
   "outputs": [
    {
     "data": {
      "text/plain": [
       "tensor([[0.4381, 0.0558, 0.0198, 0.3829],\n",
       "        [0.4294, 0.5172, 0.5824, 0.0250],\n",
       "        [0.8205, 0.7542, 0.9629, 0.5941]])"
      ]
     },
     "execution_count": 19,
     "metadata": {},
     "output_type": "execute_result"
    }
   ],
   "source": [
    "# 두 텐서간 행렬 곱 \n",
    "tensor"
   ]
  },
  {
   "cell_type": "code",
   "execution_count": 20,
   "metadata": {},
   "outputs": [
    {
     "data": {
      "text/plain": [
       "tensor([[0.4381, 0.4294, 0.8205],\n",
       "        [0.0558, 0.5172, 0.7542],\n",
       "        [0.0198, 0.5824, 0.9629],\n",
       "        [0.3829, 0.0250, 0.5941]])"
      ]
     },
     "execution_count": 20,
     "metadata": {},
     "output_type": "execute_result"
    }
   ],
   "source": [
    "# 전치: 행과 열을 서로 바꾸는 연산\n",
    "tensor.T # 텐서의 전치(transpose)를 반환"
   ]
  },
  {
   "cell_type": "code",
   "execution_count": 22,
   "metadata": {},
   "outputs": [
    {
     "data": {
      "text/plain": [
       "tensor([[0.3420, 0.2381, 0.6481],\n",
       "        [0.2381, 0.7917, 1.3180],\n",
       "        [0.6481, 1.3180, 2.5220]])"
      ]
     },
     "execution_count": 22,
     "metadata": {},
     "output_type": "execute_result"
    }
   ],
   "source": [
    "# matrix multiplication, 3 X 3으로 변경경\n",
    "tensor @ tensor.T"
   ]
  },
  {
   "cell_type": "code",
   "execution_count": 24,
   "metadata": {},
   "outputs": [
    {
     "data": {
      "text/plain": [
       "tensor([[0.3420, 0.2381, 0.6481],\n",
       "        [0.2381, 0.7917, 1.3180],\n",
       "        [0.6481, 1.3180, 2.5220]])"
      ]
     },
     "execution_count": 24,
     "metadata": {},
     "output_type": "execute_result"
    }
   ],
   "source": [
    "# 위와 동일\n",
    "tensor.matmul(tensor.T)"
   ]
  },
  {
   "cell_type": "code",
   "execution_count": 25,
   "metadata": {},
   "outputs": [
    {
     "data": {
      "text/plain": [
       "tensor([[1.9189e-01, 3.1146e-03, 3.9337e-04, 1.4663e-01],\n",
       "        [1.8436e-01, 2.6753e-01, 3.3917e-01, 6.2301e-04],\n",
       "        [6.7314e-01, 5.6883e-01, 9.2711e-01, 3.5296e-01]])"
      ]
     },
     "execution_count": 25,
     "metadata": {},
     "output_type": "execute_result"
    }
   ],
   "source": [
    "# 요소별 곱(element-wise product)을 계산, 3x4\n",
    "tensor * tensor"
   ]
  },
  {
   "cell_type": "code",
   "execution_count": 26,
   "metadata": {},
   "outputs": [
    {
     "data": {
      "text/plain": [
       "tensor([[1.9189e-01, 3.1146e-03, 3.9337e-04, 1.4663e-01],\n",
       "        [1.8436e-01, 2.6753e-01, 3.3917e-01, 6.2301e-04],\n",
       "        [6.7314e-01, 5.6883e-01, 9.2711e-01, 3.5296e-01]])"
      ]
     },
     "execution_count": 26,
     "metadata": {},
     "output_type": "execute_result"
    }
   ],
   "source": [
    "tensor.mul(tensor)"
   ]
  },
  {
   "cell_type": "code",
   "execution_count": 28,
   "metadata": {},
   "outputs": [
    {
     "ename": "RuntimeError",
     "evalue": "The size of tensor a (4) must match the size of tensor b (3) at non-singleton dimension 1",
     "output_type": "error",
     "traceback": [
      "\u001b[1;31m---------------------------------------------------------------------------\u001b[0m",
      "\u001b[1;31mRuntimeError\u001b[0m                              Traceback (most recent call last)",
      "Cell \u001b[1;32mIn[28], line 2\u001b[0m\n\u001b[0;32m      1\u001b[0m \u001b[38;5;66;03m# 요소곱은 텐서의 크기가 동일해야 함\u001b[39;00m\n\u001b[1;32m----> 2\u001b[0m \u001b[43mtensor\u001b[49m\u001b[38;5;241;43m.\u001b[39;49m\u001b[43mmul\u001b[49m\u001b[43m(\u001b[49m\u001b[43mtensor\u001b[49m\u001b[38;5;241;43m.\u001b[39;49m\u001b[43mT\u001b[49m\u001b[43m)\u001b[49m\n",
      "\u001b[1;31mRuntimeError\u001b[0m: The size of tensor a (4) must match the size of tensor b (3) at non-singleton dimension 1"
     ]
    }
   ],
   "source": [
    "# 요소곱은 텐서의 크기가 동일해야 함\n",
    "tensor.mul(tensor.T)"
   ]
  },
  {
   "cell_type": "code",
   "execution_count": 29,
   "metadata": {},
   "outputs": [
    {
     "data": {
      "text/plain": [
       "tensor([[0.7831, 0.5778, 0.3874, 0.6795],\n",
       "        [0.1475, 0.7146, 0.6006, 0.5169],\n",
       "        [0.5036, 0.0121, 0.0307, 0.6372]])"
      ]
     },
     "execution_count": 29,
     "metadata": {},
     "output_type": "execute_result"
    }
   ],
   "source": [
    "tensor_z = torch.rand_like(tensor)\n",
    "tensor_z"
   ]
  },
  {
   "cell_type": "code",
   "execution_count": 31,
   "metadata": {},
   "outputs": [
    {
     "data": {
      "text/plain": [
       "tensor([[1.9189e-01, 3.1146e-03, 3.9337e-04, 1.4663e-01],\n",
       "        [1.8436e-01, 2.6753e-01, 3.3917e-01, 6.2301e-04],\n",
       "        [6.7314e-01, 5.6883e-01, 9.2711e-01, 3.5296e-01]])"
      ]
     },
     "execution_count": 31,
     "metadata": {},
     "output_type": "execute_result"
    }
   ],
   "source": [
    "torch.mul(tensor, tensor, out=tensor_z)"
   ]
  },
  {
   "cell_type": "code",
   "execution_count": 32,
   "metadata": {},
   "outputs": [
    {
     "data": {
      "text/plain": [
       "tensor([[1.9189e-01, 3.1146e-03, 3.9337e-04, 1.4663e-01],\n",
       "        [1.8436e-01, 2.6753e-01, 3.3917e-01, 6.2301e-04],\n",
       "        [6.7314e-01, 5.6883e-01, 9.2711e-01, 3.5296e-01]])"
      ]
     },
     "execution_count": 32,
     "metadata": {},
     "output_type": "execute_result"
    }
   ],
   "source": [
    "tensor_z"
   ]
  },
  {
   "cell_type": "code",
   "execution_count": 33,
   "metadata": {},
   "outputs": [],
   "source": [
    "tensor_z1 = torch.mul(tensor, tensor)"
   ]
  },
  {
   "cell_type": "code",
   "execution_count": 34,
   "metadata": {},
   "outputs": [
    {
     "data": {
      "text/plain": [
       "tensor([[1.9189e-01, 3.1146e-03, 3.9337e-04, 1.4663e-01],\n",
       "        [1.8436e-01, 2.6753e-01, 3.3917e-01, 6.2301e-04],\n",
       "        [6.7314e-01, 5.6883e-01, 9.2711e-01, 3.5296e-01]])"
      ]
     },
     "execution_count": 34,
     "metadata": {},
     "output_type": "execute_result"
    }
   ],
   "source": [
    "tensor_z1"
   ]
  },
  {
   "cell_type": "code",
   "execution_count": 35,
   "metadata": {},
   "outputs": [
    {
     "data": {
      "text/plain": [
       "tensor([[0., 0., 0., 0.],\n",
       "        [0., 0., 0., 0.],\n",
       "        [0., 0., 0., 0.]])"
      ]
     },
     "execution_count": 35,
     "metadata": {},
     "output_type": "execute_result"
    }
   ],
   "source": [
    "tensor.mul(torch.zeros(3, 4))"
   ]
  },
  {
   "cell_type": "code",
   "execution_count": 36,
   "metadata": {},
   "outputs": [
    {
     "data": {
      "text/plain": [
       "tensor([[0.4381, 0.0558, 0.0198, 0.3829],\n",
       "        [0.4294, 0.5172, 0.5824, 0.0250],\n",
       "        [0.8205, 0.7542, 0.9629, 0.5941]])"
      ]
     },
     "execution_count": 36,
     "metadata": {},
     "output_type": "execute_result"
    }
   ],
   "source": [
    "tensor.mul(torch.ones(3, 4))"
   ]
  },
  {
   "cell_type": "markdown",
   "metadata": {},
   "source": [
    "#### 단일요소화 \n",
    "- sum() 등...."
   ]
  },
  {
   "cell_type": "code",
   "execution_count": 40,
   "metadata": {},
   "outputs": [
    {
     "data": {
      "text/plain": [
       "(tensor(5.5822), <function Tensor.type>)"
      ]
     },
     "execution_count": 40,
     "metadata": {},
     "output_type": "execute_result"
    }
   ],
   "source": [
    "agg = tensor.sum()\n",
    "agg, agg.type"
   ]
  },
  {
   "cell_type": "code",
   "execution_count": 42,
   "metadata": {},
   "outputs": [
    {
     "data": {
      "text/plain": [
       "(5.582189083099365, float)"
      ]
     },
     "execution_count": 42,
     "metadata": {},
     "output_type": "execute_result"
    }
   ],
   "source": [
    "agg.item(), type(agg.item())"
   ]
  },
  {
   "cell_type": "markdown",
   "metadata": {},
   "source": [
    "#### In-place operation\n",
    "- x.copy_(y), x.t_() 등 _를 사용\n",
    "- 메모리 일부 절약. 기록이 삭제되어 derivative(도함수) 계산 등에 문제가 발생하므로, 권장하지 않음"
   ]
  },
  {
   "cell_type": "markdown",
   "metadata": {},
   "source": [
    "### Bridge\n",
    "- Numpy to Tensor, Tensor to Numpy "
   ]
  },
  {
   "cell_type": "markdown",
   "metadata": {},
   "source": [
    "#### Tensor to Numpy"
   ]
  },
  {
   "cell_type": "code",
   "execution_count": 44,
   "metadata": {},
   "outputs": [
    {
     "data": {
      "text/plain": [
       "(tensor([[1., 1., 1., 1., 1.],\n",
       "         [1., 1., 1., 1., 1.]]),\n",
       " torch.Tensor)"
      ]
     },
     "execution_count": 44,
     "metadata": {},
     "output_type": "execute_result"
    }
   ],
   "source": [
    "tensor = torch.ones(2, 5)\n",
    "tensor, type(tensor)"
   ]
  },
  {
   "cell_type": "code",
   "execution_count": 45,
   "metadata": {},
   "outputs": [
    {
     "data": {
      "text/plain": [
       "(array([[1., 1., 1., 1., 1.],\n",
       "        [1., 1., 1., 1., 1.]], dtype=float32),\n",
       " numpy.ndarray)"
      ]
     },
     "execution_count": 45,
     "metadata": {},
     "output_type": "execute_result"
    }
   ],
   "source": [
    "nmpy = tensor.numpy()\n",
    "nmpy, type(nmpy)"
   ]
  },
  {
   "cell_type": "markdown",
   "metadata": {},
   "source": [
    "##### Tensor 변경사항이 곧바로 Numpy에 적용!\n",
    "- 얕은 복사"
   ]
  },
  {
   "cell_type": "code",
   "execution_count": 46,
   "metadata": {},
   "outputs": [
    {
     "data": {
      "text/plain": [
       "tensor([[3., 3., 3., 3., 3.],\n",
       "        [3., 3., 3., 3., 3.]])"
      ]
     },
     "execution_count": 46,
     "metadata": {},
     "output_type": "execute_result"
    }
   ],
   "source": [
    "tensor.add_(2)\n",
    "tensor"
   ]
  },
  {
   "cell_type": "code",
   "execution_count": 47,
   "metadata": {},
   "outputs": [
    {
     "data": {
      "text/plain": [
       "array([[3., 3., 3., 3., 3.],\n",
       "       [3., 3., 3., 3., 3.]], dtype=float32)"
      ]
     },
     "execution_count": 47,
     "metadata": {},
     "output_type": "execute_result"
    }
   ],
   "source": [
    "nmpy"
   ]
  },
  {
   "cell_type": "markdown",
   "metadata": {},
   "source": [
    "#### Numpy to Tensor"
   ]
  },
  {
   "cell_type": "code",
   "execution_count": 49,
   "metadata": {},
   "outputs": [
    {
     "data": {
      "text/plain": [
       "tensor([1., 1., 1., 1.], dtype=torch.float64)"
      ]
     },
     "execution_count": 49,
     "metadata": {},
     "output_type": "execute_result"
    }
   ],
   "source": [
    "nmpy = np.ones(4)\n",
    "tensor = torch.from_numpy(nmpy)\n",
    "tensor"
   ]
  },
  {
   "cell_type": "code",
   "execution_count": 51,
   "metadata": {},
   "outputs": [
    {
     "data": {
      "text/plain": [
       "(array([7., 7., 7., 7.]), tensor([7., 7., 7., 7.], dtype=torch.float64))"
      ]
     },
     "execution_count": 51,
     "metadata": {},
     "output_type": "execute_result"
    }
   ],
   "source": [
    "np.add(nmpy, 4, out=nmpy)\n",
    "nmpy, tensor"
   ]
  },
  {
   "cell_type": "markdown",
   "metadata": {},
   "source": [
    "#### PyTorch 특징\n",
    "- NumPy와 유사하지만 GPU 상에서 실행 가능한 n-차원 텐서(Tensor)\n",
    "- 신경망을 구성하고 학습하는 과정에서의 자동 미분(Automatic differentiation)\n"
   ]
  },
  {
   "cell_type": "markdown",
   "metadata": {},
   "source": [
    "#### $y=\\sin(x)$ 에 근사(fit)하는 문제 \n",
    "- 3차 다항식을 사용"
   ]
  },
  {
   "cell_type": "markdown",
   "metadata": {},
   "source": [
    "##### Numpy를 사용했을 때\n",
    "- `NumPy`를 사용하여 신경망을 구성\n",
    "- NumPy 연산을 사용하여 신경망의 순전파 단계와 역전파 단계를 직접 구현함으로써, 3차 다항식이 사인(sine) 함수에 근사"
   ]
  },
  {
   "cell_type": "code",
   "execution_count": 91,
   "metadata": {},
   "outputs": [],
   "source": [
    "import numpy as np\n",
    "import math\n",
    "import time"
   ]
  },
  {
   "cell_type": "code",
   "execution_count": 92,
   "metadata": {},
   "outputs": [
    {
     "name": "stdout",
     "output_type": "stream",
     "text": [
      "------------------ init ------------------\n",
      "x(2000) : [-3.14159265 -3.13844949 -3.13530633 ...  3.13530633  3.13844949\n",
      "  3.14159265]\n",
      "y(2000) : [-1.22464680e-16 -3.14315906e-03 -6.28628707e-03 ...  6.28628707e-03\n",
      "  3.14315906e-03  1.22464680e-16]\n",
      "가중치 초기값 : \n",
      "  a : 1.066816972223874\n",
      "  b : 0.18750529562685805\n",
      "  c : -0.7410503150368684\n",
      "  d : 0.3651209355870561\n",
      "------------------------------------------\n"
     ]
    }
   ],
   "source": [
    "# np.linspace() - start에서 end까지 균일한 간격을 갖는 크기 step의 1차원 텐서를 생성하는 함수\n",
    "x = np.linspace(-math.pi, math.pi, 2000)\n",
    "y = np.sin(x) # np.sin() - 주어진 배열의 요소들의 sin값을 반환하는 함수\n",
    "\n",
    "# 랜덤하게 가중치 초기화\n",
    "a = np.random.randn()\n",
    "b = np.random.randn()\n",
    "c = np.random.randn()\n",
    "d = np.random.randn()\n",
    "\n",
    "print(f'------------------ init ------------------')\n",
    "print(f'x({len(x)}) : {x}')\n",
    "print(f'y({len(y)}) : {y}')\n",
    "print(f'가중치 초기값 : ')\n",
    "print(f'  a : {a}')\n",
    "print(f'  b : {b}')\n",
    "print(f'  c : {c}')\n",
    "print(f'  d : {d}')\n",
    "print(f'------------------------------------------')"
   ]
  },
  {
   "cell_type": "markdown",
   "metadata": {},
   "source": [
    "$$ y =  a + b x + c x^{2} + d x^{3} $$"
   ]
  },
  {
   "cell_type": "code",
   "execution_count": 93,
   "metadata": {},
   "outputs": [
    {
     "name": "stdout",
     "output_type": "stream",
     "text": [
      "[t =  100] loss : 1221.548\n",
      "[t =  200] loss : 850.183\n",
      "[t =  300] loss : 593.086\n",
      "[t =  400] loss : 414.920\n",
      "[t =  500] loss : 291.332\n",
      "[t =  600] loss : 205.523\n",
      "[t =  700] loss : 145.889\n",
      "[t =  800] loss : 104.410\n",
      "[t =  900] loss : 75.534\n",
      "[t = 1000] loss : 55.414\n",
      "[t = 1100] loss : 41.385\n",
      "[t = 1200] loss : 31.595\n",
      "[t = 1300] loss : 24.758\n",
      "[t = 1400] loss : 19.980\n",
      "[t = 1500] loss : 16.639\n",
      "[t = 1600] loss : 14.301\n",
      "[t = 1700] loss : 12.664\n",
      "[t = 1800] loss : 11.517\n",
      "[t = 1900] loss : 10.713\n",
      "[t = 2000] loss : 10.149\n",
      "------------------------------------------\n",
      "Result: y = 0.03653609263451868 + 0.845234923242257 x + -0.006303083942660136 x^2 + -0.09169377213899549 x^3\n",
      "time elapsed : 312 ms\n"
     ]
    }
   ],
   "source": [
    "start_time = time.process_time()\n",
    "\n",
    "learning_rate = 1e-6\n",
    "for t in range(2000):\n",
    "    # 순전파: 예측값 y를 계산\n",
    "    y_pred = a + b * x + c * x ** 2 + d * x ** 3\n",
    "\n",
    "    # 손실(loss)계산, 출력\n",
    "    loss = np.square(y_pred - y).sum()  # np.square - 주어진 배열의 요소들의 제곱값을 반환하는 함수\n",
    "    if t % 100 == 99:\n",
    "        print(f'[t = {t+1:4d}] loss : {loss:.3f}')\n",
    "\n",
    "    # 손실에 따른 a, b, c, d의 변화도(gradient) 계산, 역전파\n",
    "    grad_y_pred = 2.0 * (y_pred - y)  ## loss를 구할때 np.square(y_pred - y)로 계산, 미분하면 ^2가 피연산으로 내려옴\n",
    "    ## (y_pred - y)^2  → 2 * (y_pred - y)\n",
    "    grad_a = grad_y_pred.sum()  ## loss function의 미분값을 계산해서 모두 더함\n",
    "    grad_b = (grad_y_pred * x).sum()\n",
    "    grad_c = (grad_y_pred * x ** 2).sum()\n",
    "    grad_d = (grad_y_pred * x ** 3).sum()\n",
    "\n",
    "    # 가중치 갱신.\n",
    "    a -= learning_rate * grad_a\n",
    "    b -= learning_rate * grad_b\n",
    "    c -= learning_rate * grad_c\n",
    "    d -= learning_rate * grad_d\n",
    "    \n",
    "print(f'------------------------------------------')\n",
    "print(f'Result: y = {a} + {b} x + {c} x^2 + {d} x^3')\n",
    "\n",
    "end_time = time.process_time()\n",
    "\n",
    "print(f'time elapsed : {int(round((end_time - start_time) * 1000))} ms')"
   ]
  },
  {
   "cell_type": "code",
   "execution_count": 94,
   "metadata": {},
   "outputs": [],
   "source": [
    "import matplotlib.pyplot as plt"
   ]
  },
  {
   "cell_type": "code",
   "execution_count": 95,
   "metadata": {},
   "outputs": [
    {
     "data": {
      "image/png": "[encoded data removed]",
      "text/plain": [
       "<Figure size 1000x400 with 1 Axes>"
      ]
     },
     "metadata": {},
     "output_type": "display_data"
    }
   ],
   "source": [
    "def show(x, y, y_pred):\n",
    "    fig = plt.figure(figsize=(10, 4))\n",
    "\n",
    "    plt.plot(x, y, color='r', label='real')\n",
    "    plt.plot(x, y_pred, color='b', label='pred')\n",
    "    plt.legend()\n",
    "    plt.grid(True)\n",
    "    plt.show()\n",
    "\n",
    "show(x, y, a + b * x + c * x ** 2 + d * x ** 3)"
   ]
  },
  {
   "cell_type": "markdown",
   "metadata": {},
   "source": [
    "##### Tensor를 사용했을 때\n",
    "- Numpy는 GPU를 사용하여 수치 연산을 가속화못함\n",
    "- PyTorch 텐서(Tensor)는 개념적으로 NumPy 배열과 동일\n",
    "- NumPy 배열처럼 PyTorch Tensor는 딥러닝이나 연산 그래프, 변화도는 알지 못하며, 과학적 분야의 연산을 위한 포괄적인 도구\n",
    "- PyTorch 텐서는 GPU를 사용하여 수치 연산을 가속\n"
   ]
  },
  {
   "cell_type": "code",
   "execution_count": 96,
   "metadata": {},
   "outputs": [
    {
     "data": {
      "text/plain": [
       "(2000,)"
      ]
     },
     "execution_count": 96,
     "metadata": {},
     "output_type": "execute_result"
    }
   ],
   "source": [
    "x.shape"
   ]
  },
  {
   "cell_type": "code",
   "execution_count": 101,
   "metadata": {},
   "outputs": [],
   "source": [
    "import torch\n",
    "import math\n",
    "import time"
   ]
  },
  {
   "cell_type": "code",
   "execution_count": 102,
   "metadata": {},
   "outputs": [
    {
     "data": {
      "text/plain": [
       "'cuda'"
      ]
     },
     "execution_count": 102,
     "metadata": {},
     "output_type": "execute_result"
    }
   ],
   "source": [
    "DEVICE"
   ]
  },
  {
   "cell_type": "code",
   "execution_count": 103,
   "metadata": {},
   "outputs": [],
   "source": [
    "dtype = torch.float\n",
    "device = torch.device(DEVICE)"
   ]
  },
  {
   "cell_type": "code",
   "execution_count": 104,
   "metadata": {},
   "outputs": [
    {
     "name": "stdout",
     "output_type": "stream",
     "text": [
      "------------------ init ------------------\n",
      "x(2000, <class 'torch.Tensor'>) : tensor([-3.1416, -3.1384, -3.1353,  ...,  3.1353,  3.1384,  3.1416],\n",
      "       device='cuda:0')\n",
      "y(2000, <class 'torch.Tensor'>) : tensor([ 8.7423e-08, -3.1430e-03, -6.2863e-03,  ...,  6.2863e-03,\n",
      "         3.1430e-03, -8.7423e-08], device='cuda:0')\n",
      "가중치 초기값 : \n",
      "  a(<class 'torch.Tensor'>) : -1.4007394313812256\n",
      "  b(<class 'torch.Tensor'>) : -0.44721704721450806\n",
      "  c(<class 'torch.Tensor'>) : 1.0748897790908813\n",
      "  d(<class 'torch.Tensor'>) : -0.8449921011924744\n",
      "------------------------------------------\n"
     ]
    }
   ],
   "source": [
    "# 랜덤하게 입력과 출력 데이터를 생성\n",
    "x = torch.linspace(-math.pi, math.pi, 2000, device=device, dtype=dtype)\n",
    "y = torch.sin(x)\n",
    "\n",
    "# 가중치 초기화\n",
    "a = torch.randn((), device=device, dtype=dtype)\n",
    "b = torch.randn((), device=device, dtype=dtype)\n",
    "c = torch.randn((), device=device, dtype=dtype)\n",
    "d = torch.randn((), device=device, dtype=dtype)\n",
    "\n",
    "print(f'------------------ init ------------------')\n",
    "print(f'x({len(x)}, {x.__class__}) : {x}')\n",
    "print(f'y({len(y)}, {y.__class__}) : {y}')\n",
    "print(f'가중치 초기값 : ')\n",
    "print(f'  a({a.__class__}) : {a}')\n",
    "print(f'  b({b.__class__}) : {b}')\n",
    "print(f'  c({c.__class__}) : {c}')\n",
    "print(f'  d({d.__class__}) : {d}')\n",
    "print(f'------------------------------------------')"
   ]
  },
  {
   "cell_type": "code",
   "execution_count": 105,
   "metadata": {},
   "outputs": [
    {
     "name": "stdout",
     "output_type": "stream",
     "text": [
      "[t =  100] loss : 2470.722\n",
      "[t =  200] loss : 1706.293\n",
      "[t =  300] loss : 1180.485\n",
      "[t =  400] loss : 818.407\n",
      "[t =  500] loss : 568.802\n",
      "[t =  600] loss : 396.547\n",
      "[t =  700] loss : 277.544\n",
      "[t =  800] loss : 195.246\n",
      "[t =  900] loss : 138.274\n",
      "[t = 1000] loss : 98.794\n",
      "[t = 1100] loss : 71.409\n",
      "[t = 1200] loss : 52.396\n",
      "[t = 1300] loss : 39.183\n",
      "[t = 1400] loss : 29.994\n",
      "[t = 1500] loss : 23.596\n",
      "[t = 1600] loss : 19.139\n",
      "[t = 1700] loss : 16.031\n",
      "[t = 1800] loss : 13.862\n",
      "[t = 1900] loss : 12.348\n",
      "[t = 2000] loss : 11.290\n",
      "------------------------------------------\n",
      "Result: y = -0.04850983992218971 + 0.83798748254776 x + 0.00836875382810831 x^2 + -0.0906628891825676 x^3\n",
      "time elapsed : 1422 ms\n"
     ]
    }
   ],
   "source": [
    "start_time = time.process_time()\n",
    "\n",
    "learning_rate = 1e-6\n",
    "for t in range(2000):\n",
    "    # 순전파 단계: 예측값 y를 계산합니다\n",
    "    y_pred = a + b * x + c * x ** 2 + d * x ** 3\n",
    "\n",
    "    # 손실(loss)을 계산하고 출력합니다\n",
    "    loss = (y_pred - y).pow(2).sum().item()\n",
    "    if t % 100 == 99:\n",
    "        print(f'[t = {t+1:4d}] loss : {loss:.3f}')\n",
    "\n",
    "    # 손실에 따른 a, b, c, d의 변화도(gradient)를 계산하고 역전파합니다.\n",
    "    grad_y_pred = 2.0 * (y_pred - y)\n",
    "    grad_a = grad_y_pred.sum()\n",
    "    grad_b = (grad_y_pred * x).sum()\n",
    "    grad_c = (grad_y_pred * x ** 2).sum()\n",
    "    grad_d = (grad_y_pred * x ** 3).sum()\n",
    "\n",
    "    # 가중치를 갱신합니다.\n",
    "    a -= learning_rate * grad_a\n",
    "    b -= learning_rate * grad_b\n",
    "    c -= learning_rate * grad_c\n",
    "    d -= learning_rate * grad_d\n",
    "\n",
    "print(f'------------------------------------------')\n",
    "print(f'Result: y = {a.item()} + {b.item()} x + {c.item()} x^2 + {d.item()} x^3')\n",
    "\n",
    "end_time = time.process_time()\n",
    "\n",
    "print(f'time elapsed : {int(round((end_time - start_time) * 1000))} ms')"
   ]
  },
  {
   "cell_type": "code",
   "execution_count": 106,
   "metadata": {},
   "outputs": [
    {
     "data": {
      "image/png": "[encoded data removed]",
      "text/plain": [
       "<Figure size 1000x400 with 1 Axes>"
      ]
     },
     "metadata": {},
     "output_type": "display_data"
    }
   ],
   "source": [
    "def show_tensor(x, y, y_pred):\n",
    "    x = x.to('cpu') ## cuda값은 그대로 numpy 처럼 사용할 수 없음!\n",
    "    y = y.to('cpu')\n",
    "    y_pred = y.to('cpu') \n",
    "    fig = plt.figure(figsize=(10, 4))\n",
    "\n",
    "    plt.plot(x, y, color='r', label='real') # 완전 겹쳐졌음\n",
    "    plt.plot(x, y_pred, color='b', label='pred') \n",
    "    plt.legend()\n",
    "    plt.grid(True)\n",
    "    plt.show()\n",
    "\n",
    "show_tensor(x, y, a + b * x + c * x ** 2 + d * x ** 3)"
   ]
  },
  {
   "cell_type": "markdown",
   "metadata": {},
   "source": [
    "- 적은수의 데이터에서는 GPU(CUDA)가 그렇게 빠르지만은 않음\n",
    "- 데이터를 cpu에서 GPU쪽으로 넘기는 작업등에 시간이 더 소요됨\n",
    "- 단, 빅데이터(!)에서는 GPU의 성능이 발휘됨(확실히)"
   ]
  }
 ],
 "metadata": {
  "kernelspec": {
   "display_name": "Python 3",
   "language": "python",
   "name": "python3"
  },
  "language_info": {
   "codemirror_mode": {
    "name": "ipython",
    "version": 3
   },
   "file_extension": ".py",
   "mimetype": "text/x-python",
   "name": "python",
   "nbconvert_exporter": "python",
   "pygments_lexer": "ipython3",
   "version": "3.11.9"
  }
 },
 "nbformat": 4,
 "nbformat_minor": 2
}
