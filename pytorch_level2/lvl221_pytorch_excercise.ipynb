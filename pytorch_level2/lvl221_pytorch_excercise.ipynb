{
 "cells": [
  {
   "cell_type": "markdown",
   "metadata": {},
   "source": [
    "## PyTorch 학습 레벨 2 - 006\n",
    "---\n",
    "\n",
    "### 연습처리\n",
    "- [파이토치 기본 익히기](https://tutorials.pytorch.kr/beginner/basics/intro.html)와 torchvision에서 제공하는 [vgg 모델](https://github.com/pytorch/vision/blob/main/torchvision/models/vgg.py)을 재구성하여 작성"
   ]
  },
  {
   "cell_type": "markdown",
   "metadata": {},
   "source": [
    "### VGG16 작성 및 학습\n",
    "\n",
    "![](https://miro.medium.com/max/700/1*gU5m4XO2awEM6Zp4DkirFA.png)"
   ]
  },
  {
   "cell_type": "markdown",
   "metadata": {},
   "source": [
    "#### 추가설명\n",
    "- MaxPooling\n",
    "    - `nn.MaxPool2d()`는 CNN에서 특징 맵의 크기를 줄이면서 중요한 정보를 보존하고, 계산 효율성을 높이며, 모델의 불변성을 증가시키고, 과적합을 방지하는 역할\n",
    "- 사용이유\n",
    "    1. 특징 추출을 위한 차원 축소\n",
    "    2. 계산 효율성 증가\n",
    "    3. 불변성 확보 (Translation Invariance)\n",
    "    4. 과적합 방지"
   ]
  },
  {
   "cell_type": "markdown",
   "metadata": {},
   "source": [
    "- VGG16 모델을 CIFAR-10 데이터를 학습 시켜볼 수 있는 이미지 분류기로 정의하고 이를 학습\n",
    "- 작성해야하는 분류기와 학습 환경에 대한 조건\n",
    "    - transforms : 정규화만 진행\n",
    "    - 모델 구조 : 입력 이미지의 형상이 (3, 32, 32)이므로 아래의 구조를 따르도록 함\n",
    "        - feature [32, 32, M, 64, 64, M, 128, 128, 128, M, 256, 256, 256, M, 512, 512, 512, M] + classifier [AA, 4096, 4096, 1000]\n",
    "        - feature\n",
    "            - n(숫자) : filter의 수가 n개인 2d Conv Layer, `kernel_size=3`, `padding=1`\n",
    "            - M : Max Pooling Layer, `kernel_size=2`, `padding=2`\n",
    "            - Conv Layer 이후의 activation func는 ReLU를 사용\n",
    "        - classifier\n",
    "            - AA : Adaptive Average Pooling(7x7)\n",
    "            - n(숫자) : Linear(n unit)\n",
    "    - loss 함수 : CrossEntropyLoss\n",
    "    - optimizer = SGD, lr = 0.005, momentum=0.9\n",
    "        - StepLR를 사용하여 5 step 마다 lr를 0.9배씩 줄이며 학습\n",
    "    - 학습 과정에서 train set과 test set에 대한 loss와 accuracy를 출력하고, 학습 종료 후 matrix의 변화를 plot으로 출력\n",
    "    - 학습이 완료된 모델을 `my_vgg16`이라는 이름으로 [저장](https://tutorials.pytorch.kr/beginner/basics/saveloadrun_tutorial.html)"
   ]
  },
  {
   "cell_type": "code",
   "execution_count": 1,
   "metadata": {},
   "outputs": [
    {
     "name": "stdout",
     "output_type": "stream",
     "text": [
      "Collecting torchinfo\n",
      "  Downloading torchinfo-1.8.0-py3-none-any.whl.metadata (21 kB)\n",
      "Downloading torchinfo-1.8.0-py3-none-any.whl (23 kB)\n",
      "Installing collected packages: torchinfo\n",
      "Successfully installed torchinfo-1.8.0\n"
     ]
    }
   ],
   "source": [
    "# 설치\n",
    "!pip install torchinfo"
   ]
  },
  {
   "cell_type": "code",
   "execution_count": 2,
   "metadata": {},
   "outputs": [],
   "source": [
    "import torch\n",
    "from torch import nn\n",
    "from torch.utils.data import DataLoader\n",
    "from torchvision import datasets\n",
    "from torchvision import transforms\n",
    "from torchinfo import summary\n",
    "\n",
    "device = 'cuda' if torch.cuda.is_available() else 'cpu'"
   ]
  },
  {
   "cell_type": "code",
   "execution_count": 3,
   "metadata": {},
   "outputs": [],
   "source": [
    "# parameters\n",
    "lr = 0.001\n",
    "epochs = 15\n",
    "batch_size = 128"
   ]
  },
  {
   "cell_type": "code",
   "execution_count": 4,
   "metadata": {},
   "outputs": [
    {
     "name": "stdout",
     "output_type": "stream",
     "text": [
      "Downloading https://www.cs.toronto.edu/~kriz/cifar-10-python.tar.gz to ./data\\cifar-10-python.tar.gz\n"
     ]
    },
    {
     "name": "stderr",
     "output_type": "stream",
     "text": [
      "100%|██████████| 170M/170M [00:12<00:00, 13.7MB/s] \n"
     ]
    },
    {
     "name": "stdout",
     "output_type": "stream",
     "text": [
      "Extracting ./data\\cifar-10-python.tar.gz to ./data\n"
     ]
    }
   ],
   "source": [
    "transform = transforms.Compose([\n",
    "    transforms.ToTensor(),\n",
    "    transforms.Normalize((0.5, 0.5, 0.5), (0.5, 0.5, 0.5)),\n",
    "])\n",
    "\n",
    "train_loader = DataLoader(\n",
    "    datasets.CIFAR10(root='./data', train=True, transform=transform, download=True),\n",
    "    batch_size=batch_size, shuffle=True)\n",
    "\n",
    "val_loader = torch.utils.data.DataLoader(\n",
    "    datasets.CIFAR10(root='./data', train=False, transform=transform),\n",
    "    batch_size=batch_size, shuffle=False)"
   ]
  },
  {
   "cell_type": "code",
   "execution_count": 5,
   "metadata": {},
   "outputs": [],
   "source": [
    "classes = ['plane', 'car', 'bird', 'cat', 'deer', 'dog', 'frog', 'horse', 'ship', 'truck']"
   ]
  },
  {
   "cell_type": "markdown",
   "metadata": {},
   "source": [
    "##### 모델 정의"
   ]
  },
  {
   "cell_type": "code",
   "execution_count": 6,
   "metadata": {},
   "outputs": [
    {
     "data": {
      "text/plain": [
       "==========================================================================================\n",
       "Layer (type:depth-idx)                   Output Shape              Param #\n",
       "==========================================================================================\n",
       "VGG16                                    [64, 10]                  --\n",
       "├─Sequential: 1-1                        [64, 512, 1, 1]           --\n",
       "│    └─Conv2d: 2-1                       [64, 64, 32, 32]          1,792\n",
       "│    └─ReLU: 2-2                         [64, 64, 32, 32]          --\n",
       "│    └─Conv2d: 2-3                       [64, 64, 32, 32]          36,928\n",
       "│    └─ReLU: 2-4                         [64, 64, 32, 32]          --\n",
       "│    └─MaxPool2d: 2-5                    [64, 64, 16, 16]          --\n",
       "│    └─Conv2d: 2-6                       [64, 128, 16, 16]         73,856\n",
       "│    └─ReLU: 2-7                         [64, 128, 16, 16]         --\n",
       "│    └─Conv2d: 2-8                       [64, 128, 16, 16]         147,584\n",
       "│    └─ReLU: 2-9                         [64, 128, 16, 16]         --\n",
       "│    └─MaxPool2d: 2-10                   [64, 128, 8, 8]           --\n",
       "│    └─Conv2d: 2-11                      [64, 256, 8, 8]           295,168\n",
       "│    └─ReLU: 2-12                        [64, 256, 8, 8]           --\n",
       "│    └─Conv2d: 2-13                      [64, 256, 8, 8]           590,080\n",
       "│    └─ReLU: 2-14                        [64, 256, 8, 8]           --\n",
       "│    └─Conv2d: 2-15                      [64, 256, 8, 8]           590,080\n",
       "│    └─ReLU: 2-16                        [64, 256, 8, 8]           --\n",
       "│    └─MaxPool2d: 2-17                   [64, 256, 4, 4]           --\n",
       "│    └─Conv2d: 2-18                      [64, 512, 4, 4]           1,180,160\n",
       "│    └─ReLU: 2-19                        [64, 512, 4, 4]           --\n",
       "│    └─Conv2d: 2-20                      [64, 512, 4, 4]           2,359,808\n",
       "│    └─ReLU: 2-21                        [64, 512, 4, 4]           --\n",
       "│    └─Conv2d: 2-22                      [64, 512, 4, 4]           2,359,808\n",
       "│    └─ReLU: 2-23                        [64, 512, 4, 4]           --\n",
       "│    └─MaxPool2d: 2-24                   [64, 512, 2, 2]           --\n",
       "│    └─Conv2d: 2-25                      [64, 512, 2, 2]           2,359,808\n",
       "│    └─ReLU: 2-26                        [64, 512, 2, 2]           --\n",
       "│    └─Conv2d: 2-27                      [64, 512, 2, 2]           2,359,808\n",
       "│    └─ReLU: 2-28                        [64, 512, 2, 2]           --\n",
       "│    └─Conv2d: 2-29                      [64, 512, 2, 2]           2,359,808\n",
       "│    └─ReLU: 2-30                        [64, 512, 2, 2]           --\n",
       "│    └─MaxPool2d: 2-31                   [64, 512, 1, 1]           --\n",
       "├─AdaptiveAvgPool2d: 1-2                 [64, 512, 7, 7]           --\n",
       "├─Sequential: 1-3                        [64, 10]                  --\n",
       "│    └─Linear: 2-32                      [64, 4096]                102,764,544\n",
       "│    └─ReLU: 2-33                        [64, 4096]                --\n",
       "│    └─Dropout: 2-34                     [64, 4096]                --\n",
       "│    └─Linear: 2-35                      [64, 4096]                16,781,312\n",
       "│    └─ReLU: 2-36                        [64, 4096]                --\n",
       "│    └─Dropout: 2-37                     [64, 4096]                --\n",
       "│    └─Linear: 2-38                      [64, 10]                  40,970\n",
       "==========================================================================================\n",
       "Total params: 134,301,514\n",
       "Trainable params: 134,301,514\n",
       "Non-trainable params: 0\n",
       "Total mult-adds (Units.GIGABYTES): 27.72\n",
       "==========================================================================================\n",
       "Input size (MB): 0.79\n",
       "Forward/backward pass size (MB): 145.76\n",
       "Params size (MB): 537.21\n",
       "Estimated Total Size (MB): 683.75\n",
       "=========================================================================================="
      ]
     },
     "execution_count": 6,
     "metadata": {},
     "output_type": "execute_result"
    }
   ],
   "source": [
    "class VGG16(nn.Module):\n",
    "    def __init__(self, num_classes):\n",
    "        super(VGG16, self).__init__()\n",
    "        self.features = nn.Sequential(\n",
    "            nn.Conv2d(3, 64, kernel_size=3, padding=1),\n",
    "            nn.ReLU(inplace=True),\n",
    "            nn.Conv2d(64, 64, kernel_size=3, padding=1),\n",
    "            nn.ReLU(inplace=True),\n",
    "            nn.MaxPool2d(kernel_size=2, stride=2),\n",
    "            nn.Conv2d(64, 128, kernel_size=3, padding=1),\n",
    "            nn.ReLU(inplace=True),\n",
    "            nn.Conv2d(128, 128, kernel_size=3, padding=1),\n",
    "            nn.ReLU(inplace=True),\n",
    "            nn.MaxPool2d(kernel_size=2, stride=2),\n",
    "            nn.Conv2d(128, 256, kernel_size=3, padding=1),\n",
    "            nn.ReLU(inplace=True),\n",
    "            nn.Conv2d(256, 256, kernel_size=3, padding=1),\n",
    "            nn.ReLU(inplace=True),\n",
    "            nn.Conv2d(256, 256, kernel_size=3, padding=1),\n",
    "            nn.ReLU(inplace=True),\n",
    "            nn.MaxPool2d(kernel_size=2, stride=2),\n",
    "            nn.Conv2d(256, 512, kernel_size=3, padding=1),\n",
    "            nn.ReLU(inplace=True),\n",
    "            nn.Conv2d(512, 512, kernel_size=3, padding=1),\n",
    "            nn.ReLU(inplace=True),\n",
    "            nn.Conv2d(512, 512, kernel_size=3, padding=1),\n",
    "            nn.ReLU(inplace=True),\n",
    "            nn.MaxPool2d(kernel_size=2, stride=2),\n",
    "            nn.Conv2d(512, 512, kernel_size=3, padding=1),\n",
    "            nn.ReLU(inplace=True),\n",
    "            nn.Conv2d(512, 512, kernel_size=3, padding=1),\n",
    "            nn.ReLU(inplace=True),\n",
    "            nn.Conv2d(512, 512, kernel_size=3, padding=1),\n",
    "            nn.ReLU(inplace=True),\n",
    "            nn.MaxPool2d(kernel_size=2, stride=2)\n",
    "        )\n",
    "        self.avgpool = nn.AdaptiveAvgPool2d((7, 7))\n",
    "        self.classifier = nn.Sequential(\n",
    "            nn.Linear(512 * 7 * 7, 4096),\n",
    "            nn.ReLU(inplace=True),\n",
    "            nn.Dropout(),\n",
    "            nn.Linear(4096, 4096),\n",
    "            nn.ReLU(inplace=True),\n",
    "            nn.Dropout(),\n",
    "            nn.Linear(4096, num_classes),\n",
    "        )\n",
    "\n",
    "    def forward(self, x):\n",
    "        x = self.features(x)\n",
    "        x = self.avgpool(x)\n",
    "        x = torch.flatten(x, 1)\n",
    "        x = self.classifier(x)\n",
    "        return x\n",
    "        \n",
    "vgg16 = VGG16(10).to(device)\n",
    "summary(vgg16, input_size=(64, 3, 32, 32))"
   ]
  },
  {
   "cell_type": "markdown",
   "metadata": {},
   "source": [
    "- loss function, optimizer, learing rate scheduler 정의"
   ]
  },
  {
   "cell_type": "code",
   "execution_count": 7,
   "metadata": {},
   "outputs": [],
   "source": [
    "criterion = nn.CrossEntropyLoss().to(device) # loss func\n",
    "optimizer = torch.optim.Adam(vgg16.parameters(), lr=0.001) # optimizer\n",
    "lr_sche = torch.optim.lr_scheduler.StepLR(optimizer, step_size=5, gamma=0.9) # learning rate scheduler"
   ]
  },
  {
   "cell_type": "markdown",
   "metadata": {},
   "source": [
    "- 학습 함수 정의"
   ]
  },
  {
   "cell_type": "code",
   "execution_count": 8,
   "metadata": {},
   "outputs": [],
   "source": [
    "def train_loop(dataloader, model, loss_fn, optimizer):\n",
    "    size = len(dataloader.dataset)\n",
    "    num_batches = len(dataloader)\n",
    "    total_loss, total_acc = 0, 0\n",
    "    \n",
    "    for batch, (X, y) in enumerate(dataloader):\n",
    "        # 예측(prediction)과 손실(loss) 계산\n",
    "        X, y = X.to(device).float(), y.to(device)\n",
    "        pred = model(X)\n",
    "        loss = loss_fn(pred, y)\n",
    "\n",
    "        # 역전파\n",
    "        optimizer.zero_grad()\n",
    "        loss.backward()\n",
    "        optimizer.step()\n",
    "\n",
    "        # train loss, train acc 계산\n",
    "        total_loss += loss.item()\n",
    "        total_acc += (pred.argmax(1) == y).type(torch.float).sum().item()\n",
    "\n",
    "        if batch % 100 == 0:\n",
    "            loss, current = loss.item(), batch * len(X)\n",
    "            print(f\"loss: {loss:>7f}  [{current:>5d}/{size:>5d}]\")\n",
    "\n",
    "    return total_loss / num_batches, total_acc / size\n",
    "\n",
    "def test_loop(dataloader, model, loss_fn):\n",
    "    size = len(dataloader.dataset)\n",
    "    num_batches = len(dataloader)\n",
    "    test_loss, correct = 0, 0\n",
    "\n",
    "    with torch.no_grad():\n",
    "        for X, y in dataloader:\n",
    "            X, y = X.to(device).float(), y.to(device)\n",
    "            pred = model(X)\n",
    "            test_loss += loss_fn(pred, y).item()\n",
    "            correct += (pred.argmax(1) == y).type(torch.float).sum().item()\n",
    "\n",
    "    return test_loss / num_batches, correct / size\n",
    "\n",
    "def fit(model, train_loader, validation_loader, loss_fun, optimizer):\n",
    "    history = {key: [] for key in ['acc', 'val_acc', 'loss', 'val_loss']}\n",
    "    for t in range(epochs):  \n",
    "        print(f\"Epoch {t+1}/{epochs}\\n-------------------------------\")\n",
    "        _loss, _acc = train_loop(train_loader, model, loss_fun, optimizer)\n",
    "        _val_loss, _val_acc = test_loop(val_loader, model, loss_fun)\n",
    "        print(f\"loss: {_loss:>.5f} - accuracy: {_acc:>.5f} - val_loss: {_val_loss:>.5f} - val_accuracy: {_val_acc:>.5f}\\n\")\n",
    "\n",
    "        for key, value in zip(['acc', 'val_acc', 'loss', 'val_loss'], \n",
    "                              [_acc, _val_acc, _loss, _val_loss]):\n",
    "            history[key].append(value)\n",
    "    return history"
   ]
  },
  {
   "cell_type": "code",
   "execution_count": 9,
   "metadata": {},
   "outputs": [],
   "source": [
    "import matplotlib.pyplot as plt\n",
    "\n",
    "def show_train_history(history):\n",
    "    fig, axes = plt.subplots(1, 2, figsize=(10, 4))\n",
    "    for ax, key in zip(axes, ['acc', 'loss']):\n",
    "        ax.plot(history[key], 'r', label='train')\n",
    "        ax.plot(history['val_' + key], 'b', label='validation')\n",
    "        ax.legend()\n",
    "        ax.set_title(key)\n",
    "    plt.show()"
   ]
  },
  {
   "cell_type": "markdown",
   "metadata": {},
   "source": [
    "##### vgg16 학습"
   ]
  },
  {
   "cell_type": "code",
   "execution_count": 10,
   "metadata": {},
   "outputs": [
    {
     "name": "stdout",
     "output_type": "stream",
     "text": [
      "Epoch 1/15\n",
      "-------------------------------\n",
      "loss: 2.302730  [    0/50000]\n",
      "loss: 2.302252  [12800/50000]\n",
      "loss: 2.300332  [25600/50000]\n",
      "loss: 2.301469  [38400/50000]\n",
      "loss: 2.30597 - accuracy: 0.09954 - val_loss: 2.30274 - val_accuracy: 0.09990\n",
      "\n",
      "Epoch 2/15\n",
      "-------------------------------\n",
      "loss: 2.303488  [    0/50000]\n",
      "loss: 2.303260  [12800/50000]\n",
      "loss: 2.304285  [25600/50000]\n",
      "loss: 2.306375  [38400/50000]\n",
      "loss: 2.30283 - accuracy: 0.09874 - val_loss: 2.30278 - val_accuracy: 0.09790\n",
      "\n",
      "Epoch 3/15\n",
      "-------------------------------\n",
      "loss: 2.301963  [    0/50000]\n",
      "loss: 2.301315  [12800/50000]\n",
      "loss: 2.302601  [25600/50000]\n",
      "loss: 2.304322  [38400/50000]\n",
      "loss: 2.30281 - accuracy: 0.09790 - val_loss: 2.30273 - val_accuracy: 0.10020\n",
      "\n",
      "Epoch 4/15\n",
      "-------------------------------\n",
      "loss: 2.303205  [    0/50000]\n",
      "loss: 2.304300  [12800/50000]\n",
      "loss: 2.302798  [25600/50000]\n",
      "loss: 2.302315  [38400/50000]\n",
      "loss: 2.30282 - accuracy: 0.09760 - val_loss: 2.30260 - val_accuracy: 0.10030\n",
      "\n",
      "Epoch 5/15\n",
      "-------------------------------\n",
      "loss: 2.302356  [    0/50000]\n",
      "loss: 2.302996  [12800/50000]\n",
      "loss: 2.302621  [25600/50000]\n",
      "loss: 2.303544  [38400/50000]\n",
      "loss: 2.30274 - accuracy: 0.09676 - val_loss: 2.30265 - val_accuracy: 0.09950\n",
      "\n",
      "Epoch 6/15\n",
      "-------------------------------\n",
      "loss: 2.302712  [    0/50000]\n",
      "loss: 2.303248  [12800/50000]\n",
      "loss: 2.301814  [25600/50000]\n",
      "loss: 2.303627  [38400/50000]\n",
      "loss: 2.30274 - accuracy: 0.09728 - val_loss: 2.30268 - val_accuracy: 0.09980\n",
      "\n",
      "Epoch 7/15\n",
      "-------------------------------\n",
      "loss: 2.305184  [    0/50000]\n",
      "loss: 2.302544  [12800/50000]\n",
      "loss: 2.303049  [25600/50000]\n",
      "loss: 2.302541  [38400/50000]\n",
      "loss: 2.30271 - accuracy: 0.09972 - val_loss: 2.30268 - val_accuracy: 0.10040\n",
      "\n",
      "Epoch 8/15\n",
      "-------------------------------\n",
      "loss: 2.302307  [    0/50000]\n",
      "loss: 2.304911  [12800/50000]\n",
      "loss: 2.302894  [25600/50000]\n",
      "loss: 2.302976  [38400/50000]\n",
      "loss: 2.30272 - accuracy: 0.09810 - val_loss: 2.30259 - val_accuracy: 0.10040\n",
      "\n",
      "Epoch 9/15\n",
      "-------------------------------\n",
      "loss: 2.302709  [    0/50000]\n",
      "loss: 2.301605  [12800/50000]\n",
      "loss: 2.302678  [25600/50000]\n",
      "loss: 2.302591  [38400/50000]\n",
      "loss: 2.30270 - accuracy: 0.09748 - val_loss: 2.30260 - val_accuracy: 0.10000\n",
      "\n",
      "Epoch 10/15\n",
      "-------------------------------\n",
      "loss: 2.303050  [    0/50000]\n",
      "loss: 2.302282  [12800/50000]\n",
      "loss: 2.302175  [25600/50000]\n",
      "loss: 2.302093  [38400/50000]\n",
      "loss: 2.30268 - accuracy: 0.09936 - val_loss: 2.30255 - val_accuracy: 0.10000\n",
      "\n",
      "Epoch 11/15\n",
      "-------------------------------\n",
      "loss: 2.303056  [    0/50000]\n",
      "loss: 2.303699  [12800/50000]\n",
      "loss: 2.303131  [25600/50000]\n",
      "loss: 2.301871  [38400/50000]\n",
      "loss: 2.30269 - accuracy: 0.09736 - val_loss: 2.30257 - val_accuracy: 0.10000\n",
      "\n",
      "Epoch 12/15\n",
      "-------------------------------\n",
      "loss: 2.301958  [    0/50000]\n",
      "loss: 2.303494  [12800/50000]\n",
      "loss: 2.302124  [25600/50000]\n",
      "loss: 2.302796  [38400/50000]\n",
      "loss: 2.30269 - accuracy: 0.09722 - val_loss: 2.30260 - val_accuracy: 0.10000\n",
      "\n",
      "Epoch 13/15\n",
      "-------------------------------\n",
      "loss: 2.302739  [    0/50000]\n",
      "loss: 2.302660  [12800/50000]\n",
      "loss: 2.304002  [25600/50000]\n",
      "loss: 2.302991  [38400/50000]\n",
      "loss: 2.30269 - accuracy: 0.09660 - val_loss: 2.30261 - val_accuracy: 0.10000\n",
      "\n",
      "Epoch 14/15\n",
      "-------------------------------\n",
      "loss: 2.302248  [    0/50000]\n",
      "loss: 2.302864  [12800/50000]\n",
      "loss: 2.301964  [25600/50000]\n",
      "loss: 2.302355  [38400/50000]\n",
      "loss: 2.30269 - accuracy: 0.09872 - val_loss: 2.30259 - val_accuracy: 0.10000\n",
      "\n",
      "Epoch 15/15\n",
      "-------------------------------\n",
      "loss: 2.302373  [    0/50000]\n",
      "loss: 2.302347  [12800/50000]\n",
      "loss: 2.302010  [25600/50000]\n",
      "loss: 2.302893  [38400/50000]\n",
      "loss: 2.30269 - accuracy: 0.09882 - val_loss: 2.30259 - val_accuracy: 0.10000\n",
      "\n"
     ]
    },
    {
     "data": {
      "image/png": "[encoded data removed]",
      "text/plain": [
       "<Figure size 1000x400 with 2 Axes>"
      ]
     },
     "metadata": {},
     "output_type": "display_data"
    }
   ],
   "source": [
    "history = fit(vgg16, train_loader, val_loader, criterion, optimizer)\n",
    "show_train_history(history)"
   ]
  },
  {
   "cell_type": "markdown",
   "metadata": {},
   "source": [
    "##### 위의 훈련은 문제가 있음\n",
    "- 정확도가 올라가지 않음. 다시 해볼 것\n",
    "- 처음에 epochs를 2까지만 해서 제대로 되는지 먼저확인"
   ]
  },
  {
   "cell_type": "markdown",
   "metadata": {},
   "source": [
    "##### 모델저장"
   ]
  },
  {
   "cell_type": "code",
   "execution_count": 11,
   "metadata": {},
   "outputs": [],
   "source": [
    "torch.save(vgg16, './data/vgg16.pt') # 전체 모델 저장"
   ]
  },
  {
   "cell_type": "markdown",
   "metadata": {},
   "source": [
    "##### 모델 로드"
   ]
  },
  {
   "cell_type": "code",
   "execution_count": 15,
   "metadata": {},
   "outputs": [
    {
     "data": {
      "text/plain": [
       "VGG16(\n",
       "  (features): Sequential(\n",
       "    (0): Conv2d(3, 64, kernel_size=(3, 3), stride=(1, 1), padding=(1, 1))\n",
       "    (1): ReLU(inplace=True)\n",
       "    (2): Conv2d(64, 64, kernel_size=(3, 3), stride=(1, 1), padding=(1, 1))\n",
       "    (3): ReLU(inplace=True)\n",
       "    (4): MaxPool2d(kernel_size=2, stride=2, padding=0, dilation=1, ceil_mode=False)\n",
       "    (5): Conv2d(64, 128, kernel_size=(3, 3), stride=(1, 1), padding=(1, 1))\n",
       "    (6): ReLU(inplace=True)\n",
       "    (7): Conv2d(128, 128, kernel_size=(3, 3), stride=(1, 1), padding=(1, 1))\n",
       "    (8): ReLU(inplace=True)\n",
       "    (9): MaxPool2d(kernel_size=2, stride=2, padding=0, dilation=1, ceil_mode=False)\n",
       "    (10): Conv2d(128, 256, kernel_size=(3, 3), stride=(1, 1), padding=(1, 1))\n",
       "    (11): ReLU(inplace=True)\n",
       "    (12): Conv2d(256, 256, kernel_size=(3, 3), stride=(1, 1), padding=(1, 1))\n",
       "    (13): ReLU(inplace=True)\n",
       "    (14): Conv2d(256, 256, kernel_size=(3, 3), stride=(1, 1), padding=(1, 1))\n",
       "    (15): ReLU(inplace=True)\n",
       "    (16): MaxPool2d(kernel_size=2, stride=2, padding=0, dilation=1, ceil_mode=False)\n",
       "    (17): Conv2d(256, 512, kernel_size=(3, 3), stride=(1, 1), padding=(1, 1))\n",
       "    (18): ReLU(inplace=True)\n",
       "    (19): Conv2d(512, 512, kernel_size=(3, 3), stride=(1, 1), padding=(1, 1))\n",
       "    (20): ReLU(inplace=True)\n",
       "    (21): Conv2d(512, 512, kernel_size=(3, 3), stride=(1, 1), padding=(1, 1))\n",
       "    (22): ReLU(inplace=True)\n",
       "    (23): MaxPool2d(kernel_size=2, stride=2, padding=0, dilation=1, ceil_mode=False)\n",
       "    (24): Conv2d(512, 512, kernel_size=(3, 3), stride=(1, 1), padding=(1, 1))\n",
       "    (25): ReLU(inplace=True)\n",
       "    (26): Conv2d(512, 512, kernel_size=(3, 3), stride=(1, 1), padding=(1, 1))\n",
       "    (27): ReLU(inplace=True)\n",
       "    (28): Conv2d(512, 512, kernel_size=(3, 3), stride=(1, 1), padding=(1, 1))\n",
       "    (29): ReLU(inplace=True)\n",
       "    (30): MaxPool2d(kernel_size=2, stride=2, padding=0, dilation=1, ceil_mode=False)\n",
       "  )\n",
       "  (avgpool): AdaptiveAvgPool2d(output_size=(7, 7))\n",
       "  (classifier): Sequential(\n",
       "    (0): Linear(in_features=25088, out_features=4096, bias=True)\n",
       "    (1): ReLU(inplace=True)\n",
       "    (2): Dropout(p=0.5, inplace=False)\n",
       "    (3): Linear(in_features=4096, out_features=4096, bias=True)\n",
       "    (4): ReLU(inplace=True)\n",
       "    (5): Dropout(p=0.5, inplace=False)\n",
       "    (6): Linear(in_features=4096, out_features=10, bias=True)\n",
       "  )\n",
       ")"
      ]
     },
     "execution_count": 15,
     "metadata": {},
     "output_type": "execute_result"
    }
   ],
   "source": [
    "vgg16_loded = torch.load('./data/vgg16.pt', weights_only=False)\n",
    "vgg16_loded"
   ]
  },
  {
   "cell_type": "markdown",
   "metadata": {},
   "source": [
    "#### 뭐가 문제지????"
   ]
  }
 ],
 "metadata": {
  "kernelspec": {
   "display_name": "Python 3",
   "language": "python",
   "name": "python3"
  },
  "language_info": {
   "codemirror_mode": {
    "name": "ipython",
    "version": 3
   },
   "file_extension": ".py",
   "mimetype": "text/x-python",
   "name": "python",
   "nbconvert_exporter": "python",
   "pygments_lexer": "ipython3",
   "version": "3.11.9"
  }
 },
 "nbformat": 4,
 "nbformat_minor": 2
}
