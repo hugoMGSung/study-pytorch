{
 "cells": [
  {
   "cell_type": "markdown",
   "metadata": {},
   "source": [
    "## PyTorch 학습 레벨 2 - 005\n",
    "---\n",
    "\n",
    "### 순서\n",
    "1. Tensor를 사용한 신경망\n",
    "2. torch.nn.functional 사용하기\n",
    "3. _~~optm을 이용하여 리팩토링 하기~~_\n",
    "4. fit() 와 get_data() 생성하기\n",
    "5. CNN 으로 넘어가기"
   ]
  }
 ],
 "metadata": {
  "kernelspec": {
   "display_name": "Python 3",
   "language": "python",
   "name": "python3"
  },
  "language_info": {
   "codemirror_mode": {
    "name": "ipython",
    "version": 3
   },
   "file_extension": ".py",
   "mimetype": "text/x-python",
   "name": "python",
   "nbconvert_exporter": "python",
   "pygments_lexer": "ipython3",
   "version": "3.11.9"
  }
 },
 "nbformat": 4,
 "nbformat_minor": 2
}
