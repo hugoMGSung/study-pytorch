{
 "cells": [
  {
   "cell_type": "markdown",
   "metadata": {},
   "source": [
    "### 예측함수 정의"
   ]
  },
  {
   "cell_type": "code",
   "execution_count": 1,
   "metadata": {},
   "outputs": [],
   "source": [
    "import numpy as np\n",
    "import matplotlib.pyplot as plt\n",
    "from IPython.display import display\n",
    "\n",
    "# 폰트 관련 용도\n",
    "import matplotlib.font_manager as fm"
   ]
  },
  {
   "cell_type": "code",
   "execution_count": 3,
   "metadata": {},
   "outputs": [],
   "source": [
    "# 나눔 고딕 폰트의 경로 명시\n",
    "path = 'C:/Windows/Fonts/NanumGothic.ttf'\n",
    "font_name = fm.FontProperties(fname=path, size=10).get_name()"
   ]
  },
  {
   "cell_type": "code",
   "execution_count": 4,
   "metadata": {},
   "outputs": [],
   "source": [
    "# warning 표시 끄기\n",
    "import warnings\n",
    "warnings.simplefilter('ignore')\n",
    "\n",
    "# 기본 폰트 설정\n",
    "plt.rcParams['font.family'] = font_name\n",
    "\n",
    "# 기본 폰트 사이즈 변경\n",
    "plt.rcParams['font.size'] = 14\n",
    "\n",
    "# 기본 그래프 사이즈 변경\n",
    "plt.rcParams['figure.figsize'] = (6,6)\n",
    "\n",
    "# 기본 그리드 표시\n",
    "# 필요에 따라 설정할 때는, plt.grid()\n",
    "plt.rcParams['axes.grid'] = True\n",
    "\n",
    "# 마이너스 기호 정상 출력\n",
    "plt.rcParams['axes.unicode_minus'] = False\n",
    "\n",
    "# 넘파이 부동소수점 자릿수 표시\n",
    "np.set_printoptions(suppress=True, precision=4)"
   ]
  },
  {
   "cell_type": "code",
   "execution_count": 12,
   "metadata": {},
   "outputs": [],
   "source": [
    "# 파이토치 관련 라이브러리\n",
    "import torch\n",
    "import torch.nn as nn\n",
    "from torchviz import make_dot\n",
    "# 최적화 모듈\n",
    "import torch.optim as optim"
   ]
  },
  {
   "cell_type": "markdown",
   "metadata": {},
   "source": [
    "#### 예측함수 내부구조"
   ]
  },
  {
   "cell_type": "code",
   "execution_count": 6,
   "metadata": {},
   "outputs": [],
   "source": [
    "## 레이어 함수 정의\n",
    "\n",
    "# 첫번째 선형 함수\n",
    "# 784 입력 수\n",
    "# 128 출력 수\n",
    "l1 = nn.Linear(784, 128)\n",
    "\n",
    "# 두번째 선형 함수\n",
    "# 128 입력 수\n",
    "# 10 출력 수\n",
    "l2 = nn.Linear(128, 10)\n",
    "\n",
    "# 활성화 함수\n",
    "relu = nn.ReLU(inplace=True)"
   ]
  },
  {
   "cell_type": "code",
   "execution_count": 7,
   "metadata": {},
   "outputs": [
    {
     "name": "stdout",
     "output_type": "stream",
     "text": [
      "입력 텐서 torch.Size([100, 784])\n",
      "출력 텐서 torch.Size([100, 10])\n"
     ]
    }
   ],
   "source": [
    "## 입력 텐서로부터 출력 텐서를 계산\n",
    "# 더미 입력 데이터 작성\n",
    "inputs = torch.randn(100, 784)\n",
    "\n",
    "# 중간 텐서 1 계산\n",
    "m1 = l1(inputs)\n",
    "\n",
    "# 중간 텐서 2 계산\n",
    "m2 = relu(m1)\n",
    "\n",
    "# 출력 텐서 계산\n",
    "outputs = l2(m2)\n",
    "\n",
    "# 입력 텐서와 출력 텐서 shape 확인\n",
    "print('입력 텐서', inputs.shape)\n",
    "print('출력 텐서', outputs.shape)"
   ]
  },
  {
   "cell_type": "code",
   "execution_count": 8,
   "metadata": {},
   "outputs": [
    {
     "name": "stdout",
     "output_type": "stream",
     "text": [
      "입력 텐서 torch.Size([100, 784])\n",
      "출력 텐서 torch.Size([100, 10])\n"
     ]
    }
   ],
   "source": [
    "## nn.Sequential을 사용해 전체를 합성 함수로 정의\n",
    "net2 = nn.Sequential(\n",
    "    l1,\n",
    "    relu,\n",
    "    l2\n",
    ")\n",
    "\n",
    "outputs2 = net2(inputs)\n",
    "\n",
    "# 입력 텐서와 출력 텐서의 shape 확인\n",
    "print('입력 텐서', inputs.shape)\n",
    "print('출력 텐서', outputs2.shape)"
   ]
  },
  {
   "cell_type": "markdown",
   "metadata": {},
   "source": [
    "#### 활성화함수의 목적\n",
    "\n",
    "- 이전 층 결과값을 다른 층 뉴런으로 전달\n",
    "\n",
    "- 참고용으로 작성"
   ]
  },
  {
   "cell_type": "markdown",
   "metadata": {},
   "source": [
    "##### 학습용 데이터 계산"
   ]
  },
  {
   "cell_type": "code",
   "execution_count": 9,
   "metadata": {},
   "outputs": [],
   "source": [
    "# 훈련 데이터, 검증 데이터 계산\n",
    "np.random.seed(123)\n",
    "x = np.random.randn(100,1)\n",
    "\n",
    "# y는 x^2에 난수를 1/10만큼 더한 값\n",
    "y = x**2 + np.random.randn(100,1) * 0.1\n",
    "\n",
    "# 데이터를 50건씩 훈련용과 검증용으로 나눔\n",
    "x_train = x[:50,:]\n",
    "x_test = x[50:,:]\n",
    "y_train = y[:50,:]\n",
    "y_test = y[50:,:]"
   ]
  },
  {
   "cell_type": "code",
   "execution_count": 10,
   "metadata": {},
   "outputs": [
    {
     "data": {
      "image/png": "[encoded data removed]",
      "text/plain": [
       "<Figure size 600x600 with 1 Axes>"
      ]
     },
     "metadata": {},
     "output_type": "display_data"
    }
   ],
   "source": [
    "# Scatter plot 출력\n",
    "plt.scatter(x_train, y_train, c='b', label='훈련 데이터')\n",
    "plt.scatter(x_test, y_test, c='k', marker='x', label='검증 데이터')\n",
    "plt.legend()\n",
    "plt.show()"
   ]
  },
  {
   "cell_type": "code",
   "execution_count": 11,
   "metadata": {},
   "outputs": [],
   "source": [
    "# 입력 변수 x와 정답 yt의 텐서화\n",
    "\n",
    "inputs = torch.tensor(x_train).float()\n",
    "labels = torch.tensor(y_train).float()\n",
    "\n",
    "inputs_test = torch.tensor(x_test).float()\n",
    "labels_test = torch.tensor(y_test).float()"
   ]
  },
  {
   "cell_type": "markdown",
   "metadata": {},
   "source": [
    "##### 선형 회귀 모델"
   ]
  },
  {
   "cell_type": "code",
   "execution_count": 13,
   "metadata": {},
   "outputs": [],
   "source": [
    "# 모델 정의\n",
    "\n",
    "class Net(nn.Module):\n",
    "    def __init__(self):\n",
    "        #  부모 클래스 nn.Modules 의 초기화\n",
    "        super().__init__()\n",
    "\n",
    "        # 출력층 정의\n",
    "        self.l1 = nn.Linear(1, 1)   \n",
    "        \n",
    "    # 예측 함수 정의\n",
    "    def forward(self, x):\n",
    "        x1 = self.l1(x) # 선형 회귀\n",
    "        return x1"
   ]
  },
  {
   "cell_type": "code",
   "execution_count": 15,
   "metadata": {},
   "outputs": [],
   "source": [
    "# 학습률\n",
    "lr = 0.01\n",
    "\n",
    "# 인스턴스 생성(파라미터 초기화)\n",
    "net = Net()\n",
    "\n",
    "# 최적화 알고리즘 : 확률적 경사 하강법\n",
    "optimizer = optim.SGD(net.parameters(), lr=lr)\n",
    "\n",
    "# 손실 함수： 평균 제곱 오차(Mean Squared Error)\n",
    "criterion = nn.MSELoss()\n",
    "\n",
    "# 반복 횟수\n",
    "num_epochs = 10000\n",
    "\n",
    "#  history 기록을 위한 배열 초기화(손실 함수 값 만을 기록)\n",
    "history = np.zeros((0,2))"
   ]
  },
  {
   "cell_type": "code",
   "execution_count": 16,
   "metadata": {},
   "outputs": [
    {
     "name": "stdout",
     "output_type": "stream",
     "text": [
      "Epoch 0 loss: 4.16121\n",
      "Epoch 100 loss: 3.22860\n",
      "Epoch 200 loss: 3.21566\n",
      "Epoch 300 loss: 3.21545\n",
      "Epoch 400 loss: 3.21544\n",
      "Epoch 500 loss: 3.21544\n",
      "Epoch 600 loss: 3.21544\n",
      "Epoch 700 loss: 3.21544\n",
      "Epoch 800 loss: 3.21544\n",
      "Epoch 900 loss: 3.21544\n",
      "Epoch 1000 loss: 3.21544\n",
      "Epoch 1100 loss: 3.21544\n",
      "Epoch 1200 loss: 3.21544\n",
      "Epoch 1300 loss: 3.21544\n",
      "Epoch 1400 loss: 3.21544\n",
      "Epoch 1500 loss: 3.21544\n",
      "Epoch 1600 loss: 3.21544\n",
      "Epoch 1700 loss: 3.21544\n",
      "Epoch 1800 loss: 3.21544\n",
      "Epoch 1900 loss: 3.21544\n",
      "Epoch 2000 loss: 3.21544\n",
      "Epoch 2100 loss: 3.21544\n",
      "Epoch 2200 loss: 3.21544\n",
      "Epoch 2300 loss: 3.21544\n",
      "Epoch 2400 loss: 3.21544\n",
      "Epoch 2500 loss: 3.21544\n",
      "Epoch 2600 loss: 3.21544\n",
      "Epoch 2700 loss: 3.21544\n",
      "Epoch 2800 loss: 3.21544\n",
      "Epoch 2900 loss: 3.21544\n",
      "Epoch 3000 loss: 3.21544\n",
      "Epoch 3100 loss: 3.21544\n",
      "Epoch 3200 loss: 3.21544\n",
      "Epoch 3300 loss: 3.21544\n",
      "Epoch 3400 loss: 3.21544\n",
      "Epoch 3500 loss: 3.21544\n",
      "Epoch 3600 loss: 3.21544\n",
      "Epoch 3700 loss: 3.21544\n",
      "Epoch 3800 loss: 3.21544\n",
      "Epoch 3900 loss: 3.21544\n",
      "Epoch 4000 loss: 3.21544\n",
      "Epoch 4100 loss: 3.21544\n",
      "Epoch 4200 loss: 3.21544\n",
      "Epoch 4300 loss: 3.21544\n",
      "Epoch 4400 loss: 3.21544\n",
      "Epoch 4500 loss: 3.21544\n",
      "Epoch 4600 loss: 3.21544\n",
      "Epoch 4700 loss: 3.21544\n",
      "Epoch 4800 loss: 3.21544\n",
      "Epoch 4900 loss: 3.21544\n",
      "Epoch 5000 loss: 3.21544\n",
      "Epoch 5100 loss: 3.21544\n",
      "Epoch 5200 loss: 3.21544\n",
      "Epoch 5300 loss: 3.21544\n",
      "Epoch 5400 loss: 3.21544\n",
      "Epoch 5500 loss: 3.21544\n",
      "Epoch 5600 loss: 3.21544\n",
      "Epoch 5700 loss: 3.21544\n",
      "Epoch 5800 loss: 3.21544\n",
      "Epoch 5900 loss: 3.21544\n",
      "Epoch 6000 loss: 3.21544\n",
      "Epoch 6100 loss: 3.21544\n",
      "Epoch 6200 loss: 3.21544\n",
      "Epoch 6300 loss: 3.21544\n",
      "Epoch 6400 loss: 3.21544\n",
      "Epoch 6500 loss: 3.21544\n",
      "Epoch 6600 loss: 3.21544\n",
      "Epoch 6700 loss: 3.21544\n",
      "Epoch 6800 loss: 3.21544\n",
      "Epoch 6900 loss: 3.21544\n",
      "Epoch 7000 loss: 3.21544\n",
      "Epoch 7100 loss: 3.21544\n",
      "Epoch 7200 loss: 3.21544\n",
      "Epoch 7300 loss: 3.21544\n",
      "Epoch 7400 loss: 3.21544\n",
      "Epoch 7500 loss: 3.21544\n",
      "Epoch 7600 loss: 3.21544\n",
      "Epoch 7700 loss: 3.21544\n",
      "Epoch 7800 loss: 3.21544\n",
      "Epoch 7900 loss: 3.21544\n",
      "Epoch 8000 loss: 3.21544\n",
      "Epoch 8100 loss: 3.21544\n",
      "Epoch 8200 loss: 3.21544\n",
      "Epoch 8300 loss: 3.21544\n",
      "Epoch 8400 loss: 3.21544\n",
      "Epoch 8500 loss: 3.21544\n",
      "Epoch 8600 loss: 3.21544\n",
      "Epoch 8700 loss: 3.21544\n",
      "Epoch 8800 loss: 3.21544\n",
      "Epoch 8900 loss: 3.21544\n",
      "Epoch 9000 loss: 3.21544\n",
      "Epoch 9100 loss: 3.21544\n",
      "Epoch 9200 loss: 3.21544\n",
      "Epoch 9300 loss: 3.21544\n",
      "Epoch 9400 loss: 3.21544\n",
      "Epoch 9500 loss: 3.21544\n",
      "Epoch 9600 loss: 3.21544\n",
      "Epoch 9700 loss: 3.21544\n",
      "Epoch 9800 loss: 3.21544\n",
      "Epoch 9900 loss: 3.21544\n"
     ]
    }
   ],
   "source": [
    "# 반복 계산 메인 루프\n",
    "\n",
    "for epoch in range(num_epochs):\n",
    "    \n",
    "    # 경사 값 초기화\n",
    "    optimizer.zero_grad()\n",
    "\n",
    "    # 예측 계산\n",
    "    outputs = net(inputs)\n",
    "  \n",
    "    # 오차 계산\n",
    "    loss = criterion(outputs, labels)\n",
    "\n",
    "    # 경사 계산\n",
    "    loss.backward()\n",
    "\n",
    "    # 경사 하강법 적용\n",
    "    optimizer.step()\n",
    "\n",
    "    # 100회 마다 도중 경과를 기록\n",
    "    if ( epoch % 100 == 0):\n",
    "        history = np.vstack((history, np.array([epoch, loss.item()])))\n",
    "        print(f'Epoch {epoch} loss: {loss.item():.5f}')"
   ]
  },
  {
   "cell_type": "code",
   "execution_count": 17,
   "metadata": {},
   "outputs": [
    {
     "data": {
      "image/png": "[encoded data removed]",
      "text/plain": [
       "<Figure size 600x600 with 1 Axes>"
      ]
     },
     "metadata": {},
     "output_type": "display_data"
    }
   ],
   "source": [
    "# 결과 그래프\n",
    "labels_pred = net(inputs_test)\n",
    "\n",
    "plt.title('은닉층 없음,　활성화 함수 없음')\n",
    "plt.scatter(inputs_test[:,0].data, labels_pred[:,0].data, c='b', label='예측값')\n",
    "plt.scatter(inputs_test[:,0].data, labels_test[:,0].data, c='k', marker='x',label='정답')\n",
    "plt.legend()\n",
    "plt.show()"
   ]
  },
  {
   "cell_type": "markdown",
   "metadata": {},
   "source": [
    "##### 유사 딥러닝 모델의 경우"
   ]
  },
  {
   "cell_type": "code",
   "execution_count": 18,
   "metadata": {},
   "outputs": [],
   "source": [
    "# 모델 정의\n",
    "\n",
    "class Net2(nn.Module):\n",
    "    def __init__(self):\n",
    "        #  부모 클래스 nn.Modules 초기화\n",
    "        super().__init__()\n",
    "\n",
    "        # 출력층 정의\n",
    "        self.l1 = nn.Linear(1, 10)\n",
    "        self.l2 = nn.Linear(10, 10)\n",
    "        self.l3 = nn.Linear(10,1)\n",
    "        \n",
    "    # 예측 함수 정의\n",
    "    def forward(self, x):\n",
    "        x1 = self.l1(x)\n",
    "        x2 = self.l2(x1)\n",
    "        x3 = self.l3(x2)\n",
    "        return x3"
   ]
  },
  {
   "cell_type": "code",
   "execution_count": 19,
   "metadata": {},
   "outputs": [],
   "source": [
    "# 학습률\n",
    "lr = 0.01\n",
    "\n",
    "# 인스턴스 생성(파라미터 초기화)\n",
    "net2 = Net2()\n",
    "\n",
    "# 최적화 알고리즘 : 경사 하강법\n",
    "optimizer = optim.SGD(net2.parameters(), lr=lr)\n",
    "\n",
    "# 손실 함수 : 평균 제곱 오차\n",
    "criterion = nn.MSELoss()\n",
    "\n",
    "# 반복 횟수\n",
    "num_epochs = 10000\n",
    "\n",
    "# history 기록을 위한 배열 초기화(손실 함수 값 만을 기록)\n",
    "history = np.zeros((0,2))"
   ]
  },
  {
   "cell_type": "code",
   "execution_count": 20,
   "metadata": {},
   "outputs": [
    {
     "name": "stdout",
     "output_type": "stream",
     "text": [
      "Epoch 0 loss: 6.08910\n",
      "Epoch 100 loss: 3.21544\n",
      "Epoch 200 loss: 3.21544\n",
      "Epoch 300 loss: 3.21544\n",
      "Epoch 400 loss: 3.21544\n",
      "Epoch 500 loss: 3.21544\n",
      "Epoch 600 loss: 3.21544\n",
      "Epoch 700 loss: 3.21544\n",
      "Epoch 800 loss: 3.21544\n",
      "Epoch 900 loss: 3.21544\n",
      "Epoch 1000 loss: 3.21544\n",
      "Epoch 1100 loss: 3.21544\n",
      "Epoch 1200 loss: 3.21544\n",
      "Epoch 1300 loss: 3.21544\n",
      "Epoch 1400 loss: 3.21544\n",
      "Epoch 1500 loss: 3.21544\n",
      "Epoch 1600 loss: 3.21544\n",
      "Epoch 1700 loss: 3.21544\n",
      "Epoch 1800 loss: 3.21544\n",
      "Epoch 1900 loss: 3.21544\n",
      "Epoch 2000 loss: 3.21544\n",
      "Epoch 2100 loss: 3.21544\n",
      "Epoch 2200 loss: 3.21544\n",
      "Epoch 2300 loss: 3.21544\n",
      "Epoch 2400 loss: 3.21544\n",
      "Epoch 2500 loss: 3.21544\n",
      "Epoch 2600 loss: 3.21544\n",
      "Epoch 2700 loss: 3.21544\n",
      "Epoch 2800 loss: 3.21544\n",
      "Epoch 2900 loss: 3.21544\n",
      "Epoch 3000 loss: 3.21544\n",
      "Epoch 3100 loss: 3.21544\n",
      "Epoch 3200 loss: 3.21544\n",
      "Epoch 3300 loss: 3.21544\n",
      "Epoch 3400 loss: 3.21544\n",
      "Epoch 3500 loss: 3.21544\n",
      "Epoch 3600 loss: 3.21544\n",
      "Epoch 3700 loss: 3.21544\n",
      "Epoch 3800 loss: 3.21544\n",
      "Epoch 3900 loss: 3.21544\n",
      "Epoch 4000 loss: 3.21544\n",
      "Epoch 4100 loss: 3.21544\n",
      "Epoch 4200 loss: 3.21544\n",
      "Epoch 4300 loss: 3.21544\n",
      "Epoch 4400 loss: 3.21544\n",
      "Epoch 4500 loss: 3.21544\n",
      "Epoch 4600 loss: 3.21544\n",
      "Epoch 4700 loss: 3.21544\n",
      "Epoch 4800 loss: 3.21544\n",
      "Epoch 4900 loss: 3.21544\n",
      "Epoch 5000 loss: 3.21544\n",
      "Epoch 5100 loss: 3.21544\n",
      "Epoch 5200 loss: 3.21544\n",
      "Epoch 5300 loss: 3.21544\n",
      "Epoch 5400 loss: 3.21544\n",
      "Epoch 5500 loss: 3.21544\n",
      "Epoch 5600 loss: 3.21544\n",
      "Epoch 5700 loss: 3.21544\n",
      "Epoch 5800 loss: 3.21544\n",
      "Epoch 5900 loss: 3.21544\n",
      "Epoch 6000 loss: 3.21544\n",
      "Epoch 6100 loss: 3.21544\n",
      "Epoch 6200 loss: 3.21544\n",
      "Epoch 6300 loss: 3.21544\n",
      "Epoch 6400 loss: 3.21544\n",
      "Epoch 6500 loss: 3.21544\n",
      "Epoch 6600 loss: 3.21544\n",
      "Epoch 6700 loss: 3.21544\n",
      "Epoch 6800 loss: 3.21544\n",
      "Epoch 6900 loss: 3.21544\n",
      "Epoch 7000 loss: 3.21544\n",
      "Epoch 7100 loss: 3.21544\n",
      "Epoch 7200 loss: 3.21544\n",
      "Epoch 7300 loss: 3.21544\n",
      "Epoch 7400 loss: 3.21544\n",
      "Epoch 7500 loss: 3.21544\n",
      "Epoch 7600 loss: 3.21544\n",
      "Epoch 7700 loss: 3.21544\n",
      "Epoch 7800 loss: 3.21544\n",
      "Epoch 7900 loss: 3.21544\n",
      "Epoch 8000 loss: 3.21544\n",
      "Epoch 8100 loss: 3.21544\n",
      "Epoch 8200 loss: 3.21544\n",
      "Epoch 8300 loss: 3.21544\n",
      "Epoch 8400 loss: 3.21544\n",
      "Epoch 8500 loss: 3.21544\n",
      "Epoch 8600 loss: 3.21544\n",
      "Epoch 8700 loss: 3.21544\n",
      "Epoch 8800 loss: 3.21544\n",
      "Epoch 8900 loss: 3.21544\n",
      "Epoch 9000 loss: 3.21544\n",
      "Epoch 9100 loss: 3.21544\n",
      "Epoch 9200 loss: 3.21544\n",
      "Epoch 9300 loss: 3.21544\n",
      "Epoch 9400 loss: 3.21544\n",
      "Epoch 9500 loss: 3.21544\n",
      "Epoch 9600 loss: 3.21544\n",
      "Epoch 9700 loss: 3.21544\n",
      "Epoch 9800 loss: 3.21544\n",
      "Epoch 9900 loss: 3.21544\n"
     ]
    }
   ],
   "source": [
    "# 반복 계산 메인 루프\n",
    "\n",
    "for epoch in range(num_epochs):\n",
    "    \n",
    "    # 경사 값 초기화\n",
    "    optimizer.zero_grad()\n",
    "\n",
    "    # 예측 계산\n",
    "    outputs = net2(inputs)\n",
    "  \n",
    "    # 오차 계산\n",
    "    loss = criterion(outputs, labels)\n",
    "\n",
    "    # 경사 계산\n",
    "    loss.backward()\n",
    "\n",
    "    # 경사 하강법 적용\n",
    "    optimizer.step()\n",
    "\n",
    "    # 100회 마다 도중 경과를 기록\n",
    "    if ( epoch % 100 == 0):\n",
    "        history = np.vstack((history, np.array([epoch, loss.item()])))\n",
    "        print(f'Epoch {epoch} loss: {loss.item():.5f}')"
   ]
  },
  {
   "cell_type": "code",
   "execution_count": 21,
   "metadata": {},
   "outputs": [
    {
     "data": {
      "image/png": "[encoded data removed]",
      "text/plain": [
       "<Figure size 600x600 with 1 Axes>"
      ]
     },
     "metadata": {},
     "output_type": "display_data"
    }
   ],
   "source": [
    "# 결과 그래프\n",
    "labels_pred2 = net2(inputs_test)\n",
    "\n",
    "plt.title('은닉층 2개, 활성화 함수 사용하지 않음')\n",
    "plt.scatter(inputs_test[:,0].data, labels_pred2[:,0].data, c='b', label='예측값')\n",
    "plt.scatter(inputs_test[:,0].data, labels_test[:,0].data, c='k', marker='x',label='정답')\n",
    "plt.legend()\n",
    "plt.show()"
   ]
  },
  {
   "cell_type": "markdown",
   "metadata": {},
   "source": [
    "##### 딥러닝 모델(활성화 함수 사용)의 경우"
   ]
  },
  {
   "cell_type": "code",
   "execution_count": 22,
   "metadata": {},
   "outputs": [],
   "source": [
    "# 모델 정의\n",
    "\n",
    "class Net3(nn.Module):\n",
    "    def __init__(self):\n",
    "        #  부모 클래스 nn.Modules 초기화\n",
    "        super().__init__()\n",
    "\n",
    "        # 출력층 정의\n",
    "        self.l1 = nn.Linear(1, 10)\n",
    "        self.l2 = nn.Linear(10, 10)\n",
    "        self.l3 = nn.Linear(10,1)\n",
    "        self.relu = nn.ReLU(inplace=True)\n",
    "        \n",
    "    # 예측 함수 정의\n",
    "    def forward(self, x):\n",
    "        x1 = self.relu(self.l1(x))\n",
    "        x2 = self.relu(self.l2(x1))\n",
    "        x3 = self.l3(x2)\n",
    "        return x3"
   ]
  },
  {
   "cell_type": "code",
   "execution_count": 23,
   "metadata": {},
   "outputs": [],
   "source": [
    "# 학습률\n",
    "lr = 0.01\n",
    "\n",
    "# 인스턴스 생성(파라미터 초기화)\n",
    "net3 = Net3()\n",
    "\n",
    "# 최적화 알고리즘 : 경사 하강법\n",
    "optimizer = optim.SGD(net3.parameters(), lr=lr)\n",
    "\n",
    "# 손실 함수： 평균 제곱 오차\n",
    "criterion = nn.MSELoss()\n",
    "\n",
    "# 반복 횟수\n",
    "num_epochs = 10000\n",
    "\n",
    "# history 기록을 위한 배열 초기화(손실 함수 값 만을 기록)\n",
    "history = np.zeros((0,2))"
   ]
  },
  {
   "cell_type": "code",
   "execution_count": 24,
   "metadata": {},
   "outputs": [
    {
     "name": "stdout",
     "output_type": "stream",
     "text": [
      "Epoch 0 loss: 4.62703\n",
      "Epoch 100 loss: 0.93955\n",
      "Epoch 200 loss: 0.20017\n",
      "Epoch 300 loss: 0.11893\n",
      "Epoch 400 loss: 0.07456\n",
      "Epoch 500 loss: 0.04834\n",
      "Epoch 600 loss: 0.03505\n",
      "Epoch 700 loss: 0.02855\n",
      "Epoch 800 loss: 0.02467\n",
      "Epoch 900 loss: 0.02180\n",
      "Epoch 1000 loss: 0.02041\n",
      "Epoch 1100 loss: 0.01967\n",
      "Epoch 1200 loss: 0.01925\n",
      "Epoch 1300 loss: 0.01898\n",
      "Epoch 1400 loss: 0.01880\n",
      "Epoch 1500 loss: 0.01866\n",
      "Epoch 1600 loss: 0.01856\n",
      "Epoch 1700 loss: 0.01842\n",
      "Epoch 1800 loss: 0.01801\n",
      "Epoch 1900 loss: 0.01778\n",
      "Epoch 2000 loss: 0.01760\n",
      "Epoch 2100 loss: 0.01747\n",
      "Epoch 2200 loss: 0.01736\n",
      "Epoch 2300 loss: 0.01727\n",
      "Epoch 2400 loss: 0.01719\n",
      "Epoch 2500 loss: 0.01712\n",
      "Epoch 2600 loss: 0.01704\n",
      "Epoch 2700 loss: 0.01698\n",
      "Epoch 2800 loss: 0.01675\n",
      "Epoch 2900 loss: 0.01651\n",
      "Epoch 3000 loss: 0.01634\n",
      "Epoch 3100 loss: 0.01621\n",
      "Epoch 3200 loss: 0.01602\n",
      "Epoch 3300 loss: 0.01584\n",
      "Epoch 3400 loss: 0.01575\n",
      "Epoch 3500 loss: 0.01566\n",
      "Epoch 3600 loss: 0.01559\n",
      "Epoch 3700 loss: 0.01552\n",
      "Epoch 3800 loss: 0.01546\n",
      "Epoch 3900 loss: 0.01540\n",
      "Epoch 4000 loss: 0.01535\n",
      "Epoch 4100 loss: 0.01530\n",
      "Epoch 4200 loss: 0.01526\n",
      "Epoch 4300 loss: 0.01522\n",
      "Epoch 4400 loss: 0.01518\n",
      "Epoch 4500 loss: 0.01514\n",
      "Epoch 4600 loss: 0.01511\n",
      "Epoch 4700 loss: 0.01507\n",
      "Epoch 4800 loss: 0.01504\n",
      "Epoch 4900 loss: 0.01499\n",
      "Epoch 5000 loss: 0.01494\n",
      "Epoch 5100 loss: 0.01490\n",
      "Epoch 5200 loss: 0.01485\n",
      "Epoch 5300 loss: 0.01481\n",
      "Epoch 5400 loss: 0.01476\n",
      "Epoch 5500 loss: 0.01472\n",
      "Epoch 5600 loss: 0.01468\n",
      "Epoch 5700 loss: 0.01464\n",
      "Epoch 5800 loss: 0.01459\n",
      "Epoch 5900 loss: 0.01454\n",
      "Epoch 6000 loss: 0.01449\n",
      "Epoch 6100 loss: 0.01445\n",
      "Epoch 6200 loss: 0.01441\n",
      "Epoch 6300 loss: 0.01437\n",
      "Epoch 6400 loss: 0.01435\n",
      "Epoch 6500 loss: 0.01433\n",
      "Epoch 6600 loss: 0.01430\n",
      "Epoch 6700 loss: 0.01427\n",
      "Epoch 6800 loss: 0.01424\n",
      "Epoch 6900 loss: 0.01421\n",
      "Epoch 7000 loss: 0.01418\n",
      "Epoch 7100 loss: 0.01415\n",
      "Epoch 7200 loss: 0.01412\n",
      "Epoch 7300 loss: 0.01410\n",
      "Epoch 7400 loss: 0.01407\n",
      "Epoch 7500 loss: 0.01405\n",
      "Epoch 7600 loss: 0.01402\n",
      "Epoch 7700 loss: 0.01400\n",
      "Epoch 7800 loss: 0.01398\n",
      "Epoch 7900 loss: 0.01380\n",
      "Epoch 8000 loss: 0.01358\n",
      "Epoch 8100 loss: 0.01346\n",
      "Epoch 8200 loss: 0.01337\n",
      "Epoch 8300 loss: 0.01330\n",
      "Epoch 8400 loss: 0.01324\n",
      "Epoch 8500 loss: 0.01319\n",
      "Epoch 8600 loss: 0.01314\n",
      "Epoch 8700 loss: 0.01310\n",
      "Epoch 8800 loss: 0.01166\n",
      "Epoch 8900 loss: 0.01094\n",
      "Epoch 9000 loss: 0.01048\n",
      "Epoch 9100 loss: 0.01015\n",
      "Epoch 9200 loss: 0.00991\n",
      "Epoch 9300 loss: 0.00975\n",
      "Epoch 9400 loss: 0.00964\n",
      "Epoch 9500 loss: 0.00955\n",
      "Epoch 9600 loss: 0.00948\n",
      "Epoch 9700 loss: 0.00942\n",
      "Epoch 9800 loss: 0.00938\n",
      "Epoch 9900 loss: 0.00934\n"
     ]
    }
   ],
   "source": [
    "# 반복 계산 메인 루프\n",
    "\n",
    "for epoch in range(num_epochs):\n",
    "    \n",
    "    # 경사 값 초기화\n",
    "    optimizer.zero_grad()\n",
    "\n",
    "    # 예측 계산\n",
    "    outputs = net3(inputs)\n",
    "  \n",
    "    # 오차 계산\n",
    "    loss = criterion(outputs, labels)\n",
    "\n",
    "    # 경사 계산\n",
    "    loss.backward()\n",
    "\n",
    "    # 경사 하강법 적용\n",
    "    optimizer.step()\n",
    "\n",
    "    # 100회 마다 도중 경과를 기록\n",
    "    if ( epoch % 100 == 0):\n",
    "        history = np.vstack((history, np.array([epoch, loss.item()])))\n",
    "        print(f'Epoch {epoch} loss: {loss.item():.5f}')"
   ]
  },
  {
   "cell_type": "code",
   "execution_count": 25,
   "metadata": {},
   "outputs": [
    {
     "data": {
      "image/png": "[encoded data removed]",
      "text/plain": [
       "<Figure size 600x600 with 1 Axes>"
      ]
     },
     "metadata": {},
     "output_type": "display_data"
    }
   ],
   "source": [
    "# 결과 그래프\n",
    "labels_pred3 = net3(inputs_test)\n",
    "\n",
    "plt.title('은닉층 2개, 활성화 함수 사용')\n",
    "plt.scatter(inputs_test[:,0].data, labels_pred3[:,0].data, c='b', label='예측값')\n",
    "plt.scatter(inputs_test[:,0].data, labels_test[:,0].data, c='k', marker='x',label='정답')\n",
    "plt.legend()\n",
    "plt.show()"
   ]
  }
 ],
 "metadata": {
  "kernelspec": {
   "display_name": "pytorch_env",
   "language": "python",
   "name": "python3"
  },
  "language_info": {
   "codemirror_mode": {
    "name": "ipython",
    "version": 3
   },
   "file_extension": ".py",
   "mimetype": "text/x-python",
   "name": "python",
   "nbconvert_exporter": "python",
   "pygments_lexer": "ipython3",
   "version": "3.10.5"
  }
 },
 "nbformat": 4,
 "nbformat_minor": 2
}
