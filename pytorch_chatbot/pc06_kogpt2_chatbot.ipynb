{
 "cells": [
  {
   "cell_type": "markdown",
   "metadata": {},
   "source": [
    "### KoGPT2 Chatbot\n",
    "\n",
    "- 언어 모델 (Language Model)이란 문장 혹은 단어에 확률을 할당하여 컴퓨터가 처리할 수 있도록 하는 모델\n",
    "- 최근 머신러닝 모델들은 백지부터 시작하는 경우가 거의 없음\n",
    "- 전이 학습 (Transfer Learning)은 자연어 처리 분야에 있어서 경이로운 발전"
   ]
  },
  {
   "cell_type": "markdown",
   "metadata": {},
   "source": [
    "#### BERT (Bidirectional Encoder Representations from Transformers)\n",
    "\n",
    "- 2019년 10월 25일 구글 리서치 팀에 의해 공개된 자연어처리 사전 훈련 모델\n",
    "- BERT는 인코더만 존재\n",
    "- BERT 모델은 100여개가 넘는 언어 학습을 지원. BERT-Base, BERT-Large, BERT-Base, Multilingual, 그리고 BERT-Base, Chinese 모델\n",
    "    - 모델 뒤에 Cased와 Uncased가 붙혀져 있는데, Uncased의 경우 대소문자 구분을 하지 않는 모델\n",
    "- 세부적인 과제를 수행하도록 파인튜닝(fine-tuning) 작업이 필요\n",
    "\n",
    "#### GPT\n",
    "\n",
    "- 일론 머스크와 샘 알트만이 설립한 openAI에서 개발한 자연어 처리 모델\n",
    "- 2019년 GPT-2의 공개 후 엄청난 성능으로 많은 사람들을 놀라게 하였고, 2020년 6월에는 GPT-3로 인공지능계에 돌풍\n",
    "- GPT-2는 주어진 텍스트의 다음 단어를 잘 예측할 수 있도록 학습된 언어모델이며 문장 생성에 최적화\n",
    "\n",
    "##### KoGPT2\n",
    "- KoGPT2는 부족한 한국어 성능을 극복하기 위해 40GB 이상의 텍스트로 학습된 한국어 디코더(decoder) 언어모델\n",
    "- 한국어 위키 백과 이외, 뉴스, 모두의 말뭉치 v1.0, 청와대 국민청원 등의 다양한 데이터를 학습시켜 만든 언어모델\n",
    "- 논문 Attention Is All You Need에서 제시한 인코더+디코더 구조에서 인코더 블록을 제거하고 디코더 블록만 사용한 모델"
   ]
  },
  {
   "cell_type": "code",
   "execution_count": null,
   "metadata": {},
   "outputs": [],
   "source": []
  },
  {
   "cell_type": "markdown",
   "metadata": {},
   "source": [
    "#### 한국어 챗봇 Dataset\n",
    "\n",
    "- https://github.com/songys/Chatbot_data 데이터 사용\n",
    "    - 데이터의 Q 필드를 발화, A 필드를 발화 그리고 감정 레이블을 사용\n",
    "    - 감정 레이블은 label에 정의된 일상다반사 0, 이별(부정) 1, 사랑(긍정) 2)를 그대로 적용"
   ]
  },
  {
   "cell_type": "code",
   "execution_count": 3,
   "metadata": {},
   "outputs": [
    {
     "name": "stdout",
     "output_type": "stream",
     "text": [
      "Collecting transformers\n",
      "  Downloading transformers-4.48.1-py3-none-any.whl.metadata (44 kB)\n",
      "     ---------------------------------------- 0.0/44.4 kB ? eta -:--:--\n",
      "     --------- ------------------------------ 10.2/44.4 kB ? eta -:--:--\n",
      "     -------------------------------------- 44.4/44.4 kB 437.8 kB/s eta 0:00:00\n",
      "Requirement already satisfied: filelock in d:\\01_programming\\100_hugobank\\mine\\study-pytorch\\torch-cpu-env\\lib\\site-packages (from transformers) (3.17.0)\n",
      "Collecting huggingface-hub<1.0,>=0.24.0 (from transformers)\n",
      "  Using cached huggingface_hub-0.27.1-py3-none-any.whl.metadata (13 kB)\n",
      "Requirement already satisfied: numpy>=1.17 in d:\\01_programming\\100_hugobank\\mine\\study-pytorch\\torch-cpu-env\\lib\\site-packages (from transformers) (2.2.2)\n",
      "Requirement already satisfied: packaging>=20.0 in d:\\01_programming\\100_hugobank\\mine\\study-pytorch\\torch-cpu-env\\lib\\site-packages (from transformers) (24.2)\n",
      "Requirement already satisfied: pyyaml>=5.1 in d:\\01_programming\\100_hugobank\\mine\\study-pytorch\\torch-cpu-env\\lib\\site-packages (from transformers) (6.0.2)\n",
      "Collecting regex!=2019.12.17 (from transformers)\n",
      "  Using cached regex-2024.11.6-cp311-cp311-win_amd64.whl.metadata (41 kB)\n",
      "Collecting requests (from transformers)\n",
      "  Using cached requests-2.32.3-py3-none-any.whl.metadata (4.6 kB)\n",
      "Collecting tokenizers<0.22,>=0.21 (from transformers)\n",
      "  Using cached tokenizers-0.21.0-cp39-abi3-win_amd64.whl.metadata (6.9 kB)\n",
      "Collecting safetensors>=0.4.1 (from transformers)\n",
      "  Using cached safetensors-0.5.2-cp38-abi3-win_amd64.whl.metadata (3.9 kB)\n",
      "Requirement already satisfied: tqdm>=4.27 in d:\\01_programming\\100_hugobank\\mine\\study-pytorch\\torch-cpu-env\\lib\\site-packages (from transformers) (4.67.1)\n",
      "Requirement already satisfied: fsspec>=2023.5.0 in d:\\01_programming\\100_hugobank\\mine\\study-pytorch\\torch-cpu-env\\lib\\site-packages (from huggingface-hub<1.0,>=0.24.0->transformers) (2024.12.0)\n",
      "Requirement already satisfied: typing-extensions>=3.7.4.3 in d:\\01_programming\\100_hugobank\\mine\\study-pytorch\\torch-cpu-env\\lib\\site-packages (from huggingface-hub<1.0,>=0.24.0->transformers) (4.12.2)\n",
      "Requirement already satisfied: colorama in d:\\01_programming\\100_hugobank\\mine\\study-pytorch\\torch-cpu-env\\lib\\site-packages (from tqdm>=4.27->transformers) (0.4.6)\n",
      "Collecting charset-normalizer<4,>=2 (from requests->transformers)\n",
      "  Using cached charset_normalizer-3.4.1-cp311-cp311-win_amd64.whl.metadata (36 kB)\n",
      "Requirement already satisfied: idna<4,>=2.5 in d:\\01_programming\\100_hugobank\\mine\\study-pytorch\\torch-cpu-env\\lib\\site-packages (from requests->transformers) (3.10)\n",
      "Collecting urllib3<3,>=1.21.1 (from requests->transformers)\n",
      "  Using cached urllib3-2.3.0-py3-none-any.whl.metadata (6.5 kB)\n",
      "Collecting certifi>=2017.4.17 (from requests->transformers)\n",
      "  Using cached certifi-2024.12.14-py3-none-any.whl.metadata (2.3 kB)\n",
      "Downloading transformers-4.48.1-py3-none-any.whl (9.7 MB)\n",
      "   ---------------------------------------- 0.0/9.7 MB ? eta -:--:--\n",
      "   - -------------------------------------- 0.3/9.7 MB 9.6 MB/s eta 0:00:01\n",
      "   --------- ------------------------------ 2.2/9.7 MB 28.5 MB/s eta 0:00:01\n",
      "   --------------------- ------------------ 5.2/9.7 MB 41.6 MB/s eta 0:00:01\n",
      "   -------------------------------- ------- 8.0/9.7 MB 46.3 MB/s eta 0:00:01\n",
      "   ---------------------------------------  9.7/9.7 MB 47.5 MB/s eta 0:00:01\n",
      "   ---------------------------------------- 9.7/9.7 MB 44.1 MB/s eta 0:00:00\n",
      "Using cached huggingface_hub-0.27.1-py3-none-any.whl (450 kB)\n",
      "Using cached regex-2024.11.6-cp311-cp311-win_amd64.whl (274 kB)\n",
      "Using cached safetensors-0.5.2-cp38-abi3-win_amd64.whl (303 kB)\n",
      "Using cached tokenizers-0.21.0-cp39-abi3-win_amd64.whl (2.4 MB)\n",
      "Using cached requests-2.32.3-py3-none-any.whl (64 kB)\n",
      "Using cached certifi-2024.12.14-py3-none-any.whl (164 kB)\n",
      "Using cached charset_normalizer-3.4.1-cp311-cp311-win_amd64.whl (102 kB)\n",
      "Using cached urllib3-2.3.0-py3-none-any.whl (128 kB)\n",
      "Installing collected packages: urllib3, safetensors, regex, charset-normalizer, certifi, requests, huggingface-hub, tokenizers, transformers\n",
      "Successfully installed certifi-2024.12.14 charset-normalizer-3.4.1 huggingface-hub-0.27.1 regex-2024.11.6 requests-2.32.3 safetensors-0.5.2 tokenizers-0.21.0 transformers-4.48.1 urllib3-2.3.0\n"
     ]
    },
    {
     "name": "stderr",
     "output_type": "stream",
     "text": [
      "\n",
      "[notice] A new release of pip is available: 24.0 -> 24.3.1\n",
      "[notice] To update, run: python.exe -m pip install --upgrade pip\n"
     ]
    }
   ],
   "source": [
    "!pip install transformers"
   ]
  },
  {
   "cell_type": "code",
   "execution_count": 4,
   "metadata": {},
   "outputs": [
    {
     "name": "stderr",
     "output_type": "stream",
     "text": [
      "d:\\01_Programming\\100_HugoBank\\Mine\\study-pytorch\\torch-cpu-env\\Lib\\site-packages\\tqdm\\auto.py:21: TqdmWarning: IProgress not found. Please update jupyter and ipywidgets. See https://ipywidgets.readthedocs.io/en/stable/user_install.html\n",
      "  from .autonotebook import tqdm as notebook_tqdm\n"
     ]
    }
   ],
   "source": [
    "import numpy as np\n",
    "import pandas as pd\n",
    "import torch\n",
    "from pytorch_lightning import Trainer\n",
    "from pytorch_lightning.callbacks import ModelCheckpoint\n",
    "from pytorch_lightning.core import LightningModule\n",
    "from torch.utils.data import DataLoader, Dataset\n",
    "from transformers.optimization import AdamW, get_cosine_schedule_with_warmup\n",
    "from transformers import PreTrainedTokenizerFast, GPT2LMHeadModel\n",
    "import re"
   ]
  },
  {
   "cell_type": "markdown",
   "metadata": {},
   "source": [
    "- 챗봇 데이터를 다운로드"
   ]
  },
  {
   "cell_type": "code",
   "execution_count": 8,
   "metadata": {},
   "outputs": [
    {
     "data": {
      "text/html": [
       "<div>\n",
       "<style scoped>\n",
       "    .dataframe tbody tr th:only-of-type {\n",
       "        vertical-align: middle;\n",
       "    }\n",
       "\n",
       "    .dataframe tbody tr th {\n",
       "        vertical-align: top;\n",
       "    }\n",
       "\n",
       "    .dataframe thead th {\n",
       "        text-align: right;\n",
       "    }\n",
       "</style>\n",
       "<table border=\"1\" class=\"dataframe\">\n",
       "  <thead>\n",
       "    <tr style=\"text-align: right;\">\n",
       "      <th></th>\n",
       "      <th>Q</th>\n",
       "      <th>A</th>\n",
       "      <th>label</th>\n",
       "    </tr>\n",
       "  </thead>\n",
       "  <tbody>\n",
       "    <tr>\n",
       "      <th>0</th>\n",
       "      <td>12시 땡!</td>\n",
       "      <td>하루가 또 가네요.</td>\n",
       "      <td>0</td>\n",
       "    </tr>\n",
       "    <tr>\n",
       "      <th>1</th>\n",
       "      <td>1지망 학교 떨어졌어</td>\n",
       "      <td>위로해 드립니다.</td>\n",
       "      <td>0</td>\n",
       "    </tr>\n",
       "    <tr>\n",
       "      <th>2</th>\n",
       "      <td>3박4일 놀러가고 싶다</td>\n",
       "      <td>여행은 언제나 좋죠.</td>\n",
       "      <td>0</td>\n",
       "    </tr>\n",
       "    <tr>\n",
       "      <th>3</th>\n",
       "      <td>3박4일 정도 놀러가고 싶다</td>\n",
       "      <td>여행은 언제나 좋죠.</td>\n",
       "      <td>0</td>\n",
       "    </tr>\n",
       "    <tr>\n",
       "      <th>4</th>\n",
       "      <td>PPL 심하네</td>\n",
       "      <td>눈살이 찌푸려지죠.</td>\n",
       "      <td>0</td>\n",
       "    </tr>\n",
       "  </tbody>\n",
       "</table>\n",
       "</div>"
      ],
      "text/plain": [
       "                 Q            A  label\n",
       "0           12시 땡!   하루가 또 가네요.      0\n",
       "1      1지망 학교 떨어졌어    위로해 드립니다.      0\n",
       "2     3박4일 놀러가고 싶다  여행은 언제나 좋죠.      0\n",
       "3  3박4일 정도 놀러가고 싶다  여행은 언제나 좋죠.      0\n",
       "4          PPL 심하네   눈살이 찌푸려지죠.      0"
      ]
     },
     "execution_count": 8,
     "metadata": {},
     "output_type": "execute_result"
    }
   ],
   "source": [
    "import urllib.request\n",
    "\n",
    "urllib.request.urlretrieve(\n",
    "    \"https://raw.githubusercontent.com/songys/Chatbot_data/master/ChatbotData.csv\",\n",
    "    filename=\"ChatBotData.csv\",\n",
    ")\n",
    "Chatbot_Data = pd.read_csv(\"ChatBotData.csv\")\n",
    "# Test 용으로 300개 데이터만 처리한다.\n",
    "Chatbot_Data = Chatbot_Data[:300]\n",
    "Chatbot_Data.head()"
   ]
  },
  {
   "cell_type": "markdown",
   "metadata": {},
   "source": [
    "- Tokenizer는 모델에 어떠한 입력을 넣어주기 위해서 전처리를 담당\n",
    "    - 허깅페이스의 PreTrainedTokenizer 인 GPT2Tokenizer 를 사용\n",
    "- Tokenizer의 기능\n",
    "    1. Tokenizing : 입력 문자열을 token id로 변환(encoding), token id를 다시 문자열로 변환(decoding)의 기능\n",
    "    2. 기존의 구조(BPE, Sentencepiece 등)에 독립적으로 추가적인 token들을 추가하는 기능\n",
    "    3. Special token들을 (mask, BOS, EOS 등) 관리하는 기능"
   ]
  },
  {
   "cell_type": "code",
   "execution_count": 6,
   "metadata": {},
   "outputs": [],
   "source": [
    "Q_TKN = \"<usr>\"\n",
    "A_TKN = \"<sys>\"\n",
    "BOS = '<s>'\n",
    "EOS = '</s>'\n",
    "MASK = '<unused0>'\n",
    "SENT = '<unused1>'\n",
    "PAD = '<pad>'"
   ]
  },
  {
   "cell_type": "code",
   "execution_count": 7,
   "metadata": {},
   "outputs": [
    {
     "name": "stderr",
     "output_type": "stream",
     "text": [
      "The tokenizer class you load from this checkpoint is not the same type as the class this function is called from. It may result in unexpected tokenization. \n",
      "The tokenizer class you load from this checkpoint is 'GPT2Tokenizer'. \n",
      "The class this function is called from is 'PreTrainedTokenizerFast'.\n",
      "d:\\01_Programming\\100_HugoBank\\Mine\\study-pytorch\\torch-cpu-env\\Lib\\site-packages\\huggingface_hub\\file_download.py:140: UserWarning: `huggingface_hub` cache-system uses symlinks by default to efficiently store duplicated files but your machine does not support them in C:\\Users\\perso\\.cache\\huggingface\\hub\\models--skt--kogpt2-base-v2. Caching files will still work but in a degraded version that might require more space on your disk. This warning can be disabled by setting the `HF_HUB_DISABLE_SYMLINKS_WARNING` environment variable. For more details, see https://huggingface.co/docs/huggingface_hub/how-to-cache#limitations.\n",
      "To support symlinks on Windows, you either need to activate Developer Mode or to run Python as an administrator. In order to activate developer mode, see this article: https://docs.microsoft.com/en-us/windows/apps/get-started/enable-your-device-for-development\n",
      "  warnings.warn(message)\n"
     ]
    }
   ],
   "source": [
    "koGPT2_TOKENIZER = PreTrainedTokenizerFast.from_pretrained(\"skt/kogpt2-base-v2\",\n",
    "            bos_token=BOS, eos_token=EOS, unk_token='<unk>',\n",
    "            pad_token=PAD, mask_token=MASK) \n",
    "model = GPT2LMHeadModel.from_pretrained('skt/kogpt2-base-v2')"
   ]
  },
  {
   "cell_type": "markdown",
   "metadata": {},
   "source": [
    "- 파라미터 의미\n",
    "    - bos_token : 문장의 시작을 나타내는 token\n",
    "    - eos_token : 문장의 끝을 나타내는 token\n",
    "    - unk_token : 모르는 단어를 나타내는 token\n",
    "    - pad_token : 동일한 batch 내에서 입력의 크기를 동일하게 하기 위해서 사용해는 token\n",
    "\n",
    "    "
   ]
  },
  {
   "cell_type": "markdown",
   "metadata": {},
   "source": [
    "- PreTrainedTokenizer 에서 제공되는 함수\n",
    "    - tokenize() : tokenizer를 이용해서 string을 token id의 리스트로 변환\n",
    "    - get_added_vocab() : token to index에 해당하는 dict를 리턴\n",
    "    - batch_decode() : token id로 구성된 입력을 하나의 연결된 string으로 출력\n",
    "    - convert_ids_to_tokens() : token id 의 리스트를 token으로 변환. skip_special_tokens=True로 하면 decoding할 때 special token들을 제거\n",
    "    - convert_tokens_to_ids() : token string의 리스트를 token id 또는 Token id의 리스트로 변환\n",
    "    - decode() : tokenizer 와 vocabulary를 이용해서 token id를 string으로 변환. skip_special_token=True로 지정하면 speical token들을 제외\n",
    "    - encode() : token string을 token id 의 리스트로 변환. add_special_tokens=False로 지정하면 token id로 변환할 때 special token들을 제외\n",
    "        - padding을 통해서 padding token을 어떻게 추가할지 지정가능"
   ]
  },
  {
   "cell_type": "markdown",
   "metadata": {},
   "source": [
    "- Dataset을 정의"
   ]
  },
  {
   "cell_type": "code",
   "execution_count": 9,
   "metadata": {},
   "outputs": [],
   "source": [
    "# 챗봇 데이터를 처리하는 클래스를 만든다.\n",
    "class ChatbotDataset(Dataset):\n",
    "    def __init__(self, chats, max_len=40):  # 데이터셋의 전처리를 해주는 부분\n",
    "        self._data = chats\n",
    "        self.max_len = max_len\n",
    "        self.q_token = Q_TKN\n",
    "        self.a_token = A_TKN\n",
    "        self.sent_token = SENT\n",
    "        self.eos = EOS\n",
    "        self.mask = MASK\n",
    "        self.tokenizer = koGPT2_TOKENIZER\n",
    "\n",
    "    def __len__(self):  # chatbotdata 의 길이를 리턴한다.\n",
    "        return len(self._data)\n",
    "\n",
    "    def __getitem__(self, idx):  # 로드한 챗봇 데이터를 차례차례 DataLoader로 넘겨주는 메서드\n",
    "        turn = self._data.iloc[idx]\n",
    "        q = turn[\"Q\"]  # 질문을 가져온다.\n",
    "        q = re.sub(r\"([?.!,])\", r\" \", q)  # 구둣점들을 제거한다.\n",
    "\n",
    "        a = turn[\"A\"]  # 답변을 가져온다.\n",
    "        a = re.sub(r\"([?.!,])\", r\" \", a)  # 구둣점들을 제거한다.\n",
    "\n",
    "        q_toked = self.tokenizer.tokenize(self.q_token + q + self.sent_token)\n",
    "        q_len = len(q_toked)\n",
    "\n",
    "        a_toked = self.tokenizer.tokenize(self.a_token + a + self.eos)\n",
    "        a_len = len(a_toked)\n",
    "\n",
    "        #질문의 길이가 최대길이보다 크면\n",
    "        if q_len > self.max_len:\n",
    "            a_len = self.max_len - q_len        #답변의 길이를 최대길이 - 질문길이\n",
    "            if a_len <= 0:       #질문의 길이가 너무 길어 질문만으로 최대 길이를 초과 한다면\n",
    "                q_toked = q_toked[-(int(self.max_len / 2)) :]   #질문길이를 최대길이의 반으로 \n",
    "                q_len = len(q_toked)\n",
    "                a_len = self.max_len - q_len              #답변의 길이를 최대길이 - 질문길이\n",
    "            a_toked = a_toked[:a_len]\n",
    "            a_len = len(a_toked)\n",
    "\n",
    "        #질문의 길이 + 답변의 길이가 최대길이보다 크면\n",
    "        if q_len + a_len > self.max_len:\n",
    "            a_len = self.max_len - q_len        #답변의 길이를 최대길이 - 질문길이\n",
    "            if a_len <= 0:       #질문의 길이가 너무 길어 질문만으로 최대 길이를 초과 한다면\n",
    "                q_toked = q_toked[-(int(self.max_len / 2)) :]   #질문길이를 최대길이의 반으로 \n",
    "                q_len = len(q_toked)\n",
    "                a_len = self.max_len - q_len              #답변의 길이를 최대길이 - 질문길이\n",
    "            a_toked = a_toked[:a_len]\n",
    "            a_len = len(a_toked)\n",
    "\n",
    "        # 답변 labels = [mask, mask, ...., mask, ..., <bos>,..답변.. <eos>, <pad>....]\n",
    "        labels = [self.mask,] * q_len + a_toked[1:]\n",
    "\n",
    "        # mask = 질문길이 0 + 답변길이 1 + 나머지 0\n",
    "        mask = [0] * q_len + [1] * a_len + [0] * (self.max_len - q_len - a_len)\n",
    "        # 답변 labels을 index 로 만든다.\n",
    "        labels_ids = self.tokenizer.convert_tokens_to_ids(labels)\n",
    "        # 최대길이만큼 PADDING\n",
    "        while len(labels_ids) < self.max_len:\n",
    "            labels_ids += [self.tokenizer.pad_token_id]\n",
    "\n",
    "        # 질문 + 답변을 index 로 만든다.    \n",
    "        token_ids = self.tokenizer.convert_tokens_to_ids(q_toked + a_toked)\n",
    "        # 최대길이만큼 PADDING\n",
    "        while len(token_ids) < self.max_len:\n",
    "            token_ids += [self.tokenizer.pad_token_id]\n",
    "\n",
    "        #질문+답변, 마스크, 답변\n",
    "        return (token_ids, np.array(mask), labels_ids)"
   ]
  },
  {
   "cell_type": "markdown",
   "metadata": {},
   "source": [
    "- 배치 데이터를 만들기 위해 collate_batch 함수를 정의"
   ]
  },
  {
   "cell_type": "code",
   "execution_count": 10,
   "metadata": {},
   "outputs": [],
   "source": [
    "def collate_batch(batch):\n",
    "    data = [item[0] for item in batch]\n",
    "    mask = [item[1] for item in batch]\n",
    "    label = [item[2] for item in batch]\n",
    "    return torch.LongTensor(data), torch.LongTensor(mask), torch.LongTensor(label)\n"
   ]
  },
  {
   "cell_type": "markdown",
   "metadata": {},
   "source": [
    "- Dataset 과 DataLoader를 정의"
   ]
  },
  {
   "cell_type": "code",
   "execution_count": 11,
   "metadata": {},
   "outputs": [],
   "source": [
    "train_set = ChatbotDataset(Chatbot_Data, max_len=40)\n",
    "\n",
    "#윈도우 환경에서 num_workers 는 무조건 0으로 지정, 리눅스에서는 2\n",
    "train_dataloader = DataLoader(train_set, batch_size=32, num_workers=0, shuffle=True, collate_fn=collate_batch,)\n"
   ]
  },
  {
   "cell_type": "markdown",
   "metadata": {},
   "source": [
    "- 데이터로더를 사용하여 테스트 데이터를 생성"
   ]
  },
  {
   "cell_type": "code",
   "execution_count": 12,
   "metadata": {},
   "outputs": [
    {
     "name": "stdout",
     "output_type": "stream",
     "text": [
      "start\n",
      "token_ids ====>  tensor([[    2, 10715, 18338,  ...,     3,     3,     3],\n",
      "        [    2, 48397,  8711,  ...,     3,     3,     3],\n",
      "        [    2, 17542, 12668,  ...,     3,     3,     3],\n",
      "        ...,\n",
      "        [    2, 18504, 20980,  ...,     3,     3,     3],\n",
      "        [    2, 10715,  9511,  ...,     3,     3,     3],\n",
      "        [    2, 10514,  7235,  ...,     3,     3,     3]])\n",
      "mask =====>  tensor([[0, 0, 0,  ..., 0, 0, 0],\n",
      "        [0, 0, 0,  ..., 0, 0, 0],\n",
      "        [0, 0, 0,  ..., 0, 0, 0],\n",
      "        ...,\n",
      "        [0, 0, 0,  ..., 0, 0, 0],\n",
      "        [0, 0, 0,  ..., 0, 0, 0],\n",
      "        [0, 0, 0,  ..., 0, 0, 0]])\n",
      "label =====>  tensor([[9, 9, 9,  ..., 3, 3, 3],\n",
      "        [9, 9, 9,  ..., 3, 3, 3],\n",
      "        [9, 9, 9,  ..., 3, 3, 3],\n",
      "        ...,\n",
      "        [9, 9, 9,  ..., 3, 3, 3],\n",
      "        [9, 9, 9,  ..., 3, 3, 3],\n",
      "        [9, 9, 9,  ..., 3, 3, 3]])\n",
      "token_ids ====>  tensor([[    2,  9815, 37655,  ...,     3,     3,     3],\n",
      "        [    2, 10411, 39558,  ...,     3,     3,     3],\n",
      "        [    2,  9067,  8791,  ...,     3,     3,     3],\n",
      "        ...,\n",
      "        [    2, 20509,  7847,  ...,     3,     3,     3],\n",
      "        [    2, 41671,  9070,  ...,     3,     3,     3],\n",
      "        [    2,  9086,  6835,  ...,     3,     3,     3]])\n",
      "mask =====>  tensor([[0, 0, 0,  ..., 0, 0, 0],\n",
      "        [0, 0, 0,  ..., 0, 0, 0],\n",
      "        [0, 0, 0,  ..., 0, 0, 0],\n",
      "        ...,\n",
      "        [0, 0, 0,  ..., 0, 0, 0],\n",
      "        [0, 0, 0,  ..., 0, 0, 0],\n",
      "        [0, 0, 0,  ..., 0, 0, 0]])\n",
      "label =====>  tensor([[9, 9, 9,  ..., 3, 3, 3],\n",
      "        [9, 9, 9,  ..., 3, 3, 3],\n",
      "        [9, 9, 9,  ..., 3, 3, 3],\n",
      "        ...,\n",
      "        [9, 9, 9,  ..., 3, 3, 3],\n",
      "        [9, 9, 9,  ..., 3, 3, 3],\n",
      "        [9, 9, 9,  ..., 3, 3, 3]])\n",
      "token_ids ====>  tensor([[    2, 17230, 17429,  ...,     3,     3,     3],\n",
      "        [    2, 21435, 11903,  ...,     3,     3,     3],\n",
      "        [    2,  9067, 10101,  ...,     3,     3,     3],\n",
      "        ...,\n",
      "        [    2, 17542, 49932,  ...,     3,     3,     3],\n",
      "        [    2,  9067,  7653,  ...,     3,     3,     3],\n",
      "        [    2, 15983,  7692,  ...,     3,     3,     3]])\n",
      "mask =====>  tensor([[0, 0, 0,  ..., 0, 0, 0],\n",
      "        [0, 0, 0,  ..., 0, 0, 0],\n",
      "        [0, 0, 0,  ..., 0, 0, 0],\n",
      "        ...,\n",
      "        [0, 0, 0,  ..., 0, 0, 0],\n",
      "        [0, 0, 0,  ..., 0, 0, 0],\n",
      "        [0, 0, 0,  ..., 0, 0, 0]])\n",
      "label =====>  tensor([[9, 9, 9,  ..., 3, 3, 3],\n",
      "        [9, 9, 9,  ..., 3, 3, 3],\n",
      "        [9, 9, 9,  ..., 3, 3, 3],\n",
      "        ...,\n",
      "        [9, 9, 9,  ..., 3, 3, 3],\n",
      "        [9, 9, 9,  ..., 3, 3, 3],\n",
      "        [9, 9, 9,  ..., 3, 3, 3]])\n",
      "token_ids ====>  tensor([[    2, 19787, 15495,  ...,     3,     3,     3],\n",
      "        [    2,  9904,  6903,  ...,     3,     3,     3],\n",
      "        [    2,  9065,   394,  ...,     3,     3,     3],\n",
      "        ...,\n",
      "        [    2,  9065, 36562,  ...,     3,     3,     3],\n",
      "        [    2, 31279, 11732,  ...,     3,     3,     3],\n",
      "        [    2, 15594,  8344,  ...,     3,     3,     3]])\n",
      "mask =====>  tensor([[0, 0, 0,  ..., 0, 0, 0],\n",
      "        [0, 0, 0,  ..., 0, 0, 0],\n",
      "        [0, 0, 0,  ..., 0, 0, 0],\n",
      "        ...,\n",
      "        [0, 0, 0,  ..., 0, 0, 0],\n",
      "        [0, 0, 0,  ..., 0, 0, 0],\n",
      "        [0, 0, 0,  ..., 0, 0, 0]])\n",
      "label =====>  tensor([[9, 9, 9,  ..., 3, 3, 3],\n",
      "        [9, 9, 9,  ..., 3, 3, 3],\n",
      "        [9, 9, 9,  ..., 3, 3, 3],\n",
      "        ...,\n",
      "        [9, 9, 9,  ..., 3, 3, 3],\n",
      "        [9, 9, 9,  ..., 3, 3, 3],\n",
      "        [9, 9, 9,  ..., 3, 3, 3]])\n",
      "token_ids ====>  tensor([[    2, 11204, 10056,  ...,     3,     3,     3],\n",
      "        [    2,  9779,  9337,  ...,     3,     3,     3],\n",
      "        [    2, 21435, 10973,  ...,     3,     3,     3],\n",
      "        ...,\n",
      "        [    2, 17542, 16353,  ...,     3,     3,     3],\n",
      "        [    2, 18351, 15413,  ...,     3,     3,     3],\n",
      "        [    2, 10456,  7162,  ...,     3,     3,     3]])\n",
      "mask =====>  tensor([[0, 0, 0,  ..., 0, 0, 0],\n",
      "        [0, 0, 0,  ..., 0, 0, 0],\n",
      "        [0, 0, 0,  ..., 0, 0, 0],\n",
      "        ...,\n",
      "        [0, 0, 0,  ..., 0, 0, 0],\n",
      "        [0, 0, 0,  ..., 0, 0, 0],\n",
      "        [0, 0, 0,  ..., 0, 0, 0]])\n",
      "label =====>  tensor([[9, 9, 9,  ..., 3, 3, 3],\n",
      "        [9, 9, 9,  ..., 3, 3, 3],\n",
      "        [9, 9, 9,  ..., 3, 3, 3],\n",
      "        ...,\n",
      "        [9, 9, 9,  ..., 3, 3, 3],\n",
      "        [9, 9, 9,  ..., 3, 3, 3],\n",
      "        [9, 9, 9,  ..., 3, 3, 3]])\n",
      "token_ids ====>  tensor([[    2, 22257, 22692,  ...,     3,     3,     3],\n",
      "        [    2,  9779, 10624,  ...,     3,     3,     3],\n",
      "        [    2, 10715,  9511,  ...,     3,     3,     3],\n",
      "        ...,\n",
      "        [    2, 13617, 11689,  ...,     3,     3,     3],\n",
      "        [    2, 32717, 24692,  ...,     3,     3,     3],\n",
      "        [    2, 19319, 46651,  ...,     3,     3,     3]])\n",
      "mask =====>  tensor([[0, 0, 0,  ..., 0, 0, 0],\n",
      "        [0, 0, 0,  ..., 0, 0, 0],\n",
      "        [0, 0, 0,  ..., 0, 0, 0],\n",
      "        ...,\n",
      "        [0, 0, 0,  ..., 0, 0, 0],\n",
      "        [0, 0, 0,  ..., 0, 0, 0],\n",
      "        [0, 0, 0,  ..., 0, 0, 0]])\n",
      "label =====>  tensor([[9, 9, 9,  ..., 3, 3, 3],\n",
      "        [9, 9, 9,  ..., 3, 3, 3],\n",
      "        [9, 9, 9,  ..., 3, 3, 3],\n",
      "        ...,\n",
      "        [9, 9, 9,  ..., 3, 3, 3],\n",
      "        [9, 9, 9,  ..., 3, 3, 3],\n",
      "        [9, 9, 9,  ..., 3, 3, 3]])\n",
      "token_ids ====>  tensor([[    2,  9349,  7888,  ...,     3,     3,     3],\n",
      "        [    2, 20826,  8104,  ...,     3,     3,     3],\n",
      "        [    2, 15983,  7692,  ...,     3,     3,     3],\n",
      "        ...,\n",
      "        [    2,  9716, 11018,  ...,     3,     3,     3],\n",
      "        [    2, 10715,  9685,  ...,     3,     3,     3],\n",
      "        [    2, 11898, 11732,  ...,     3,     3,     3]])\n",
      "mask =====>  tensor([[0, 0, 0,  ..., 0, 0, 0],\n",
      "        [0, 0, 0,  ..., 0, 0, 0],\n",
      "        [0, 0, 0,  ..., 0, 0, 0],\n",
      "        ...,\n",
      "        [0, 0, 0,  ..., 0, 0, 0],\n",
      "        [0, 0, 0,  ..., 0, 0, 0],\n",
      "        [0, 0, 0,  ..., 0, 0, 0]])\n",
      "label =====>  tensor([[9, 9, 9,  ..., 3, 3, 3],\n",
      "        [9, 9, 9,  ..., 3, 3, 3],\n",
      "        [9, 9, 9,  ..., 3, 3, 3],\n",
      "        ...,\n",
      "        [9, 9, 9,  ..., 3, 3, 3],\n",
      "        [9, 9, 9,  ..., 3, 3, 3],\n",
      "        [9, 9, 9,  ..., 3, 3, 3]])\n",
      "token_ids ====>  tensor([[    2, 20509,  7847,  ...,     3,     3,     3],\n",
      "        [    2, 44409,  7312,  ...,     3,     3,     3],\n",
      "        [    2, 20826,  8104,  ...,     3,     3,     3],\n",
      "        ...,\n",
      "        [    2, 23869, 23697,  ...,     3,     3,     3],\n",
      "        [    2, 20509,  7847,  ...,     3,     3,     3],\n",
      "        [    2,  9226, 20725,  ...,     3,     3,     3]])\n",
      "mask =====>  tensor([[0, 0, 0,  ..., 0, 0, 0],\n",
      "        [0, 0, 0,  ..., 0, 0, 0],\n",
      "        [0, 0, 0,  ..., 0, 0, 0],\n",
      "        ...,\n",
      "        [0, 0, 0,  ..., 0, 0, 0],\n",
      "        [0, 0, 0,  ..., 0, 0, 0],\n",
      "        [0, 0, 0,  ..., 0, 0, 0]])\n",
      "label =====>  tensor([[9, 9, 9,  ..., 3, 3, 3],\n",
      "        [9, 9, 9,  ..., 3, 3, 3],\n",
      "        [9, 9, 9,  ..., 3, 3, 3],\n",
      "        ...,\n",
      "        [9, 9, 9,  ..., 3, 3, 3],\n",
      "        [9, 9, 9,  ..., 3, 3, 3],\n",
      "        [9, 9, 9,  ..., 3, 3, 3]])\n",
      "token_ids ====>  tensor([[    2, 18351,  7492,  ...,     3,     3,     3],\n",
      "        [    2,  9086,  8223,  ...,     3,     3,     3],\n",
      "        [    2,   739,     5,  ...,     3,     3,     3],\n",
      "        ...,\n",
      "        [    2, 11342,  6858,  ...,     3,     3,     3],\n",
      "        [    2, 13016,  8702,  ...,     3,     3,     3],\n",
      "        [    2, 10715,  9511,  ...,     3,     3,     3]])\n",
      "mask =====>  tensor([[0, 0, 0,  ..., 0, 0, 0],\n",
      "        [0, 0, 0,  ..., 0, 0, 0],\n",
      "        [0, 0, 0,  ..., 0, 0, 0],\n",
      "        ...,\n",
      "        [0, 0, 0,  ..., 0, 0, 0],\n",
      "        [0, 0, 0,  ..., 0, 0, 0],\n",
      "        [0, 0, 0,  ..., 0, 0, 0]])\n",
      "label =====>  tensor([[9, 9, 9,  ..., 3, 3, 3],\n",
      "        [9, 9, 9,  ..., 3, 3, 3],\n",
      "        [9, 9, 9,  ..., 3, 3, 3],\n",
      "        ...,\n",
      "        [9, 9, 9,  ..., 3, 3, 3],\n",
      "        [9, 9, 9,  ..., 3, 3, 3],\n",
      "        [9, 9, 9,  ..., 3, 3, 3]])\n",
      "token_ids ====>  tensor([[    2, 10456,  7162, 49561, 11492,    10,     4, 10070,  8146,  9861,\n",
      "          8702,  8234,   739,     1,     3,     3,     3,     3,     3,     3,\n",
      "             3,     3,     3,     3,     3,     3,     3,     3,     3,     3,\n",
      "             3,     3,     3,     3,     3,     3,     3,     3,     3,     3],\n",
      "        [    2,  9099,  7652, 27927, 12583,  8006,    10,     4, 23100, 21833,\n",
      "         13216,  9443, 10345,  7652,  7801,  8084,   739,     1,     3,     3,\n",
      "             3,     3,     3,     3,     3,     3,     3,     3,     3,     3,\n",
      "             3,     3,     3,     3,     3,     3,     3,     3,     3,     3],\n",
      "        [    2, 15983,  7673, 24648, 15010, 10926,  6853, 27511,    10,     4,\n",
      "         16173, 15582, 46439, 35557,  6889, 12252,  7801,  8084,   739,     1,\n",
      "             3,     3,     3,     3,     3,     3,     3,     3,     3,     3,\n",
      "             3,     3,     3,     3,     3,     3,     3,     3,     3,     3],\n",
      "        [    2, 31100, 21300, 10811,    10,     4, 11018,  9511,  9267,  9366,\n",
      "         45414,  9337,  9025,  9019,  8234,   739,     1,     3,     3,     3,\n",
      "             3,     3,     3,     3,     3,     3,     3,     3,     3,     3,\n",
      "             3,     3,     3,     3,     3,     3,     3,     3,     3,     3],\n",
      "        [    2,  9716, 32295, 13530, 34019,  8550,  7220,    10,     4,  9127,\n",
      "         14367,  9338, 27586,  8084,   739,     1,     3,     3,     3,     3,\n",
      "             3,     3,     3,     3,     3,     3,     3,     3,     3,     3,\n",
      "             3,     3,     3,     3,     3,     3,     3,     3,     3,     3],\n",
      "        [    2, 26856, 38382,    10,     4, 23444,  9025, 13950,  9301,  8702,\n",
      "          7801,  8084,   739,     1,     3,     3,     3,     3,     3,     3,\n",
      "             3,     3,     3,     3,     3,     3,     3,     3,     3,     3,\n",
      "             3,     3,     3,     3,     3,     3,     3,     3,     3,     3],\n",
      "        [    2,  9226, 20486, 32104,  9044,    10,     4, 14665,  8552,  8718,\n",
      "          6962, 13158,  8084,   739,     1,     3,     3,     3,     3,     3,\n",
      "             3,     3,     3,     3,     3,     3,     3,     3,     3,     3,\n",
      "             3,     3,     3,     3,     3,     3,     3,     3,     3,     3],\n",
      "        [    2,  9244,  9135, 29975, 15495, 13358,  7182,   739,    10,     4,\n",
      "         11355, 18479,  9535,  7801,  8084,   739,     1,     3,     3,     3,\n",
      "             3,     3,     3,     3,     3,     3,     3,     3,     3,     3,\n",
      "             3,     3,     3,     3,     3,     3,     3,     3,     3,     3],\n",
      "        [    2, 10464, 25854, 13375,  8263,    10,     4,  9267, 25772,  8267,\n",
      "         25012,  9069,  6872,  7098,  8084,   739,     1,     3,     3,     3,\n",
      "             3,     3,     3,     3,     3,     3,     3,     3,     3,     3,\n",
      "             3,     3,     3,     3,     3,     3,     3,     3,     3,     3],\n",
      "        [    2, 10715, 11469, 10855, 15570,  9625,  6969,    10,     4, 12160,\n",
      "         23142,  9161, 28024, 15106,  8149,  9122,  8046,  8084,   739,     1,\n",
      "             3,     3,     3,     3,     3,     3,     3,     3,     3,     3,\n",
      "             3,     3,     3,     3,     3,     3,     3,     3,     3,     3],\n",
      "        [    2, 29524, 40689,  8570,  9582, 19896,  7497,  8265,  8344, 22882,\n",
      "            10,     4, 13548,  9267, 10270, 15084,  7801,  8084,   739,     1,\n",
      "             3,     3,     3,     3,     3,     3,     3,     3,     3,     3,\n",
      "             3,     3,     3,     3,     3,     3,     3,     3,     3,     3],\n",
      "        [    2, 11342, 16173, 12057,  9685,  8263,    10,     4, 27284, 23879,\n",
      "         31759, 15122,  9861,  8711,  8084,   739,     1,     3,     3,     3,\n",
      "             3,     3,     3,     3,     3,     3,     3,     3,     3,     3,\n",
      "             3,     3,     3,     3,     3,     3,     3,     3,     3,     3]])\n",
      "mask =====>  tensor([[0, 0, 0, 0, 0, 0, 1, 1, 1, 1, 1, 1, 1, 1, 0, 0, 0, 0, 0, 0, 0, 0, 0, 0,\n",
      "         0, 0, 0, 0, 0, 0, 0, 0, 0, 0, 0, 0, 0, 0, 0, 0],\n",
      "        [0, 0, 0, 0, 0, 0, 0, 1, 1, 1, 1, 1, 1, 1, 1, 1, 1, 1, 0, 0, 0, 0, 0, 0,\n",
      "         0, 0, 0, 0, 0, 0, 0, 0, 0, 0, 0, 0, 0, 0, 0, 0],\n",
      "        [0, 0, 0, 0, 0, 0, 0, 0, 0, 1, 1, 1, 1, 1, 1, 1, 1, 1, 1, 1, 0, 0, 0, 0,\n",
      "         0, 0, 0, 0, 0, 0, 0, 0, 0, 0, 0, 0, 0, 0, 0, 0],\n",
      "        [0, 0, 0, 0, 0, 1, 1, 1, 1, 1, 1, 1, 1, 1, 1, 1, 1, 0, 0, 0, 0, 0, 0, 0,\n",
      "         0, 0, 0, 0, 0, 0, 0, 0, 0, 0, 0, 0, 0, 0, 0, 0],\n",
      "        [0, 0, 0, 0, 0, 0, 0, 0, 1, 1, 1, 1, 1, 1, 1, 1, 0, 0, 0, 0, 0, 0, 0, 0,\n",
      "         0, 0, 0, 0, 0, 0, 0, 0, 0, 0, 0, 0, 0, 0, 0, 0],\n",
      "        [0, 0, 0, 0, 1, 1, 1, 1, 1, 1, 1, 1, 1, 1, 0, 0, 0, 0, 0, 0, 0, 0, 0, 0,\n",
      "         0, 0, 0, 0, 0, 0, 0, 0, 0, 0, 0, 0, 0, 0, 0, 0],\n",
      "        [0, 0, 0, 0, 0, 0, 1, 1, 1, 1, 1, 1, 1, 1, 1, 0, 0, 0, 0, 0, 0, 0, 0, 0,\n",
      "         0, 0, 0, 0, 0, 0, 0, 0, 0, 0, 0, 0, 0, 0, 0, 0],\n",
      "        [0, 0, 0, 0, 0, 0, 0, 0, 0, 1, 1, 1, 1, 1, 1, 1, 1, 0, 0, 0, 0, 0, 0, 0,\n",
      "         0, 0, 0, 0, 0, 0, 0, 0, 0, 0, 0, 0, 0, 0, 0, 0],\n",
      "        [0, 0, 0, 0, 0, 0, 1, 1, 1, 1, 1, 1, 1, 1, 1, 1, 1, 0, 0, 0, 0, 0, 0, 0,\n",
      "         0, 0, 0, 0, 0, 0, 0, 0, 0, 0, 0, 0, 0, 0, 0, 0],\n",
      "        [0, 0, 0, 0, 0, 0, 0, 0, 1, 1, 1, 1, 1, 1, 1, 1, 1, 1, 1, 1, 0, 0, 0, 0,\n",
      "         0, 0, 0, 0, 0, 0, 0, 0, 0, 0, 0, 0, 0, 0, 0, 0],\n",
      "        [0, 0, 0, 0, 0, 0, 0, 0, 0, 0, 0, 1, 1, 1, 1, 1, 1, 1, 1, 1, 0, 0, 0, 0,\n",
      "         0, 0, 0, 0, 0, 0, 0, 0, 0, 0, 0, 0, 0, 0, 0, 0],\n",
      "        [0, 0, 0, 0, 0, 0, 0, 1, 1, 1, 1, 1, 1, 1, 1, 1, 1, 0, 0, 0, 0, 0, 0, 0,\n",
      "         0, 0, 0, 0, 0, 0, 0, 0, 0, 0, 0, 0, 0, 0, 0, 0]])\n",
      "label =====>  tensor([[    9,     9,     9,     9,     9,     9, 10070,  8146,  9861,  8702,\n",
      "          8234,   739,     1,     3,     3,     3,     3,     3,     3,     3,\n",
      "             3,     3,     3,     3,     3,     3,     3,     3,     3,     3,\n",
      "             3,     3,     3,     3,     3,     3,     3,     3,     3,     3],\n",
      "        [    9,     9,     9,     9,     9,     9,     9, 23100, 21833, 13216,\n",
      "          9443, 10345,  7652,  7801,  8084,   739,     1,     3,     3,     3,\n",
      "             3,     3,     3,     3,     3,     3,     3,     3,     3,     3,\n",
      "             3,     3,     3,     3,     3,     3,     3,     3,     3,     3],\n",
      "        [    9,     9,     9,     9,     9,     9,     9,     9,     9, 16173,\n",
      "         15582, 46439, 35557,  6889, 12252,  7801,  8084,   739,     1,     3,\n",
      "             3,     3,     3,     3,     3,     3,     3,     3,     3,     3,\n",
      "             3,     3,     3,     3,     3,     3,     3,     3,     3,     3],\n",
      "        [    9,     9,     9,     9,     9, 11018,  9511,  9267,  9366, 45414,\n",
      "          9337,  9025,  9019,  8234,   739,     1,     3,     3,     3,     3,\n",
      "             3,     3,     3,     3,     3,     3,     3,     3,     3,     3,\n",
      "             3,     3,     3,     3,     3,     3,     3,     3,     3,     3],\n",
      "        [    9,     9,     9,     9,     9,     9,     9,     9,  9127, 14367,\n",
      "          9338, 27586,  8084,   739,     1,     3,     3,     3,     3,     3,\n",
      "             3,     3,     3,     3,     3,     3,     3,     3,     3,     3,\n",
      "             3,     3,     3,     3,     3,     3,     3,     3,     3,     3],\n",
      "        [    9,     9,     9,     9, 23444,  9025, 13950,  9301,  8702,  7801,\n",
      "          8084,   739,     1,     3,     3,     3,     3,     3,     3,     3,\n",
      "             3,     3,     3,     3,     3,     3,     3,     3,     3,     3,\n",
      "             3,     3,     3,     3,     3,     3,     3,     3,     3,     3],\n",
      "        [    9,     9,     9,     9,     9,     9, 14665,  8552,  8718,  6962,\n",
      "         13158,  8084,   739,     1,     3,     3,     3,     3,     3,     3,\n",
      "             3,     3,     3,     3,     3,     3,     3,     3,     3,     3,\n",
      "             3,     3,     3,     3,     3,     3,     3,     3,     3,     3],\n",
      "        [    9,     9,     9,     9,     9,     9,     9,     9,     9, 11355,\n",
      "         18479,  9535,  7801,  8084,   739,     1,     3,     3,     3,     3,\n",
      "             3,     3,     3,     3,     3,     3,     3,     3,     3,     3,\n",
      "             3,     3,     3,     3,     3,     3,     3,     3,     3,     3],\n",
      "        [    9,     9,     9,     9,     9,     9,  9267, 25772,  8267, 25012,\n",
      "          9069,  6872,  7098,  8084,   739,     1,     3,     3,     3,     3,\n",
      "             3,     3,     3,     3,     3,     3,     3,     3,     3,     3,\n",
      "             3,     3,     3,     3,     3,     3,     3,     3,     3,     3],\n",
      "        [    9,     9,     9,     9,     9,     9,     9,     9, 12160, 23142,\n",
      "          9161, 28024, 15106,  8149,  9122,  8046,  8084,   739,     1,     3,\n",
      "             3,     3,     3,     3,     3,     3,     3,     3,     3,     3,\n",
      "             3,     3,     3,     3,     3,     3,     3,     3,     3,     3],\n",
      "        [    9,     9,     9,     9,     9,     9,     9,     9,     9,     9,\n",
      "             9, 13548,  9267, 10270, 15084,  7801,  8084,   739,     1,     3,\n",
      "             3,     3,     3,     3,     3,     3,     3,     3,     3,     3,\n",
      "             3,     3,     3,     3,     3,     3,     3,     3,     3,     3],\n",
      "        [    9,     9,     9,     9,     9,     9,     9, 27284, 23879, 31759,\n",
      "         15122,  9861,  8711,  8084,   739,     1,     3,     3,     3,     3,\n",
      "             3,     3,     3,     3,     3,     3,     3,     3,     3,     3,\n",
      "             3,     3,     3,     3,     3,     3,     3,     3,     3,     3]])\n",
      "end\n"
     ]
    },
    {
     "name": "stderr",
     "output_type": "stream",
     "text": [
      "C:\\Users\\perso\\AppData\\Local\\Temp\\ipykernel_33284\\4135955700.py:5: UserWarning: Creating a tensor from a list of numpy.ndarrays is extremely slow. Please consider converting the list to a single numpy.ndarray with numpy.array() before converting to a tensor. (Triggered internally at C:\\actions-runner\\_work\\pytorch\\pytorch\\builder\\windows\\pytorch\\torch\\csrc\\utils\\tensor_new.cpp:281.)\n",
      "  return torch.LongTensor(data), torch.LongTensor(mask), torch.LongTensor(label)\n"
     ]
    }
   ],
   "source": [
    "print(\"start\")\n",
    "for batch_idx, samples in enumerate(train_dataloader):\n",
    "    token_ids, mask, label = samples\n",
    "    print(\"token_ids ====> \", token_ids)\n",
    "    print(\"mask =====> \", mask)\n",
    "    print(\"label =====> \", label)\n",
    "print(\"end\")"
   ]
  },
  {
   "cell_type": "markdown",
   "metadata": {},
   "source": [
    "#### 몇가지 PyTorch 함수\n",
    "\n",
    "##### torch.repeat_interleave\n",
    "\n",
    "- torch.repeat_interleave(input, repeats, dim=None, *, output_size=None)\n",
    "- tensor의 element들을 반복. 즉 텐서를 반복 횟수만큼 복제.\n",
    "\n",
    "- Parameters\n",
    "    - input ( Tensor ) – 입력 텐서\n",
    "    - repeats ( Tensor 또는 int ) – 각 요소의 반복 횟수\n",
    "    - dim ( int , optional ) – 값을 반복 할 차원\n"
   ]
  },
  {
   "cell_type": "code",
   "execution_count": 13,
   "metadata": {},
   "outputs": [
    {
     "data": {
      "text/plain": [
       "tensor([1, 1, 2, 2, 3, 3])"
      ]
     },
     "execution_count": 13,
     "metadata": {},
     "output_type": "execute_result"
    }
   ],
   "source": [
    "x = torch.tensor([1, 2, 3])\n",
    "x.repeat_interleave(2)     # x 덴서를 2번 반복합니다."
   ]
  },
  {
   "cell_type": "code",
   "execution_count": 14,
   "metadata": {},
   "outputs": [
    {
     "data": {
      "text/plain": [
       "tensor([1, 1, 2, 2, 3, 3, 4, 4])"
      ]
     },
     "execution_count": 14,
     "metadata": {},
     "output_type": "execute_result"
    }
   ],
   "source": [
    "y = torch.tensor([[1, 2], [3, 4]])\n",
    "torch.repeat_interleave(input=y,repeats=2)  # y 텐서를 2번 반복 합니다."
   ]
  },
  {
   "cell_type": "code",
   "execution_count": 15,
   "metadata": {},
   "outputs": [
    {
     "data": {
      "text/plain": [
       "tensor([[[1, 2, 3],\n",
       "         [1, 2, 3],\n",
       "         [4, 5, 6],\n",
       "         [4, 5, 6],\n",
       "         [7, 8, 9],\n",
       "         [7, 8, 9]]])"
      ]
     },
     "execution_count": 15,
     "metadata": {},
     "output_type": "execute_result"
    }
   ],
   "source": [
    "y = torch.tensor([[[1, 2, 3], [4, 5, 6], [7, 8, 9]]])\n",
    "y.repeat_interleave(repeats=2, dim=1)   # y 텐서의 1차원을 2번 반복 합니다 "
   ]
  },
  {
   "cell_type": "code",
   "execution_count": 16,
   "metadata": {},
   "outputs": [
    {
     "data": {
      "text/plain": [
       "tensor([[[1, 1, 2, 2, 3, 3],\n",
       "         [4, 4, 5, 5, 6, 6],\n",
       "         [7, 7, 8, 8, 9, 9]]])"
      ]
     },
     "execution_count": 16,
     "metadata": {},
     "output_type": "execute_result"
    }
   ],
   "source": [
    "y.repeat_interleave(repeats=2, dim=2)        # y 텐서의 2차원을 2번 반복 합니다 "
   ]
  },
  {
   "cell_type": "markdown",
   "metadata": {},
   "source": [
    "##### torch.Unsqueeze\n",
    "\n",
    "- 지정된 위치에 1 차원 크기가 삽입 된 새 텐서를 반환\n",
    "- squeeze함수는 차원이 1인 차원을 제거"
   ]
  },
  {
   "cell_type": "code",
   "execution_count": 23,
   "metadata": {},
   "outputs": [
    {
     "data": {
      "text/plain": [
       "tensor([[[0.3789, 0.3741, 0.1516,  ..., 0.9725, 0.0173, 0.3788],\n",
       "         [0.1220, 0.1447, 0.1998,  ..., 0.2901, 0.0812, 0.6739],\n",
       "         [0.5774, 0.3414, 0.4523,  ..., 0.2107, 0.7152, 0.5551],\n",
       "         ...,\n",
       "         [0.6725, 0.6418, 0.4965,  ..., 0.1499, 0.4942, 0.4380],\n",
       "         [0.6540, 0.9736, 0.2048,  ..., 0.4150, 0.4610, 0.6332],\n",
       "         [0.9484, 0.9349, 0.8612,  ..., 0.0467, 0.7207, 0.9133]],\n",
       "\n",
       "        [[0.9357, 0.0923, 0.7617,  ..., 0.0893, 0.3393, 0.1721],\n",
       "         [0.1864, 0.5566, 0.0832,  ..., 0.9067, 0.6743, 0.4585],\n",
       "         [0.2921, 0.3851, 0.8352,  ..., 0.1814, 0.4427, 0.8829],\n",
       "         ...,\n",
       "         [0.7695, 0.5976, 0.1303,  ..., 0.7325, 0.6551, 0.2421],\n",
       "         [0.5504, 0.4160, 0.9748,  ..., 0.7698, 0.2390, 0.0121],\n",
       "         [0.9215, 0.9412, 0.2811,  ..., 0.6895, 0.9934, 0.4605]],\n",
       "\n",
       "        [[0.4413, 0.1636, 0.3953,  ..., 0.1504, 0.8922, 0.7294],\n",
       "         [0.2784, 0.4404, 0.3015,  ..., 0.6231, 0.1952, 0.8850],\n",
       "         [0.2982, 0.0323, 0.8524,  ..., 0.8263, 0.0983, 0.7089],\n",
       "         ...,\n",
       "         [0.4422, 0.2540, 0.1305,  ..., 0.9930, 0.9335, 0.9063],\n",
       "         [0.3174, 0.4131, 0.8915,  ..., 0.3210, 0.4467, 0.8553],\n",
       "         [0.3875, 0.7964, 0.2660,  ..., 0.0757, 0.2305, 0.5526]]])"
      ]
     },
     "execution_count": 23,
     "metadata": {},
     "output_type": "execute_result"
    }
   ],
   "source": [
    "x = torch.rand(3, 1, 20, 128)\n",
    "x = x.squeeze() #[3, 1, 20, 128] -> [3, 20, 128]\n",
    "x"
   ]
  },
  {
   "cell_type": "code",
   "execution_count": 24,
   "metadata": {},
   "outputs": [
    {
     "data": {
      "text/plain": [
       "tensor([[[[0.5310, 0.4417, 0.4537,  ..., 0.0779, 0.2684, 0.1596],\n",
       "          [0.5815, 0.0082, 0.6888,  ..., 0.3574, 0.7914, 0.1139],\n",
       "          [0.6562, 0.2012, 0.5551,  ..., 0.9955, 0.4194, 0.8333],\n",
       "          ...,\n",
       "          [0.7961, 0.2014, 0.2954,  ..., 0.0859, 0.1757, 0.1711],\n",
       "          [0.4581, 0.8075, 0.5157,  ..., 0.6236, 0.6912, 0.7753],\n",
       "          [0.3458, 0.0212, 0.4691,  ..., 0.6106, 0.1767, 0.5967]]],\n",
       "\n",
       "\n",
       "        [[[0.8574, 0.4596, 0.1329,  ..., 0.5862, 0.4278, 0.7391],\n",
       "          [0.4603, 0.9988, 0.4680,  ..., 0.4421, 0.3899, 0.9763],\n",
       "          [0.1135, 0.6545, 0.3319,  ..., 0.0035, 0.4971, 0.2206],\n",
       "          ...,\n",
       "          [0.8641, 0.4895, 0.6485,  ..., 0.9760, 0.6759, 0.3766],\n",
       "          [0.4443, 0.7330, 0.4582,  ..., 0.0814, 0.4255, 0.9440],\n",
       "          [0.3647, 0.4056, 0.5276,  ..., 0.3828, 0.1198, 0.9628]]],\n",
       "\n",
       "\n",
       "        [[[0.3490, 0.8932, 0.9024,  ..., 0.6284, 0.7369, 0.1572],\n",
       "          [0.0657, 0.5999, 0.2215,  ..., 0.5181, 0.9942, 0.6961],\n",
       "          [0.3135, 0.5505, 0.6839,  ..., 0.9880, 0.3723, 0.6217],\n",
       "          ...,\n",
       "          [0.6916, 0.2477, 0.1097,  ..., 0.6678, 0.6443, 0.0517],\n",
       "          [0.8013, 0.5153, 0.1470,  ..., 0.2596, 0.5749, 0.5021],\n",
       "          [0.0849, 0.6880, 0.1913,  ..., 0.9190, 0.4569, 0.1373]]]])"
      ]
     },
     "execution_count": 24,
     "metadata": {},
     "output_type": "execute_result"
    }
   ],
   "source": [
    "x = torch.rand(3, 20, 128)\n",
    "x = x.unsqueeze(dim=1) #[3, 20, 128] -> [3, 1, 20, 128]\n",
    "x"
   ]
  },
  {
   "cell_type": "code",
   "execution_count": 25,
   "metadata": {},
   "outputs": [
    {
     "data": {
      "text/plain": [
       "tensor([[1],\n",
       "        [2],\n",
       "        [3]])"
      ]
     },
     "execution_count": 25,
     "metadata": {},
     "output_type": "execute_result"
    }
   ],
   "source": [
    "x = torch.tensor([1, 2, 3])\n",
    "x.unsqueeze(1)"
   ]
  },
  {
   "cell_type": "code",
   "execution_count": 26,
   "metadata": {},
   "outputs": [
    {
     "data": {
      "text/plain": [
       "tensor([[[1, 2]],\n",
       "\n",
       "        [[3, 4]]])"
      ]
     },
     "execution_count": 26,
     "metadata": {},
     "output_type": "execute_result"
    }
   ],
   "source": [
    "y = torch.tensor([[1, 2], [3, 4]])\n",
    "y.unsqueeze(1)"
   ]
  },
  {
   "cell_type": "code",
   "execution_count": 27,
   "metadata": {},
   "outputs": [
    {
     "data": {
      "text/plain": [
       "tensor([[[1],\n",
       "         [2]],\n",
       "\n",
       "        [[3],\n",
       "         [4]]])"
      ]
     },
     "execution_count": 27,
     "metadata": {},
     "output_type": "execute_result"
    }
   ],
   "source": [
    "y = torch.tensor([[1, 2], [3, 4]])\n",
    "y.unsqueeze(dim=2)"
   ]
  },
  {
   "cell_type": "markdown",
   "metadata": {},
   "source": [
    "##### torch.where\n",
    "\n",
    "- condition 에 따라 x 또는 y 에서 선택한 요소의 텐서를 반환"
   ]
  },
  {
   "cell_type": "code",
   "execution_count": 28,
   "metadata": {},
   "outputs": [
    {
     "data": {
      "text/plain": [
       "tensor([[  1,   2,   3],\n",
       "        [-14, -15, -16],\n",
       "        [  7,   8,   9]])"
      ]
     },
     "execution_count": 28,
     "metadata": {},
     "output_type": "execute_result"
    }
   ],
   "source": [
    "x = torch.tensor([[1,2,3], [-4,-5,-6], [7,8,9]])\n",
    "y = torch.tensor([[11,12,13], [-14,-15,-16], [17,18,19]])\n",
    "torch.where(x>0, x, y)     # x가 0보다 크다면 x 그렇지 않다면 y를 출력"
   ]
  },
  {
   "cell_type": "code",
   "execution_count": 29,
   "metadata": {},
   "outputs": [
    {
     "data": {
      "text/plain": [
       "tensor([ 8,  4,  5, 10, 10,  9, 10,  6, 10,  7])"
      ]
     },
     "execution_count": 29,
     "metadata": {},
     "output_type": "execute_result"
    }
   ],
   "source": [
    "x = torch.tensor([8, 4, 5, 6, 1, 9, 10, 1, 10, 7])\n",
    "y = torch.tensor([2, 3, 3, 10, 10 , 4, 5, 6, 7 ,6])\n",
    "torch.where( x>y, x, y)    # x가 y보다 크다면 x 그렇지 않다면 y를 출력"
   ]
  },
  {
   "cell_type": "markdown",
   "metadata": {},
   "source": [
    "##### torch.transpose\n",
    "\n",
    "- 주어진 차원 dim0 와 dim1 는 swap\n",
    "\n"
   ]
  },
  {
   "cell_type": "code",
   "execution_count": 30,
   "metadata": {},
   "outputs": [
    {
     "name": "stdout",
     "output_type": "stream",
     "text": [
      "x= tensor([[[0.1667, 0.9258],\n",
      "         [0.1271, 0.7285]],\n",
      "\n",
      "        [[0.8495, 0.4017],\n",
      "         [0.7475, 0.2672]]]) \n",
      "y= tensor([[[0.1667, 0.8495],\n",
      "         [0.1271, 0.7475]],\n",
      "\n",
      "        [[0.9258, 0.4017],\n",
      "         [0.7285, 0.2672]]])\n"
     ]
    }
   ],
   "source": [
    "x = torch.rand(2, 2, 2)\n",
    "y = x.transpose(0, 2) # 0<->2 차원변경\n",
    "print (\"x=\",x, \"\\ny=\", y)"
   ]
  },
  {
   "cell_type": "markdown",
   "metadata": {},
   "source": [
    "#### 일단 테스트"
   ]
  },
  {
   "cell_type": "code",
   "execution_count": 31,
   "metadata": {},
   "outputs": [],
   "source": [
    "import torch\n",
    "from transformers import GPT2LMHeadModel"
   ]
  },
  {
   "cell_type": "code",
   "execution_count": 32,
   "metadata": {},
   "outputs": [
    {
     "name": "stderr",
     "output_type": "stream",
     "text": [
      "The tokenizer class you load from this checkpoint is not the same type as the class this function is called from. It may result in unexpected tokenization. \n",
      "The tokenizer class you load from this checkpoint is 'GPT2Tokenizer'. \n",
      "The class this function is called from is 'PreTrainedTokenizerFast'.\n"
     ]
    },
    {
     "data": {
      "text/plain": [
       "['▁안녕',\n",
       " '하',\n",
       " '세',\n",
       " '요.',\n",
       " '▁한국어',\n",
       " '▁G',\n",
       " 'P',\n",
       " 'T',\n",
       " '-2',\n",
       " '▁입',\n",
       " '니다.',\n",
       " '😤',\n",
       " ':)',\n",
       " 'l^o']"
      ]
     },
     "execution_count": 32,
     "metadata": {},
     "output_type": "execute_result"
    }
   ],
   "source": [
    "from transformers import PreTrainedTokenizerFast\n",
    "tokenizer = PreTrainedTokenizerFast.from_pretrained(\"skt/kogpt2-base-v2\", bos_token='</s>', eos_token='</s>', unk_token='<unk>', pad_token='<pad>', mask_token='<mask>') \n",
    "tokenizer.tokenize(\"안녕하세요. 한국어 GPT-2 입니다.😤:)l^o\")"
   ]
  },
  {
   "cell_type": "code",
   "execution_count": 34,
   "metadata": {},
   "outputs": [
    {
     "name": "stdout",
     "output_type": "stream",
     "text": [
      "근육이 커지기 위해서는 무엇보다 규칙적인 생활습관이 중요하다.\n",
      "특히, 아침식사는 단백질과 비타민이 풍부한 과일과 채소를 많이 섭취하는 것이 좋다.\n",
      "또한 하루 30분 이상 충분한 수면을 취하는 것도 도움이 된다.\n",
      "아침 식사를 거르지 않고 규칙적으로 운동을 하면 혈액순환에 도움을 줄 뿐만 아니라 신진대사를 촉진해 체내 노폐물을 배출하고 혈압을 낮춰준다.\n",
      "운동은 하루에 10분 정도만 하는 게 좋으며 운동 후에는 반드시 스트레칭을 통해 근육량을 늘리고 유연성을 높여야 한다.\n",
      "운동 후 바로 잠자리에 드는 것은 피해야 하며 특히 아침에 일어나면 몸이 피곤해지기 때문에 무리하게 움직이면 오히려 역효과가 날 수도 있다.\n",
      "운동을 할 때는 몸을 따뜻하게 하고 땀은 잘 흡수하도록 해야 한다.</d> 지난달 30일 오후 서울 종로구 세종로 정부중앙청사 별관. 이낙연 국무총리가 주재하던 국무회의가 열렸다.\n",
      "국무위원들이 모두 참석한 가운데 열린 이날 회의에서는 ‘경제혁신 3개년 계획’ 등 주요 국정 현안에 대한 논의가 이뤄졌다.\n",
      "김동연(사진) 경제부총리 겸 기획재정부 장관은 “올해는 우리 경제가 회복세를 보일 것으로 예상된다”며 “이런 상황에서 정부가 추진하는 각종 정책들을 차질 없이 추진하기 위해 최선을 다하겠다”고 말했다.\n",
      "그는 이어 “우리 경제의 성장세가 지속되고 있는 만큼\n"
     ]
    }
   ],
   "source": [
    "text = '근육이 커지기 위해서는'\n",
    "input_ids = tokenizer.encode(text)\n",
    "gen_ids = model.generate(torch.tensor([input_ids]),\n",
    "                           max_length=250,\n",
    "                           repetition_penalty=2.0,\n",
    "                           pad_token_id=tokenizer.pad_token_id,\n",
    "                           eos_token_id=tokenizer.eos_token_id,\n",
    "                           bos_token_id=tokenizer.bos_token_id,\n",
    "                           use_cache=True)\n",
    "generated = tokenizer.decode(gen_ids[0,:].tolist())\n",
    "print(generated)"
   ]
  },
  {
   "cell_type": "markdown",
   "metadata": {},
   "source": [
    "#### Tokenizer\n",
    "\n",
    "- 토크나이저는 모델에 대한 입력 준비를 담당"
   ]
  },
  {
   "cell_type": "code",
   "execution_count": 36,
   "metadata": {},
   "outputs": [],
   "source": [
    "import numpy as np\n",
    "import pandas as pd\n",
    "import torch\n",
    "from pytorch_lightning import Trainer\n",
    "from pytorch_lightning.callbacks import ModelCheckpoint\n",
    "from pytorch_lightning.core import LightningModule\n",
    "from torch.utils.data import DataLoader, Dataset\n",
    "from transformers.optimization import AdamW, get_cosine_schedule_with_warmup\n",
    "from transformers import PreTrainedTokenizerFast, GPT2LMHeadModel\n",
    "import re"
   ]
  },
  {
   "cell_type": "code",
   "execution_count": 37,
   "metadata": {},
   "outputs": [],
   "source": [
    "Q_TKN = \"<usr>\"\n",
    "A_TKN = \"<sys>\"\n",
    "BOS = '</s>'\n",
    "EOS = '</s>'\n",
    "MASK = '<unused0>'\n",
    "SENT = '<unused1>'\n",
    "PAD = '<pad>'"
   ]
  },
  {
   "cell_type": "code",
   "execution_count": 38,
   "metadata": {},
   "outputs": [
    {
     "name": "stderr",
     "output_type": "stream",
     "text": [
      "The tokenizer class you load from this checkpoint is not the same type as the class this function is called from. It may result in unexpected tokenization. \n",
      "The tokenizer class you load from this checkpoint is 'GPT2Tokenizer'. \n",
      "The class this function is called from is 'PreTrainedTokenizerFast'.\n"
     ]
    }
   ],
   "source": [
    "koGPT2_TOKENIZER = PreTrainedTokenizerFast.from_pretrained(\"skt/kogpt2-base-v2\",\n",
    "            bos_token=BOS, eos_token=EOS, unk_token='<unk>',\n",
    "            pad_token=PAD, mask_token=MASK) \n",
    "model = GPT2LMHeadModel.from_pretrained('skt/kogpt2-base-v2')\n"
   ]
  },
  {
   "cell_type": "code",
   "execution_count": 40,
   "metadata": {},
   "outputs": [
    {
     "data": {
      "text/html": [
       "<div>\n",
       "<style scoped>\n",
       "    .dataframe tbody tr th:only-of-type {\n",
       "        vertical-align: middle;\n",
       "    }\n",
       "\n",
       "    .dataframe tbody tr th {\n",
       "        vertical-align: top;\n",
       "    }\n",
       "\n",
       "    .dataframe thead th {\n",
       "        text-align: right;\n",
       "    }\n",
       "</style>\n",
       "<table border=\"1\" class=\"dataframe\">\n",
       "  <thead>\n",
       "    <tr style=\"text-align: right;\">\n",
       "      <th></th>\n",
       "      <th>Q</th>\n",
       "      <th>A</th>\n",
       "      <th>label</th>\n",
       "    </tr>\n",
       "  </thead>\n",
       "  <tbody>\n",
       "    <tr>\n",
       "      <th>0</th>\n",
       "      <td>12시 땡!</td>\n",
       "      <td>하루가 또 가네요.</td>\n",
       "      <td>0</td>\n",
       "    </tr>\n",
       "    <tr>\n",
       "      <th>1</th>\n",
       "      <td>1지망 학교 떨어졌어</td>\n",
       "      <td>위로해 드립니다.</td>\n",
       "      <td>0</td>\n",
       "    </tr>\n",
       "    <tr>\n",
       "      <th>2</th>\n",
       "      <td>3박4일 놀러가고 싶다</td>\n",
       "      <td>여행은 언제나 좋죠.</td>\n",
       "      <td>0</td>\n",
       "    </tr>\n",
       "    <tr>\n",
       "      <th>3</th>\n",
       "      <td>3박4일 정도 놀러가고 싶다</td>\n",
       "      <td>여행은 언제나 좋죠.</td>\n",
       "      <td>0</td>\n",
       "    </tr>\n",
       "    <tr>\n",
       "      <th>4</th>\n",
       "      <td>PPL 심하네</td>\n",
       "      <td>눈살이 찌푸려지죠.</td>\n",
       "      <td>0</td>\n",
       "    </tr>\n",
       "  </tbody>\n",
       "</table>\n",
       "</div>"
      ],
      "text/plain": [
       "                 Q            A  label\n",
       "0           12시 땡!   하루가 또 가네요.      0\n",
       "1      1지망 학교 떨어졌어    위로해 드립니다.      0\n",
       "2     3박4일 놀러가고 싶다  여행은 언제나 좋죠.      0\n",
       "3  3박4일 정도 놀러가고 싶다  여행은 언제나 좋죠.      0\n",
       "4          PPL 심하네   눈살이 찌푸려지죠.      0"
      ]
     },
     "execution_count": 40,
     "metadata": {},
     "output_type": "execute_result"
    }
   ],
   "source": [
    "import urllib.request\n",
    "\n",
    "urllib.request.urlretrieve(\n",
    "    \"https://raw.githubusercontent.com/songys/Chatbot_data/master/ChatbotData.csv\",\n",
    "    filename=\"ChatBotData.csv\",\n",
    ")\n",
    "Chatbot_Data = pd.read_csv(\"ChatBotData.csv\")\n",
    "# Test 용으로 300개 데이터만 처리한다.\n",
    "Chatbot_Data = Chatbot_Data[:300]\n",
    "Chatbot_Data.head()\n"
   ]
  },
  {
   "cell_type": "code",
   "execution_count": 41,
   "metadata": {},
   "outputs": [],
   "source": [
    "device = torch.device(\"cuda\" if torch.cuda.is_available() else \"cpu\")\n",
    "train_set = ChatbotDataset(Chatbot_Data, max_len=40)\n",
    "#윈도우 환경에서 num_workers 는 무조건 0으로 지정, 리눅스에서는 2\n",
    "train_dataloader = DataLoader(train_set, batch_size=32, num_workers=0, shuffle=True, collate_fn=collate_batch,)\n"
   ]
  },
  {
   "cell_type": "code",
   "execution_count": 45,
   "metadata": {},
   "outputs": [
    {
     "data": {
      "text/plain": [
       "device(type='cpu')"
      ]
     },
     "execution_count": 45,
     "metadata": {},
     "output_type": "execute_result"
    }
   ],
   "source": [
    "device"
   ]
  },
  {
   "cell_type": "code",
   "execution_count": 42,
   "metadata": {},
   "outputs": [
    {
     "data": {
      "text/plain": [
       "GPT2LMHeadModel(\n",
       "  (transformer): GPT2Model(\n",
       "    (wte): Embedding(51200, 768)\n",
       "    (wpe): Embedding(1024, 768)\n",
       "    (drop): Dropout(p=0.1, inplace=False)\n",
       "    (h): ModuleList(\n",
       "      (0-11): 12 x GPT2Block(\n",
       "        (ln_1): LayerNorm((768,), eps=1e-05, elementwise_affine=True)\n",
       "        (attn): GPT2Attention(\n",
       "          (c_attn): Conv1D(nf=2304, nx=768)\n",
       "          (c_proj): Conv1D(nf=768, nx=768)\n",
       "          (attn_dropout): Dropout(p=0.1, inplace=False)\n",
       "          (resid_dropout): Dropout(p=0.1, inplace=False)\n",
       "        )\n",
       "        (ln_2): LayerNorm((768,), eps=1e-05, elementwise_affine=True)\n",
       "        (mlp): GPT2MLP(\n",
       "          (c_fc): Conv1D(nf=3072, nx=768)\n",
       "          (c_proj): Conv1D(nf=768, nx=3072)\n",
       "          (act): NewGELUActivation()\n",
       "          (dropout): Dropout(p=0.1, inplace=False)\n",
       "        )\n",
       "      )\n",
       "    )\n",
       "    (ln_f): LayerNorm((768,), eps=1e-05, elementwise_affine=True)\n",
       "  )\n",
       "  (lm_head): Linear(in_features=768, out_features=51200, bias=False)\n",
       ")"
      ]
     },
     "execution_count": 42,
     "metadata": {},
     "output_type": "execute_result"
    }
   ],
   "source": [
    "model.to(device)\n",
    "model.train()\n"
   ]
  },
  {
   "cell_type": "code",
   "execution_count": 43,
   "metadata": {},
   "outputs": [],
   "source": [
    "learning_rate = 3e-5\n",
    "criterion = torch.nn.CrossEntropyLoss(reduction=\"none\")\n",
    "optimizer = torch.optim.Adam(model.parameters(), lr=learning_rate)\n",
    "\n",
    "epoch = 10\n",
    "Sneg = -1e18\n",
    "\n"
   ]
  },
  {
   "cell_type": "code",
   "execution_count": 44,
   "metadata": {},
   "outputs": [
    {
     "name": "stderr",
     "output_type": "stream",
     "text": [
      "We strongly recommend passing in an `attention_mask` since your input_ids may be padded. See https://huggingface.co/docs/transformers/troubleshooting#incorrect-output-when-padding-tokens-arent-masked.\n"
     ]
    },
    {
     "name": "stdout",
     "output_type": "stream",
     "text": [
      "start\n",
      "end\n"
     ]
    }
   ],
   "source": [
    "\n",
    "print (\"start\")\n",
    "for epoch in range(epoch):\n",
    "    for batch_idx, samples in enumerate(train_dataloader):\n",
    "        optimizer.zero_grad()\n",
    "        token_ids, mask, label = samples\n",
    "        out = model(token_ids)\n",
    "        out = out.logits      #Returns a new tensor with the logit of the elements of input\n",
    "        mask_3d = mask.unsqueeze(dim=2).repeat_interleave(repeats=out.shape[2], dim=2)\n",
    "        mask_out = torch.where(mask_3d == 1, out, Sneg * torch.ones_like(out))\n",
    "        loss = criterion(mask_out.transpose(2, 1), label)\n",
    "        # 평균 loss 만들기 avg_loss[0] / avg_loss[1] <- loss 정규화\n",
    "        avg_loss = loss.sum() / mask.sum()\n",
    "        avg_loss.backward()\n",
    "        # 학습 끝\n",
    "        optimizer.step()\n",
    "print (\"end\")\n"
   ]
  },
  {
   "cell_type": "markdown",
   "metadata": {},
   "source": [
    "- 훈련에 8분 29초 소요(CPU)"
   ]
  },
  {
   "cell_type": "markdown",
   "metadata": {},
   "source": [
    "- GPT2 모델 테스트"
   ]
  },
  {
   "cell_type": "code",
   "execution_count": 47,
   "metadata": {},
   "outputs": [
    {
     "name": "stdout",
     "output_type": "stream",
     "text": [
      "Chatbot > 좋은 아침이에요\n",
      "Chatbot > 저도 바빠서 이야기할 시간이 부족했나봐요\n",
      "Chatbot > 미리미리 충전해주세요\n",
      "Chatbot > 가세요\n",
      "Chatbot > 가족들과 상의해보세요\n",
      "Chatbot > 너를 더 많이 아세요\n",
      "Chatbot > 좋은 생각이에요\n",
      "Chatbot > 거실이나 방에는 언제나 있는 자리니까요\n",
      "Chatbot > 가세요\n",
      "Chatbot > 가세요\n",
      "Chatbot > 말해보세요\n",
      "Chatbot > 하루가 또 가네요\n",
      "Chatbot > 하루가 또 가네요\n"
     ]
    }
   ],
   "source": [
    "with torch.no_grad():\n",
    "    while 1:\n",
    "        q = input(\"user > \").strip()\n",
    "        if q == \"quit\":\n",
    "            break\n",
    "        a = \"\"\n",
    "        sent = ''\n",
    "        while 1:\n",
    "            input_ids = torch.LongTensor(koGPT2_TOKENIZER.encode(Q_TKN + q + SENT + sent + A_TKN + a)).unsqueeze(dim=0)\n",
    "            pred = model(input_ids)\n",
    "            pred = pred.logits\n",
    "            gen = koGPT2_TOKENIZER.convert_ids_to_tokens(torch.argmax(pred, dim=-1).squeeze().numpy().tolist())[-1]\n",
    "            if gen == EOS:\n",
    "                break\n",
    "            a += gen.replace(\"▁\", \" \")\n",
    "        print(\"Chatbot > {}\".format(a.strip()))\n"
   ]
  }
 ],
 "metadata": {
  "kernelspec": {
   "display_name": "torch-cpu-env",
   "language": "python",
   "name": "python3"
  },
  "language_info": {
   "codemirror_mode": {
    "name": "ipython",
    "version": 3
   },
   "file_extension": ".py",
   "mimetype": "text/x-python",
   "name": "python",
   "nbconvert_exporter": "python",
   "pygments_lexer": "ipython3",
   "version": "3.11.9"
  }
 },
 "nbformat": 4,
 "nbformat_minor": 2
}
