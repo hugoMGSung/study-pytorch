{
 "cells": [
  {
   "cell_type": "markdown",
   "metadata": {},
   "source": [
    "# 선형회귀\n",
    "\n",
    "## 기본 개념\n",
    "\n",
    "- 머신러닝 모델링\n",
    "\t- 머신러닝이란 수집한 데이터를 기반으로 입력값과 출력값 간의 관계를 하나의 공식으로 만드는 것을 의미\n",
    "\t- 이 공식을 찾는 과정을 모델링[Modeling] 이라 칭한다\n",
    "\n",
    "\t- 여기서는 학생이 공부한 시간으로 받는 과목 점수의 예측 모델을 정의한다\n",
    "\t- 이 중 머신러닝의 가장 기본적인 선형회귀[Linear Regression] 을 적용\n"
   ]
  },
  {
   "cell_type": "markdown",
   "metadata": {},
   "source": [
    "### 데이터 확인\n",
    "\n",
    "|공부시간(입력)|점수(출력)|\n",
    "|-|-|\n",
    "|1|20|\n",
    "|2|40|\n",
    "|3|60|"
   ]
  },
  {
   "cell_type": "markdown",
   "metadata": {},
   "source": [
    "### 훈련 데이터셋 만들기\n",
    "\n",
    "- 모델을 학습시키기 위한 데이터셋 구성\n",
    "- 입력데이터와 출력데이터를 따로 매트릭스로 구성\n",
    "- 같은 데이터 포인트의 입력, 출력 데이터를 같은 인덱스에 정의"
   ]
  },
  {
   "cell_type": "markdown",
   "metadata": {},
   "source": [
    "### 모델링\n",
    "\n",
    "#### 모델 정의\n",
    "- Feature(공부시간)와 Target(점수) 간 관계의 수식화\n",
    "- 선형회귀 모델을 가설로 세우고 모델링을 검증한다\n",
    "- 가설[Hypothesis]인 이유는 아직 이 식이 맞는지 틀린지를 알 수 없기 때문임\n",
    "- 예측 결과가 좋지 않는 경우이면 다른 가설로 재모델링 후 진행"
   ]
  },
  {
   "cell_type": "markdown",
   "metadata": {},
   "source": [
    "### 선형회귀[Linear Regression]\n",
    "- Feature들의 가중합을 이용 Target를 추정\n",
    "- Feature에 곱해지는 가중치[Weight]는 각 Feature가 Target에 얼마나 영향을 주는 지를 나타내는 영향도가 됨\n",
    "\t- 음수는 Target값이 줄어들고 양수는 Target값을 늘려줌\n",
    "\t- 가중치가 0에 가까우면 Target에 영향을 주지 않음\n",
    "\n",
    "$$\n",
    "\\hat{y} = Wx + b\n",
    "$$\n",
    "\n",
    "- $\\hat{y}$: 모델추정값\n",
    "- W: 가중치\n",
    "- x: Feature\n",
    "- b: bias(편향)"
   ]
  },
  {
   "cell_type": "markdown",
   "metadata": {},
   "source": [
    "### 최적화 \n",
    "- 모델을 학습하는 과정\n",
    "- 모델의 예측값과 실제값의 차이, 오차를 계산하는 함수를 만들고 그 오차가 가장 적게되는 파라미터를 찾는 작업\n",
    "- 기울기는 가중치이고, y절편은 편향을 뜻함"
   ]
  },
  {
   "cell_type": "markdown",
   "metadata": {},
   "source": [
    "#### 최적화 문제\n",
    "- 어떤 함수가 반환할 수 있는 가장 작거나 가장 큰 값을 반환하도록 하는 파라미터를 찾는 문제를 뜻함\n",
    "- 머신러닝의 오차계산함수가 반환하는 값을 최소화할 수 있는 파라미터를 찾는 작업을 진행\n",
    "\n",
    "$$\n",
    "w_{i} = \\arg \\min_w f(w) \n",
    "$$\n",
    "\n",
    "<center>\n",
    " f(): 손실함수 \n",
    " w: 파라미터\n",
    "</center>    "
   ]
  },
  {
   "cell_type": "markdown",
   "metadata": {},
   "source": [
    "### 손실함수, 목적함수, 비용함수\n",
    "- Loss function - 모델의 예측한 값과 정답값 간의 차이(오차)를 계산하는 함수\n",
    "- Objective Function - 최적화 알고리즘에서 최대값 또는 최소값을 찾아야하는 함수\n",
    "\t- 목적함수 중 최적화 알고리즘의 목적함수 -> 비용함수\n",
    "\t- 비용함수는 손실함수를 사용하여 정의할 수 있다\n",
    "- Cost Function - 머신러닝 알고리즘에서 최적화는 비용함수의 값이 가장 작아지는 최적의 파라미터를 찾는 과정\n"
   ]
  },
  {
   "cell_type": "code",
   "execution_count": null,
   "metadata": {},
   "outputs": [],
   "source": []
  }
 ],
 "metadata": {
  "kernelspec": {
   "display_name": "pytorch_env",
   "language": "python",
   "name": "python3"
  },
  "language_info": {
   "name": "python",
   "version": "3.10.5"
  }
 },
 "nbformat": 4,
 "nbformat_minor": 2
}
