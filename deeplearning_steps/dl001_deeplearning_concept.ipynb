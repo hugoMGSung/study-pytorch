{
 "cells": [
  {
   "cell_type": "markdown",
   "metadata": {},
   "source": [
    "# 딥러닝 학습\n",
    "\n",
    "## 딥러닝의 개요"
   ]
  },
  {
   "cell_type": "markdown",
   "metadata": {},
   "source": [
    "### 인공지능\n",
    "- 지능이란 어떠한 문제를 해결하기 위한 지적인 활동 능력\n",
    "- 인공지능이란\n",
    "\t- 기계가 사람의 지능을 모방하게 하는 기술\n",
    "\t- 규칙기반, 데이터 학습 기반 등으로 분류할 수 있음\n",
    "\t\n",
    "- 최종적 목표는 인간이 하는 모든 일을 인공지능을 탑제한 기계가 모두 해내도록 만드는 것"
   ]
  },
  {
   "cell_type": "markdown",
   "metadata": {},
   "source": [
    "### 인공지능의 종류\n",
    "- 약 인공지능[Weak Artificial Intelligence]\n",
    "\t- 인간은 쉽게 처리할 수 있었지만 컴퓨터로 하기 어려웠던 일을 수행할 수 있도록 하는 목적의 인공지능\n",
    "\t- 지각을 가지고 있지 않으며 특정한 업무만을 처리하는데 집중한다\n",
    "\t- 현재를 약 인공지능의 시대라고 한다\n",
    "\t\n",
    "- 강 인공지능[Strong Artificial Intelligence]\n",
    "\t- AGI[Artificial General Intelligence] 성능을 가지는 인공지능\n",
    "\t- 인공지능 연구가 목표하는 방향이다.\n",
    "\t- 약 인공지능에 비해 더 인간같다.\n",
    "\t- 물어보면 다 대답해주는 로봇이 그 예시다."
   ]
  },
  {
   "cell_type": "markdown",
   "metadata": {},
   "source": [
    "### 인공지능의 역사\n",
    "- 는 스킵하고, 이전까지 인공지능이 발전할 수 없었던 것은 아래의 요소들이 발전하지 못했기 때문이다\n",
    "\n",
    "#### 인공지능 발전의 요소\n",
    "- 컴퓨터 하드웨어의 발전\n",
    "\t- 하드웨어 자체의 발전도 괄목하지만\n",
    "\t- GPU의 발전으로 딥러닝의 발전이 가능해짐 - GPU는 딥러닝 및 블록체인에 활용됨\n",
    "\t- NPU[Neural (Network) Processing Unit], 특히 TPU[Tensor Processing Unit]의 개발이 근간이 됨\n",
    "\n",
    "- 기하급수적인 데이터의 증가\n",
    "\t- 빅데이터 등의 발현으로 정형데이터 및 비정형데이터(IoT 센서데이터, 소셜컨텐츠, 동영상, 사진) 등의 데이터가 폭발적 증가\n",
    "\t- 하루에 생산되는 데이터의 총량 2.5EB(엑사바이트). 1EB는 10억 기가바이트\n",
    "\n",
    "- 알고리즘 발전\n",
    "\t- 빅데이터를 이용하여 기존 알고리즘 개선과 새로운 인공지능 알고리즘 등이 개발되고 있다"
   ]
  },
  {
   "cell_type": "markdown",
   "metadata": {},
   "source": [
    "### 머신러닝과 딥러닝\n",
    "\n",
    "<img src=\"https://blogs.nvidia.co.kr/wp-content/uploads/sites/16/2016/08/postfiles8.naver_.png\" width=\"800\">\n",
    "\n",
    "https://blogs.nvidia.co.kr/blog/difference_ai_learning_machinelearning/ 에서 발췌\n",
    "\n",
    "\n",
    "- 머신 러닝[Machine Learning]\n",
    "\t- 데이터 학습 기반의 인공지능\n",
    "\t- 기계에게 어떻게 동작할지 코드로 명시하지 않고, 데이터를 이용해 학습할 수 있게 알고리즘과 기술을 개발\n",
    "\n",
    "- 딥 러닝[Deep Learning]\n",
    "\t- 인공신경망 알고리즘을 기반. 비정형데이터에 뛰어난 성능을 발휘함. \n",
    "\t- 비정형 데이터 - 텍스트, 영상, 음성 등\n",
    "\t- 정형 데이터 - 표 형태의 형식과 구조에 따라 저장되도록 구성된 데이터. 관계형 DB 등"
   ]
  },
  {
   "cell_type": "markdown",
   "metadata": {},
   "source": [
    "### 머신러닝과 딥러닝의 프로세스\n",
    "- 머신러닝 \n",
    "\t- 기존의 이미지에서\n",
    "\t- 특징을 추출\n",
    "\t- 특징 벡터\n",
    "\t- 분류기로 학습\n",
    "\t- 결론 도출\n",
    "\n",
    "- 딥러닝\n",
    "\t- 기존의 이미지에서\n",
    "\t- 학습입력과 학습정답을 같이 입력\n",
    "\t- 특징 추출과 분류를 직접 수행\n",
    "\t\t- 딥러닝 네트워크 구조\n",
    "\t\t- 손실함수\n",
    "\t\t- 알고리즘 최적화 기법을 역전파\n",
    "\t- 결론 도출"
   ]
  },
  {
   "cell_type": "markdown",
   "metadata": {},
   "source": [
    "### 딥러닝으로 할 수 있는 일\n",
    "- 분류\n",
    "- 회귀\n",
    "- 물체 검출\n",
    "- 기계 번역\n",
    "- GAN\n",
    "- 강화학습 등"
   ]
  }
 ],
 "metadata": {
  "language_info": {
   "name": "python"
  }
 },
 "nbformat": 4,
 "nbformat_minor": 2
}
