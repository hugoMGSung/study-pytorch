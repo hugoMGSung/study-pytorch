{
 "cells": [
  {
   "cell_type": "markdown",
   "metadata": {},
   "source": [
    "## 인공신경망\n",
    "\n",
    "### Custom Layer 작성\n",
    "\n",
    "#### 자체 신경망 Layer 만들기\n",
    "\n",
    "- PyTorch에서 자체 신경망 layer 생성시 nn.Module을 상속하여 클래스 정의\n",
    "    - nn.Module은 nn.Linear를 포함한 모든 계층의 기반 클래스\n",
    "    - super().__ init __() 메서드 호출을 통해 nn.Module 속성들 초기화\n",
    "\n",
    "#### Custom Layer 제작 시, forward() 메서드 구현을 통해 자동미분까지 가능\n",
    "\n",
    "- nn.Module의 __ call __() 메서드는 내부에서 forward() 메서드를 정의\n",
    "- nn.Module을 상속받는 클래스에서 forward() 메서드를 정의하지 않을 경우 NotImplementedError 발생\n",
    "- y = model(x) 형태의 이용이 가능했던 이유\n"
   ]
  },
  {
   "cell_type": "markdown",
   "metadata": {},
   "source": [
    "#### 시작"
   ]
  },
  {
   "cell_type": "code",
   "execution_count": 5,
   "metadata": {},
   "outputs": [],
   "source": [
    "import torch\n",
    "import torch.nn as nn\n",
    "import torch.nn.functional as F\n",
    "from torch.utils.data.sampler import SubsetRandomSampler\n",
    "\n",
    "from torchvision import datasets\n",
    "import torchvision.transforms as transforms\n",
    "\n",
    "import numpy as np"
   ]
  },
  {
   "cell_type": "markdown",
   "metadata": {},
   "source": [
    "##### CustomLayer 1"
   ]
  },
  {
   "cell_type": "code",
   "execution_count": 6,
   "metadata": {},
   "outputs": [],
   "source": [
    "model = nn.Sequential(\n",
    "    nn.Linear(2, 10, bias=True),\n",
    "    nn.Sigmoid(),\n",
    "    nn.Linear(10, 10, bias=True), ## 여기와\n",
    "    nn.Sigmoid(), ## 여기 반복\n",
    "    nn.Linear(10, 10, bias=True),\n",
    "    nn.Sigmoid(),\n",
    "    nn.Linear(10, 1, bias=True),\n",
    "    nn.Sigmoid()\n",
    ")"
   ]
  },
  {
   "cell_type": "code",
   "execution_count": 8,
   "metadata": {},
   "outputs": [],
   "source": [
    "class CustomLayer(nn.Module):\n",
    "    def __init__(self, in_nodes, out_nodes):\n",
    "        super(CustomLayer, self).__init__() # base class 초기화\n",
    "\n",
    "        self.linear = nn.Linear(in_nodes, out_nodes, bias=True)\n",
    "        self.activation = nn.Sigmoid()\n",
    "\n",
    "    def forward(self, x):\n",
    "        x = self.activation(self.linear(x))\n",
    "        return x"
   ]
  },
  {
   "cell_type": "code",
   "execution_count": 9,
   "metadata": {},
   "outputs": [],
   "source": [
    "## 변경\n",
    "model = nn.Sequential(\n",
    "    nn.Linear(2, 10, bias=True),\n",
    "    nn.Sigmoid(),\n",
    "    CustomLayer(10, 10),\n",
    "    CustomLayer(10, 10),\n",
    "    nn.Linear(10, 1, bias=True),\n",
    "    nn.Sigmoid()\n",
    ")"
   ]
  },
  {
   "cell_type": "code",
   "execution_count": 10,
   "metadata": {},
   "outputs": [
    {
     "data": {
      "text/plain": [
       "Sequential(\n",
       "  (0): Linear(in_features=2, out_features=10, bias=True)\n",
       "  (1): Sigmoid()\n",
       "  (2): CustomLayer(\n",
       "    (linear): Linear(in_features=10, out_features=10, bias=True)\n",
       "    (activation): Sigmoid()\n",
       "  )\n",
       "  (3): CustomLayer(\n",
       "    (linear): Linear(in_features=10, out_features=10, bias=True)\n",
       "    (activation): Sigmoid()\n",
       "  )\n",
       "  (4): Linear(in_features=10, out_features=1, bias=True)\n",
       "  (5): Sigmoid()\n",
       ")"
      ]
     },
     "execution_count": 10,
     "metadata": {},
     "output_type": "execute_result"
    }
   ],
   "source": [
    "model"
   ]
  },
  {
   "cell_type": "markdown",
   "metadata": {},
   "source": [
    "##### CustomLayer 2"
   ]
  },
  {
   "cell_type": "code",
   "execution_count": 11,
   "metadata": {},
   "outputs": [],
   "source": [
    "class CustomNetwork(nn.Module):\n",
    "    def __init__(self, n_nodes):\n",
    "        super(CustomNetwork, self).__init__() ## base class 초기화\n",
    "\n",
    "        self.linear1 = nn.Linear(2, n_nodes)\n",
    "        self.linear2 = nn.Linear(n_nodes, n_nodes)\n",
    "        self.linear3 = nn.Linear(n_nodes, n_nodes)\n",
    "        self.linear4 = nn.Linear(n_nodes, 1)\n",
    "        self.activation = nn.Sigmoid()\n",
    "\n",
    "    def forward(self, x):\n",
    "        x = self.activation(self.linear1(x))\n",
    "        x = self.activation(self.linear2(x))\n",
    "        x = self.activation(self.linear3(x))\n",
    "        x = self.activation(self.linear4(x))\n",
    "        return x"
   ]
  },
  {
   "cell_type": "code",
   "execution_count": 12,
   "metadata": {},
   "outputs": [],
   "source": [
    "model = CustomNetwork(10)"
   ]
  },
  {
   "cell_type": "code",
   "execution_count": 13,
   "metadata": {},
   "outputs": [
    {
     "data": {
      "text/plain": [
       "CustomNetwork(\n",
       "  (linear1): Linear(in_features=2, out_features=10, bias=True)\n",
       "  (linear2): Linear(in_features=10, out_features=10, bias=True)\n",
       "  (linear3): Linear(in_features=10, out_features=10, bias=True)\n",
       "  (linear4): Linear(in_features=10, out_features=1, bias=True)\n",
       "  (activation): Sigmoid()\n",
       ")"
      ]
     },
     "execution_count": 13,
     "metadata": {},
     "output_type": "execute_result"
    }
   ],
   "source": [
    "model"
   ]
  },
  {
   "cell_type": "markdown",
   "metadata": {},
   "source": [
    "##### Custom 신경망 XOR 문제"
   ]
  },
  {
   "cell_type": "code",
   "execution_count": 14,
   "metadata": {},
   "outputs": [],
   "source": [
    "import torch \n",
    "import torch.nn as nn"
   ]
  },
  {
   "cell_type": "code",
   "execution_count": 15,
   "metadata": {},
   "outputs": [],
   "source": [
    "device = 'cuda' if torch.cuda.is_available() else 'cpu'\n",
    "X = torch.FloatTensor([[0,0],[0,1],[1,0],[1,1]]).to(device)\n",
    "Y = torch.FloatTensor([[0],[1],[1],[0]]).to(device)\n",
    "\n",
    "model = CustomNetwork(10).to(device)\n",
    "criterion = nn.BCELoss().to(device)\n",
    "optimizer = torch.optim.SGD(model.parameters(), lr=1) # learning rate 를 0.1부터 1까지 조정해볼 것"
   ]
  },
  {
   "cell_type": "code",
   "execution_count": 16,
   "metadata": {},
   "outputs": [
    {
     "name": "stdout",
     "output_type": "stream",
     "text": [
      "Epoch : 0000, Cost : 0.696675062\n",
      "Epoch : 0100, Cost : 0.693145692\n",
      "Epoch : 0200, Cost : 0.693145394\n",
      "Epoch : 0300, Cost : 0.693144977\n",
      "Epoch : 0400, Cost : 0.693144619\n",
      "Epoch : 0500, Cost : 0.693144202\n",
      "Epoch : 0600, Cost : 0.693143785\n",
      "Epoch : 0700, Cost : 0.693143368\n",
      "Epoch : 0800, Cost : 0.693142891\n",
      "Epoch : 0900, Cost : 0.693142474\n",
      "Epoch : 1000, Cost : 0.693142056\n",
      "Epoch : 1100, Cost : 0.693141580\n",
      "Epoch : 1200, Cost : 0.693141162\n",
      "Epoch : 1300, Cost : 0.693140626\n",
      "Epoch : 1400, Cost : 0.693140149\n",
      "Epoch : 1500, Cost : 0.693139553\n",
      "Epoch : 1600, Cost : 0.693139076\n",
      "Epoch : 1700, Cost : 0.693138480\n",
      "Epoch : 1800, Cost : 0.693137884\n",
      "Epoch : 1900, Cost : 0.693137228\n",
      "Epoch : 2000, Cost : 0.693136573\n",
      "Epoch : 2100, Cost : 0.693135738\n",
      "Epoch : 2200, Cost : 0.693135023\n",
      "Epoch : 2300, Cost : 0.693134308\n",
      "Epoch : 2400, Cost : 0.693133414\n",
      "Epoch : 2500, Cost : 0.693132520\n",
      "Epoch : 2600, Cost : 0.693131566\n",
      "Epoch : 2700, Cost : 0.693130612\n",
      "Epoch : 2800, Cost : 0.693129539\n",
      "Epoch : 2900, Cost : 0.693128407\n",
      "Epoch : 3000, Cost : 0.693127215\n",
      "Epoch : 3100, Cost : 0.693125904\n",
      "Epoch : 3200, Cost : 0.693124413\n",
      "Epoch : 3300, Cost : 0.693122983\n",
      "Epoch : 3400, Cost : 0.693121254\n",
      "Epoch : 3500, Cost : 0.693119526\n",
      "Epoch : 3600, Cost : 0.693117619\n",
      "Epoch : 3700, Cost : 0.693115592\n",
      "Epoch : 3800, Cost : 0.693113327\n",
      "Epoch : 3900, Cost : 0.693110824\n",
      "Epoch : 4000, Cost : 0.693108201\n",
      "Epoch : 4100, Cost : 0.693105161\n",
      "Epoch : 4200, Cost : 0.693101943\n",
      "Epoch : 4300, Cost : 0.693098247\n",
      "Epoch : 4400, Cost : 0.693094254\n",
      "Epoch : 4500, Cost : 0.693089843\n",
      "Epoch : 4600, Cost : 0.693084776\n",
      "Epoch : 4700, Cost : 0.693079114\n",
      "Epoch : 4800, Cost : 0.693072736\n",
      "Epoch : 4900, Cost : 0.693065464\n",
      "Epoch : 5000, Cost : 0.693057179\n",
      "Epoch : 5100, Cost : 0.693047523\n",
      "Epoch : 5200, Cost : 0.693036437\n",
      "Epoch : 5300, Cost : 0.693023324\n",
      "Epoch : 5400, Cost : 0.693007946\n",
      "Epoch : 5500, Cost : 0.692989469\n",
      "Epoch : 5600, Cost : 0.692967176\n",
      "Epoch : 5700, Cost : 0.692939818\n",
      "Epoch : 5800, Cost : 0.692905664\n",
      "Epoch : 5900, Cost : 0.692862034\n",
      "Epoch : 6000, Cost : 0.692805409\n",
      "Epoch : 6100, Cost : 0.692729473\n",
      "Epoch : 6200, Cost : 0.692624152\n",
      "Epoch : 6300, Cost : 0.692471504\n",
      "Epoch : 6400, Cost : 0.692236722\n",
      "Epoch : 6500, Cost : 0.691845834\n",
      "Epoch : 6600, Cost : 0.691115618\n",
      "Epoch : 6700, Cost : 0.689480007\n",
      "Epoch : 6800, Cost : 0.684406638\n",
      "Epoch : 6900, Cost : 0.652114570\n",
      "Epoch : 7000, Cost : 0.335035801\n",
      "Epoch : 7100, Cost : 0.013022991\n",
      "Epoch : 7200, Cost : 0.005482634\n",
      "Epoch : 7300, Cost : 0.003321805\n",
      "Epoch : 7400, Cost : 0.002339412\n",
      "Epoch : 7500, Cost : 0.001787936\n",
      "Epoch : 7600, Cost : 0.001438292\n",
      "Epoch : 7700, Cost : 0.001198261\n",
      "Epoch : 7800, Cost : 0.001024021\n",
      "Epoch : 7900, Cost : 0.000892182\n",
      "Epoch : 8000, Cost : 0.000789161\n",
      "Epoch : 8100, Cost : 0.000706568\n",
      "Epoch : 8200, Cost : 0.000638990\n",
      "Epoch : 8300, Cost : 0.000582733\n",
      "Epoch : 8400, Cost : 0.000535189\n",
      "Epoch : 8500, Cost : 0.000494534\n",
      "Epoch : 8600, Cost : 0.000459420\n",
      "Epoch : 8700, Cost : 0.000428733\n",
      "Epoch : 8800, Cost : 0.000401749\n",
      "Epoch : 8900, Cost : 0.000377876\n",
      "Epoch : 9000, Cost : 0.000356540\n",
      "Epoch : 9100, Cost : 0.000337376\n",
      "Epoch : 9200, Cost : 0.000320135\n",
      "Epoch : 9300, Cost : 0.000304507\n",
      "Epoch : 9400, Cost : 0.000290262\n",
      "Epoch : 9500, Cost : 0.000277241\n",
      "Epoch : 9600, Cost : 0.000265313\n",
      "Epoch : 9700, Cost : 0.000254321\n",
      "Epoch : 9800, Cost : 0.000244153\n",
      "Epoch : 9900, Cost : 0.000234760\n",
      "Epoch : 10000, Cost : 0.000226041\n"
     ]
    }
   ],
   "source": [
    "for epoch in range(10001):\n",
    "    optimizer.zero_grad()\n",
    "    hypothesis = model(X)\n",
    "\n",
    "    cost = criterion(hypothesis, Y)  # 비용은 가설과 출력값을 통해 구함\n",
    "    cost.backward()\n",
    "    optimizer.step()\n",
    "\n",
    "    if epoch % 100 == 0:\n",
    "        print(f'Epoch : {epoch:04d}, Cost : {cost.item():.9f}')"
   ]
  },
  {
   "cell_type": "code",
   "execution_count": 17,
   "metadata": {},
   "outputs": [
    {
     "name": "stdout",
     "output_type": "stream",
     "text": [
      "모델의 출력값(Hypothesis): [[1.7573987e-04]\n",
      " [9.9978429e-01]\n",
      " [9.9978071e-01]\n",
      " [2.9291309e-04]]\n",
      "모델의 예측값(Predicted): [[0.]\n",
      " [1.]\n",
      " [1.]\n",
      " [0.]]\n",
      "실제값(Y): [[0.]\n",
      " [1.]\n",
      " [1.]\n",
      " [0.]]\n",
      "정확도(Accuracy): 1.0\n"
     ]
    }
   ],
   "source": [
    "with torch.no_grad():\n",
    "    hypothesis = model(X)\n",
    "    predicted = (hypothesis > 0.5).float()\n",
    "    accuracy = (predicted == Y).float().mean()\n",
    "\n",
    "    print(f'모델의 출력값(Hypothesis): {hypothesis.detach().cpu().numpy()}')\n",
    "    print(f'모델의 예측값(Predicted): {predicted.detach().cpu().numpy()}')\n",
    "    print(f'실제값(Y): {Y.cpu().numpy()}')\n",
    "    print(f'정확도(Accuracy): {accuracy.item()}')"
   ]
  },
  {
   "cell_type": "markdown",
   "metadata": {},
   "source": [
    "### Optimizer\n",
    "\n",
    "#### Gradient 잡음현상\n",
    "- 훈련 세트를 이용하여 그래디언트 추정하면 잡음 가능성이 높음\n",
    "- 모멘텀 - 그래디언트에 스무딩을 가하여 잡음효과를 줄여서 수렴 속도를 향상\n",
    "\n",
    "#### Learning rate 중요성\n",
    "- 너무 클 경우 오버슈팅에 따른 발산 발생\n",
    "- 너무 작을 경우 수렴이 느림\n",
    "\n",
    "#### Adaptive Learning Rate\n",
    "- AdaGrad(Adaptive Gradient)\n",
    "- RMSProp (Root Mean Square Propagation) - AdaGrad 단점 해결\n",
    "- Adam(Adaptive Momemtum Estimation) - RMSProp + Momentum\n",
    "\n",
    "    <img src=\"https://raw.githubusercontent.com/hugoMGSung/study-pytorch/refs/heads/main/images/torch0015.png\" width=\"600\">"
   ]
  },
  {
   "cell_type": "markdown",
   "metadata": {},
   "source": [
    "### Optimizer 실습\n",
    "\n",
    "#### Circle Classification"
   ]
  },
  {
   "cell_type": "code",
   "execution_count": 18,
   "metadata": {},
   "outputs": [],
   "source": [
    "import torch\n",
    "import torch.nn as nn\n",
    "import numpy as np\n",
    "import matplotlib.pyplot as plt\n",
    "\n",
    "from sklearn import datasets"
   ]
  },
  {
   "cell_type": "code",
   "execution_count": 19,
   "metadata": {},
   "outputs": [
    {
     "name": "stdout",
     "output_type": "stream",
     "text": [
      "torch.Size([500, 2])\n",
      "torch.Size([500, 1])\n"
     ]
    }
   ],
   "source": [
    "torch.manual_seed(123)\n",
    "\n",
    "num_data = 500\n",
    "X, Y = datasets.make_circles(\n",
    "    n_samples=num_data, random_state=123, noise=0.2, factor=0.3\n",
    ") ## data 생성\n",
    "\n",
    "x_data = torch.Tensor(X)\n",
    "y_data = torch.Tensor(Y.reshape(num_data, 1))\n",
    "\n",
    "print(x_data.shape, y_data.shape, sep='\\n')  ## (500, 2), (500, 1)"
   ]
  },
  {
   "cell_type": "code",
   "execution_count": 23,
   "metadata": {},
   "outputs": [
    {
     "data": {
      "image/png": "[encoded data removed]",
      "text/plain": [
       "<Figure size 640x480 with 1 Axes>"
      ]
     },
     "metadata": {},
     "output_type": "display_data"
    }
   ],
   "source": [
    "## 데이터의 상황확인\n",
    "plt.scatter(X[Y == 0, 0], X[Y == 0, 1], color='red')\n",
    "plt.scatter(X[Y == 1, 0], X[Y == 1, 1], color='blue')\n",
    "plt.grid()\n",
    "plt.title('Data distribution')\n",
    "plt.show()"
   ]
  },
  {
   "cell_type": "markdown",
   "metadata": {},
   "source": [
    "##### SGD 옵티마이저"
   ]
  },
  {
   "cell_type": "code",
   "execution_count": 28,
   "metadata": {},
   "outputs": [],
   "source": [
    "class Network(nn.Module):\n",
    "    def __init__(self, number_node):\n",
    "        super().__init__()\n",
    "        self.linear1 = nn.Linear(2, number_node)\n",
    "        self.linear2 = nn.Linear(number_node, 1)\n",
    "        self.activation = nn.Sigmoid()\n",
    "\n",
    "    def forward(self, x):\n",
    "        x = self.activation(self.linear1(x))\n",
    "        x = self.activation(self.linear2(x))    \n",
    "        return x \n",
    "\n",
    "model = Network(4)"
   ]
  },
  {
   "cell_type": "code",
   "execution_count": 33,
   "metadata": {},
   "outputs": [],
   "source": [
    "net_params = model.parameters()\n",
    "optimizer = torch.optim.SGD(net_params, lr=0.01)\n",
    "\n",
    "criterion = nn.BCELoss()"
   ]
  },
  {
   "cell_type": "code",
   "execution_count": 34,
   "metadata": {},
   "outputs": [
    {
     "data": {
      "image/png": "[encoded data removed]",
      "text/plain": [
       "<Figure size 640x480 with 1 Axes>"
      ]
     },
     "metadata": {},
     "output_type": "display_data"
    }
   ],
   "source": [
    "epochs = 1000\n",
    "losses = []\n",
    "\n",
    "for i in range(epochs):\n",
    "    optimizer.zero_grad()\n",
    "    y_pred = model(x_data)\n",
    "    loss = criterion(y_pred, y_data)\n",
    "    loss.backward()\n",
    "    optimizer.step()\n",
    "    losses.append(loss.item())\n",
    "\n",
    "x1_span = np.linspace(min(X[:, 0]), max(X[:, 0]))\n",
    "x2_span = np.linspace(min(X[:, 1]), max(X[:, 1]))\n",
    "xx1, xx2 = np.meshgrid(x1_span, x2_span)\n",
    "grid = torch.Tensor(np.c_[xx1.ravel(), xx2.ravel()])\n",
    "pred_func = model(grid)\n",
    "z = pred_func.view(xx1.shape).detach().numpy()\n",
    "\n",
    "plt.contourf(xx1, xx2, z)\n",
    "plt.show()"
   ]
  },
  {
   "cell_type": "markdown",
   "metadata": {},
   "source": [
    "##### 분류가 되지 않음 \n",
    "\n",
    "##### Adam 옵티마이저로 변경"
   ]
  },
  {
   "cell_type": "code",
   "execution_count": 35,
   "metadata": {},
   "outputs": [],
   "source": [
    "net_params = model.parameters()\n",
    "optimizer = torch.optim.Adam(net_params, lr=0.01, betas=(0.9, 0.999))\n",
    "\n",
    "criterion = nn.BCELoss()"
   ]
  },
  {
   "cell_type": "code",
   "execution_count": 36,
   "metadata": {},
   "outputs": [
    {
     "data": {
      "image/png": "[encoded data removed]",
      "text/plain": [
       "<Figure size 640x480 with 1 Axes>"
      ]
     },
     "metadata": {},
     "output_type": "display_data"
    }
   ],
   "source": [
    "epochs = 1000\n",
    "losses = []\n",
    "\n",
    "for i in range(epochs):\n",
    "    optimizer.zero_grad()\n",
    "    y_pred = model(x_data)\n",
    "    loss = criterion(y_pred, y_data)\n",
    "    loss.backward()\n",
    "    optimizer.step()\n",
    "    losses.append(loss.item())\n",
    "\n",
    "x1_span = np.linspace(min(X[:, 0]), max(X[:, 0]))\n",
    "x2_span = np.linspace(min(X[:, 1]), max(X[:, 1]))\n",
    "xx1, xx2 = np.meshgrid(x1_span, x2_span)\n",
    "grid = torch.Tensor(np.c_[xx1.ravel(), xx2.ravel()])\n",
    "pred_func = model(grid)\n",
    "z = pred_func.view(xx1.shape).detach().numpy()\n",
    "\n",
    "plt.contourf(xx1, xx2, z)\n",
    "plt.show()"
   ]
  },
  {
   "cell_type": "markdown",
   "metadata": {},
   "source": [
    "##### 분류가 잘됨"
   ]
  }
 ],
 "metadata": {
  "kernelspec": {
   "display_name": "Python 3",
   "language": "python",
   "name": "python3"
  },
  "language_info": {
   "codemirror_mode": {
    "name": "ipython",
    "version": 3
   },
   "file_extension": ".py",
   "mimetype": "text/x-python",
   "name": "python",
   "nbconvert_exporter": "python",
   "pygments_lexer": "ipython3",
   "version": "3.11.9"
  }
 },
 "nbformat": 4,
 "nbformat_minor": 2
}
