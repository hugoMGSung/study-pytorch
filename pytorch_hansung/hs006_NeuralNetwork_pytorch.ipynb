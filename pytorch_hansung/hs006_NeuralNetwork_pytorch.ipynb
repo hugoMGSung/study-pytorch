{
 "cells": [
  {
   "cell_type": "markdown",
   "metadata": {},
   "source": [
    "## 인공신경망\n",
    "\n",
    "### 단일 퍼셉트론"
   ]
  },
  {
   "cell_type": "markdown",
   "metadata": {},
   "source": [
    "##### 인공신경망\n",
    "- 1950년 부터 연구된 인공신경망(Artificial Neural Network: ANN)에 기초\n",
    "- 생물학적 신경망에서 영감을 받아 만들어진 계산구조\n",
    "\n",
    "    <img src=\"https://framerusercontent.com/images/foP4Gj0q0SLo6Z1VVGRUe63abk.jpg\" width=\"800\" height=\"400\">"
   ]
  },
  {
   "cell_type": "markdown",
   "metadata": {},
   "source": [
    "##### Perceptron\n",
    "- 1957년 Frank Resonblatt이 고안한 인공신경망 구조\n",
    "\n",
    "    <img src=\"https://raw.githubusercontent.com/hugoMGSung/study-pytorch/refs/heads/main/images/torch0011.png\" width=\"800\">\n",
    "\n",
    "\n",
    "    - Inputs - 실수값을 갖는 벡터\n",
    "    - Weights - 가중치 (선형결합에 사용될 값)\n",
    "    - Neurone \n",
    "        - 뇌 세포의 이름과 동일. 직접 입력값을 처리하는 영역. 입력값에 특정 가중치를 적용한 것들을 모두 합산\n",
    "        - 뉴런의 활성화 함수로 전달\n",
    "        - bias(편향)는 뉴런이 모든 입력값이 0일때에도 출력을 생성할 수 있게 해주는 역할\n",
    "    - Activation - 뉴런에서 전달받은 값에 비선형을 학습하고 복잡한 패턴을 표현할 수 있게 해줌\n",
    "    - Output - -1 ~ 1 사이의 값을 출력\n",
    "\n",
    "\n",
    "##### 입력된 X에 대한 출력 Y\n",
    "- X -> w -> +b -> Activation function -> Y"
   ]
  },
  {
   "cell_type": "markdown",
   "metadata": {},
   "source": [
    "#### OR 분류문제\n",
    "- 간단한 논리 연산자를 학습하는 딥러닝 문제 중 하나. OR 논리 게이트를 모델로 학습시키는 것\n",
    "- OR 게이트는 두개의 입력값 중 하나라도 True(1)이면 출력이 1이 되는 연산\n",
    "\n",
    "|input x1|input x2|output y(OR)|\n",
    "|---:|---:|---:|\n",
    "|0|0|0|\n",
    "|0|1|1|\n",
    "|1|0|1|\n",
    "|1|1|1|\n",
    "\n",
    "##### 모델 구조\n",
    "\n",
    "$$ z = w_{1}x_{1} + w_{2}x_{2} + b $$ \n",
    "$$ y = Activation(z) $$\n",
    "\n",
    "- w1, w2 는 가중치, b 는 편향, Activation 은 Sigmoid 등의 할성화 함수\n",
    "- 분류문제므로 손실함수로 이진 교차 엔트로피를 주로 사용\n",
    "- 학습목표는 가중치와 편향을 학습하여 출력y가 OR 논리를 만족하도록 만드는 것\n",
    "- Backpropagation 역전파와 Graident Descent 경사하강법으로 학습"
   ]
  },
  {
   "cell_type": "markdown",
   "metadata": {},
   "source": [
    "### 단일 퍼셉트론의 문제점\n",
    "\n",
    "#### OR문제 학습"
   ]
  },
  {
   "cell_type": "code",
   "execution_count": 1,
   "metadata": {},
   "outputs": [],
   "source": [
    "import torch\n",
    "import torch.nn as nn"
   ]
  },
  {
   "cell_type": "code",
   "execution_count": 5,
   "metadata": {},
   "outputs": [
    {
     "data": {
      "text/plain": [
       "device(type='cuda')"
      ]
     },
     "execution_count": 5,
     "metadata": {},
     "output_type": "execute_result"
    }
   ],
   "source": [
    "device = torch.device('cuda' if torch.cuda.is_available() else 'cpu')\n",
    "# device = 'cuda' if torch.cuda.is_available() else 'cpu'\n",
    "device"
   ]
  },
  {
   "cell_type": "markdown",
   "metadata": {},
   "source": [
    "##### OR값"
   ]
  },
  {
   "cell_type": "code",
   "execution_count": 6,
   "metadata": {},
   "outputs": [],
   "source": [
    "X = torch.FloatTensor([[0,0],[0,1],[1,0],[1,1]]).to(device)\n",
    "Y = torch.FloatTensor([[0],[1],[1],[1]]).to(device)"
   ]
  },
  {
   "cell_type": "markdown",
   "metadata": {},
   "source": [
    "##### 훈련"
   ]
  },
  {
   "cell_type": "code",
   "execution_count": 7,
   "metadata": {},
   "outputs": [
    {
     "name": "stdout",
     "output_type": "stream",
     "text": [
      "Epoch: 0000, Cost: 0.820362329\n",
      "Epoch: 0100, Cost: 0.093902916\n",
      "Epoch: 0200, Cost: 0.048203304\n",
      "Epoch: 0300, Cost: 0.032028854\n",
      "Epoch: 0400, Cost: 0.023880810\n",
      "Epoch: 0500, Cost: 0.019001313\n",
      "Epoch: 0600, Cost: 0.015761431\n",
      "Epoch: 0700, Cost: 0.013457287\n",
      "Epoch: 0800, Cost: 0.011736300\n",
      "Epoch: 0900, Cost: 0.010402864\n",
      "Epoch: 1000, Cost: 0.009339727\n",
      "Epoch: 1100, Cost: 0.008472646\n",
      "Epoch: 1200, Cost: 0.007752014\n",
      "Epoch: 1300, Cost: 0.007143807\n",
      "Epoch: 1400, Cost: 0.006623670\n",
      "Epoch: 1500, Cost: 0.006173852\n",
      "Epoch: 1600, Cost: 0.005780944\n",
      "Epoch: 1700, Cost: 0.005434918\n",
      "Epoch: 1800, Cost: 0.005127794\n",
      "Epoch: 1900, Cost: 0.004853448\n",
      "Epoch: 2000, Cost: 0.004606802\n",
      "Epoch: 2100, Cost: 0.004383982\n",
      "Epoch: 2200, Cost: 0.004181684\n",
      "Epoch: 2300, Cost: 0.003997146\n",
      "Epoch: 2400, Cost: 0.003828149\n",
      "Epoch: 2500, Cost: 0.003672857\n",
      "Epoch: 2600, Cost: 0.003529606\n",
      "Epoch: 2700, Cost: 0.003397123\n",
      "Epoch: 2800, Cost: 0.003274194\n",
      "Epoch: 2900, Cost: 0.003159783\n",
      "Epoch: 3000, Cost: 0.003053137\n",
      "Epoch: 3100, Cost: 0.002953388\n",
      "Epoch: 3200, Cost: 0.002859989\n",
      "Epoch: 3300, Cost: 0.002772261\n",
      "Epoch: 3400, Cost: 0.002689770\n",
      "Epoch: 3500, Cost: 0.002612026\n",
      "Epoch: 3600, Cost: 0.002538654\n",
      "Epoch: 3700, Cost: 0.002469277\n",
      "Epoch: 3800, Cost: 0.002403596\n",
      "Epoch: 3900, Cost: 0.002341244\n",
      "Epoch: 4000, Cost: 0.002282105\n",
      "Epoch: 4100, Cost: 0.002225874\n",
      "Epoch: 4200, Cost: 0.002172372\n",
      "Epoch: 4300, Cost: 0.002121284\n",
      "Epoch: 4400, Cost: 0.002072605\n",
      "Epoch: 4500, Cost: 0.002026156\n",
      "Epoch: 4600, Cost: 0.001981649\n",
      "Epoch: 4700, Cost: 0.001939101\n",
      "Epoch: 4800, Cost: 0.001898325\n",
      "Epoch: 4900, Cost: 0.001859199\n",
      "Epoch: 5000, Cost: 0.001821668\n",
      "Epoch: 5100, Cost: 0.001785679\n",
      "Epoch: 5200, Cost: 0.001750976\n",
      "Epoch: 5300, Cost: 0.001717693\n",
      "Epoch: 5400, Cost: 0.001685609\n",
      "Epoch: 5500, Cost: 0.001654685\n",
      "Epoch: 5600, Cost: 0.001624891\n",
      "Epoch: 5700, Cost: 0.001596160\n",
      "Epoch: 5800, Cost: 0.001568402\n",
      "Epoch: 5900, Cost: 0.001541619\n",
      "Epoch: 6000, Cost: 0.001515725\n",
      "Epoch: 6100, Cost: 0.001490666\n",
      "Epoch: 6200, Cost: 0.001466416\n",
      "Epoch: 6300, Cost: 0.001442928\n",
      "Epoch: 6400, Cost: 0.001420237\n",
      "Epoch: 6500, Cost: 0.001398236\n",
      "Epoch: 6600, Cost: 0.001376907\n",
      "Epoch: 6700, Cost: 0.001356173\n",
      "Epoch: 6800, Cost: 0.001336049\n",
      "Epoch: 6900, Cost: 0.001316580\n",
      "Epoch: 7000, Cost: 0.001297661\n",
      "Epoch: 7100, Cost: 0.001279251\n",
      "Epoch: 7200, Cost: 0.001261336\n",
      "Epoch: 7300, Cost: 0.001243933\n",
      "Epoch: 7400, Cost: 0.001227002\n",
      "Epoch: 7500, Cost: 0.001210533\n",
      "Epoch: 7600, Cost: 0.001194516\n",
      "Epoch: 7700, Cost: 0.001178881\n",
      "Epoch: 7800, Cost: 0.001163680\n",
      "Epoch: 7900, Cost: 0.001148842\n",
      "Epoch: 8000, Cost: 0.001134422\n",
      "Epoch: 8100, Cost: 0.001120260\n",
      "Epoch: 8200, Cost: 0.001106559\n",
      "Epoch: 8300, Cost: 0.001093133\n",
      "Epoch: 8400, Cost: 0.001080034\n",
      "Epoch: 8500, Cost: 0.001067258\n",
      "Epoch: 8600, Cost: 0.001054766\n",
      "Epoch: 8700, Cost: 0.001042586\n",
      "Epoch: 8800, Cost: 0.001030648\n",
      "Epoch: 8900, Cost: 0.001018981\n",
      "Epoch: 9000, Cost: 0.001007607\n",
      "Epoch: 9100, Cost: 0.000996465\n",
      "Epoch: 9200, Cost: 0.000985574\n",
      "Epoch: 9300, Cost: 0.000974875\n",
      "Epoch: 9400, Cost: 0.000964512\n",
      "Epoch: 9500, Cost: 0.000954242\n",
      "Epoch: 9600, Cost: 0.000944270\n",
      "Epoch: 9700, Cost: 0.000934472\n",
      "Epoch: 9800, Cost: 0.000924875\n",
      "Epoch: 9900, Cost: 0.000915478\n"
     ]
    }
   ],
   "source": [
    "linear = nn.Linear(2, 1, bias=True)\n",
    "sigmoid = nn.Sigmoid()\n",
    "model = nn.Sequential(linear, sigmoid).to(device)\n",
    "\n",
    "# 비용함수와 옵티마이저 정의\n",
    "criterion = torch.nn.BCELoss().to(device) # Binary Cross Entropy\n",
    "optimizer = torch.optim.SGD(model.parameters(), lr=1)\n",
    "\n",
    "# 10_000번\n",
    "for epoch in range(10000):\n",
    "    optimizer.zero_grad()\n",
    "    hypothesis = model(X)\n",
    "\n",
    "    # 비용함수\n",
    "    cost = criterion(hypothesis, Y)\n",
    "    cost.backward()\n",
    "    optimizer.step()\n",
    "\n",
    "    if epoch % 100 == 0:\n",
    "        print(f'Epoch: {epoch:04d}, Cost: {cost.item():.9f}')"
   ]
  },
  {
   "cell_type": "markdown",
   "metadata": {},
   "source": [
    "##### 테스트"
   ]
  },
  {
   "cell_type": "code",
   "execution_count": 14,
   "metadata": {},
   "outputs": [
    {
     "name": "stdout",
     "output_type": "stream",
     "text": [
      "모델 출력값(Hypothesis): [[0.00201262]\n",
      " [0.99919504]\n",
      " [0.99919504]\n",
      " [1.        ]]\n",
      "모델 예측값(Predict): [[0.]\n",
      " [1.]\n",
      " [1.]\n",
      " [1.]]\n",
      "실제값(Y): [[0.]\n",
      " [1.]\n",
      " [1.]\n",
      " [1.]]\n",
      "정확도(Accuracy): 1.0\n"
     ]
    }
   ],
   "source": [
    "with torch.no_grad():\n",
    "    hypothesis = model(X)\n",
    "    predict = (hypothesis > 0.5).float()\n",
    "    accuracy = (predict == Y).float().mean()\n",
    "    print(f\"모델 출력값(Hypothesis): {hypothesis.detach().cpu().numpy()}\")\n",
    "    print(f'모델 예측값(Predict): {predict.detach().cpu().numpy()}')\n",
    "    print(f'실제값(Y): {Y.detach().cpu().numpy()}')\n",
    "    print(f'정확도(Accuracy): {accuracy.item()}')\n"
   ]
  },
  {
   "cell_type": "markdown",
   "metadata": {},
   "source": [
    "##### 여기까지는 별문제가 없어 보임!"
   ]
  },
  {
   "cell_type": "markdown",
   "metadata": {},
   "source": [
    "#### 한계\n",
    "- Non-linear 문제가 존재\n",
    "\n",
    "    <img src=\"https://raw.githubusercontent.com/hugoMGSung/study-pytorch/refs/heads/main/images/torch0012.png\" width=\"800\">\n",
    "\n",
    "- 예: XOR 문제\n",
    "\n",
    "    [참조링크](https://medium.com/@lmpo/a-brief-history-of-ai-with-deep-learning-26f7948bc87b)"
   ]
  },
  {
   "cell_type": "markdown",
   "metadata": {},
   "source": [
    "### 다중계층 퍼셉트론\n",
    "\n",
    "#### 해결법\n",
    "- 두 단계로 분류를 진행하면 해결 가능\n",
    "- 단일 퍼셉트론을 다중으로 겹침으로써 해결가능한 문제의 범주를 확대"
   ]
  },
  {
   "cell_type": "markdown",
   "metadata": {},
   "source": [
    "##### XOR 값"
   ]
  },
  {
   "cell_type": "code",
   "execution_count": 15,
   "metadata": {},
   "outputs": [],
   "source": [
    "X = torch.FloatTensor([[0,0],[0,1],[1,0],[1,1]]).to(device)\n",
    "Y = torch.FloatTensor([[0],[1],[1],[0]]).to(device)"
   ]
  },
  {
   "cell_type": "code",
   "execution_count": 16,
   "metadata": {},
   "outputs": [
    {
     "name": "stdout",
     "output_type": "stream",
     "text": [
      "Epoch: 0000, Cost: 0.724791050\n",
      "Epoch: 0100, Cost: 0.693008661\n",
      "Epoch: 0200, Cost: 0.692750096\n",
      "Epoch: 0300, Cost: 0.692028165\n",
      "Epoch: 0400, Cost: 0.687997580\n",
      "Epoch: 0500, Cost: 0.647870660\n",
      "Epoch: 0600, Cost: 0.519063652\n",
      "Epoch: 0700, Cost: 0.205190748\n",
      "Epoch: 0800, Cost: 0.078483582\n",
      "Epoch: 0900, Cost: 0.045516428\n",
      "Epoch: 1000, Cost: 0.031572908\n",
      "Epoch: 1100, Cost: 0.024023829\n",
      "Epoch: 1200, Cost: 0.019329097\n",
      "Epoch: 1300, Cost: 0.016140645\n",
      "Epoch: 1400, Cost: 0.013839476\n",
      "Epoch: 1500, Cost: 0.012103309\n",
      "Epoch: 1600, Cost: 0.010748316\n",
      "Epoch: 1700, Cost: 0.009662222\n",
      "Epoch: 1800, Cost: 0.008772782\n",
      "Epoch: 1900, Cost: 0.008031387\n",
      "Epoch: 2000, Cost: 0.007404077\n",
      "Epoch: 2100, Cost: 0.006866590\n",
      "Epoch: 2200, Cost: 0.006401021\n",
      "Epoch: 2300, Cost: 0.005993940\n",
      "Epoch: 2400, Cost: 0.005635011\n",
      "Epoch: 2500, Cost: 0.005316248\n",
      "Epoch: 2600, Cost: 0.005031239\n",
      "Epoch: 2700, Cost: 0.004774994\n",
      "Epoch: 2800, Cost: 0.004543333\n",
      "Epoch: 2900, Cost: 0.004332924\n",
      "Epoch: 3000, Cost: 0.004140973\n",
      "Epoch: 3100, Cost: 0.003965179\n",
      "Epoch: 3200, Cost: 0.003803539\n",
      "Epoch: 3300, Cost: 0.003654516\n",
      "Epoch: 3400, Cost: 0.003516591\n",
      "Epoch: 3500, Cost: 0.003388640\n",
      "Epoch: 3600, Cost: 0.003269631\n",
      "Epoch: 3700, Cost: 0.003158569\n",
      "Epoch: 3800, Cost: 0.003054793\n",
      "Epoch: 3900, Cost: 0.002957564\n",
      "Epoch: 4000, Cost: 0.002866270\n",
      "Epoch: 4100, Cost: 0.002780461\n",
      "Epoch: 4200, Cost: 0.002699558\n",
      "Epoch: 4300, Cost: 0.002623185\n",
      "Epoch: 4400, Cost: 0.002551037\n",
      "Epoch: 4500, Cost: 0.002482699\n",
      "Epoch: 4600, Cost: 0.002417895\n",
      "Epoch: 4700, Cost: 0.002356390\n",
      "Epoch: 4800, Cost: 0.002297895\n",
      "Epoch: 4900, Cost: 0.002242218\n",
      "Epoch: 5000, Cost: 0.002189174\n",
      "Epoch: 5100, Cost: 0.002138551\n",
      "Epoch: 5200, Cost: 0.002090194\n",
      "Epoch: 5300, Cost: 0.002044008\n",
      "Epoch: 5400, Cost: 0.001999757\n",
      "Epoch: 5500, Cost: 0.001957389\n",
      "Epoch: 5600, Cost: 0.001916796\n",
      "Epoch: 5700, Cost: 0.001877792\n",
      "Epoch: 5800, Cost: 0.001840349\n",
      "Epoch: 5900, Cost: 0.001804397\n",
      "Epoch: 6000, Cost: 0.001769795\n",
      "Epoch: 6100, Cost: 0.001736491\n",
      "Epoch: 6200, Cost: 0.001704396\n",
      "Epoch: 6300, Cost: 0.001673492\n",
      "Epoch: 6400, Cost: 0.001643650\n",
      "Epoch: 6500, Cost: 0.001614856\n",
      "Epoch: 6600, Cost: 0.001587046\n",
      "Epoch: 6700, Cost: 0.001560179\n",
      "Epoch: 6800, Cost: 0.001534174\n",
      "Epoch: 6900, Cost: 0.001509057\n",
      "Epoch: 7000, Cost: 0.001484737\n",
      "Epoch: 7100, Cost: 0.001461194\n",
      "Epoch: 7200, Cost: 0.001438338\n",
      "Epoch: 7300, Cost: 0.001416216\n",
      "Epoch: 7400, Cost: 0.001394749\n",
      "Epoch: 7500, Cost: 0.001373929\n",
      "Epoch: 7600, Cost: 0.001353726\n",
      "Epoch: 7700, Cost: 0.001334114\n",
      "Epoch: 7800, Cost: 0.001315023\n",
      "Epoch: 7900, Cost: 0.001296512\n",
      "Epoch: 8000, Cost: 0.001278472\n",
      "Epoch: 8100, Cost: 0.001260954\n",
      "Epoch: 8200, Cost: 0.001243869\n",
      "Epoch: 8300, Cost: 0.001227272\n",
      "Epoch: 8400, Cost: 0.001211097\n",
      "Epoch: 8500, Cost: 0.001195360\n",
      "Epoch: 8600, Cost: 0.001180028\n",
      "Epoch: 8700, Cost: 0.001165037\n",
      "Epoch: 8800, Cost: 0.001150452\n",
      "Epoch: 8900, Cost: 0.001136222\n",
      "Epoch: 9000, Cost: 0.001122341\n",
      "Epoch: 9100, Cost: 0.001108804\n",
      "Epoch: 9200, Cost: 0.001095576\n",
      "Epoch: 9300, Cost: 0.001082665\n",
      "Epoch: 9400, Cost: 0.001070056\n",
      "Epoch: 9500, Cost: 0.001057694\n",
      "Epoch: 9600, Cost: 0.001045665\n",
      "Epoch: 9700, Cost: 0.001033867\n",
      "Epoch: 9800, Cost: 0.001022375\n",
      "Epoch: 9900, Cost: 0.001011104\n"
     ]
    }
   ],
   "source": [
    "mapping = nn.Linear(2, 2, bias=True) ## 입력값 두개를 받아서 2개의 출력으로\n",
    "classfier = nn.Linear(2, 1, bias=True)\n",
    "sigmoid = nn.Sigmoid()\n",
    "model = nn.Sequential(mapping, sigmoid, classfier, sigmoid).to(device)\n",
    "\n",
    "# 비용함수와 옵티마이저 정의\n",
    "criterion = torch.nn.BCELoss().to(device) # Binary Cross Entropy\n",
    "optimizer = torch.optim.SGD(model.parameters(), lr=1)\n",
    "\n",
    "# 10_000번\n",
    "for epoch in range(10000):\n",
    "    optimizer.zero_grad()\n",
    "    hypothesis = model(X)\n",
    "\n",
    "    # 비용함수\n",
    "    cost = criterion(hypothesis, Y)\n",
    "    cost.backward()\n",
    "    optimizer.step()\n",
    "\n",
    "    if epoch % 100 == 0:\n",
    "        print(f'Epoch: {epoch:04d}, Cost: {cost.item():.9f}')"
   ]
  },
  {
   "cell_type": "markdown",
   "metadata": {},
   "source": [
    "##### 테스트"
   ]
  },
  {
   "cell_type": "code",
   "execution_count": 17,
   "metadata": {},
   "outputs": [
    {
     "name": "stdout",
     "output_type": "stream",
     "text": [
      "모델 출력값(Hypothesis): [[9.5541280e-04]\n",
      " [9.9868053e-01]\n",
      " [9.9911124e-01]\n",
      " [8.3470478e-04]]\n",
      "모델 예측값(Predict): [[0.]\n",
      " [1.]\n",
      " [1.]\n",
      " [0.]]\n",
      "실제값(Y): [[0.]\n",
      " [1.]\n",
      " [1.]\n",
      " [0.]]\n",
      "정확도(Accuracy): 1.0\n"
     ]
    }
   ],
   "source": [
    "with torch.no_grad():\n",
    "    hypothesis = model(X)\n",
    "    predict = (hypothesis > 0.5).float()\n",
    "    accuracy = (predict == Y).float().mean()\n",
    "    print(f\"모델 출력값(Hypothesis): {hypothesis.detach().cpu().numpy()}\")\n",
    "    print(f'모델 예측값(Predict): {predict.detach().cpu().numpy()}')\n",
    "    print(f'실제값(Y): {Y.detach().cpu().numpy()}')\n",
    "    print(f'정확도(Accuracy): {accuracy.item()}')"
   ]
  }
 ],
 "metadata": {
  "kernelspec": {
   "display_name": "Python 3",
   "language": "python",
   "name": "python3"
  },
  "language_info": {
   "codemirror_mode": {
    "name": "ipython",
    "version": 3
   },
   "file_extension": ".py",
   "mimetype": "text/x-python",
   "name": "python",
   "nbconvert_exporter": "python",
   "pygments_lexer": "ipython3",
   "version": "3.11.9"
  }
 },
 "nbformat": 4,
 "nbformat_minor": 2
}
