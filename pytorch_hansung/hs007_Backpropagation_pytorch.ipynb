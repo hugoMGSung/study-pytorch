{
 "cells": [
  {
   "cell_type": "markdown",
   "metadata": {},
   "source": [
    "## 인공신경망\n",
    "\n",
    "### 역전파\n"
   ]
  },
  {
   "cell_type": "markdown",
   "metadata": {},
   "source": [
    "#### 다중계층 퍼셉트론 (Multi-Layer Perceptron)\n",
    "- 단일 퍼셉트론 다중으로 겹쳐 해결가능한 문제 범주를 확대\n",
    "- 복잡한 입력이 비선형 변경을 통해 분류가 쉬운 은닉 공간으로 매핑\n",
    "\n",
    "    [참조](https://colah.github.io/posts/2015-09-NN-Types-FP/)"
   ]
  },
  {
   "cell_type": "markdown",
   "metadata": {},
   "source": [
    "##### MLP 가중치 학습\n",
    "- 학습으로 최적의 가중치(w) 및 편향(b)를 계산\n",
    "- 레이어가 복잡할수록 가중치와 bias를 구하기 어려움\n",
    "- **역전파(Backpropagation) 알고리즘**으로 MLP학습\n",
    "\n",
    "##### 그래서 역전파란?\n",
    "- 모델의 잘못된 결과를 예측했다면, 어떤 가중치가 가장 큰 영향을 미쳤는지를 추적한 뒤\n",
    "- 이 가중치를 조금씩 조정하여 다음에 더 나은 결과를 만들게 하는 것\n",
    "\n",
    "- 예를 들면, 시험을 보고 틀린 문제의 원인을 분석하는 과정!\n",
    "\n",
    "##### PyTorch에서는 \n",
    "- 텐서의 모든 연산에 대한 자동 미분을 제공하며\n",
    "- 매 순간 적절한 역전파를 제공함"
   ]
  },
  {
   "cell_type": "markdown",
   "metadata": {},
   "source": [
    "### 모델저장 및 로드\n",
    "\n",
    "#### DNN(Deep Neural Network)\n",
    "- 심층신경망 - 여러 비선형 변환의 조합을 통해 높은 수준의 추상화를 시도\n",
    "    - 은닉계층으로 계속된 비선형 매핑, 목적에 맞는 특징 추출\n",
    "\n",
    "#### 모델 저장과 로드\n",
    "- 모델을 이용할 때마다 학습할 필요없음\n",
    "- 모델 학습시 시간이 많이 소요되므로 매번 학습을 하는 것은 비효율적\n",
    "\n",
    "\n",
    "#### 함수리스트\n",
    "- torch.save() - 모델전체(계층 구조, 매개변수 등) 디스크에 저장\n",
    "- torch.load() - 객체 역직렬화 후 메모리 할당\n",
    "- state_dict() - 모델의 매개변수(가중치)만을 저장/로드할 때 이용"
   ]
  },
  {
   "cell_type": "markdown",
   "metadata": {},
   "source": [
    "##### XOR 문제\n",
    "\n",
    "|구분|input x1|input x2|output y|\n",
    "|:---:|---:|---:|---:|\n",
    "|a|0|0|0|\n",
    "|b|1|0|1|\n",
    "|c|0|1|1|\n",
    "|d|1|1|0|\n",
    "\n",
    "\n",
    "- 구조\n",
    "\n",
    "    <img src=\"https://raw.githubusercontent.com/hugoMGSung/study-pytorch/refs/heads/main/images/torch0013.png\" width=\"600\">"
   ]
  },
  {
   "cell_type": "markdown",
   "metadata": {},
   "source": [
    "##### 위의 문제를 DNN으로"
   ]
  },
  {
   "cell_type": "code",
   "execution_count": 12,
   "metadata": {},
   "outputs": [],
   "source": [
    "import torch\n",
    "import torch.nn as nn"
   ]
  },
  {
   "cell_type": "code",
   "execution_count": 13,
   "metadata": {},
   "outputs": [
    {
     "name": "stdout",
     "output_type": "stream",
     "text": [
      "cuda\n"
     ]
    }
   ],
   "source": [
    "device = 'cuda' if torch.cuda.is_available() else 'cpu'\n",
    "print(device)"
   ]
  },
  {
   "cell_type": "code",
   "execution_count": 14,
   "metadata": {},
   "outputs": [],
   "source": [
    "X = torch.FloatTensor([[0,0],[0,1],[1,0],[1,1]]).to(device)\n",
    "Y = torch.FloatTensor([[0],[1],[1],[0]]).to(device)"
   ]
  },
  {
   "cell_type": "code",
   "execution_count": 15,
   "metadata": {},
   "outputs": [],
   "source": [
    "model = nn.Sequential(\n",
    "    nn.Linear(2, 10, bias=True),\n",
    "    nn.Sigmoid(),\n",
    "    nn.Linear(10, 10, bias=True),\n",
    "    nn.Sigmoid(),\n",
    "    nn.Linear(10, 10, bias=True),\n",
    "    nn.Sigmoid(),\n",
    "    nn.Linear(10, 1, bias=True),\n",
    "    nn.Sigmoid()\n",
    ").to(device)"
   ]
  },
  {
   "cell_type": "code",
   "execution_count": 16,
   "metadata": {},
   "outputs": [],
   "source": [
    "# 비용함수와 옵티마이저 정의\n",
    "criterion = torch.nn.BCELoss().to(device) # Binary Cross Entropy\n",
    "optimizer = torch.optim.SGD(model.parameters(), lr=1)"
   ]
  },
  {
   "cell_type": "code",
   "execution_count": 17,
   "metadata": {},
   "outputs": [
    {
     "name": "stdout",
     "output_type": "stream",
     "text": [
      "Epoch: 0000, Cost: 0.707413971\n",
      "Epoch: 0100, Cost: 0.693155587\n",
      "Epoch: 0200, Cost: 0.693154931\n",
      "Epoch: 0300, Cost: 0.693154335\n",
      "Epoch: 0400, Cost: 0.693153739\n",
      "Epoch: 0500, Cost: 0.693153083\n",
      "Epoch: 0600, Cost: 0.693152487\n",
      "Epoch: 0700, Cost: 0.693151832\n",
      "Epoch: 0800, Cost: 0.693151295\n",
      "Epoch: 0900, Cost: 0.693150699\n",
      "Epoch: 1000, Cost: 0.693150163\n",
      "Epoch: 1100, Cost: 0.693149567\n",
      "Epoch: 1200, Cost: 0.693148971\n",
      "Epoch: 1300, Cost: 0.693148434\n",
      "Epoch: 1400, Cost: 0.693147898\n",
      "Epoch: 1500, Cost: 0.693147361\n",
      "Epoch: 1600, Cost: 0.693146765\n",
      "Epoch: 1700, Cost: 0.693146229\n",
      "Epoch: 1800, Cost: 0.693145633\n",
      "Epoch: 1900, Cost: 0.693145037\n",
      "Epoch: 2000, Cost: 0.693144500\n",
      "Epoch: 2100, Cost: 0.693143845\n",
      "Epoch: 2200, Cost: 0.693143249\n",
      "Epoch: 2300, Cost: 0.693142653\n",
      "Epoch: 2400, Cost: 0.693142056\n",
      "Epoch: 2500, Cost: 0.693141401\n",
      "Epoch: 2600, Cost: 0.693140686\n",
      "Epoch: 2700, Cost: 0.693139970\n",
      "Epoch: 2800, Cost: 0.693139374\n",
      "Epoch: 2900, Cost: 0.693138599\n",
      "Epoch: 3000, Cost: 0.693137825\n",
      "Epoch: 3100, Cost: 0.693136990\n",
      "Epoch: 3200, Cost: 0.693136156\n",
      "Epoch: 3300, Cost: 0.693135262\n",
      "Epoch: 3400, Cost: 0.693134427\n",
      "Epoch: 3500, Cost: 0.693133414\n",
      "Epoch: 3600, Cost: 0.693132401\n",
      "Epoch: 3700, Cost: 0.693131268\n",
      "Epoch: 3800, Cost: 0.693130136\n",
      "Epoch: 3900, Cost: 0.693129003\n",
      "Epoch: 4000, Cost: 0.693127692\n",
      "Epoch: 4100, Cost: 0.693126321\n",
      "Epoch: 4200, Cost: 0.693124831\n",
      "Epoch: 4300, Cost: 0.693123221\n",
      "Epoch: 4400, Cost: 0.693121552\n",
      "Epoch: 4500, Cost: 0.693119764\n",
      "Epoch: 4600, Cost: 0.693117797\n",
      "Epoch: 4700, Cost: 0.693115592\n",
      "Epoch: 4800, Cost: 0.693113267\n",
      "Epoch: 4900, Cost: 0.693110764\n",
      "Epoch: 5000, Cost: 0.693107963\n",
      "Epoch: 5100, Cost: 0.693104744\n",
      "Epoch: 5200, Cost: 0.693101406\n",
      "Epoch: 5300, Cost: 0.693097591\n",
      "Epoch: 5400, Cost: 0.693093419\n",
      "Epoch: 5500, Cost: 0.693088770\n",
      "Epoch: 5600, Cost: 0.693083405\n",
      "Epoch: 5700, Cost: 0.693077445\n",
      "Epoch: 5800, Cost: 0.693070471\n",
      "Epoch: 5900, Cost: 0.693062663\n",
      "Epoch: 6000, Cost: 0.693053484\n",
      "Epoch: 6100, Cost: 0.693042815\n",
      "Epoch: 6200, Cost: 0.693030238\n",
      "Epoch: 6300, Cost: 0.693015218\n",
      "Epoch: 6400, Cost: 0.692997217\n",
      "Epoch: 6500, Cost: 0.692975104\n",
      "Epoch: 6600, Cost: 0.692947567\n",
      "Epoch: 6700, Cost: 0.692912698\n",
      "Epoch: 6800, Cost: 0.692867517\n",
      "Epoch: 6900, Cost: 0.692807376\n",
      "Epoch: 7000, Cost: 0.692724645\n",
      "Epoch: 7100, Cost: 0.692606032\n",
      "Epoch: 7200, Cost: 0.692426860\n",
      "Epoch: 7300, Cost: 0.692136645\n",
      "Epoch: 7400, Cost: 0.691618204\n",
      "Epoch: 7500, Cost: 0.690549612\n",
      "Epoch: 7600, Cost: 0.687772036\n",
      "Epoch: 7700, Cost: 0.676886082\n",
      "Epoch: 7800, Cost: 0.610865235\n",
      "Epoch: 7900, Cost: 0.509330034\n",
      "Epoch: 8000, Cost: 0.053662118\n",
      "Epoch: 8100, Cost: 0.012868511\n",
      "Epoch: 8200, Cost: 0.006585017\n",
      "Epoch: 8300, Cost: 0.004275222\n",
      "Epoch: 8400, Cost: 0.003113157\n",
      "Epoch: 8500, Cost: 0.002424559\n",
      "Epoch: 8600, Cost: 0.001973302\n",
      "Epoch: 8700, Cost: 0.001656576\n",
      "Epoch: 8800, Cost: 0.001423090\n",
      "Epoch: 8900, Cost: 0.001244374\n",
      "Epoch: 9000, Cost: 0.001103502\n",
      "Epoch: 9100, Cost: 0.000989876\n",
      "Epoch: 9200, Cost: 0.000896357\n",
      "Epoch: 9300, Cost: 0.000818191\n",
      "Epoch: 9400, Cost: 0.000751915\n",
      "Epoch: 9500, Cost: 0.000695102\n",
      "Epoch: 9600, Cost: 0.000645886\n",
      "Epoch: 9700, Cost: 0.000602849\n",
      "Epoch: 9800, Cost: 0.000564908\n",
      "Epoch: 9900, Cost: 0.000531248\n",
      "Epoch: 10000, Cost: 0.000501233\n"
     ]
    }
   ],
   "source": [
    "# 10_000번\n",
    "for epoch in range(10001):\n",
    "    optimizer.zero_grad()\n",
    "    hypothesis = model(X)\n",
    "\n",
    "    # 비용함수\n",
    "    cost = criterion(hypothesis, Y)\n",
    "    cost.backward()\n",
    "    optimizer.step()\n",
    "\n",
    "    if epoch % 100 == 0:\n",
    "        print(f'Epoch: {epoch:04d}, Cost: {cost.item():.9f}')\n",
    "        torch.save(model, f'./models/mymodel_{epoch}.pt') ## epoch 100번마다 모델 저장\n"
   ]
  },
  {
   "cell_type": "code",
   "execution_count": 20,
   "metadata": {},
   "outputs": [
    {
     "name": "stdout",
     "output_type": "stream",
     "text": [
      "모델의 출력값(Hypothesis): [[0.49993777]\n",
      " [0.49996787]\n",
      " [0.5000212 ]\n",
      " [0.5000572 ]]\n",
      "모델의 예측값(Predicted): [[0.]\n",
      " [0.]\n",
      " [1.]\n",
      " [1.]]\n",
      "실제값(Y): [[0.]\n",
      " [1.]\n",
      " [1.]\n",
      " [0.]]\n",
      "정확도(Accuracy): 0.5\n"
     ]
    },
    {
     "name": "stderr",
     "output_type": "stream",
     "text": [
      "C:\\Users\\perso\\AppData\\Local\\Temp\\ipykernel_16120\\186257832.py:1: FutureWarning: You are using `torch.load` with `weights_only=False` (the current default value), which uses the default pickle module implicitly. It is possible to construct malicious pickle data which will execute arbitrary code during unpickling (See https://github.com/pytorch/pytorch/blob/main/SECURITY.md#untrusted-models for more details). In a future release, the default value for `weights_only` will be flipped to `True`. This limits the functions that could be executed during unpickling. Arbitrary objects will no longer be allowed to be loaded via this mode unless they are explicitly allowlisted by the user via `torch.serialization.add_safe_globals`. We recommend you start setting `weights_only=True` for any use case where you don't have full control of the loaded file. Please open an issue on GitHub for any issues related to this experimental feature.\n",
      "  model = torch.load('./models/mymodel_1000.pt', map_location=device)\n"
     ]
    }
   ],
   "source": [
    "model = torch.load('./models/mymodel_1000.pt', map_location=device)\n",
    "with torch.no_grad():\n",
    "    hypothesis = model(X)\n",
    "    predicted = (hypothesis > 0.5).float()\n",
    "    accuracy = (predicted == Y).float().mean()\n",
    "\n",
    "    print(f'모델의 출력값(Hypothesis): {hypothesis.detach().cpu().numpy()}')\n",
    "    print(f'모델의 예측값(Predicted): {predicted.detach().cpu().numpy()}')\n",
    "    print(f'실제값(Y): {Y.cpu().numpy()}')\n",
    "    print(f'정확도(Accuracy): {accuracy.item()}')"
   ]
  },
  {
   "cell_type": "code",
   "execution_count": 21,
   "metadata": {},
   "outputs": [
    {
     "name": "stdout",
     "output_type": "stream",
     "text": [
      "모델의 출력값(Hypothesis): [[5.6829309e-04]\n",
      " [9.9954480e-01]\n",
      " [9.9946016e-01]\n",
      " [4.3980076e-04]]\n",
      "모델의 예측값(Predicted): [[0.]\n",
      " [1.]\n",
      " [1.]\n",
      " [0.]]\n",
      "실제값(Y): [[0.]\n",
      " [1.]\n",
      " [1.]\n",
      " [0.]]\n",
      "정확도(Accuracy): 1.0\n"
     ]
    },
    {
     "name": "stderr",
     "output_type": "stream",
     "text": [
      "C:\\Users\\perso\\AppData\\Local\\Temp\\ipykernel_16120\\1915402402.py:1: FutureWarning: You are using `torch.load` with `weights_only=False` (the current default value), which uses the default pickle module implicitly. It is possible to construct malicious pickle data which will execute arbitrary code during unpickling (See https://github.com/pytorch/pytorch/blob/main/SECURITY.md#untrusted-models for more details). In a future release, the default value for `weights_only` will be flipped to `True`. This limits the functions that could be executed during unpickling. Arbitrary objects will no longer be allowed to be loaded via this mode unless they are explicitly allowlisted by the user via `torch.serialization.add_safe_globals`. We recommend you start setting `weights_only=True` for any use case where you don't have full control of the loaded file. Please open an issue on GitHub for any issues related to this experimental feature.\n",
      "  model = torch.load('./models/mymodel_10000.pt', map_location=device)\n"
     ]
    }
   ],
   "source": [
    "model = torch.load('./models/mymodel_10000.pt', map_location=device)\n",
    "with torch.no_grad():\n",
    "    hypothesis = model(X)\n",
    "    predicted = (hypothesis > 0.5).float()\n",
    "    accuracy = (predicted == Y).float().mean()\n",
    "\n",
    "    print(f'모델의 출력값(Hypothesis): {hypothesis.detach().cpu().numpy()}')\n",
    "    print(f'모델의 예측값(Predicted): {predicted.detach().cpu().numpy()}')\n",
    "    print(f'실제값(Y): {Y.cpu().numpy()}')\n",
    "    print(f'정확도(Accuracy): {accuracy.item()}')"
   ]
  },
  {
   "cell_type": "markdown",
   "metadata": {},
   "source": [
    "### 인공신경망\n",
    "\n",
    "#### 드롭아웃(dropout)\n",
    "- 과대적합 방지를 위한 방법 - 학습과정에 레이어 일부를 사용하지 않는 방법\n",
    "\n",
    "#### ReLU(Rectified Linear Unit) - 정류한 선형 단위\n",
    "\n",
    "- 시그모이드 함수보다 더 발전된 활성화 함수\n",
    "- 간단하고 효과적이며, 특히 신경망 Hidden Layer에 주로 사용됨\n",
    "\n",
    "<img src=\"https://raw.githubusercontent.com/hugoMGSung/study-pytorch/refs/heads/main/images/torch0014.png\" width=\"600\">\n",
    "\n",
    "##### ReLU의 역할\n",
    "- 비선형성 도입 - 신경망에서 비선형성을 제공, 단순한 선형회귀가 아닌 복잡합 패턴 학습가능케 함\n",
    "- 간결한 계산 - 다른 활성화 함수(Sigmoid, Tanh)에 비해 수식이 간단, 역전파 계산시 효율적\n",
    "\n",
    "##### 장점\n",
    "- 기울기 소실(Vanishing Gradient) 문제 완화:\n",
    "    - Sigmoid나 Tanh는 입력값이 커지거나 작아질수록 기울기가 0에 가까워져 학습이 느려지는 문제가 발생\n",
    "    - 반면, ReLU는 양수 입력에 대해 기울기가 일정(1)하므로 학습이 더 빠르게 진행가능\n",
    "- 효율성:\n",
    "    - 함수가 단순하기 때문에 계산 비용이 적음\n",
    "- 희소성(Sparsity):\n",
    "    - ReLU는 음수 값을 0으로 만들어 네트워크의 일부 뉴런을 비활성화. 이로 인해 네트워크가 더 간결하게 학습할 수 있음\n",
    "\n",
    "##### 단점\n",
    "- 죽은 ReLU(Dying ReLU):\n",
    "    - 학습 도중 일부 뉴런의 출력이 항상 0이 되어 더 이상 업데이트되지 않는 현상\n",
    "    - 이를 해결하기 위해 Leaky ReLU, Parametric ReLU(PReLU) 같은 변형된 ReLU 함수가 사용\n",
    "- 큰 입력값에서의 한계:\n",
    "    - 너무 큰 값에서는 기울기가 일정하게 유지되므로 모델이 특정 상황에서 덜 민감할 수 있슴"
   ]
  },
  {
   "cell_type": "markdown",
   "metadata": {},
   "source": [
    "#### 인공신경망 MNIST 데이터셋\n"
   ]
  },
  {
   "cell_type": "code",
   "execution_count": 22,
   "metadata": {},
   "outputs": [],
   "source": [
    "import torch\n",
    "import torch.nn as nn\n",
    "import torch.nn.functional as F\n",
    "from torch.utils.data.sampler import SubsetRandomSampler\n",
    "\n",
    "from torchvision import datasets\n",
    "import torchvision.transforms as transforms\n",
    "\n",
    "import numpy as np"
   ]
  },
  {
   "cell_type": "code",
   "execution_count": 24,
   "metadata": {},
   "outputs": [],
   "source": [
    "batch_size = 20\n",
    "valid_size = 0.2\n",
    "\n",
    "# MNIST dataset\n",
    "train_data = datasets.MNIST(root='./MNIST_data/', train=True, transform=transforms.ToTensor(), download=True)\n",
    "test_data = datasets.MNIST(root='./MNIST_data/', train=False, transform=transforms.ToTensor(), download=True)\n",
    "\n",
    "## 이미 존재하므로 다시 다운로드 받지 않음"
   ]
  },
  {
   "cell_type": "code",
   "execution_count": 25,
   "metadata": {},
   "outputs": [],
   "source": [
    "## Training set의 20%를 Validation set으로 이용\n",
    "num_train = len(train_data)\n",
    "indices = list(range(num_train))\n",
    "np.random.shuffle(indices)\n",
    "split = int(np.floor(0.2 * num_train))\n",
    "train_idx, valid_idx = indices[split:], indices[:split]\n",
    "\n",
    "train_sampler = SubsetRandomSampler(train_idx)\n",
    "valid_sampler = SubsetRandomSampler(valid_idx)"
   ]
  },
  {
   "cell_type": "code",
   "execution_count": 26,
   "metadata": {},
   "outputs": [],
   "source": [
    "train_loader = torch.utils.data.DataLoader(train_data, batch_size=20, sampler=train_sampler)\n",
    "valid_loader = torch.utils.data.DataLoader(train_data, batch_size=20, sampler=valid_sampler)\n",
    "test_loader = torch.utils.data.DataLoader(test_data, batch_size=20)"
   ]
  },
  {
   "cell_type": "markdown",
   "metadata": {},
   "source": [
    "##### 모델 생성"
   ]
  },
  {
   "cell_type": "code",
   "execution_count": 27,
   "metadata": {},
   "outputs": [],
   "source": [
    "model = nn.Sequential(\n",
    "    nn.Linear(784, 512),\n",
    "    nn.ReLU(),   # Sigmoid대신 ReLU로\n",
    "    nn.Dropout(0.2), # 0.2를 Dropout 해서 과대적합 방지\n",
    "    nn.Linear(512, 512),\n",
    "    nn.ReLU(),\n",
    "    nn.Dropout(0.2),\n",
    "    nn.Linear(512, 10), # 최종적으로 0~9까지 분류\n",
    ")\n",
    "\n",
    "criterion = nn.CrossEntropyLoss()\n",
    "optimizer = torch.optim.SGD(model.parameters(), lr=0.01)"
   ]
  },
  {
   "cell_type": "markdown",
   "metadata": {},
   "source": [
    "##### 훈련"
   ]
  },
  {
   "cell_type": "code",
   "execution_count": 28,
   "metadata": {},
   "outputs": [
    {
     "name": "stdout",
     "output_type": "stream",
     "text": [
      "Epoch 1 Training Loss: 0.7636910105595986 Validation Loss: 0.07363100003326932\n",
      "Accuracy: 89.9000015258789\n",
      "Epoch 2 Training Loss: 0.2846487508217494 Validation Loss: 0.05516631205504139\n",
      "Accuracy: 92.31999969482422\n",
      "Epoch 3 Training Loss: 0.22416970080137252 Validation Loss: 0.04500637452925245\n",
      "Accuracy: 93.58999633789062\n",
      "Epoch 4 Training Loss: 0.18544571985707928 Validation Loss: 0.03793760694718609\n",
      "Accuracy: 94.52000427246094\n",
      "Epoch 5 Training Loss: 0.15749393749050797 Validation Loss: 0.03279158041905612\n",
      "Accuracy: 95.30000305175781\n",
      "Epoch 6 Training Loss: 0.1363906393071326 Validation Loss: 0.02881580418193092\n",
      "Accuracy: 95.68000030517578\n",
      "Epoch 7 Training Loss: 0.12109160321593905 Validation Loss: 0.026346306968014686\n",
      "Accuracy: 96.0300064086914\n",
      "Epoch 8 Training Loss: 0.10934134409685309 Validation Loss: 0.023838657457071047\n",
      "Accuracy: 96.43000030517578\n",
      "Epoch 9 Training Loss: 0.09901639030439158 Validation Loss: 0.02190371003591766\n",
      "Accuracy: 96.66999816894531\n",
      "Epoch 10 Training Loss: 0.08957763870324319 Validation Loss: 0.02047851812009079\n",
      "Accuracy: 96.91000366210938\n",
      "Epoch 11 Training Loss: 0.08331259882686814 Validation Loss: 0.01917766423802823\n",
      "Accuracy: 97.08999633789062\n",
      "Epoch 12 Training Loss: 0.07468392968185557 Validation Loss: 0.018087973423535006\n",
      "Accuracy: 97.25\n",
      "Epoch 13 Training Loss: 0.07103631391205514 Validation Loss: 0.01723323475359939\n",
      "Accuracy: 97.43999481201172\n",
      "Epoch 14 Training Loss: 0.06434516005897119 Validation Loss: 0.016533444308132556\n",
      "Accuracy: 97.41999816894531\n",
      "Epoch 15 Training Loss: 0.06020194197294768 Validation Loss: 0.015653462114394643\n",
      "Accuracy: 97.47000122070312\n",
      "Epoch 16 Training Loss: 0.05676329881651327 Validation Loss: 0.015294547438931962\n",
      "Accuracy: 97.54999542236328\n",
      "Epoch 17 Training Loss: 0.05286779905987593 Validation Loss: 0.014798741051966014\n",
      "Accuracy: 97.6199951171875\n",
      "Epoch 18 Training Loss: 0.050004796957053864 Validation Loss: 0.014385069136139161\n",
      "Accuracy: 97.75999450683594\n",
      "Epoch 19 Training Loss: 0.04710836699719463 Validation Loss: 0.014287515031387253\n",
      "Accuracy: 97.72999572753906\n",
      "Epoch 20 Training Loss: 0.04428530540969223 Validation Loss: 0.013508308381055637\n",
      "Accuracy: 97.83999633789062\n",
      "Epoch 21 Training Loss: 0.04137486207469677 Validation Loss: 0.013377353766409215\n",
      "Accuracy: 97.81999969482422\n",
      "Epoch 22 Training Loss: 0.03932525645019875 Validation Loss: 0.013011935258565548\n",
      "Accuracy: 97.87999725341797\n",
      "Epoch 23 Training Loss: 0.03702390408377202 Validation Loss: 0.01269265617094546\n",
      "Accuracy: 97.90999603271484\n",
      "Epoch 24 Training Loss: 0.03504150175793135 Validation Loss: 0.012572506616900986\n",
      "Accuracy: 97.93000030517578\n",
      "Epoch 25 Training Loss: 0.032756389823528784 Validation Loss: 0.012389094386346793\n",
      "Accuracy: 97.90999603271484\n",
      "Epoch 26 Training Loss: 0.03153514532643021 Validation Loss: 0.01225690801879197\n",
      "Accuracy: 98.11000061035156\n",
      "Epoch 27 Training Loss: 0.02939013443735894 Validation Loss: 0.012512631417407345\n",
      "Accuracy: 98.04999542236328\n",
      "Epoch 28 Training Loss: 0.027868398825836874 Validation Loss: 0.01177405195144335\n",
      "Accuracy: 98.0999984741211\n",
      "Epoch 29 Training Loss: 0.026650587700559603 Validation Loss: 0.012015588667772439\n",
      "Accuracy: 98.0199966430664\n",
      "Epoch 30 Training Loss: 0.025026735258254728 Validation Loss: 0.011479233279475011\n",
      "Accuracy: 98.04999542236328\n",
      "Epoch 31 Training Loss: 0.024064505258123974 Validation Loss: 0.011816592498338043\n",
      "Accuracy: 98.18999481201172\n",
      "Epoch 32 Training Loss: 0.023083948314898104 Validation Loss: 0.01208692493213069\n",
      "Accuracy: 98.0199966430664\n",
      "Epoch 33 Training Loss: 0.02200284966052762 Validation Loss: 0.011562403789672923\n",
      "Accuracy: 98.07999420166016\n",
      "Epoch 34 Training Loss: 0.021320716835631175 Validation Loss: 0.011681051701355803\n",
      "Accuracy: 98.0999984741211\n",
      "Epoch 35 Training Loss: 0.020546117273154474 Validation Loss: 0.011899270188781277\n",
      "Accuracy: 98.07999420166016\n",
      "Epoch 36 Training Loss: 0.020094923888454408 Validation Loss: 0.012024705458544001\n",
      "Accuracy: 98.15999603271484\n",
      "Epoch 37 Training Loss: 0.0184313981859547 Validation Loss: 0.011662020957650385\n",
      "Accuracy: 98.06999969482422\n",
      "Epoch 38 Training Loss: 0.017863692482792733 Validation Loss: 0.011622226990524117\n",
      "Accuracy: 98.18000030517578\n",
      "Epoch 39 Training Loss: 0.016730460294154304 Validation Loss: 0.011371739333029837\n",
      "Accuracy: 98.16999816894531\n",
      "Epoch 40 Training Loss: 0.016591073738668152 Validation Loss: 0.011160787246866675\n",
      "Accuracy: 98.20999908447266\n",
      "Epoch 41 Training Loss: 0.014796716803864305 Validation Loss: 0.011322531041325419\n",
      "Accuracy: 98.18999481201172\n",
      "Epoch 42 Training Loss: 0.013938020188696101 Validation Loss: 0.011456316214886707\n",
      "Accuracy: 98.25\n",
      "Epoch 43 Training Loss: 0.013970024601398715 Validation Loss: 0.01131848684329331\n",
      "Accuracy: 98.19999694824219\n",
      "Epoch 44 Training Loss: 0.013883791157713859 Validation Loss: 0.011344232943512906\n",
      "Accuracy: 98.2699966430664\n",
      "Epoch 45 Training Loss: 0.013266910957919511 Validation Loss: 0.01131532488387893\n",
      "Accuracy: 98.19999694824219\n",
      "Epoch 46 Training Loss: 0.012519496894468223 Validation Loss: 0.01139867947743187\n",
      "Accuracy: 98.19999694824219\n",
      "Epoch 47 Training Loss: 0.012019906345262522 Validation Loss: 0.011413818022325965\n",
      "Accuracy: 98.22000122070312\n",
      "Epoch 48 Training Loss: 0.011816889152317647 Validation Loss: 0.011427962422665586\n",
      "Accuracy: 98.25\n",
      "Epoch 49 Training Loss: 0.011152218142561954 Validation Loss: 0.011525044198283771\n",
      "Accuracy: 98.20999908447266\n",
      "Epoch 50 Training Loss: 0.010481996299760795 Validation Loss: 0.011362910465104506\n",
      "Accuracy: 98.23999786376953\n"
     ]
    }
   ],
   "source": [
    "n_epochs = 50\n",
    "for epoch in range(n_epochs):\n",
    "    train_loss = 0.0\n",
    "    valid_loss = 0.0\n",
    "\n",
    "    model.train()\n",
    "    for idx, (data, target) in enumerate(train_loader):\n",
    "        data = data.view(-1, 28 * 28)\n",
    "        output = model(data)\n",
    "        loss = criterion(output, target)\n",
    "\n",
    "        optimizer.zero_grad()\n",
    "        loss.backward()\n",
    "        optimizer.step()\n",
    "\n",
    "        train_loss += loss.item() * data.size(0)\n",
    "\n",
    "    model.eval()\n",
    "\n",
    "    for idx, (data, target) in enumerate(valid_loader):\n",
    "        data = data.view(-1, 28 * 28)\n",
    "        output = model(data)\n",
    "        loss = criterion(output, target)\n",
    "\n",
    "        valid_loss += loss.item() * data.size(0)\n",
    "\n",
    "    train_loss = train_loss / len(train_loader.dataset)\n",
    "    valid_loss = valid_loss / len(valid_loader.dataset)\n",
    "\n",
    "    print(f'Epoch {epoch+1} Training Loss: {train_loss} Validation Loss: {valid_loss}')\n",
    "\n",
    "    model.eval()\n",
    "\n",
    "    correct = 0\n",
    "    for idx, (data, target) in enumerate(test_loader):\n",
    "        data = data.view(-1, 28 * 28)\n",
    "        output = model(data)\n",
    "        _, pred = torch.max(output, 1)\n",
    "        correct += pred.eq(target.data.view_as(pred)).sum()\n",
    "\n",
    "    print(f'Accuracy: {correct / len(test_data) * 100}')"
   ]
  },
  {
   "cell_type": "code",
   "execution_count": null,
   "metadata": {},
   "outputs": [],
   "source": [
    "## 위의 모델 저장\n",
    "torch.save(model, f'./models/mnist_model_{n_epochs}.pt')"
   ]
  },
  {
   "cell_type": "markdown",
   "metadata": {},
   "source": [
    "##### 확인"
   ]
  },
  {
   "cell_type": "code",
   "execution_count": 30,
   "metadata": {},
   "outputs": [],
   "source": [
    "import matplotlib.pyplot as plt\n",
    "import random"
   ]
  },
  {
   "cell_type": "code",
   "execution_count": 38,
   "metadata": {},
   "outputs": [
    {
     "name": "stdout",
     "output_type": "stream",
     "text": [
      "Label: 8\n",
      "Prediction: 8\n"
     ]
    },
    {
     "data": {
      "image/png": "[encoded data removed]",
      "text/plain": [
       "<Figure size 640x480 with 1 Axes>"
      ]
     },
     "metadata": {},
     "output_type": "display_data"
    }
   ],
   "source": [
    "# 테스트 데이터를 사용하여 모델을 테스트함\n",
    "with torch.no_grad():  ## torch.no_grad() 하면 gradiente 계산을 수행안함\n",
    "    r = random.randint(0, len(test_data) - 1)\n",
    "    X_single_data = test_data.test_data[r].view(-1, 28 * 28).float().to('cpu')\n",
    "    Y_single_data = test_data.test_labels[r].to('cpu')\n",
    "\n",
    "    print(f'Label: {Y_single_data.item()}')\n",
    "    single_prediction = model(X_single_data)\n",
    "    print(f'Prediction: {torch.argmax(single_prediction, 1).item()}')\n",
    "    \n",
    "    plt.imshow(test_data.test_data[r].view(28, 28), cmap='Greys', interpolation='nearest')\n",
    "    plt.show()"
   ]
  }
 ],
 "metadata": {
  "kernelspec": {
   "display_name": "Python 3",
   "language": "python",
   "name": "python3"
  },
  "language_info": {
   "codemirror_mode": {
    "name": "ipython",
    "version": 3
   },
   "file_extension": ".py",
   "mimetype": "text/x-python",
   "name": "python",
   "nbconvert_exporter": "python",
   "pygments_lexer": "ipython3",
   "version": "3.11.9"
  }
 },
 "nbformat": 4,
 "nbformat_minor": 2
}
