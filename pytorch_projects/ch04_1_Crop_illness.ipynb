{
 "cells": [
  {
   "cell_type": "markdown",
   "id": "45632cb8",
   "metadata": {},
   "source": [
    "## 작물 잎 사진으로 질병 분류\n",
    "\n",
    "### 프로젝트\n",
    "- 작물 잎 사진으로 질병을 가지고 있는지 여부를 판단\n",
    "- 원본데이터 : https://data.mendeley.com/datasets/tywbtsjrjv/1\n",
    "- 데이터 다운로드 : https://drive.google.com/drive/folders/1QswvBejKJrc9tz7nNsxGxJblR2vwo6na"
   ]
  },
  {
   "cell_type": "markdown",
   "id": "7b552087",
   "metadata": {},
   "source": [
    "#### 데이터 분할을 위한 디렉토리 생성"
   ]
  },
  {
   "cell_type": "code",
   "execution_count": 3,
   "id": "4fb6c872",
   "metadata": {},
   "outputs": [
    {
     "ename": "FileExistsError",
     "evalue": "[WinError 183] 파일이 이미 있으므로 만들 수 없습니다: './splitted'",
     "output_type": "error",
     "traceback": [
      "\u001b[31m---------------------------------------------------------------------------\u001b[39m",
      "\u001b[31mFileExistsError\u001b[39m                           Traceback (most recent call last)",
      "\u001b[36mCell\u001b[39m\u001b[36m \u001b[39m\u001b[32mIn[3]\u001b[39m\u001b[32m, line 8\u001b[39m\n\u001b[32m      5\u001b[39m classes_list = os.listdir(original_dataset_dir) \u001b[38;5;66;03m# 모든 하위폴더 목록을 가져오기\u001b[39;00m\n\u001b[32m      7\u001b[39m base_dir = \u001b[33m'\u001b[39m\u001b[33m./splitted\u001b[39m\u001b[33m'\u001b[39m                         \u001b[38;5;66;03m# 나눈 데이터를 저장할 폴더 생성\u001b[39;00m\n\u001b[32m----> \u001b[39m\u001b[32m8\u001b[39m \u001b[43mos\u001b[49m\u001b[43m.\u001b[49m\u001b[43mmkdir\u001b[49m\u001b[43m(\u001b[49m\u001b[43mbase_dir\u001b[49m\u001b[43m)\u001b[49m\n\u001b[32m     10\u001b[39m train_dir = os.path.join(base_dir, \u001b[33m'\u001b[39m\u001b[33mtrain\u001b[39m\u001b[33m'\u001b[39m)     \u001b[38;5;66;03m# train, val, test 폴더 생성\u001b[39;00m\n\u001b[32m     11\u001b[39m os.mkdir(train_dir)\n",
      "\u001b[31mFileExistsError\u001b[39m: [WinError 183] 파일이 이미 있으므로 만들 수 없습니다: './splitted'"
     ]
    }
   ],
   "source": [
    "import os\n",
    "import shutil\n",
    " \n",
    "original_dataset_dir = './dataset'              # 원본 데이터세트 경로 지정\n",
    "classes_list = os.listdir(original_dataset_dir) # 모든 하위폴더 목록을 가져오기\n",
    " \n",
    "base_dir = './splitted'                         # 나눈 데이터를 저장할 폴더 생성\n",
    "os.mkdir(base_dir)\n",
    " \n",
    "train_dir = os.path.join(base_dir, 'train')     # train, val, test 폴더 생성\n",
    "os.mkdir(train_dir)\n",
    "validation_dir = os.path.join(base_dir, 'val')\n",
    "os.mkdir(validation_dir)\n",
    "test_dir = os.path.join(base_dir, 'test')\n",
    "os.mkdir(test_dir)\n",
    "\n",
    "for cls in classes_list:                        # 각 하위에 각각의 클래스 목록 폴더 생성\n",
    "    os.mkdir(os.path.join(train_dir, cls))\n",
    "    os.mkdir(os.path.join(validation_dir, cls))\n",
    "    os.mkdir(os.path.join(test_dir, cls))"
   ]
  },
  {
   "cell_type": "markdown",
   "id": "604f2a8d",
   "metadata": {},
   "source": [
    "#### 데이터 분할과 클래스별 데이터 수 "
   ]
  },
  {
   "cell_type": "code",
   "execution_count": 4,
   "id": "3cc04cc2",
   "metadata": {},
   "outputs": [
    {
     "name": "stdout",
     "output_type": "stream",
     "text": [
      "Train size( Apple___Apple_scab ):  378\n"
     ]
    },
    {
     "ename": "NameError",
     "evalue": "name 'train_dir' is not defined",
     "output_type": "error",
     "traceback": [
      "\u001b[31m---------------------------------------------------------------------------\u001b[39m",
      "\u001b[31mNameError\u001b[39m                                 Traceback (most recent call last)",
      "\u001b[36mCell\u001b[39m\u001b[36m \u001b[39m\u001b[32mIn[4]\u001b[39m\u001b[32m, line 15\u001b[39m\n\u001b[32m     13\u001b[39m \u001b[38;5;28;01mfor\u001b[39;00m fname \u001b[38;5;129;01min\u001b[39;00m train_fnames:\n\u001b[32m     14\u001b[39m     src = os.path.join(path, fname)                     \u001b[38;5;66;03m# 복사할 원본 파일의 경로 지정\u001b[39;00m\n\u001b[32m---> \u001b[39m\u001b[32m15\u001b[39m     dst = os.path.join(os.path.join(\u001b[43mtrain_dir\u001b[49m, \u001b[38;5;28mcls\u001b[39m), fname) \u001b[38;5;66;03m# 복사한 후 저장할 파일의 경로 지정\u001b[39;00m\n\u001b[32m     16\u001b[39m     shutil.copyfile(src, dst)                           \u001b[38;5;66;03m# src 경로에 해당하는 파일을 dst 경로에 저장\u001b[39;00m\n\u001b[32m     18\u001b[39m validation_fnames = fnames[train_size:(validation_size + train_size)]\n",
      "\u001b[31mNameError\u001b[39m: name 'train_dir' is not defined"
     ]
    }
   ],
   "source": [
    "import math\n",
    " \n",
    "for cls in classes_list:                                # 반복해서 모든 클래스에 대한 작업을 반복\n",
    "    path = os.path.join(original_dataset_dir, cls)\n",
    "    fnames = os.listdir(path)                           # path 에 존재하는 모든 이미지 파일의 목록을 변수 fnames에 저장\n",
    " \n",
    "    train_size = math.floor(len(fnames) * 0.6)          # 각 작업별 데이터 비율 저장 6:2:2\n",
    "    validation_size = math.floor(len(fnames) * 0.2)\n",
    "    test_size = math.floor(len(fnames) * 0.2)\n",
    "    \n",
    "    train_fnames = fnames[:train_size]                      # Train 데이터에 해당하는 파일의 이름을 train_fnames에 저장\n",
    "    print(\"Train size(\",cls,\"): \", len(train_fnames))\n",
    "    for fname in train_fnames:\n",
    "        src = os.path.join(path, fname)                     # 복사할 원본 파일의 경로 지정\n",
    "        dst = os.path.join(os.path.join(train_dir, cls), fname) # 복사한 후 저장할 파일의 경로 지정\n",
    "        shutil.copyfile(src, dst)                           # src 경로에 해당하는 파일을 dst 경로에 저장\n",
    "        \n",
    "    validation_fnames = fnames[train_size:(validation_size + train_size)]\n",
    "    print(\"Validation size(\",cls,\"): \", len(validation_fnames))\n",
    "    for fname in validation_fnames:\n",
    "        src = os.path.join(path, fname)\n",
    "        dst = os.path.join(os.path.join(validation_dir, cls), fname)\n",
    "        shutil.copyfile(src, dst)\n",
    "        \n",
    "    test_fnames = fnames[(train_size+validation_size):(validation_size + train_size +test_size)]\n",
    "\n",
    "    print(\"Test size(\",cls,\"): \", len(test_fnames))\n",
    "    for fname in test_fnames:\n",
    "        src = os.path.join(path, fname)\n",
    "        dst = os.path.join(os.path.join(test_dir, cls), fname)\n",
    "        shutil.copyfile(src, dst)"
   ]
  },
  {
   "cell_type": "markdown",
   "id": "ba845c1e",
   "metadata": {},
   "source": [
    "#### 베이스라인 모델 학습 준비"
   ]
  },
  {
   "cell_type": "code",
   "execution_count": 5,
   "id": "21333890",
   "metadata": {},
   "outputs": [
    {
     "data": {
      "text/plain": [
       "device(type='cuda')"
      ]
     },
     "execution_count": 5,
     "metadata": {},
     "output_type": "execute_result"
    }
   ],
   "source": [
    "import torch\n",
    "import os\n",
    " \n",
    "USE_CUDA = torch.cuda.is_available()\n",
    "DEVICE = torch.device('cuda' if USE_CUDA else 'cpu')\n",
    "BATCH_SIZE = 256 \n",
    "EPOCH = 30 \n",
    "\n",
    "DEVICE"
   ]
  },
  {
   "cell_type": "code",
   "execution_count": null,
   "id": "f8e5315e",
   "metadata": {},
   "outputs": [],
   "source": [
    "import torchvision.transforms as transforms\n",
    "from torchvision.datasets import ImageFolder \n",
    "\n",
    "# transform.compose() 이미지전처리\n",
    "## augmentation - 증가율 좌우반전, 밝기 조절, 이미지 확대등\n",
    "## 이미지 크기를 64*64로 조정\n",
    "## Tensor 형태로 변환, 모든 값을 0~1사이로 정규화\n",
    "transform_base = transforms.Compose([transforms.Resize((64,64)), transforms.ToTensor()])   \n",
    "train_dataset = ImageFolder(root='./splitted/train', transform=transform_base) \n",
    "val_dataset = ImageFolder(root='./splitted/val', transform=transform_base)"
   ]
  },
  {
   "cell_type": "code",
   "execution_count": 7,
   "id": "db637e53",
   "metadata": {},
   "outputs": [],
   "source": [
    "from torch.utils.data import DataLoader\n",
    "\n",
    "train_loader = torch.utils.data.DataLoader(train_dataset, batch_size=BATCH_SIZE, shuffle=True, num_workers=4)\n",
    "val_loader = torch.utils.data.DataLoader(val_dataset, batch_size=BATCH_SIZE, shuffle=True, num_workers=4)"
   ]
  },
  {
   "cell_type": "markdown",
   "id": "ee551ad7",
   "metadata": {},
   "source": [
    "#### 베이스라인 모델 설계"
   ]
  },
  {
   "cell_type": "code",
   "execution_count": 8,
   "id": "2f63b27f",
   "metadata": {},
   "outputs": [],
   "source": [
    "import torch.nn as nn\n",
    "import torch.nn.functional as F\n",
    "import torch.optim as optim\n",
    " \n",
    "class Net(nn.Module): \n",
    "  \n",
    "    def __init__(self):    \n",
    "        super(Net, self).__init__() \n",
    "\n",
    "        self.conv1 = nn.Conv2d(3, 32, 3, padding=1) \n",
    "        self.pool = nn.MaxPool2d(2,2)  \n",
    "        self.conv2 = nn.Conv2d(32, 64, 3, padding=1)  \n",
    "        self.conv3 = nn.Conv2d(64, 64, 3, padding=1)  \n",
    "\n",
    "        self.fc1 = nn.Linear(4096, 512) \n",
    "        self.fc2 = nn.Linear(512, 33) \n",
    "    \n",
    "    def forward(self, x):    \n",
    "        x = self.conv1(x)\n",
    "        x = F.relu(x)  \n",
    "        x = self.pool(x) \n",
    "        x = F.dropout(x, p=0.25, training=self.training) \n",
    "\n",
    "        x = self.conv2(x)\n",
    "        x = F.relu(x) \n",
    "        x = self.pool(x) \n",
    "        x = F.dropout(x, p=0.25, training=self.training)\n",
    "\n",
    "        x = self.conv3(x) \n",
    "        x = F.relu(x) \n",
    "        x = self.pool(x) \n",
    "        x = F.dropout(x, p=0.25, training=self.training)\n",
    "\n",
    "        x = x.view(-1, 4096)  \n",
    "        x = self.fc1(x) \n",
    "        x = F.relu(x) \n",
    "        x = F.dropout(x, p=0.5, training=self.training)\n",
    "        x = self.fc2(x) \n",
    "\n",
    "        return F.log_softmax(x, dim=1)  \n",
    "\n",
    "model_base = Net().to(DEVICE)  \n",
    "optimizer = optim.Adam(model_base.parameters(), lr=0.001)"
   ]
  },
  {
   "cell_type": "markdown",
   "id": "089bf38f",
   "metadata": {},
   "source": [
    "#### 모델 훈련을 위한 함수"
   ]
  },
  {
   "cell_type": "code",
   "execution_count": 10,
   "id": "3f0b407a",
   "metadata": {},
   "outputs": [],
   "source": [
    "def train(model, train_loader, optimizer):\n",
    "    model.train()  \n",
    "    for batch_idx, (data, target) in enumerate(train_loader):   # (data, target) 형태가 미니배치 단위로\n",
    "        data, target = data.to(DEVICE), target.to(DEVICE)       # data, target 변수를 사용중인 디바이스에 할당\n",
    "        optimizer.zero_grad()                                   # 이전 Batch의 Gradient값을 optimizer로 초기화\n",
    "        output = model(data)                                    # 데이터를 모델에 입력, output값을 계산\n",
    "        loss = F.cross_entropy(output, target)                  # 분류에 적합한 cross_entropy 손실함수 사용\n",
    "        loss.backward()                                         # Back Propagation(역전파)로 계산한 Gradient값을 각 파라미터에 할당\n",
    "        optimizer.step()                                        # 모델의 파라미터를 업데이트"
   ]
  },
  {
   "cell_type": "markdown",
   "id": "33b6be52",
   "metadata": {},
   "source": [
    "#### 모델 평가를 위한 함수"
   ]
  },
  {
   "cell_type": "code",
   "execution_count": 11,
   "id": "530a3432",
   "metadata": {},
   "outputs": [],
   "source": [
    "def evaluate(model, test_loader):\n",
    "    model.eval()  \n",
    "    test_loss = 0 \n",
    "    correct = 0   \n",
    "    \n",
    "    with torch.no_grad(): \n",
    "        for data, target in test_loader:  \n",
    "            data, target = data.to(DEVICE), target.to(DEVICE)  \n",
    "            output = model(data) \n",
    "            \n",
    "            test_loss += F.cross_entropy(output,target, reduction='sum').item() \n",
    " \n",
    "            \n",
    "            pred = output.max(1, keepdim=True)[1]\n",
    "            correct += pred.eq(target.view_as(pred)).sum().item() \n",
    "   \n",
    "    test_loss /= len(test_loader.dataset) \n",
    "    test_accuracy = 100. * correct / len(test_loader.dataset) \n",
    "    return test_loss, test_accuracy  "
   ]
  },
  {
   "cell_type": "markdown",
   "id": "54bbd563",
   "metadata": {},
   "source": [
    "#### 모델 훈련 실행"
   ]
  },
  {
   "cell_type": "code",
   "execution_count": 12,
   "id": "f8fa06a7",
   "metadata": {},
   "outputs": [
    {
     "name": "stdout",
     "output_type": "stream",
     "text": [
      "-------------- epoch 1 ----------------\n",
      "train Loss: 1.5871, Accuracy: 53.12%\n",
      "val Loss: 1.6186, Accuracy: 51.96%\n",
      "Completed in 2m 7s\n",
      "-------------- epoch 2 ----------------\n",
      "train Loss: 1.0419, Accuracy: 67.90%\n",
      "val Loss: 1.0798, Accuracy: 66.84%\n",
      "Completed in 2m 8s\n",
      "-------------- epoch 3 ----------------\n",
      "train Loss: 0.7576, Accuracy: 76.94%\n",
      "val Loss: 0.8013, Accuracy: 75.33%\n",
      "Completed in 2m 8s\n",
      "-------------- epoch 4 ----------------\n",
      "train Loss: 0.5775, Accuracy: 82.38%\n",
      "val Loss: 0.6362, Accuracy: 80.19%\n",
      "Completed in 2m 8s\n",
      "-------------- epoch 5 ----------------\n",
      "train Loss: 0.5258, Accuracy: 83.82%\n",
      "val Loss: 0.5875, Accuracy: 81.88%\n",
      "Completed in 2m 8s\n",
      "-------------- epoch 6 ----------------\n",
      "train Loss: 0.4466, Accuracy: 85.89%\n",
      "val Loss: 0.5183, Accuracy: 83.61%\n",
      "Completed in 2m 7s\n",
      "-------------- epoch 7 ----------------\n",
      "train Loss: 0.4422, Accuracy: 85.94%\n",
      "val Loss: 0.5186, Accuracy: 83.51%\n",
      "Completed in 2m 8s\n",
      "-------------- epoch 8 ----------------\n",
      "train Loss: 0.3641, Accuracy: 88.40%\n",
      "val Loss: 0.4536, Accuracy: 85.33%\n",
      "Completed in 2m 8s\n",
      "-------------- epoch 9 ----------------\n",
      "train Loss: 0.3101, Accuracy: 90.22%\n",
      "val Loss: 0.4041, Accuracy: 86.64%\n",
      "Completed in 2m 8s\n",
      "-------------- epoch 10 ----------------\n",
      "train Loss: 0.2558, Accuracy: 92.63%\n",
      "val Loss: 0.3514, Accuracy: 89.08%\n",
      "Completed in 2m 8s\n",
      "-------------- epoch 11 ----------------\n",
      "train Loss: 0.3039, Accuracy: 90.29%\n",
      "val Loss: 0.4150, Accuracy: 86.32%\n",
      "Completed in 2m 8s\n",
      "-------------- epoch 12 ----------------\n",
      "train Loss: 0.2159, Accuracy: 93.40%\n",
      "val Loss: 0.3254, Accuracy: 89.39%\n",
      "Completed in 2m 7s\n",
      "-------------- epoch 13 ----------------\n",
      "train Loss: 0.1795, Accuracy: 94.68%\n",
      "val Loss: 0.2907, Accuracy: 90.51%\n",
      "Completed in 2m 8s\n",
      "-------------- epoch 14 ----------------\n",
      "train Loss: 0.1881, Accuracy: 94.65%\n",
      "val Loss: 0.3021, Accuracy: 90.49%\n",
      "Completed in 2m 8s\n",
      "-------------- epoch 15 ----------------\n",
      "train Loss: 0.1857, Accuracy: 94.37%\n",
      "val Loss: 0.3087, Accuracy: 90.07%\n",
      "Completed in 2m 8s\n",
      "-------------- epoch 16 ----------------\n",
      "train Loss: 0.1613, Accuracy: 95.47%\n",
      "val Loss: 0.2854, Accuracy: 90.93%\n",
      "Completed in 2m 8s\n",
      "-------------- epoch 17 ----------------\n",
      "train Loss: 0.1986, Accuracy: 93.33%\n",
      "val Loss: 0.3390, Accuracy: 88.62%\n",
      "Completed in 2m 8s\n",
      "-------------- epoch 18 ----------------\n",
      "train Loss: 0.1436, Accuracy: 95.66%\n",
      "val Loss: 0.2755, Accuracy: 90.95%\n",
      "Completed in 2m 7s\n",
      "-------------- epoch 19 ----------------\n",
      "train Loss: 0.1215, Accuracy: 96.57%\n",
      "val Loss: 0.2559, Accuracy: 91.75%\n",
      "Completed in 2m 8s\n",
      "-------------- epoch 20 ----------------\n",
      "train Loss: 0.1261, Accuracy: 96.54%\n",
      "val Loss: 0.2611, Accuracy: 91.44%\n",
      "Completed in 2m 16s\n",
      "-------------- epoch 21 ----------------\n",
      "train Loss: 0.0942, Accuracy: 97.61%\n",
      "val Loss: 0.2326, Accuracy: 92.08%\n",
      "Completed in 2m 10s\n",
      "-------------- epoch 22 ----------------\n",
      "train Loss: 0.0983, Accuracy: 97.29%\n",
      "val Loss: 0.2355, Accuracy: 92.51%\n",
      "Completed in 2m 10s\n",
      "-------------- epoch 23 ----------------\n",
      "train Loss: 0.0901, Accuracy: 97.58%\n",
      "val Loss: 0.2338, Accuracy: 92.68%\n",
      "Completed in 2m 10s\n",
      "-------------- epoch 24 ----------------\n",
      "train Loss: 0.0871, Accuracy: 97.62%\n",
      "val Loss: 0.2339, Accuracy: 92.41%\n",
      "Completed in 2m 10s\n",
      "-------------- epoch 25 ----------------\n",
      "train Loss: 0.0707, Accuracy: 98.06%\n",
      "val Loss: 0.2185, Accuracy: 92.93%\n",
      "Completed in 2m 11s\n",
      "-------------- epoch 26 ----------------\n",
      "train Loss: 0.0679, Accuracy: 98.22%\n",
      "val Loss: 0.2194, Accuracy: 93.08%\n",
      "Completed in 2m 10s\n",
      "-------------- epoch 27 ----------------\n",
      "train Loss: 0.0938, Accuracy: 97.08%\n",
      "val Loss: 0.2539, Accuracy: 91.49%\n",
      "Completed in 2m 10s\n",
      "-------------- epoch 28 ----------------\n",
      "train Loss: 0.0675, Accuracy: 98.40%\n",
      "val Loss: 0.2187, Accuracy: 92.77%\n",
      "Completed in 2m 11s\n",
      "-------------- epoch 29 ----------------\n",
      "train Loss: 0.0577, Accuracy: 98.64%\n",
      "val Loss: 0.2079, Accuracy: 92.99%\n",
      "Completed in 2m 10s\n",
      "-------------- epoch 30 ----------------\n",
      "train Loss: 0.0491, Accuracy: 98.85%\n",
      "val Loss: 0.2045, Accuracy: 93.83%\n",
      "Completed in 2m 11s\n"
     ]
    }
   ],
   "source": [
    "import time\n",
    "import copy\n",
    " \n",
    "def train_baseline(model ,train_loader, val_loader, optimizer, num_epochs = 30):\n",
    "    best_acc = 0.0  \n",
    "    best_model_wts = copy.deepcopy(model.state_dict()) \n",
    " \n",
    "    for epoch in range(1, num_epochs + 1):\n",
    "        since = time.time()  \n",
    "        train(model, train_loader, optimizer)\n",
    "        train_loss, train_acc = evaluate(model, train_loader) \n",
    "        val_loss, val_acc = evaluate(model, val_loader)\n",
    "        \n",
    "        if val_acc > best_acc: \n",
    "            best_acc = val_acc \n",
    "            best_model_wts = copy.deepcopy(model.state_dict())\n",
    "        \n",
    "        time_elapsed = time.time() - since \n",
    "        print('-------------- epoch {} ----------------'.format(epoch))\n",
    "        print('train Loss: {:.4f}, Accuracy: {:.2f}%'.format(train_loss, train_acc))   \n",
    "        print('val Loss: {:.4f}, Accuracy: {:.2f}%'.format(val_loss, val_acc))\n",
    "        print('Completed in {:.0f}m {:.0f}s'.format(time_elapsed // 60, time_elapsed % 60)) \n",
    "    model.load_state_dict(best_model_wts)  \n",
    "    return model\n",
    " \n",
    "\n",
    "base = train_baseline(model_base, train_loader, val_loader, optimizer, EPOCH)  \t #(16)\n",
    "torch.save(base,'baseline.pt')"
   ]
  },
  {
   "cell_type": "markdown",
   "id": "479971fb",
   "metadata": {},
   "source": [
    "#### Transfer Learning 모델 학습 준비\n",
    "- 높은 성능의 이미지 분류모델을 구축위해 많은 수, 질 좋은 데이터세트가 필요\n",
    "- 미리 학습된 Pre-Trained Model, 이를 조정하는 과정을 Fine-Tuning이라고 함\n",
    "- 이 기법을 모두 통틀어 Tranfer Learning이라 부름\n",
    "- AlexNet, VGG, RegNet, SqueezeNet, DenseNet, Inception v3, GoogleNet, ResNeXt, ResNet 등...\n",
    "- torchvision.models 패키지 밑에서 제공"
   ]
  },
  {
   "cell_type": "code",
   "execution_count": 13,
   "id": "91ebe5f9",
   "metadata": {},
   "outputs": [],
   "source": [
    "data_transforms = {\n",
    "    'train': transforms.Compose([transforms.Resize([64,64]), \n",
    "        transforms.RandomHorizontalFlip(), transforms.RandomVerticalFlip(),  \n",
    "        transforms.RandomCrop(52), transforms.ToTensor(), \n",
    "        transforms.Normalize([0.485, 0.456, 0.406], [0.229, 0.224, 0.225]) ]),\n",
    "    \n",
    "    'val': transforms.Compose([transforms.Resize([64,64]),  \n",
    "        transforms.RandomCrop(52), transforms.ToTensor(),\n",
    "        transforms.Normalize([0.485, 0.456, 0.406], [0.229, 0.224, 0.225]) ])\n",
    "}"
   ]
  },
  {
   "cell_type": "code",
   "execution_count": 14,
   "id": "f378548b",
   "metadata": {},
   "outputs": [],
   "source": [
    "data_dir = './splitted' \n",
    "image_datasets = {x: ImageFolder(root=os.path.join(data_dir, x), transform=data_transforms[x]) for x in ['train', 'val']} \n",
    "dataloaders = {x: torch.utils.data.DataLoader(image_datasets[x], batch_size=BATCH_SIZE, shuffle=True, num_workers=4) for x in ['train', 'val']} \n",
    "dataset_sizes = {x: len(image_datasets[x]) for x in ['train', 'val']}\n",
    "\n",
    "class_names = image_datasets['train'].classes"
   ]
  },
  {
   "cell_type": "markdown",
   "id": "21109c87",
   "metadata": {},
   "source": [
    "#### Pre-Trained Model 불러오기"
   ]
  },
  {
   "cell_type": "code",
   "execution_count": 15,
   "id": "16142db2",
   "metadata": {},
   "outputs": [
    {
     "name": "stderr",
     "output_type": "stream",
     "text": [
      "d:\\01_Programming\\100_HugoBank\\Mine\\study-pytorch\\torch-gpu-env\\Lib\\site-packages\\torchvision\\models\\_utils.py:208: UserWarning: The parameter 'pretrained' is deprecated since 0.13 and may be removed in the future, please use 'weights' instead.\n",
      "  warnings.warn(\n",
      "d:\\01_Programming\\100_HugoBank\\Mine\\study-pytorch\\torch-gpu-env\\Lib\\site-packages\\torchvision\\models\\_utils.py:223: UserWarning: Arguments other than a weight enum or `None` for 'weights' are deprecated since 0.13 and may be removed in the future. The current behavior is equivalent to passing `weights=ResNet50_Weights.IMAGENET1K_V1`. You can also use `weights=ResNet50_Weights.DEFAULT` to get the most up-to-date weights.\n",
      "  warnings.warn(msg)\n",
      "Downloading: \"https://download.pytorch.org/models/resnet50-0676ba61.pth\" to C:\\Users\\perso/.cache\\torch\\hub\\checkpoints\\resnet50-0676ba61.pth\n",
      "100.0%\n"
     ]
    }
   ],
   "source": [
    "from torchvision import models\n",
    " \n",
    "resnet = models.resnet50(pretrained=True)  \n",
    "num_ftrs = resnet.fc.in_features   \n",
    "resnet.fc = nn.Linear(num_ftrs, 33) \n",
    "resnet = resnet.to(DEVICE)\n",
    " \n",
    "criterion = nn.CrossEntropyLoss() \n",
    "optimizer_ft = optim.Adam(filter(lambda p: p.requires_grad, resnet.parameters()), lr=0.001)\n",
    " \n",
    "from torch.optim import lr_scheduler\n",
    "exp_lr_scheduler = lr_scheduler.StepLR(optimizer_ft, step_size=7, gamma=0.1) "
   ]
  },
  {
   "cell_type": "markdown",
   "id": "bf37f63f",
   "metadata": {},
   "source": [
    "#### Pre-Trained Model의 일부 Layer Freeze"
   ]
  },
  {
   "cell_type": "code",
   "execution_count": 16,
   "id": "e6e4ae97",
   "metadata": {},
   "outputs": [],
   "source": [
    "ct = 0 \n",
    "for child in resnet.children():  \n",
    "    ct += 1  \n",
    "    if ct < 6: \n",
    "        for param in child.parameters():\n",
    "            param.requires_grad = False"
   ]
  },
  {
   "cell_type": "markdown",
   "id": "8131a266",
   "metadata": {},
   "source": [
    "#### Transfer Learning 모델 학습과 검증을 위한 함수"
   ]
  },
  {
   "cell_type": "code",
   "execution_count": 17,
   "id": "92c61a8d",
   "metadata": {},
   "outputs": [],
   "source": [
    "def train_resnet(model, criterion, optimizer, scheduler, num_epochs=25):\n",
    "\n",
    "    best_model_wts = copy.deepcopy(model.state_dict())  \n",
    "    best_acc = 0.0  \n",
    "    \n",
    "    for epoch in range(num_epochs):\n",
    "        print('-------------- epoch {} ----------------'.format(epoch+1)) \n",
    "        since = time.time()                                     \n",
    "        for phase in ['train', 'val']: \n",
    "            if phase == 'train': \n",
    "                model.train() \n",
    "            else:\n",
    "                model.eval()     \n",
    " \n",
    "            running_loss = 0.0  \n",
    "            running_corrects = 0  \n",
    " \n",
    "            \n",
    "            for inputs, labels in dataloaders[phase]: \n",
    "                inputs = inputs.to(DEVICE)  \n",
    "                labels = labels.to(DEVICE)  \n",
    "                \n",
    "                optimizer.zero_grad() \n",
    "                \n",
    "                with torch.set_grad_enabled(phase == 'train'):  \n",
    "                    outputs = model(inputs)  \n",
    "                    _, preds = torch.max(outputs, 1) \n",
    "                    loss = criterion(outputs, labels)  \n",
    "    \n",
    "                    if phase == 'train':   \n",
    "                        loss.backward()\n",
    "                        optimizer.step()\n",
    " \n",
    "                running_loss += loss.item() * inputs.size(0)  \n",
    "                running_corrects += torch.sum(preds == labels.data)  \n",
    "            if phase == 'train':  \n",
    "                scheduler.step()\n",
    " \n",
    "            epoch_loss = running_loss/dataset_sizes[phase]  \n",
    "            epoch_acc = running_corrects.double()/dataset_sizes[phase]  \n",
    " \n",
    "            print('{} Loss: {:.4f} Acc: {:.4f}'.format(phase, epoch_loss, epoch_acc)) \n",
    " \n",
    "          \n",
    "            if phase == 'val' and epoch_acc > best_acc: \n",
    "                best_acc = epoch_acc\n",
    "                best_model_wts = copy.deepcopy(model.state_dict())\n",
    " \n",
    "        time_elapsed = time.time() - since  \n",
    "        print('Completed in {:.0f}m {:.0f}s'.format(time_elapsed // 60, time_elapsed % 60))\n",
    "    print('Best val Acc: {:4f}'.format(best_acc))\n",
    " \n",
    "    model.load_state_dict(best_model_wts) \n",
    "\n",
    "    return model"
   ]
  },
  {
   "cell_type": "markdown",
   "id": "b1a37850",
   "metadata": {},
   "source": [
    "#### 모델 학습을 실행"
   ]
  },
  {
   "cell_type": "code",
   "execution_count": 18,
   "id": "df0bfce8",
   "metadata": {},
   "outputs": [
    {
     "name": "stdout",
     "output_type": "stream",
     "text": [
      "-------------- epoch 1 ----------------\n",
      "train Loss: 0.5863 Acc: 0.8223\n",
      "val Loss: 0.3316 Acc: 0.8992\n",
      "Completed in 2m 4s\n",
      "-------------- epoch 2 ----------------\n",
      "train Loss: 0.2183 Acc: 0.9289\n",
      "val Loss: 0.2660 Acc: 0.9158\n",
      "Completed in 1m 57s\n",
      "-------------- epoch 3 ----------------\n",
      "train Loss: 0.1608 Acc: 0.9483\n",
      "val Loss: 0.1233 Acc: 0.9598\n",
      "Completed in 1m 58s\n",
      "-------------- epoch 4 ----------------\n",
      "train Loss: 0.1393 Acc: 0.9551\n",
      "val Loss: 0.1677 Acc: 0.9454\n",
      "Completed in 1m 58s\n",
      "-------------- epoch 5 ----------------\n",
      "train Loss: 0.1203 Acc: 0.9616\n",
      "val Loss: 0.1155 Acc: 0.9611\n",
      "Completed in 1m 57s\n",
      "-------------- epoch 6 ----------------\n",
      "train Loss: 0.0988 Acc: 0.9685\n",
      "val Loss: 0.1036 Acc: 0.9655\n",
      "Completed in 2m 1s\n",
      "-------------- epoch 7 ----------------\n",
      "train Loss: 0.0723 Acc: 0.9765\n",
      "val Loss: 0.0791 Acc: 0.9742\n",
      "Completed in 2m 1s\n",
      "-------------- epoch 8 ----------------\n",
      "train Loss: 0.0405 Acc: 0.9876\n",
      "val Loss: 0.0358 Acc: 0.9877\n",
      "Completed in 1m 60s\n",
      "-------------- epoch 9 ----------------\n",
      "train Loss: 0.0282 Acc: 0.9901\n",
      "val Loss: 0.0353 Acc: 0.9886\n",
      "Completed in 1m 56s\n",
      "-------------- epoch 10 ----------------\n",
      "train Loss: 0.0246 Acc: 0.9916\n",
      "val Loss: 0.0298 Acc: 0.9897\n",
      "Completed in 1m 56s\n",
      "-------------- epoch 11 ----------------\n",
      "train Loss: 0.0190 Acc: 0.9942\n",
      "val Loss: 0.0295 Acc: 0.9894\n",
      "Completed in 1m 56s\n",
      "-------------- epoch 12 ----------------\n",
      "train Loss: 0.0164 Acc: 0.9950\n",
      "val Loss: 0.0284 Acc: 0.9915\n",
      "Completed in 1m 59s\n",
      "-------------- epoch 13 ----------------\n",
      "train Loss: 0.0168 Acc: 0.9944\n",
      "val Loss: 0.0290 Acc: 0.9911\n",
      "Completed in 1m 58s\n",
      "-------------- epoch 14 ----------------\n",
      "train Loss: 0.0156 Acc: 0.9945\n",
      "val Loss: 0.0297 Acc: 0.9910\n",
      "Completed in 1m 60s\n",
      "-------------- epoch 15 ----------------\n",
      "train Loss: 0.0144 Acc: 0.9952\n",
      "val Loss: 0.0261 Acc: 0.9926\n",
      "Completed in 1m 53s\n",
      "-------------- epoch 16 ----------------\n",
      "train Loss: 0.0138 Acc: 0.9950\n",
      "val Loss: 0.0256 Acc: 0.9912\n",
      "Completed in 1m 54s\n",
      "-------------- epoch 17 ----------------\n",
      "train Loss: 0.0125 Acc: 0.9961\n",
      "val Loss: 0.0235 Acc: 0.9919\n",
      "Completed in 1m 57s\n",
      "-------------- epoch 18 ----------------\n",
      "train Loss: 0.0120 Acc: 0.9966\n",
      "val Loss: 0.0261 Acc: 0.9915\n",
      "Completed in 1m 52s\n",
      "-------------- epoch 19 ----------------\n",
      "train Loss: 0.0121 Acc: 0.9962\n",
      "val Loss: 0.0246 Acc: 0.9917\n",
      "Completed in 1m 52s\n",
      "-------------- epoch 20 ----------------\n",
      "train Loss: 0.0130 Acc: 0.9958\n",
      "val Loss: 0.0223 Acc: 0.9930\n",
      "Completed in 1m 52s\n",
      "-------------- epoch 21 ----------------\n",
      "train Loss: 0.0115 Acc: 0.9962\n",
      "val Loss: 0.0239 Acc: 0.9927\n",
      "Completed in 1m 52s\n",
      "-------------- epoch 22 ----------------\n",
      "train Loss: 0.0112 Acc: 0.9963\n",
      "val Loss: 0.0248 Acc: 0.9917\n",
      "Completed in 1m 52s\n",
      "-------------- epoch 23 ----------------\n",
      "train Loss: 0.0117 Acc: 0.9962\n",
      "val Loss: 0.0240 Acc: 0.9919\n",
      "Completed in 1m 52s\n",
      "-------------- epoch 24 ----------------\n",
      "train Loss: 0.0121 Acc: 0.9960\n",
      "val Loss: 0.0255 Acc: 0.9914\n",
      "Completed in 1m 52s\n",
      "-------------- epoch 25 ----------------\n",
      "train Loss: 0.0121 Acc: 0.9963\n",
      "val Loss: 0.0258 Acc: 0.9911\n",
      "Completed in 1m 52s\n",
      "-------------- epoch 26 ----------------\n",
      "train Loss: 0.0099 Acc: 0.9969\n",
      "val Loss: 0.0216 Acc: 0.9937\n",
      "Completed in 1m 52s\n",
      "-------------- epoch 27 ----------------\n",
      "train Loss: 0.0115 Acc: 0.9964\n",
      "val Loss: 0.0248 Acc: 0.9920\n",
      "Completed in 1m 52s\n",
      "-------------- epoch 28 ----------------\n",
      "train Loss: 0.0122 Acc: 0.9960\n",
      "val Loss: 0.0247 Acc: 0.9922\n",
      "Completed in 1m 52s\n",
      "-------------- epoch 29 ----------------\n",
      "train Loss: 0.0122 Acc: 0.9958\n",
      "val Loss: 0.0239 Acc: 0.9926\n",
      "Completed in 1m 52s\n",
      "-------------- epoch 30 ----------------\n",
      "train Loss: 0.0110 Acc: 0.9965\n",
      "val Loss: 0.0237 Acc: 0.9930\n",
      "Completed in 1m 53s\n",
      "Best val Acc: 0.993741\n"
     ]
    }
   ],
   "source": [
    "model_resnet50 = train_resnet(resnet, criterion, optimizer_ft, exp_lr_scheduler, num_epochs=EPOCH) \n",
    "\n",
    "torch.save(model_resnet50, 'resnet50.pt')"
   ]
  },
  {
   "cell_type": "markdown",
   "id": "70072ea7",
   "metadata": {},
   "source": [
    "#### 모델 평가"
   ]
  },
  {
   "cell_type": "code",
   "execution_count": 19,
   "id": "88356f0b",
   "metadata": {},
   "outputs": [],
   "source": [
    "transform_base = transforms.Compose([transforms.Resize([64,64]),transforms.ToTensor()])\n",
    "test_base = ImageFolder(root='./splitted/test',transform=transform_base)  \n",
    "test_loader_base = torch.utils.data.DataLoader(test_base, batch_size=BATCH_SIZE, shuffle=True, num_workers=4)"
   ]
  },
  {
   "cell_type": "markdown",
   "id": "22d59b99",
   "metadata": {},
   "source": [
    "#### Transfer Learning모델 평가를 위한 전처리"
   ]
  },
  {
   "cell_type": "code",
   "execution_count": 20,
   "id": "f637cad5",
   "metadata": {},
   "outputs": [],
   "source": [
    "transform_resNet = transforms.Compose([\n",
    "        transforms.Resize([64,64]),  \n",
    "        transforms.RandomCrop(52),  \n",
    "        transforms.ToTensor(),\n",
    "        transforms.Normalize([0.485, 0.456, 0.406], [0.229, 0.224, 0.225]) \n",
    "    ])\n",
    "    \n",
    "test_resNet = ImageFolder(root='./splitted/test', transform=transform_resNet) \n",
    "test_loader_resNet = torch.utils.data.DataLoader(test_resNet, batch_size=BATCH_SIZE, shuffle=True, num_workers=4)"
   ]
  },
  {
   "cell_type": "markdown",
   "id": "878c9693",
   "metadata": {},
   "source": [
    "#### 베이스라인 모델 성능 평가"
   ]
  },
  {
   "cell_type": "code",
   "execution_count": 22,
   "id": "aed604ec",
   "metadata": {},
   "outputs": [
    {
     "ename": "UnpicklingError",
     "evalue": "Weights only load failed. This file can still be loaded, to do so you have two options, \u001b[1mdo those steps only if you trust the source of the checkpoint\u001b[0m. \n\t(1) In PyTorch 2.6, we changed the default value of the `weights_only` argument in `torch.load` from `False` to `True`. Re-running `torch.load` with `weights_only` set to `False` will likely succeed, but it can result in arbitrary code execution. Do it only if you got the file from a trusted source.\n\t(2) Alternatively, to load with `weights_only=True` please check the recommended steps in the following error message.\n\tWeightsUnpickler error: Unsupported global: GLOBAL __main__.Net was not an allowed global by default. Please use `torch.serialization.add_safe_globals([Net])` or the `torch.serialization.safe_globals([Net])` context manager to allowlist this global if you trust this class/function.\n\nCheck the documentation of torch.load to learn more about types accepted by default with weights_only https://pytorch.org/docs/stable/generated/torch.load.html.",
     "output_type": "error",
     "traceback": [
      "\u001b[31m---------------------------------------------------------------------------\u001b[39m",
      "\u001b[31mUnpicklingError\u001b[39m                           Traceback (most recent call last)",
      "\u001b[36mCell\u001b[39m\u001b[36m \u001b[39m\u001b[32mIn[22]\u001b[39m\u001b[32m, line 1\u001b[39m\n\u001b[32m----> \u001b[39m\u001b[32m1\u001b[39m baseline=\u001b[43mtorch\u001b[49m\u001b[43m.\u001b[49m\u001b[43mload\u001b[49m\u001b[43m(\u001b[49m\u001b[33;43m'\u001b[39;49m\u001b[33;43m./baseline.pt\u001b[39;49m\u001b[33;43m'\u001b[39;49m\u001b[43m)\u001b[49m \n\u001b[32m      2\u001b[39m baseline.eval()  \n\u001b[32m      3\u001b[39m test_loss, test_accuracy = evaluate(baseline, test_loader_base)\n",
      "\u001b[36mFile \u001b[39m\u001b[32md:\\01_Programming\\100_HugoBank\\Mine\\study-pytorch\\torch-gpu-env\\Lib\\site-packages\\torch\\serialization.py:1470\u001b[39m, in \u001b[36mload\u001b[39m\u001b[34m(f, map_location, pickle_module, weights_only, mmap, **pickle_load_args)\u001b[39m\n\u001b[32m   1462\u001b[39m                 \u001b[38;5;28;01mreturn\u001b[39;00m _load(\n\u001b[32m   1463\u001b[39m                     opened_zipfile,\n\u001b[32m   1464\u001b[39m                     map_location,\n\u001b[32m   (...)\u001b[39m\u001b[32m   1467\u001b[39m                     **pickle_load_args,\n\u001b[32m   1468\u001b[39m                 )\n\u001b[32m   1469\u001b[39m             \u001b[38;5;28;01mexcept\u001b[39;00m pickle.UnpicklingError \u001b[38;5;28;01mas\u001b[39;00m e:\n\u001b[32m-> \u001b[39m\u001b[32m1470\u001b[39m                 \u001b[38;5;28;01mraise\u001b[39;00m pickle.UnpicklingError(_get_wo_message(\u001b[38;5;28mstr\u001b[39m(e))) \u001b[38;5;28;01mfrom\u001b[39;00m\u001b[38;5;250m \u001b[39m\u001b[38;5;28;01mNone\u001b[39;00m\n\u001b[32m   1471\u001b[39m         \u001b[38;5;28;01mreturn\u001b[39;00m _load(\n\u001b[32m   1472\u001b[39m             opened_zipfile,\n\u001b[32m   1473\u001b[39m             map_location,\n\u001b[32m   (...)\u001b[39m\u001b[32m   1476\u001b[39m             **pickle_load_args,\n\u001b[32m   1477\u001b[39m         )\n\u001b[32m   1478\u001b[39m \u001b[38;5;28;01mif\u001b[39;00m mmap:\n",
      "\u001b[31mUnpicklingError\u001b[39m: Weights only load failed. This file can still be loaded, to do so you have two options, \u001b[1mdo those steps only if you trust the source of the checkpoint\u001b[0m. \n\t(1) In PyTorch 2.6, we changed the default value of the `weights_only` argument in `torch.load` from `False` to `True`. Re-running `torch.load` with `weights_only` set to `False` will likely succeed, but it can result in arbitrary code execution. Do it only if you got the file from a trusted source.\n\t(2) Alternatively, to load with `weights_only=True` please check the recommended steps in the following error message.\n\tWeightsUnpickler error: Unsupported global: GLOBAL __main__.Net was not an allowed global by default. Please use `torch.serialization.add_safe_globals([Net])` or the `torch.serialization.safe_globals([Net])` context manager to allowlist this global if you trust this class/function.\n\nCheck the documentation of torch.load to learn more about types accepted by default with weights_only https://pytorch.org/docs/stable/generated/torch.load.html."
     ]
    }
   ],
   "source": [
    "baseline=torch.load('./baseline.pt') \n",
    "baseline.eval()  \n",
    "test_loss, test_accuracy = evaluate(baseline, test_loader_base)\n",
    "\n",
    "print('baseline test acc:  ', test_accuracy)"
   ]
  },
  {
   "cell_type": "markdown",
   "id": "9b0cdec1",
   "metadata": {},
   "source": [
    "#### Transfer Learning 모델 성능 평가"
   ]
  },
  {
   "cell_type": "code",
   "execution_count": 23,
   "id": "fe85738d",
   "metadata": {},
   "outputs": [
    {
     "ename": "UnpicklingError",
     "evalue": "Weights only load failed. This file can still be loaded, to do so you have two options, \u001b[1mdo those steps only if you trust the source of the checkpoint\u001b[0m. \n\t(1) In PyTorch 2.6, we changed the default value of the `weights_only` argument in `torch.load` from `False` to `True`. Re-running `torch.load` with `weights_only` set to `False` will likely succeed, but it can result in arbitrary code execution. Do it only if you got the file from a trusted source.\n\t(2) Alternatively, to load with `weights_only=True` please check the recommended steps in the following error message.\n\tWeightsUnpickler error: Unsupported global: GLOBAL torchvision.models.resnet.ResNet was not an allowed global by default. Please use `torch.serialization.add_safe_globals([ResNet])` or the `torch.serialization.safe_globals([ResNet])` context manager to allowlist this global if you trust this class/function.\n\nCheck the documentation of torch.load to learn more about types accepted by default with weights_only https://pytorch.org/docs/stable/generated/torch.load.html.",
     "output_type": "error",
     "traceback": [
      "\u001b[31m---------------------------------------------------------------------------\u001b[39m",
      "\u001b[31mUnpicklingError\u001b[39m                           Traceback (most recent call last)",
      "\u001b[36mCell\u001b[39m\u001b[36m \u001b[39m\u001b[32mIn[23]\u001b[39m\u001b[32m, line 1\u001b[39m\n\u001b[32m----> \u001b[39m\u001b[32m1\u001b[39m resnet50=\u001b[43mtorch\u001b[49m\u001b[43m.\u001b[49m\u001b[43mload\u001b[49m\u001b[43m(\u001b[49m\u001b[33;43m'\u001b[39;49m\u001b[33;43mresnet50.pt\u001b[39;49m\u001b[33;43m'\u001b[39;49m\u001b[43m)\u001b[49m \n\u001b[32m      2\u001b[39m resnet50.eval()  \n\u001b[32m      3\u001b[39m test_loss, test_accuracy = evaluate(resnet50, test_loader_resNet)\n",
      "\u001b[36mFile \u001b[39m\u001b[32md:\\01_Programming\\100_HugoBank\\Mine\\study-pytorch\\torch-gpu-env\\Lib\\site-packages\\torch\\serialization.py:1470\u001b[39m, in \u001b[36mload\u001b[39m\u001b[34m(f, map_location, pickle_module, weights_only, mmap, **pickle_load_args)\u001b[39m\n\u001b[32m   1462\u001b[39m                 \u001b[38;5;28;01mreturn\u001b[39;00m _load(\n\u001b[32m   1463\u001b[39m                     opened_zipfile,\n\u001b[32m   1464\u001b[39m                     map_location,\n\u001b[32m   (...)\u001b[39m\u001b[32m   1467\u001b[39m                     **pickle_load_args,\n\u001b[32m   1468\u001b[39m                 )\n\u001b[32m   1469\u001b[39m             \u001b[38;5;28;01mexcept\u001b[39;00m pickle.UnpicklingError \u001b[38;5;28;01mas\u001b[39;00m e:\n\u001b[32m-> \u001b[39m\u001b[32m1470\u001b[39m                 \u001b[38;5;28;01mraise\u001b[39;00m pickle.UnpicklingError(_get_wo_message(\u001b[38;5;28mstr\u001b[39m(e))) \u001b[38;5;28;01mfrom\u001b[39;00m\u001b[38;5;250m \u001b[39m\u001b[38;5;28;01mNone\u001b[39;00m\n\u001b[32m   1471\u001b[39m         \u001b[38;5;28;01mreturn\u001b[39;00m _load(\n\u001b[32m   1472\u001b[39m             opened_zipfile,\n\u001b[32m   1473\u001b[39m             map_location,\n\u001b[32m   (...)\u001b[39m\u001b[32m   1476\u001b[39m             **pickle_load_args,\n\u001b[32m   1477\u001b[39m         )\n\u001b[32m   1478\u001b[39m \u001b[38;5;28;01mif\u001b[39;00m mmap:\n",
      "\u001b[31mUnpicklingError\u001b[39m: Weights only load failed. This file can still be loaded, to do so you have two options, \u001b[1mdo those steps only if you trust the source of the checkpoint\u001b[0m. \n\t(1) In PyTorch 2.6, we changed the default value of the `weights_only` argument in `torch.load` from `False` to `True`. Re-running `torch.load` with `weights_only` set to `False` will likely succeed, but it can result in arbitrary code execution. Do it only if you got the file from a trusted source.\n\t(2) Alternatively, to load with `weights_only=True` please check the recommended steps in the following error message.\n\tWeightsUnpickler error: Unsupported global: GLOBAL torchvision.models.resnet.ResNet was not an allowed global by default. Please use `torch.serialization.add_safe_globals([ResNet])` or the `torch.serialization.safe_globals([ResNet])` context manager to allowlist this global if you trust this class/function.\n\nCheck the documentation of torch.load to learn more about types accepted by default with weights_only https://pytorch.org/docs/stable/generated/torch.load.html."
     ]
    }
   ],
   "source": [
    "resnet50=torch.load('resnet50.pt') \n",
    "resnet50.eval()  \n",
    "test_loss, test_accuracy = evaluate(resnet50, test_loader_resNet)\n",
    "\n",
    "print('ResNet test acc:  ', test_accuracy)"
   ]
  }
 ],
 "metadata": {
  "kernelspec": {
   "display_name": "torch-gpu-env",
   "language": "python",
   "name": "python3"
  },
  "language_info": {
   "codemirror_mode": {
    "name": "ipython",
    "version": 3
   },
   "file_extension": ".py",
   "mimetype": "text/x-python",
   "name": "python",
   "nbconvert_exporter": "python",
   "pygments_lexer": "ipython3",
   "version": "3.11.9"
  }
 },
 "nbformat": 4,
 "nbformat_minor": 5
}
