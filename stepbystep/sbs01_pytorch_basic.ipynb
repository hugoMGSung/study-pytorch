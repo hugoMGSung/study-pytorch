{
 "cells": [
  {
   "cell_type": "markdown",
   "metadata": {},
   "source": [
    "### 파이토치 딥러닝 스텝바이스텝 : 초보자 가이드\n",
    "\n",
    "#### Chapter 0 - 시작"
   ]
  },
  {
   "cell_type": "code",
   "execution_count": 4,
   "metadata": {},
   "outputs": [],
   "source": [
    "import numpy as np\n",
    "import pandas as pd\n",
    "import matplotlib.pyplot as plt\n",
    "from matplotlib import rcParams, rc, font_manager\n",
    "import warnings\n",
    "import seaborn as sns\n",
    "import time\n",
    "from tqdm import tqdm  # 반복 진행 프로그레스바 모듈\n",
    "\n",
    "from sklearn.linear_model import LinearRegression\n",
    "from sklearn.preprocessing import StandardScaler"
   ]
  },
  {
   "cell_type": "code",
   "execution_count": 5,
   "metadata": {},
   "outputs": [],
   "source": [
    "# 맷플롯립 한글 및 기타설정\n",
    "## 맑은 고딕\n",
    "font_path = 'C:/Windows/Fonts/malgun.ttf'\n",
    "font_name = font_manager.FontProperties(fname=font_path).get_name() # Malgun Gothic\n",
    "warnings.simplefilter('ignore') # 경고메시지 출력숨김\n",
    "\n",
    "## 맷플롯립 설정\n",
    "plt.rcParams['font.family'] = font_name # 폰트 설정\n",
    "plt.rcParams['font.size'] = 12 # 글자크기\n",
    "plt.rcParams['figure.figsize'] = (12, 6) # (W, H)\n",
    "plt.rcParams['axes.grid'] = True # 차트 가로세로줄 표시\n",
    "plt.rcParams['axes.unicode_minus'] = False # 한글설정 후 마이너스깨짐 방지\n",
    "\n",
    "## 시본 설정\n",
    "sns.set_theme(font=font_name, style='darkgrid', rc={'axes.unicode_minus':False})"
   ]
  }
 ],
 "metadata": {
  "kernelspec": {
   "display_name": "pytorch_env",
   "language": "python",
   "name": "python3"
  },
  "language_info": {
   "codemirror_mode": {
    "name": "ipython",
    "version": 3
   },
   "file_extension": ".py",
   "mimetype": "text/x-python",
   "name": "python",
   "nbconvert_exporter": "python",
   "pygments_lexer": "ipython3",
   "version": "3.10.5"
  }
 },
 "nbformat": 4,
 "nbformat_minor": 2
}
