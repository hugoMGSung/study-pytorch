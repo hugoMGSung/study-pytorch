{
 "cells": [
  {
   "cell_type": "markdown",
   "metadata": {},
   "source": [
    "## 로지스틱 회귀\n",
    "\n",
    "### 과소적합과 과대적합\n",
    "- 이전까진 데이터가 선형으로 표현되는 매우 단순한 상황을 고려한 것임\n",
    "- 실세계 데이터에서는 선형이 아닌경우가 많고 잡음도 섞임\n",
    "- 비선형 모델이 필요"
   ]
  },
  {
   "cell_type": "code",
   "execution_count": null,
   "metadata": {},
   "outputs": [],
   "source": []
  }
 ],
 "metadata": {
  "language_info": {
   "name": "python"
  }
 },
 "nbformat": 4,
 "nbformat_minor": 2
}
