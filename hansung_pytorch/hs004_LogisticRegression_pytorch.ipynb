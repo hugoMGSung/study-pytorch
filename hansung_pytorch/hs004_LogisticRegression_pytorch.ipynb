{
 "cells": [
  {
   "cell_type": "markdown",
   "metadata": {},
   "source": [
    "## 로지스틱 회귀\n",
    "\n",
    "### 과소적합과 과대적합\n",
    "- 이전까진 데이터가 선형으로 표현되는 매우 단순한 상황을 고려한 것임\n",
    "- 실세계 데이터에서는 선형이 아닌경우가 많고 잡음도 섞임\n",
    "- 비선형 모델이 필요"
   ]
  },
  {
   "cell_type": "markdown",
   "metadata": {},
   "source": [
    "#### 과소적합(Underfitting)\n",
    "\n",
    "<img src='https://raw.githubusercontent.com/hugoMGSung/study-pytorch/refs/heads/main/images/torch0005.png' width='700'>\n",
    "\n",
    "\n",
    "- 선형모델(1차) 는 과소적합\n",
    "- 비선형 모델을 사용하는 대안 - 2차 ~ 4차 등의 다항식 곡선을 회귀 모델로 선택\n",
    "- 1차에 비해 데이터를 표현하는 오차가 크게 감소"
   ]
  },
  {
   "cell_type": "markdown",
   "metadata": {},
   "source": [
    "#### 과대적합(Overfitting)\n",
    "\n",
    "<img src='https://raw.githubusercontent.com/hugoMGSung/study-pytorch/refs/heads/main/images/torch0006.png' width='400'>\n",
    "\n",
    "- 12차 모델의 경우 훈련집합에 대해서는 거의 완벽하게 근사\n",
    "- 대신, 새로운 데이터를 예측할 때 큰 문제 발생\n",
    "- 적절한 모델 선택 작업, 혹은 과대적합 방지하기 위한 작업 필요\n",
    "\n",
    "##### 바이어스와 분산\n",
    "- 3~4차 모델이 가장 일반적으로 사용됨\n",
    "- bias - 바이어스, 데이터 <--> 회귀 모델들이 추정한 값 사이의 차이\n",
    "- variance - 분산, 회귀 모델 곡선들의 모양의 유사한 정도\n",
    "\n",
    "##### 과대적합 방지법\n",
    "1. 데이터양 늘리기\n",
    "    - 데이터의 일반적 패턴을 학습, 과대적합 방지\n",
    "    \n",
    "2. 모델의 복잡도 줄이기\n",
    "    - 신경망 복잠도 -> 은닉층 혹은 매개변수 등으로 결정\n",
    "    - 신경망 복잡도를 데이터양과 비교해 적절한 수준으로 설정\n",
    "\n",
    "3. 가중치 규제\n",
    "    - 기존의 비용함수에 가중치 규제값 추가\n",
    "\n",
    "4. 드롭아웃\n",
    "    - 학습과정에서 인공신경망의 일부를 사용하지 않는 방법"
   ]
  },
  {
   "cell_type": "markdown",
   "metadata": {},
   "source": [
    "### 이진분류\n",
    "\n",
    "- 성인여성의 나이와 혈압 데이터로 나이와 혈압이 선형관계에 있다고 가정. 선형회귀로 파라미터를 최적화\n",
    "\n",
    "    $$ H(x) = wx + b $$\n",
    "\n",
    "- 오차가 크지만 선형 모델로 표현은 가능함"
   ]
  },
  {
   "cell_type": "markdown",
   "metadata": {},
   "source": [
    "#### 선형회귀 문제\n",
    "\n",
    "- 성인여성 나이이 대한 암발병 여부를 데이터로 확인하면 이는 선형모델로 표현불가 -> 범주형 변수이기 때문"
   ]
  },
  {
   "cell_type": "markdown",
   "metadata": {},
   "source": [
    "#### 시그모이드 함수\n",
    "- 범주형 변수를 처리하기 위해서는 하나의 기준으로 두 값으로 나누는 함수가 필요\n",
    "- Sigmoid 함수 == Logistic 함수 \n",
    "\n",
    "    $$ logistic(z) = \\sigma (z) = \\frac{1}{1+ exp(-z)} $$\n",
    "\n",
    "\n",
    "    <img src='https://raw.githubusercontent.com/hugoMGSung/study-pytorch/refs/heads/main/images/torch0007.png' width='600'>"
   ]
  },
  {
   "cell_type": "markdown",
   "metadata": {},
   "source": [
    "#### 목적함수를 선형회귀와 동일하게 쓰면\n",
    "\n",
    "- MSE(Mean Squared Error)를 로지스틱 회귀에 적용하면\n",
    "    - 더 많은 에러를 갖는 상황발생\n",
    "    - 더 큰에러를 가져 학습이 더딘 부정적 상황발생\n",
    "\n",
    "\n",
    "#### 로지스틱 회귀에서는\n",
    "- Cross Entropy(교차 엔트로피)를 사용\n"
   ]
  },
  {
   "cell_type": "markdown",
   "metadata": {},
   "source": [
    "### 로지스틱 회귀\n",
    "\n",
    "#### 실습 1"
   ]
  },
  {
   "cell_type": "code",
   "execution_count": 3,
   "metadata": {},
   "outputs": [],
   "source": [
    "import torch\n",
    "import torch.nn as nn\n",
    "import torch.nn.functional as F\n",
    "import torch.optim as optim"
   ]
  },
  {
   "cell_type": "code",
   "execution_count": 4,
   "metadata": {},
   "outputs": [],
   "source": [
    "x_data = [[1,2],[2,3],[3,1],[4,3],[5,3],[6,2]]\n",
    "y_data = [[0],[0],[0],[1],[1],[1]]\n",
    "x_train = torch.FloatTensor(x_data)\n",
    "y_train = torch.FloatTensor(y_data)"
   ]
  },
  {
   "cell_type": "code",
   "execution_count": 5,
   "metadata": {},
   "outputs": [],
   "source": [
    "'''\n",
    "nn.Model\n",
    "- torch.nn 은 모델을 정의하고 미분하는데 autograd를 사용\n",
    "- torch.nn.Module 은 각종 레이어와 출력을 반환하는 forward() 함수를 포함\n",
    "nn.Sequential\n",
    "- nn.Module 층을 차례로 쌓아서 모델을 구축할 때 이용\n",
    "'''\n",
    "model = nn.Sequential(\n",
    "    nn.Linear(2, 1),\n",
    "    nn.Sigmoid()\n",
    ")"
   ]
  },
  {
   "cell_type": "code",
   "execution_count": 7,
   "metadata": {},
   "outputs": [
    {
     "name": "stdout",
     "output_type": "stream",
     "text": [
      "Epoch    0/1000 Cost :0.499737 Accuracy 66.67%\n",
      "Epoch   10/1000 Cost :0.860215 Accuracy 66.67%\n",
      "Epoch   20/1000 Cost :0.552684 Accuracy 83.33%\n",
      "Epoch   30/1000 Cost :0.458169 Accuracy 83.33%\n",
      "Epoch   40/1000 Cost :0.373566 Accuracy 83.33%\n",
      "Epoch   50/1000 Cost :0.293956 Accuracy 83.33%\n",
      "Epoch   60/1000 Cost :0.224519 Accuracy 83.33%\n",
      "Epoch   70/1000 Cost :0.176150 Accuracy 100.00%\n",
      "Epoch   80/1000 Cost :0.152924 Accuracy 100.00%\n",
      "Epoch   90/1000 Cost :0.141157 Accuracy 100.00%\n",
      "Epoch  100/1000 Cost :0.131760 Accuracy 100.00%\n",
      "Epoch  110/1000 Cost :0.123569 Accuracy 100.00%\n",
      "Epoch  120/1000 Cost :0.116354 Accuracy 100.00%\n",
      "Epoch  130/1000 Cost :0.109951 Accuracy 100.00%\n",
      "Epoch  140/1000 Cost :0.104230 Accuracy 100.00%\n",
      "Epoch  150/1000 Cost :0.099088 Accuracy 100.00%\n",
      "Epoch  160/1000 Cost :0.094441 Accuracy 100.00%\n",
      "Epoch  170/1000 Cost :0.090220 Accuracy 100.00%\n",
      "Epoch  180/1000 Cost :0.086370 Accuracy 100.00%\n",
      "Epoch  190/1000 Cost :0.082842 Accuracy 100.00%\n",
      "Epoch  200/1000 Cost :0.079599 Accuracy 100.00%\n",
      "Epoch  210/1000 Cost :0.076606 Accuracy 100.00%\n",
      "Epoch  220/1000 Cost :0.073836 Accuracy 100.00%\n",
      "Epoch  230/1000 Cost :0.071263 Accuracy 100.00%\n",
      "Epoch  240/1000 Cost :0.068869 Accuracy 100.00%\n",
      "Epoch  250/1000 Cost :0.066634 Accuracy 100.00%\n",
      "Epoch  260/1000 Cost :0.064543 Accuracy 100.00%\n",
      "Epoch  270/1000 Cost :0.062582 Accuracy 100.00%\n",
      "Epoch  280/1000 Cost :0.060739 Accuracy 100.00%\n",
      "Epoch  290/1000 Cost :0.059005 Accuracy 100.00%\n",
      "Epoch  300/1000 Cost :0.057369 Accuracy 100.00%\n",
      "Epoch  310/1000 Cost :0.055823 Accuracy 100.00%\n",
      "Epoch  320/1000 Cost :0.054360 Accuracy 100.00%\n",
      "Epoch  330/1000 Cost :0.052974 Accuracy 100.00%\n",
      "Epoch  340/1000 Cost :0.051658 Accuracy 100.00%\n",
      "Epoch  350/1000 Cost :0.050407 Accuracy 100.00%\n",
      "Epoch  360/1000 Cost :0.049216 Accuracy 100.00%\n",
      "Epoch  370/1000 Cost :0.048082 Accuracy 100.00%\n",
      "Epoch  380/1000 Cost :0.047000 Accuracy 100.00%\n",
      "Epoch  390/1000 Cost :0.045966 Accuracy 100.00%\n",
      "Epoch  400/1000 Cost :0.044977 Accuracy 100.00%\n",
      "Epoch  410/1000 Cost :0.044031 Accuracy 100.00%\n",
      "Epoch  420/1000 Cost :0.043125 Accuracy 100.00%\n",
      "Epoch  430/1000 Cost :0.042256 Accuracy 100.00%\n",
      "Epoch  440/1000 Cost :0.041422 Accuracy 100.00%\n",
      "Epoch  450/1000 Cost :0.040620 Accuracy 100.00%\n",
      "Epoch  460/1000 Cost :0.039850 Accuracy 100.00%\n",
      "Epoch  470/1000 Cost :0.039109 Accuracy 100.00%\n",
      "Epoch  480/1000 Cost :0.038395 Accuracy 100.00%\n",
      "Epoch  490/1000 Cost :0.037707 Accuracy 100.00%\n",
      "Epoch  500/1000 Cost :0.037044 Accuracy 100.00%\n",
      "Epoch  510/1000 Cost :0.036404 Accuracy 100.00%\n",
      "Epoch  520/1000 Cost :0.035786 Accuracy 100.00%\n",
      "Epoch  530/1000 Cost :0.035189 Accuracy 100.00%\n",
      "Epoch  540/1000 Cost :0.034612 Accuracy 100.00%\n",
      "Epoch  550/1000 Cost :0.034054 Accuracy 100.00%\n",
      "Epoch  560/1000 Cost :0.033514 Accuracy 100.00%\n",
      "Epoch  570/1000 Cost :0.032991 Accuracy 100.00%\n",
      "Epoch  580/1000 Cost :0.032484 Accuracy 100.00%\n",
      "Epoch  590/1000 Cost :0.031993 Accuracy 100.00%\n",
      "Epoch  600/1000 Cost :0.031516 Accuracy 100.00%\n",
      "Epoch  610/1000 Cost :0.031054 Accuracy 100.00%\n",
      "Epoch  620/1000 Cost :0.030605 Accuracy 100.00%\n",
      "Epoch  630/1000 Cost :0.030170 Accuracy 100.00%\n",
      "Epoch  640/1000 Cost :0.029746 Accuracy 100.00%\n",
      "Epoch  650/1000 Cost :0.029335 Accuracy 100.00%\n",
      "Epoch  660/1000 Cost :0.028934 Accuracy 100.00%\n",
      "Epoch  670/1000 Cost :0.028545 Accuracy 100.00%\n",
      "Epoch  680/1000 Cost :0.028166 Accuracy 100.00%\n",
      "Epoch  690/1000 Cost :0.027797 Accuracy 100.00%\n",
      "Epoch  700/1000 Cost :0.027438 Accuracy 100.00%\n",
      "Epoch  710/1000 Cost :0.027088 Accuracy 100.00%\n",
      "Epoch  720/1000 Cost :0.026747 Accuracy 100.00%\n",
      "Epoch  730/1000 Cost :0.026415 Accuracy 100.00%\n",
      "Epoch  740/1000 Cost :0.026090 Accuracy 100.00%\n",
      "Epoch  750/1000 Cost :0.025774 Accuracy 100.00%\n",
      "Epoch  760/1000 Cost :0.025466 Accuracy 100.00%\n",
      "Epoch  770/1000 Cost :0.025164 Accuracy 100.00%\n",
      "Epoch  780/1000 Cost :0.024870 Accuracy 100.00%\n",
      "Epoch  790/1000 Cost :0.024583 Accuracy 100.00%\n",
      "Epoch  800/1000 Cost :0.024302 Accuracy 100.00%\n",
      "Epoch  810/1000 Cost :0.024028 Accuracy 100.00%\n",
      "Epoch  820/1000 Cost :0.023760 Accuracy 100.00%\n",
      "Epoch  830/1000 Cost :0.023498 Accuracy 100.00%\n",
      "Epoch  840/1000 Cost :0.023241 Accuracy 100.00%\n",
      "Epoch  850/1000 Cost :0.022991 Accuracy 100.00%\n",
      "Epoch  860/1000 Cost :0.022745 Accuracy 100.00%\n",
      "Epoch  870/1000 Cost :0.022505 Accuracy 100.00%\n",
      "Epoch  880/1000 Cost :0.022270 Accuracy 100.00%\n",
      "Epoch  890/1000 Cost :0.022040 Accuracy 100.00%\n",
      "Epoch  900/1000 Cost :0.021814 Accuracy 100.00%\n",
      "Epoch  910/1000 Cost :0.021593 Accuracy 100.00%\n",
      "Epoch  920/1000 Cost :0.021377 Accuracy 100.00%\n",
      "Epoch  930/1000 Cost :0.021165 Accuracy 100.00%\n",
      "Epoch  940/1000 Cost :0.020957 Accuracy 100.00%\n",
      "Epoch  950/1000 Cost :0.020753 Accuracy 100.00%\n",
      "Epoch  960/1000 Cost :0.020553 Accuracy 100.00%\n",
      "Epoch  970/1000 Cost :0.020357 Accuracy 100.00%\n",
      "Epoch  980/1000 Cost :0.020165 Accuracy 100.00%\n",
      "Epoch  990/1000 Cost :0.019976 Accuracy 100.00%\n",
      "Epoch 1000/1000 Cost :0.019791 Accuracy 100.00%\n"
     ]
    }
   ],
   "source": [
    "optimizer = optim.SGD(model.parameters(), lr=1)\n",
    "\n",
    "nb_epochs = 1000\n",
    "for epoch in range(nb_epochs + 1):\n",
    "    hypothesis = model(x_train)   # 여기서는 추정모델로 Logistic(Sigmod)를 사용하겠다는 것\n",
    "    cost = F.binary_cross_entropy(hypothesis, y_train)  # 크로스엔트로피를 목적(비용)함수로 \n",
    "\n",
    "    optimizer.zero_grad()\n",
    "    cost.backward()\n",
    "    optimizer.step()\n",
    "\n",
    "    if epoch % 10 == 0:\n",
    "        prediction = hypothesis >= torch.FloatTensor([0.5]) # 예측치가 0.5를 넘으면 True\n",
    "        correct_prediction = prediction.float() == y_train # 실제값과 일치할 때만 True\n",
    "        accuracy = correct_prediction.sum().item() / len(correct_prediction) # 정확도\n",
    "        print(f'Epoch {epoch:4d}/{nb_epochs} Cost :{cost.item():.6f} Accuracy {accuracy * 100:2.2f}%')"
   ]
  },
  {
   "cell_type": "code",
   "execution_count": 8,
   "metadata": {},
   "outputs": [
    {
     "name": "stdout",
     "output_type": "stream",
     "text": [
      "[4,2] 값에 대한 예측치 : 1\n"
     ]
    }
   ],
   "source": [
    "new_data = torch.Tensor([[4, 2]])\n",
    "y_pred = model(new_data) >= torch.FloatTensor([0.5])\n",
    "print(f'[4,2] 값에 대한 예측치 : {y_pred.int().item()}')"
   ]
  },
  {
   "cell_type": "markdown",
   "metadata": {},
   "source": [
    "#### 실습 2 -  Iriz(붗꼿) 데이터셋\n",
    "\n",
    "- 3종의 붓꽃\n",
    "    - setosa : 0, vesicolor : 1, virginica : 2\n",
    "    - 150개 샘플에 대한 4가지 특징 - 꽃받침 길이, 꽃받침 폭, 꽃잎 길이, 꽃잎 폭"
   ]
  },
  {
   "cell_type": "code",
   "execution_count": 10,
   "metadata": {},
   "outputs": [
    {
     "name": "stdout",
     "output_type": "stream",
     "text": [
      "Collecting scikit-learn\n",
      "  Downloading scikit_learn-1.5.2-cp311-cp311-win_amd64.whl.metadata (13 kB)\n",
      "Requirement already satisfied: numpy>=1.19.5 in c:\\users\\perso\\.pyenv\\pyenv-win\\versions\\3.11.9\\lib\\site-packages (from scikit-learn) (1.26.3)\n",
      "Collecting scipy>=1.6.0 (from scikit-learn)\n",
      "  Downloading scipy-1.14.1-cp311-cp311-win_amd64.whl.metadata (60 kB)\n",
      "Collecting joblib>=1.2.0 (from scikit-learn)\n",
      "  Downloading joblib-1.4.2-py3-none-any.whl.metadata (5.4 kB)\n",
      "Collecting threadpoolctl>=3.1.0 (from scikit-learn)\n",
      "  Downloading threadpoolctl-3.5.0-py3-none-any.whl.metadata (13 kB)\n",
      "Downloading scikit_learn-1.5.2-cp311-cp311-win_amd64.whl (11.0 MB)\n",
      "   ---------------------------------------- 0.0/11.0 MB ? eta -:--:--\n",
      "   ------- -------------------------------- 2.1/11.0 MB 11.7 MB/s eta 0:00:01\n",
      "   ---------------------- ----------------- 6.3/11.0 MB 16.7 MB/s eta 0:00:01\n",
      "   ---------------------------------------  11.0/11.0 MB 19.1 MB/s eta 0:00:01\n",
      "   ---------------------------------------- 11.0/11.0 MB 18.1 MB/s eta 0:00:00\n",
      "Downloading joblib-1.4.2-py3-none-any.whl (301 kB)\n",
      "Downloading scipy-1.14.1-cp311-cp311-win_amd64.whl (44.8 MB)\n",
      "   ---------------------------------------- 0.0/44.8 MB ? eta -:--:--\n",
      "   ------- -------------------------------- 7.9/44.8 MB 37.4 MB/s eta 0:00:01\n",
      "   -------------- ------------------------- 16.8/44.8 MB 40.7 MB/s eta 0:00:01\n",
      "   ------------------- -------------------- 22.3/44.8 MB 37.1 MB/s eta 0:00:01\n",
      "   ------------------------- -------------- 28.3/44.8 MB 33.3 MB/s eta 0:00:01\n",
      "   ---------------------------------- ----- 38.5/44.8 MB 36.6 MB/s eta 0:00:01\n",
      "   ---------------------------------------  44.6/44.8 MB 36.4 MB/s eta 0:00:01\n",
      "   ---------------------------------------- 44.8/44.8 MB 33.9 MB/s eta 0:00:00\n",
      "Downloading threadpoolctl-3.5.0-py3-none-any.whl (18 kB)\n",
      "Installing collected packages: threadpoolctl, scipy, joblib, scikit-learn\n",
      "Successfully installed joblib-1.4.2 scikit-learn-1.5.2 scipy-1.14.1 threadpoolctl-3.5.0\n"
     ]
    },
    {
     "name": "stderr",
     "output_type": "stream",
     "text": [
      "\n",
      "[notice] A new release of pip is available: 24.2 -> 24.3.1\n",
      "[notice] To update, run: python.exe -m pip install --upgrade pip\n"
     ]
    }
   ],
   "source": [
    "!pip install -U scikit-learn"
   ]
  },
  {
   "cell_type": "code",
   "execution_count": 11,
   "metadata": {},
   "outputs": [],
   "source": [
    "import torch\n",
    "import torch.nn as nn\n",
    "import torch.nn.functional as F\n",
    "import torch.optim as optim\n",
    "from torch.utils.data import TensorDataset, DataLoader\n",
    "from sklearn.datasets import load_iris   ## 붓꽃 데이터는 사이킷런에서 가져옴\n",
    "import matplotlib.pyplot as plt"
   ]
  },
  {
   "cell_type": "code",
   "execution_count": 12,
   "metadata": {},
   "outputs": [],
   "source": [
    "iris = load_iris()"
   ]
  },
  {
   "cell_type": "code",
   "execution_count": 21,
   "metadata": {},
   "outputs": [],
   "source": [
    "x_train = iris.data[:100] ## 0과 1만 구분 가능하므로 3종 붓꽃 중 2종(100개)만 로드 / 꽃받침 길이, 폭, 꽃잎 길이, 폭\n",
    "y_train = iris.target[:100] ## 붓꽃 종류 0또는 1\n",
    "x_train = torch.tensor(x_train, dtype=torch.float32)\n",
    "y_train = torch.tensor(y_train, dtype=torch.float32)\n",
    "y_train = torch.unsqueeze(y_train, 1) ## dim=1에 차원 추가 (100,) -> (100, 1)"
   ]
  },
  {
   "cell_type": "code",
   "execution_count": 16,
   "metadata": {},
   "outputs": [],
   "source": [
    "## Mini-batch 사이즈만큼 데이터를 추출해서 학습\n",
    "dataset = TensorDataset(x_train, y_train)\n",
    "dataloader = DataLoader(dataset, batch_size=10, shuffle=True)"
   ]
  },
  {
   "cell_type": "code",
   "execution_count": 19,
   "metadata": {},
   "outputs": [],
   "source": [
    "model = nn.Sequential(\n",
    "    nn.Linear(4, 1),    ## feature(특징) 4개, 1개의 출력값\n",
    "    nn.Sigmoid()        ## 선형결합 + 시그모이드 함수\n",
    ")\n",
    "\n",
    "## Stochastic Gradient Descent 확률적 경사하강법\n",
    "optimizer = optim.SGD(model.parameters(), lr=1)"
   ]
  },
  {
   "cell_type": "code",
   "execution_count": 22,
   "metadata": {},
   "outputs": [
    {
     "data": {
      "image/png": "[encoded data removed]",
      "text/plain": [
       "<Figure size 640x480 with 2 Axes>"
      ]
     },
     "metadata": {},
     "output_type": "display_data"
    }
   ],
   "source": [
    "nb_epochs = 10\n",
    "cost_history = []\n",
    "accuracy_history = []\n",
    "\n",
    "for epoch in range(nb_epochs + 1):\n",
    "    for idx, (x_train, y_train) in enumerate(dataloader):\n",
    "        hypothesis = model(x_train)\n",
    "        ## Mini-batch단위 gradient 계산\n",
    "        cost = F.binary_cross_entropy(hypothesis, y_train)\n",
    "\n",
    "        optimizer.zero_grad()\n",
    "        cost.backward()\n",
    "        optimizer.step()\n",
    "\n",
    "        prediction = hypothesis >= torch.FloatTensor([0.5])\n",
    "        correct_prediction = prediction.float() == y_train\n",
    "        accuracy = correct_prediction.sum().item() / len(correct_prediction) # 정확도\n",
    "        cost_history.append(cost.item())\n",
    "        accuracy_history.append(accuracy)\n",
    "\n",
    "    \n",
    "plt.rcParams['font.family'] = 'NanumGothic'\n",
    "plt.rcParams['axes.unicode_minus'] = False\n",
    "plt.rcParams['axes.grid'] = True\n",
    "fig, axes = plt.subplots(2, 1)\n",
    "axes[0].plot(cost_history, 'r--')\n",
    "axes[0].set_title('cost')\n",
    "axes[1].plot(accuracy_history, 'b--')\n",
    "axes[1].set_title('accurracy')\n",
    "\n",
    "plt.tight_layout()\n",
    "plt.show()"
   ]
  },
  {
   "cell_type": "code",
   "execution_count": 25,
   "metadata": {},
   "outputs": [
    {
     "name": "stdout",
     "output_type": "stream",
     "text": [
      "붓꽃값 [4.9, 3, 1.5, 0.2] 에서이 예측치 : 0\n"
     ]
    }
   ],
   "source": [
    "new_data = torch.Tensor([[4.9, 3, 1.5, 0.2]])\n",
    "y_pred = model(new_data) >= torch.FloatTensor([[0.5]])\n",
    "print(f'붓꽃값 [4.9, 3, 1.5, 0.2] 에서이 예측치 : {y_pred.int().item()}') ## 0은 setosa 붓꽃"
   ]
  }
 ],
 "metadata": {
  "kernelspec": {
   "display_name": "Python 3",
   "language": "python",
   "name": "python3"
  },
  "language_info": {
   "codemirror_mode": {
    "name": "ipython",
    "version": 3
   },
   "file_extension": ".py",
   "mimetype": "text/x-python",
   "name": "python",
   "nbconvert_exporter": "python",
   "pygments_lexer": "ipython3",
   "version": "3.11.9"
  }
 },
 "nbformat": 4,
 "nbformat_minor": 2
}
