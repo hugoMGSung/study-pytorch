{
 "cells": [
  {
   "cell_type": "markdown",
   "metadata": {},
   "source": [
    "## 파이토치를 사용한 선형회귀, 배치경사법\n",
    "\n",
    "### 선형회귀와 자동 미분\n",
    "\n",
    "#### Autograd(자동미분)\n",
    "- 텐서 모든 연산에 대한 자동 미분을 제공\n",
    "- 실행과 동이세 정의되는 torch의 특성상, 매 순간마다 적절한 backpropagation(역전파) 제공\n",
    "\n",
    "#### Zero grad\n",
    "- 계산의 편리성을 위해 미분값을 표현하는 변수를 하나로 고정\n",
    "- 해당 위치에서 미분값만 필요한 경우 초기화 필요"
   ]
  },
  {
   "cell_type": "code",
   "execution_count": 4,
   "metadata": {},
   "outputs": [],
   "source": [
    "import torch\n",
    "import torch.nn as nn\n",
    "import torch.nn.functional as F"
   ]
  },
  {
   "cell_type": "code",
   "execution_count": 9,
   "metadata": {},
   "outputs": [
    {
     "name": "stdout",
     "output_type": "stream",
     "text": [
      "Epoch    0/2000 Cost: 9.845132\n",
      "Epoch   50/2000 Cost: 0.005536\n",
      "Epoch  100/2000 Cost: 0.004291\n",
      "Epoch  150/2000 Cost: 0.003373\n",
      "Epoch  200/2000 Cost: 0.002652\n",
      "Epoch  250/2000 Cost: 0.002084\n",
      "Epoch  300/2000 Cost: 0.001638\n",
      "Epoch  350/2000 Cost: 0.001288\n",
      "Epoch  400/2000 Cost: 0.001012\n",
      "Epoch  450/2000 Cost: 0.000796\n",
      "Epoch  500/2000 Cost: 0.000626\n",
      "Epoch  550/2000 Cost: 0.000492\n",
      "Epoch  600/2000 Cost: 0.000387\n",
      "Epoch  650/2000 Cost: 0.000304\n",
      "Epoch  700/2000 Cost: 0.000239\n",
      "Epoch  750/2000 Cost: 0.000188\n",
      "Epoch  800/2000 Cost: 0.000148\n",
      "Epoch  850/2000 Cost: 0.000116\n",
      "Epoch  900/2000 Cost: 0.000091\n",
      "Epoch  950/2000 Cost: 0.000072\n",
      "Epoch 1000/2000 Cost: 0.000056\n",
      "Epoch 1050/2000 Cost: 0.000044\n",
      "Epoch 1100/2000 Cost: 0.000035\n",
      "Epoch 1150/2000 Cost: 0.000027\n",
      "Epoch 1200/2000 Cost: 0.000022\n",
      "Epoch 1250/2000 Cost: 0.000017\n",
      "Epoch 1300/2000 Cost: 0.000013\n",
      "Epoch 1350/2000 Cost: 0.000010\n",
      "Epoch 1400/2000 Cost: 0.000008\n",
      "Epoch 1450/2000 Cost: 0.000006\n",
      "Epoch 1500/2000 Cost: 0.000005\n",
      "Epoch 1550/2000 Cost: 0.000004\n",
      "Epoch 1600/2000 Cost: 0.000003\n",
      "Epoch 1650/2000 Cost: 0.000002\n",
      "Epoch 1700/2000 Cost: 0.000002\n",
      "Epoch 1750/2000 Cost: 0.000002\n",
      "Epoch 1800/2000 Cost: 0.000001\n",
      "Epoch 1850/2000 Cost: 0.000001\n",
      "Epoch 1900/2000 Cost: 0.000001\n",
      "Epoch 1950/2000 Cost: 0.000001\n",
      "Epoch 2000/2000 Cost: 0.000000\n",
      "w: tensor([[1.9992]]), b: tensor([0.0018])\n"
     ]
    }
   ],
   "source": [
    "x_train = torch.FloatTensor([[1],[2],[3]])\n",
    "y_train = torch.FloatTensor([[2],[4],[6]])\n",
    "\n",
    "## 모델 선언 및 초기화. 단순 선형회귀는 input_dim=1, output_dim=1\n",
    "model = nn.Linear(1, 1)\n",
    "\n",
    "## optimizer 설정. SGD사용, lr는 0.01\n",
    "optimizer = torch.optim.SGD(model.parameters(), lr=0.01)\n",
    "\n",
    "## 전체훈련 데이터 경사하강법 2000회 반복\n",
    "nb_epochs = 2_000\n",
    "\n",
    "for epoch in range(nb_epochs + 1):\n",
    "    # H(x) 계산\n",
    "    predict = model(x_train)\n",
    "    # cost 계산\n",
    "    cost = F.mse_loss(predict, y_train)\n",
    "\n",
    "    optimizer.zero_grad() ## gradient를 0으로 초기화\n",
    "    cost.backward() ## backward 연산\n",
    "    optimizer.step()  ## W와 b를 업데이트\n",
    "\n",
    "    if epoch % 50 == 0:\n",
    "        # 50번 마다 로그출력\n",
    "        print(f'Epoch {epoch:4d}/{nb_epochs} Cost: {cost.item():.6f}')\n",
    "\n",
    "print(f'w: {model.weight.data}, b: {model.bias.data}')"
   ]
  },
  {
   "cell_type": "code",
   "execution_count": 6,
   "metadata": {},
   "outputs": [
    {
     "name": "stdout",
     "output_type": "stream",
     "text": [
      "훈련 후 입력값 4에 대한 예측값 = tensor([[7.9968]], grad_fn=<AddmmBackward0>)\n"
     ]
    }
   ],
   "source": [
    "# 입력값 4\n",
    "new_var = torch.FloatTensor([[4.0]])\n",
    "\n",
    "# 입력값 4에 대한 예측값 y를 리턴 pred_y에 저장\n",
    "pred_y = model(new_var) # forward 연산\n",
    "\n",
    "# y = 2x\n",
    "print(f'훈련 후 입력값 4에 대한 예측값 = {pred_y}')"
   ]
  },
  {
   "cell_type": "markdown",
   "metadata": {},
   "source": [
    "### 미니배치, 데이터로더 제작\n",
    "\n",
    "#### Pytorch를 이용한 다변수 선형회귀(다중선형회귀)"
   ]
  },
  {
   "cell_type": "code",
   "execution_count": 10,
   "metadata": {},
   "outputs": [
    {
     "name": "stdout",
     "output_type": "stream",
     "text": [
      "Epoch    0/2000 Cost: 33830.406250\n",
      "Epoch   50/2000 Cost: 1.009084\n",
      "Epoch  100/2000 Cost: 1.006417\n",
      "Epoch  150/2000 Cost: 1.003765\n",
      "Epoch  200/2000 Cost: 1.001143\n",
      "Epoch  250/2000 Cost: 0.998547\n",
      "Epoch  300/2000 Cost: 0.995962\n",
      "Epoch  350/2000 Cost: 0.993408\n",
      "Epoch  400/2000 Cost: 0.990862\n",
      "Epoch  450/2000 Cost: 0.988351\n",
      "Epoch  500/2000 Cost: 0.985855\n",
      "Epoch  550/2000 Cost: 0.983373\n",
      "Epoch  600/2000 Cost: 0.980915\n",
      "Epoch  650/2000 Cost: 0.978470\n",
      "Epoch  700/2000 Cost: 0.976067\n",
      "Epoch  750/2000 Cost: 0.973656\n",
      "Epoch  800/2000 Cost: 0.971279\n",
      "Epoch  850/2000 Cost: 0.968908\n",
      "Epoch  900/2000 Cost: 0.966573\n",
      "Epoch  950/2000 Cost: 0.964233\n",
      "Epoch 1000/2000 Cost: 0.961912\n",
      "Epoch 1050/2000 Cost: 0.959605\n",
      "Epoch 1100/2000 Cost: 0.957337\n",
      "Epoch 1150/2000 Cost: 0.955054\n",
      "Epoch 1200/2000 Cost: 0.952819\n",
      "Epoch 1250/2000 Cost: 0.950571\n",
      "Epoch 1300/2000 Cost: 0.948359\n",
      "Epoch 1350/2000 Cost: 0.946147\n",
      "Epoch 1400/2000 Cost: 0.943946\n",
      "Epoch 1450/2000 Cost: 0.941775\n",
      "Epoch 1500/2000 Cost: 0.939614\n",
      "Epoch 1550/2000 Cost: 0.937458\n",
      "Epoch 1600/2000 Cost: 0.935317\n",
      "Epoch 1650/2000 Cost: 0.933178\n",
      "Epoch 1700/2000 Cost: 0.931080\n",
      "Epoch 1750/2000 Cost: 0.928964\n",
      "Epoch 1800/2000 Cost: 0.926884\n",
      "Epoch 1850/2000 Cost: 0.924809\n",
      "Epoch 1900/2000 Cost: 0.922744\n",
      "Epoch 1950/2000 Cost: 0.920704\n",
      "Epoch 2000/2000 Cost: 0.918664\n",
      "w: tensor([[0.6399, 0.3454, 1.0250]]), b: tensor([-0.3402])\n",
      "훈련 후 입력값 73, 80, 75에 대한 예측값 = tensor([[150.8859]], grad_fn=<AddmmBackward0>)\n"
     ]
    }
   ],
   "source": [
    "import torch\n",
    "import torch.nn as nn\n",
    "import torch.nn.functional as F\n",
    "\n",
    "## 데이터\n",
    "x_train = torch.FloatTensor([[73, 80, 75],\n",
    "                             [93, 88, 93],\n",
    "                             [89, 91, 90],\n",
    "                             [96, 98, 100],\n",
    "                             [73, 66, 70]])\n",
    "y_train = torch.FloatTensor([[152],[185],[180],[196],[142]])\n",
    "\n",
    "## 모델 선언 및 초기화. 단순 선형회귀는 input_dim=1, output_dim=1\n",
    "model = nn.Linear(3, 1)    ## H(x) = w1x1 + w2x2 + w3x3 + b\n",
    "## learning rate 0.00001\n",
    "\n",
    "## optimizer 설정. SGD사용, lr는 0.01\n",
    "optimizer = torch.optim.SGD(model.parameters(), lr=1e-5)\n",
    "\n",
    "## 전체훈련 데이터 경사하강법 2000회 반복\n",
    "nb_epochs = 2_000\n",
    "\n",
    "for epoch in range(nb_epochs + 1):\n",
    "    # H(x) 계산\n",
    "    predict = model(x_train)\n",
    "    # cost 계산\n",
    "    cost = F.mse_loss(predict, y_train)\n",
    "\n",
    "    optimizer.zero_grad() ## gradient를 0으로 초기화\n",
    "    cost.backward() ## backward 연산\n",
    "    optimizer.step()  ## W와 b를 업데이트\n",
    "\n",
    "    if epoch % 50 == 0:\n",
    "        # 50번 마다 로그출력\n",
    "        print(f'Epoch {epoch:4d}/{nb_epochs} Cost: {cost.item():.6f}')\n",
    "\n",
    "print(f'w: {model.weight.data}, b: {model.bias.data}')\n",
    "\n",
    "# 입력값 4\n",
    "new_var = torch.FloatTensor([[73, 80, 75]])\n",
    "pred_y = model(new_var)\n",
    "print(f'훈련 후 입력값 73, 80, 75에 대한 예측값 = {pred_y}')"
   ]
  }
 ],
 "metadata": {
  "kernelspec": {
   "display_name": "Python 3",
   "language": "python",
   "name": "python3"
  },
  "language_info": {
   "codemirror_mode": {
    "name": "ipython",
    "version": 3
   },
   "file_extension": ".py",
   "mimetype": "text/x-python",
   "name": "python",
   "nbconvert_exporter": "python",
   "pygments_lexer": "ipython3",
   "version": "3.11.9"
  }
 },
 "nbformat": 4,
 "nbformat_minor": 2
}
