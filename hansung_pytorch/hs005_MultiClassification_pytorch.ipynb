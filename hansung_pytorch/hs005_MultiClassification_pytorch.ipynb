{
 "cells": [
  {
   "cell_type": "markdown",
   "metadata": {},
   "source": [
    "## 다중분류\n",
    "\n",
    "### 소프트맥스와 다중분류\n",
    "\n",
    "- 로지스틱회귀는 두 개의 선택지(0과 1) 중 하나를 고르는 문제 - 3개 이상 선택지가 필요하다면?\n",
    "\n",
    "#### 소프트맥스 함수\n",
    "- 하나의 샘플 데이터 예측값이 가능한 정답지 확률의 합이 1이 되도록 함\n",
    "- 붓꽃 데이터 Setosa, Vericolor, Virginica \n",
    "    - 꽃받침 길이: 7.0, 꽃받침 폭: 3.2, 꽃잎 길이: 4.7, 꽃잎 폭: 1.4 라면\n",
    "    - Setosa일 확률: 0.22, Vericolor일 확률: 0.58, Virginica일 확률 0.2 \n",
    "    - 결론은 Vericolor일 확률이 가장 높다!\n",
    "\n",
    "\n",
    "    $$  P_{i} = \\frac{e^{z_{i}}}{\\sum_{j=1}^{k} e^{z_{j}}} $$\n"
   ]
  },
  {
   "cell_type": "markdown",
   "metadata": {},
   "source": [
    "#### 다중분류 연습"
   ]
  },
  {
   "cell_type": "code",
   "execution_count": 1,
   "metadata": {},
   "outputs": [],
   "source": [
    "import torch\n",
    "import torch.nn as nn\n",
    "import torch.nn.functional as F\n",
    "import torch.optim as optim"
   ]
  },
  {
   "cell_type": "code",
   "execution_count": 4,
   "metadata": {},
   "outputs": [],
   "source": [
    "x_train = [[1,2,1,1],\n",
    "           [2,1,3,2],\n",
    "           [3,1,3,4],\n",
    "           [4,1,5,5],\n",
    "           [1,7,5,5],\n",
    "           [1,2,5,6],\n",
    "           [1,6,6,6],\n",
    "           [1,7,7,7],\n",
    "          ]\n",
    "y_train = [2,2,2,1,1,1,0,0]\n",
    "x_train = torch.FloatTensor(x_train)\n",
    "y_train = torch.LongTensor(y_train)"
   ]
  },
  {
   "cell_type": "code",
   "execution_count": 5,
   "metadata": {},
   "outputs": [
    {
     "name": "stdout",
     "output_type": "stream",
     "text": [
      "Epoch    0/1000 Cost: 2.126690\n",
      "Epoch  100/1000 Cost: 0.697719\n",
      "Epoch  200/1000 Cost: 0.615936\n",
      "Epoch  300/1000 Cost: 0.558678\n",
      "Epoch  400/1000 Cost: 0.508208\n",
      "Epoch  500/1000 Cost: 0.460482\n",
      "Epoch  600/1000 Cost: 0.413972\n",
      "Epoch  700/1000 Cost: 0.367965\n",
      "Epoch  800/1000 Cost: 0.322272\n",
      "Epoch  900/1000 Cost: 0.278013\n",
      "Epoch 1000/1000 Cost: 0.244805\n"
     ]
    }
   ],
   "source": [
    "model = nn.Linear(4, 3)  ## 4개의 특징에 3개의 분류값\n",
    "\n",
    "optimizer = optim.SGD(model.parameters(), lr=0.1)\n",
    "nb_epochs = 1000\n",
    "for epoch in range(nb_epochs + 1):\n",
    "    prediction = model(x_train)\n",
    "    cost = F.cross_entropy(prediction, y_train)  ## cross_entropy 함수 내 softmax 연산포함\n",
    "\n",
    "    optimizer.zero_grad()\n",
    "    cost.backward()\n",
    "    optimizer.step()\n",
    "\n",
    "    if epoch % 100 == 0:\n",
    "        print(f'Epoch {epoch:4d}/{nb_epochs} Cost: {cost.item():6f}')"
   ]
  },
  {
   "cell_type": "code",
   "execution_count": 14,
   "metadata": {},
   "outputs": [
    {
     "name": "stdout",
     "output_type": "stream",
     "text": [
      "입력에 tensor([[4., 1., 5., 5.]])에 대한 예측값: tensor([[2.6719e-05, 7.7926e-01, 2.2072e-01]]) \n",
      "입력에 tensor([[4., 1., 5., 5.]])에 대한 클래스: 1 \n"
     ]
    }
   ],
   "source": [
    "new_var = torch.FloatTensor([[4,1,5,5]])\n",
    "y_pred = F.softmax(model(new_var), dim=1)\n",
    "\n",
    "print(f'입력에 {new_var}에 대한 예측값: {y_pred.data} ')\n",
    "print(f'입력에 {new_var}에 대한 클래스: {y_pred.argmax().item()} ')"
   ]
  },
  {
   "cell_type": "markdown",
   "metadata": {},
   "source": [
    "### 데이터셋 분리 / 교차검증\n",
    "\n",
    "- Training Set와 Test Set으로 보통 작업을 하지만\n",
    "- 검증을 위해 Validation Set를 학습과정에 사용 - 하이퍼파라미터 튜닝용"
   ]
  }
 ],
 "metadata": {
  "kernelspec": {
   "display_name": "Python 3",
   "language": "python",
   "name": "python3"
  },
  "language_info": {
   "codemirror_mode": {
    "name": "ipython",
    "version": 3
   },
   "file_extension": ".py",
   "mimetype": "text/x-python",
   "name": "python",
   "nbconvert_exporter": "python",
   "pygments_lexer": "ipython3",
   "version": "3.11.9"
  }
 },
 "nbformat": 4,
 "nbformat_minor": 2
}
