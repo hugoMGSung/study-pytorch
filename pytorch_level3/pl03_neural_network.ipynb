{
 "cells": [
  {
   "cell_type": "markdown",
   "metadata": {},
   "source": [
    "## 신경망\n",
    "\n",
    "### 내용\n",
    "1. 신경망 기본 개념\n",
    "    - 신경망이란 - 인간의 뇌 구조를 모방한 기계학습 모델(Neural Network)\n",
    "    - 어러개의 레이어로 구성, 각 레이어는 여러 Neuron으로 구성\n",
    "    - 신경망 구성요소\n",
    "        - Neuron\n",
    "        - Layer\n",
    "        - Weight, Biases\n",
    "    - Activation Function\n",
    "        - 뉴런의 출력값을 결정하는 함수\n",
    "        - 비선형 활성화를 위한 함수"
   ]
  },
  {
   "cell_type": "markdown",
   "metadata": {},
   "source": [
    "2. PyTorch에서의 신경망 구현\n",
    "    - torch.nn 모듈 - 신경망 모델을 쉽게 구축할 수 있도록 다양한 레이어와 함수 제공\n",
    "    - nn.Module 클래스\n",
    "        - 모든 신경망 모델의 기본 클래스\n",
    "        - 모델 정의 및 초기화, 순전파(forward) 정의 방법"
   ]
  },
  {
   "cell_type": "code",
   "execution_count": 1,
   "metadata": {},
   "outputs": [],
   "source": [
    "import torch\n",
    "import torch.nn as nn\n",
    "import torch.optim as optim"
   ]
  },
  {
   "cell_type": "code",
   "execution_count": 2,
   "metadata": {},
   "outputs": [],
   "source": [
    "class SimpleNN(nn.Module):\n",
    "    def __init__(self):\n",
    "        super(SimpleNN, self).__init__()\n",
    "        self.fc1 = nn.Linear(10, 50)\n",
    "        self.fc2 = nn.Linear(50, 1)\n",
    "\n",
    "    def forward(self, x):\n",
    "        x = torch.relu(self.fc1(x))\n",
    "        x = self.fc2(x)\n",
    "        return x"
   ]
  },
  {
   "cell_type": "markdown",
   "metadata": {},
   "source": [
    "3. 기본 신경망 모델 구성\n",
    "    - nn.Sequential 사용 - 순차적으로 레이어를 쌓아 간단한 신경망 모델을 구축"
   ]
  },
  {
   "cell_type": "code",
   "execution_count": 3,
   "metadata": {},
   "outputs": [],
   "source": [
    "model = nn.Sequential(\n",
    "    nn.Linear(10, 50),\n",
    "    nn.ReLU(),\n",
    "    nn.Linear(50, 1)\n",
    ")"
   ]
  },
  {
   "cell_type": "markdown",
   "metadata": {},
   "source": [
    "- 활성화 함수 사용 예시\n",
    "    - Sigmoid, Tanh, ReLU"
   ]
  },
  {
   "cell_type": "code",
   "execution_count": 4,
   "metadata": {},
   "outputs": [
    {
     "name": "stdout",
     "output_type": "stream",
     "text": [
      "tensor([0.6963, 0.0000, 0.1453, 0.0000, 1.7677, 1.4787, 0.4687, 0.0000, 0.0000,\n",
      "        0.0000])\n",
      "tensor([0.6674, 0.2979, 0.5363, 0.2226, 0.8542, 0.8144, 0.6151, 0.4595, 0.4224,\n",
      "        0.4973])\n",
      "tensor([ 0.6020, -0.6948,  0.1443, -0.8485,  0.9434,  0.9012,  0.4372, -0.1609,\n",
      "        -0.3032, -0.0106])\n"
     ]
    }
   ],
   "source": [
    "x = torch.randn(10)\n",
    "relu = nn.ReLU()\n",
    "sigmoid = nn.Sigmoid()\n",
    "tanh = nn.Tanh()\n",
    "\n",
    "print(relu(x))\n",
    "print(sigmoid(x))\n",
    "print(tanh(x))"
   ]
  },
  {
   "cell_type": "markdown",
   "metadata": {},
   "source": [
    "4. 신경망 모델 학습\n",
    "    - 손실 함수(Loss Function)와 옵티마이저(Optimizer)\n",
    "        - 손실 함수: 모델의 예측값과 실제값의 차이를 측정\n",
    "        - nn.MSELoss(), nn.CrossEntropyLoss()\n",
    "    - 옵티마이저: 손실을 줄이기 위해 가중치를 업데이트\n",
    "        - optim.SGD, optim.Adam"
   ]
  },
  {
   "cell_type": "code",
   "execution_count": 5,
   "metadata": {},
   "outputs": [],
   "source": [
    "# 손실 함수와 옵티마이저 설정\n",
    "criterion = nn.MSELoss()\n",
    "optimizer = optim.SGD(model.parameters(), lr=0.01)"
   ]
  },
  {
   "cell_type": "markdown",
   "metadata": {},
   "source": [
    "- 모델 학습 단계\n",
    "    - 순전파(forward pass): 입력 데이터를 모델에 통과시켜 예측값을 계산\n",
    "    - 손실 계산: 예측값과 실제값의 차이 계산\n",
    "    - 역전파(backward pass): 기울기 계산\n",
    "    - 가중치 업데이트: 옵티마이저를 통해 가중치 조정"
   ]
  },
  {
   "cell_type": "code",
   "execution_count": 6,
   "metadata": {},
   "outputs": [],
   "source": [
    "# 학습 예시\n",
    "inputs = torch.randn(10)\n",
    "targets = torch.randn(1)\n",
    "\n",
    "for epoch in range(100):  # 100번의 에포크 동안 학습\n",
    "    optimizer.zero_grad()  # 옵티마이저 초기화\n",
    "    outputs = model(inputs)  # 순전파\n",
    "    loss = criterion(outputs, targets)  # 손실 계산\n",
    "    loss.backward()  # 역전파\n",
    "    optimizer.step()  # 가중치 업데이트"
   ]
  },
  {
   "cell_type": "markdown",
   "metadata": {},
   "source": [
    "5. 실습\n",
    "    - 간단한 신경망 모델을 구축하고, 주어진 데이터를 사용해 학습 및 평가"
   ]
  },
  {
   "cell_type": "code",
   "execution_count": 7,
   "metadata": {},
   "outputs": [],
   "source": [
    "# 10개의 입력 특징을 가진 데이터셋을 사용하여, 간단한 신경망 모델을 구축하고 학습하세요.\n",
    "import torch\n",
    "import torch.nn as nn\n",
    "import torch.optim as optim"
   ]
  },
  {
   "cell_type": "code",
   "execution_count": 8,
   "metadata": {},
   "outputs": [],
   "source": [
    "# 데이터 생성\n",
    "inputs = torch.randn(100, 10)  # 100개의 샘플, 각 샘플은 10개의 특징\n",
    "targets = torch.randn(100, 1)  # 100개의 샘플에 대한 타겟 값\n",
    "\n",
    "# 모델 정의\n",
    "model = nn.Sequential(\n",
    "    nn.Linear(10, 50),\n",
    "    nn.ReLU(),\n",
    "    nn.Linear(50, 1)\n",
    ")\n",
    "\n",
    "# 손실 함수와 옵티마이저 설정\n",
    "criterion = nn.MSELoss()\n",
    "optimizer = optim.SGD(model.parameters(), lr=0.01)"
   ]
  },
  {
   "cell_type": "code",
   "execution_count": 9,
   "metadata": {},
   "outputs": [],
   "source": [
    "# 모델 학습\n",
    "for epoch in range(100):  # 100번의 에포크 동안 학습\n",
    "    optimizer.zero_grad()  # 옵티마이저 초기화\n",
    "    outputs = model(inputs)  # 순전파\n",
    "    loss = criterion(outputs, targets)  # 손실 계산\n",
    "    loss.backward()  # 역전파\n",
    "    optimizer.step()  # 가중치 업데이트"
   ]
  },
  {
   "cell_type": "code",
   "execution_count": 10,
   "metadata": {},
   "outputs": [
    {
     "name": "stdout",
     "output_type": "stream",
     "text": [
      "tensor([[-0.0239],\n",
      "        [-0.1340],\n",
      "        [-0.3181],\n",
      "        [-0.0851],\n",
      "        [ 0.0280],\n",
      "        [ 0.3194],\n",
      "        [-0.1044],\n",
      "        [ 0.2310],\n",
      "        [-0.1430],\n",
      "        [ 0.4344]])\n"
     ]
    }
   ],
   "source": [
    "# 모델 평가\n",
    "with torch.no_grad():\n",
    "    test_inputs = torch.randn(10, 10)  # 10개의 테스트 샘플\n",
    "    test_outputs = model(test_inputs)\n",
    "    print(test_outputs)"
   ]
  }
 ],
 "metadata": {
  "kernelspec": {
   "display_name": "Python 3",
   "language": "python",
   "name": "python3"
  },
  "language_info": {
   "codemirror_mode": {
    "name": "ipython",
    "version": 3
   },
   "file_extension": ".py",
   "mimetype": "text/x-python",
   "name": "python",
   "nbconvert_exporter": "python",
   "pygments_lexer": "ipython3",
   "version": "3.11.9"
  }
 },
 "nbformat": 4,
 "nbformat_minor": 2
}
