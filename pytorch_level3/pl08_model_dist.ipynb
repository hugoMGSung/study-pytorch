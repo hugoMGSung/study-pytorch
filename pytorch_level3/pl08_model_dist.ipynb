{
 "cells": [
  {
   "cell_type": "markdown",
   "metadata": {},
   "source": [
    "## 모델 배포\n",
    "\n",
    "### 내용\n",
    "1. 모델 배포의 중요성\n",
    "    - 모델 배포의 개념\n",
    "        - 학습된 모델을 실제 환경에 적용하여 예측 서비스 제공\n",
    "        - 배포된 모델은 웹 애플리케이션, 모바일 앱, IoT 디바이스 등에서 사용할 수 있음\n",
    "    \n",
    "    - 배포의 주요 고려 사항\n",
    "        - 성능 최적화: 예측 속도, 메모리 사용량 등\n",
    "        - 안정성 및 확장성: 다양한 요청 처리 능력\n",
    "        - 보안: 데이터 보호 및 접근 제어\n",
    "\n",
    "2. 모델 배포 방법\n",
    "    - PyTorch 모델 저장 및 로드\n",
    "        - 모델 가중치 저장 및 로드\n",
    "        - 전체 모델 저장 및 로드"
   ]
  },
  {
   "cell_type": "code",
   "execution_count": null,
   "metadata": {},
   "outputs": [],
   "source": [
    "# 모델 가중치 저장\n",
    "torch.save(model.state_dict(), 'model_weights.pth')\n",
    "\n",
    "# 모델 가중치 로드\n",
    "model = SimpleCNN()\n",
    "model.load_state_dict(torch.load('model_weights.pth'))\n",
    "model.eval()\n",
    "\n",
    "# 전체 모델 저장\n",
    "torch.save(model, 'model.pth')\n",
    "\n",
    "# 전체 모델 로드\n",
    "model = torch.load('model.pth')\n",
    "model.eval()"
   ]
  },
  {
   "cell_type": "markdown",
   "metadata": {},
   "source": [
    "- ONNX(Open Neural Network Exchange)로 모델 변환\n",
    "    - PyTorch 모델을 ONNX 형식으로 변환, 다양한 플랫폼에서 사용가능"
   ]
  },
  {
   "cell_type": "code",
   "execution_count": null,
   "metadata": {},
   "outputs": [],
   "source": [
    "import torch.onnx\n",
    "\n",
    "# 모델을 ONNX 형식으로 변환\n",
    "dummy_input = torch.randn(1, 1, 28, 28)  # 모델 입력에 맞는 더미 데이터 생성\n",
    "torch.onnx.export(model, dummy_input, 'model.onnx')"
   ]
  },
  {
   "cell_type": "markdown",
   "metadata": {},
   "source": [
    "3. 배포 플랫폼 소개\n",
    "    - Flask를 이용한 간단한 웹 서비스 구축"
   ]
  },
  {
   "cell_type": "code",
   "execution_count": null,
   "metadata": {},
   "outputs": [],
   "source": [
    "from flask import Flask, request, jsonify\n",
    "import torch\n",
    "from torchvision import transforms\n",
    "from PIL import Image\n",
    "import io\n",
    "\n",
    "app = Flask(__name__)\n",
    "\n",
    "# 모델 로드\n",
    "model = torch.load('model.pth') # 현재 모델 없음!\n",
    "model.eval()\n",
    "\n",
    "# 이미지 전처리 함수\n",
    "def transform_image(image_bytes):\n",
    "    transform = transforms.Compose([\n",
    "        transforms.Resize((28, 28)),\n",
    "        transforms.ToTensor(),\n",
    "        transforms.Normalize((0.5,), (0.5,))\n",
    "    ])\n",
    "    image = Image.open(io.BytesIO(image_bytes))\n",
    "    return transform(image).unsqueeze(0)\n",
    "\n",
    "# 예측 함수\n",
    "def get_prediction(image_bytes):\n",
    "    tensor = transform_image(image_bytes)\n",
    "    outputs = model(tensor)\n",
    "    _, predicted = torch.max(outputs.data, 1)\n",
    "    return predicted.item()\n",
    "\n",
    "@app.route('/predict', methods=['POST'])\n",
    "def predict():\n",
    "    if request.method == 'POST':\n",
    "        file = request.files['file']\n",
    "        img_bytes = file.read()\n",
    "        prediction = get_prediction(img_bytes)\n",
    "        return jsonify({'prediction': prediction})\n",
    "\n",
    "if __name__ == '__main__':\n",
    "    app.run()"
   ]
  },
  {
   "cell_type": "markdown",
   "metadata": {},
   "source": [
    "- 클라우드 서비스 배포\n",
    "    - AWS, Google Cloud, Azure 등의 클라우드 플랫폼을 사용하여 모델 배포\n",
    "    - AWS SageMaker, Google AI Platform, Azure Machine Learning"
   ]
  },
  {
   "cell_type": "markdown",
   "metadata": {},
   "source": [
    "4. 최종 프로젝트\n",
    "5. 실습 및 과제\n",
    "    - 학습된 모델을 저장, Flask를 이용하여 간단한 웹 서비스 구축\n",
    "    - 모델 배포 후 테스트 데이터로 예측 수행"
   ]
  },
  {
   "cell_type": "code",
   "execution_count": null,
   "metadata": {},
   "outputs": [],
   "source": [
    "# 실습 과제 예시\n",
    "import torch\n",
    "import torchvision.transforms as transforms\n",
    "from PIL import Image\n",
    "import io\n",
    "\n",
    "# 모델 로드\n",
    "model = torch.load('model.pth')\n",
    "model.eval()\n",
    "\n",
    "# 이미지 전처리 함수\n",
    "def transform_image(image_bytes):\n",
    "    transform = transforms.Compose([\n",
    "        transforms.Resize((28, 28)),\n",
    "        transforms.ToTensor(),\n",
    "        transforms.Normalize((0.5,), (0.5,))\n",
    "    ])\n",
    "    image = Image.open(io.BytesIO(image_bytes))\n",
    "    return transform(image).unsqueeze(0)\n",
    "\n",
    "# 예측 함수\n",
    "def get_prediction(image_bytes):\n",
    "    tensor = transform_image(image_bytes)\n",
    "    outputs = model(tensor)\n",
    "    _, predicted = torch.max(outputs.data, 1)\n",
    "    return predicted.item()\n",
    "\n",
    "# 테스트 이미지 예측\n",
    "with open('test_image.png', 'rb') as f:\n",
    "    image_bytes = f.read()\n",
    "    print(get_prediction(image_bytes))"
   ]
  }
 ],
 "metadata": {
  "kernelspec": {
   "display_name": "Python 3",
   "language": "python",
   "name": "python3"
  },
  "language_info": {
   "codemirror_mode": {
    "name": "ipython",
    "version": 3
   },
   "file_extension": ".py",
   "mimetype": "text/x-python",
   "name": "python",
   "nbconvert_exporter": "python",
   "pygments_lexer": "ipython3",
   "version": "3.11.9"
  }
 },
 "nbformat": 4,
 "nbformat_minor": 2
}
