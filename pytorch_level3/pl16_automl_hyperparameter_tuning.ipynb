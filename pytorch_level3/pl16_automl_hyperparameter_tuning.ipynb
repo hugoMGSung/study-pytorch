{
 "cells": [
  {
   "cell_type": "markdown",
   "metadata": {},
   "source": [
    "## AutoML 및 하이퍼파라미터 튜닝\n",
    "\n",
    "### 내용\n",
    "1. AutoML 개념 및 중요성\n",
    "    - AutoML 소개\n",
    "        - AutoML이란?\n",
    "        - AutoML의 필요성 및 이점\n",
    "\n",
    "    - 주요 AutoML 도구\n",
    "        - H2O.ai\n",
    "        - Google AutoML\n",
    "        - AutoKeras\n",
    "        - Auto-sklearn\n",
    "\n",
    "2. AutoML 도구 사용법\n",
    "    - H2O.ai 사용예제"
   ]
  },
  {
   "cell_type": "code",
   "execution_count": 1,
   "metadata": {},
   "outputs": [
    {
     "name": "stdout",
     "output_type": "stream",
     "text": [
      "Collecting h2o\n",
      "  Downloading h2o-3.46.0.6.tar.gz (265.8 MB)\n",
      "     ---------------------------------------- 0.0/265.8 MB ? eta -:--:--\n",
      "     - ------------------------------------- 9.7/265.8 MB 54.9 MB/s eta 0:00:05\n",
      "     --- ---------------------------------- 22.0/265.8 MB 55.8 MB/s eta 0:00:05\n",
      "     ----- -------------------------------- 35.1/265.8 MB 57.2 MB/s eta 0:00:05\n",
      "     ------ ------------------------------- 48.0/265.8 MB 58.8 MB/s eta 0:00:04\n",
      "     -------- ----------------------------- 60.8/265.8 MB 58.7 MB/s eta 0:00:04\n",
      "     ---------- --------------------------- 73.4/265.8 MB 58.5 MB/s eta 0:00:04\n",
      "     ----------- -------------------------- 83.6/265.8 MB 56.8 MB/s eta 0:00:04\n",
      "     ------------- ------------------------ 94.1/265.8 MB 56.1 MB/s eta 0:00:04\n",
      "     -------------- ---------------------- 105.1/265.8 MB 55.5 MB/s eta 0:00:03\n",
      "     ---------------- -------------------- 116.7/265.8 MB 55.6 MB/s eta 0:00:03\n",
      "     ----------------- ------------------- 125.6/265.8 MB 54.2 MB/s eta 0:00:03\n",
      "     ------------------- ----------------- 137.1/265.8 MB 54.1 MB/s eta 0:00:03\n",
      "     -------------------- ---------------- 146.8/265.8 MB 53.9 MB/s eta 0:00:03\n",
      "     -------------------- ---------------- 147.3/265.8 MB 50.3 MB/s eta 0:00:03\n",
      "     --------------------- --------------- 154.7/265.8 MB 48.7 MB/s eta 0:00:03\n",
      "     ----------------------- ------------- 165.7/265.8 MB 48.8 MB/s eta 0:00:03\n",
      "     ------------------------ ------------ 176.2/265.8 MB 49.0 MB/s eta 0:00:02\n",
      "     -------------------------- ---------- 188.5/265.8 MB 49.4 MB/s eta 0:00:02\n",
      "     --------------------------- --------- 199.2/265.8 MB 49.6 MB/s eta 0:00:02\n",
      "     ----------------------------- ------- 211.8/265.8 MB 49.8 MB/s eta 0:00:02\n",
      "     ------------------------------ ------ 221.8/265.8 MB 49.7 MB/s eta 0:00:01\n",
      "     -------------------------------- ---- 233.6/265.8 MB 49.9 MB/s eta 0:00:01\n",
      "     --------------------------------- --- 243.0/265.8 MB 49.8 MB/s eta 0:00:01\n",
      "     ----------------------------------- - 253.5/265.8 MB 49.7 MB/s eta 0:00:01\n",
      "     ------------------------------------  261.4/265.8 MB 49.3 MB/s eta 0:00:01\n",
      "     ------------------------------------  265.6/265.8 MB 49.2 MB/s eta 0:00:01\n",
      "     ------------------------------------- 265.8/265.8 MB 46.3 MB/s eta 0:00:00\n",
      "  Preparing metadata (setup.py): started\n",
      "  Preparing metadata (setup.py): finished with status 'done'\n",
      "Requirement already satisfied: requests in c:\\users\\perso\\.pyenv\\pyenv-win\\versions\\3.11.9\\lib\\site-packages (from h2o) (2.32.3)\n",
      "Collecting tabulate (from h2o)\n",
      "  Using cached tabulate-0.9.0-py3-none-any.whl.metadata (34 kB)\n",
      "Requirement already satisfied: charset-normalizer<4,>=2 in c:\\users\\perso\\.pyenv\\pyenv-win\\versions\\3.11.9\\lib\\site-packages (from requests->h2o) (2.1.1)\n",
      "Requirement already satisfied: idna<4,>=2.5 in c:\\users\\perso\\.pyenv\\pyenv-win\\versions\\3.11.9\\lib\\site-packages (from requests->h2o) (3.4)\n",
      "Requirement already satisfied: urllib3<3,>=1.21.1 in c:\\users\\perso\\.pyenv\\pyenv-win\\versions\\3.11.9\\lib\\site-packages (from requests->h2o) (1.26.13)\n",
      "Requirement already satisfied: certifi>=2017.4.17 in c:\\users\\perso\\.pyenv\\pyenv-win\\versions\\3.11.9\\lib\\site-packages (from requests->h2o) (2022.12.7)\n",
      "Using cached tabulate-0.9.0-py3-none-any.whl (35 kB)\n",
      "Building wheels for collected packages: h2o\n",
      "  Building wheel for h2o (setup.py): started\n",
      "  Building wheel for h2o (setup.py): finished with status 'done'\n",
      "  Created wheel for h2o: filename=h2o-3.46.0.6-py2.py3-none-any.whl size=265859798 sha256=c7a336c19aaf3e65100457ea3b605686737bab205619e0798bac8ebb78dd6845\n",
      "  Stored in directory: c:\\users\\perso\\appdata\\local\\pip\\cache\\wheels\\62\\f9\\aa\\687bd54342d2981bc78e22ee9b9bc39f92006e344e7aa1e0ac\n",
      "Successfully built h2o\n",
      "Installing collected packages: tabulate, h2o\n",
      "Successfully installed h2o-3.46.0.6 tabulate-0.9.0\n"
     ]
    }
   ],
   "source": [
    "!pip install h2o"
   ]
  },
  {
   "cell_type": "code",
   "execution_count": null,
   "metadata": {},
   "outputs": [],
   "source": [
    "import h2o\n",
    "from h2o.automl import H2OAutoML\n",
    "\n",
    "# H2O 서버 시작\n",
    "h2o.init()\n",
    "\n",
    "# 데이터 로드 및 H2O 프레임으로 변환\n",
    "data = h2o.import_file(\"./data/titanic.csv\")\n",
    "train, test = data.split_frame(ratios=[.8], seed=1234)\n",
    "\n",
    "# AutoML 모델 훈련\n",
    "aml = H2OAutoML(max_runtime_secs=3600, seed=1)\n",
    "aml.train(y=\"target_column\", training_frame=train)\n",
    "\n",
    "# 모델 리더보드 출력\n",
    "lb = aml.leaderboard\n",
    "lb.head()\n",
    "\n",
    "# 베스트 모델 예측\n",
    "best_model = aml.leader\n",
    "predictions = best_model.predict(test)"
   ]
  },
  {
   "cell_type": "markdown",
   "metadata": {},
   "source": [
    "- AutoKeras 사용 예제"
   ]
  },
  {
   "cell_type": "code",
   "execution_count": 4,
   "metadata": {},
   "outputs": [
    {
     "name": "stdout",
     "output_type": "stream",
     "text": [
      "Collecting autokeras\n",
      "  Downloading autokeras-2.0.0-py3-none-any.whl.metadata (5.8 kB)\n",
      "Requirement already satisfied: packaging in c:\\users\\perso\\.pyenv\\pyenv-win\\versions\\3.11.9\\lib\\site-packages (from autokeras) (24.2)\n",
      "Collecting keras-tuner>=1.4.0 (from autokeras)\n",
      "  Downloading keras_tuner-1.4.7-py3-none-any.whl.metadata (5.4 kB)\n",
      "Collecting keras-nlp>=0.8.0 (from autokeras)\n",
      "  Downloading keras_nlp-0.18.1-py3-none-any.whl.metadata (1.2 kB)\n",
      "Requirement already satisfied: keras>=3.0.0 in c:\\users\\perso\\.pyenv\\pyenv-win\\versions\\3.11.9\\lib\\site-packages (from autokeras) (3.7.0)\n",
      "Requirement already satisfied: dm-tree in c:\\users\\perso\\.pyenv\\pyenv-win\\versions\\3.11.9\\lib\\site-packages (from autokeras) (0.1.8)\n",
      "Requirement already satisfied: absl-py in c:\\users\\perso\\.pyenv\\pyenv-win\\versions\\3.11.9\\lib\\site-packages (from keras>=3.0.0->autokeras) (2.1.0)\n",
      "Requirement already satisfied: numpy in c:\\users\\perso\\.pyenv\\pyenv-win\\versions\\3.11.9\\lib\\site-packages (from keras>=3.0.0->autokeras) (1.26.3)\n",
      "Requirement already satisfied: rich in c:\\users\\perso\\.pyenv\\pyenv-win\\versions\\3.11.9\\lib\\site-packages (from keras>=3.0.0->autokeras) (13.9.4)\n",
      "Requirement already satisfied: namex in c:\\users\\perso\\.pyenv\\pyenv-win\\versions\\3.11.9\\lib\\site-packages (from keras>=3.0.0->autokeras) (0.0.8)\n",
      "Requirement already satisfied: h5py in c:\\users\\perso\\.pyenv\\pyenv-win\\versions\\3.11.9\\lib\\site-packages (from keras>=3.0.0->autokeras) (3.12.1)\n",
      "Requirement already satisfied: optree in c:\\users\\perso\\.pyenv\\pyenv-win\\versions\\3.11.9\\lib\\site-packages (from keras>=3.0.0->autokeras) (0.13.1)\n",
      "Requirement already satisfied: ml-dtypes in c:\\users\\perso\\.pyenv\\pyenv-win\\versions\\3.11.9\\lib\\site-packages (from keras>=3.0.0->autokeras) (0.4.1)\n",
      "Collecting keras-hub==0.18.1 (from keras-nlp>=0.8.0->autokeras)\n",
      "  Downloading keras_hub-0.18.1-py3-none-any.whl.metadata (7.0 kB)\n",
      "Requirement already satisfied: regex in c:\\users\\perso\\.pyenv\\pyenv-win\\versions\\3.11.9\\lib\\site-packages (from keras-hub==0.18.1->keras-nlp>=0.8.0->autokeras) (2024.11.6)\n",
      "Collecting kagglehub (from keras-hub==0.18.1->keras-nlp>=0.8.0->autokeras)\n",
      "  Downloading kagglehub-0.3.6-py3-none-any.whl.metadata (30 kB)\n",
      "INFO: pip is looking at multiple versions of keras-hub to determine which version is compatible with other requirements. This could take a while.\n",
      "Collecting keras-nlp>=0.8.0 (from autokeras)\n",
      "  Downloading keras_nlp-0.18.0-py3-none-any.whl.metadata (1.2 kB)\n",
      "Collecting keras-hub==0.18.0 (from keras-nlp>=0.8.0->autokeras)\n",
      "  Downloading keras_hub-0.18.0-py3-none-any.whl.metadata (7.0 kB)\n",
      "Collecting keras-nlp>=0.8.0 (from autokeras)\n",
      "  Downloading keras_nlp-0.17.0-py3-none-any.whl.metadata (1.2 kB)\n",
      "Collecting keras-hub==0.17.0 (from keras-nlp>=0.8.0->autokeras)\n",
      "  Downloading keras_hub-0.17.0-py3-none-any.whl.metadata (7.4 kB)\n",
      "Collecting keras-nlp>=0.8.0 (from autokeras)\n",
      "  Downloading keras_nlp-0.16.1-py3-none-any.whl.metadata (1.2 kB)\n",
      "Collecting keras-hub==0.16.1 (from keras-nlp>=0.8.0->autokeras)\n",
      "  Downloading keras_hub-0.16.1-py3-none-any.whl.metadata (7.4 kB)\n",
      "Collecting keras-nlp>=0.8.0 (from autokeras)\n",
      "  Downloading keras_nlp-0.15.1-py3-none-any.whl.metadata (6.7 kB)\n",
      "INFO: pip is looking at multiple versions of keras-nlp to determine which version is compatible with other requirements. This could take a while.\n",
      "  Downloading keras_nlp-0.15.0-py3-none-any.whl.metadata (6.7 kB)\n",
      "  Downloading keras_nlp-0.14.4-py3-none-any.whl.metadata (6.8 kB)\n",
      "  Downloading keras_nlp-0.14.3-py3-none-any.whl.metadata (6.8 kB)\n",
      "  Downloading keras_nlp-0.14.2-py3-none-any.whl.metadata (6.8 kB)\n",
      "  Downloading keras_nlp-0.14.1-py3-none-any.whl.metadata (6.8 kB)\n",
      "  Downloading keras_nlp-0.14.0-py3-none-any.whl.metadata (6.8 kB)\n",
      "  Downloading keras_nlp-0.12.1-py3-none-any.whl.metadata (6.8 kB)\n",
      "Collecting keras-core (from keras-nlp>=0.8.0->autokeras)\n",
      "  Downloading keras_core-0.1.7-py3-none-any.whl.metadata (4.3 kB)\n",
      "INFO: pip is still looking at multiple versions of keras-nlp to determine which version is compatible with other requirements. This could take a while.\n",
      "Collecting keras-nlp>=0.8.0 (from autokeras)\n",
      "  Downloading keras_nlp-0.12.0-py3-none-any.whl.metadata (6.8 kB)\n",
      "  Downloading keras_nlp-0.11.1-py3-none-any.whl.metadata (6.8 kB)\n",
      "  Downloading keras_nlp-0.11.0-py3-none-any.whl.metadata (6.8 kB)\n",
      "  Downloading keras_nlp-0.10.0-py3-none-any.whl.metadata (7.0 kB)\n",
      "  Downloading keras_nlp-0.9.3-py3-none-any.whl.metadata (7.0 kB)\n",
      "INFO: This is taking longer than usual. You might need to provide the dependency resolver with stricter constraints to reduce runtime. See https://pip.pypa.io/warnings/backtracking for guidance. If you want to abort this run, press Ctrl + C.\n",
      "  Downloading keras_nlp-0.9.2-py3-none-any.whl.metadata (7.0 kB)\n",
      "  Downloading keras_nlp-0.9.1-py3-none-any.whl.metadata (7.0 kB)\n",
      "  Downloading keras_nlp-0.9.0-py3-none-any.whl.metadata (7.0 kB)\n",
      "  Downloading keras_nlp-0.8.2-py3-none-any.whl.metadata (7.0 kB)\n",
      "  Downloading keras_nlp-0.8.1-py3-none-any.whl.metadata (7.0 kB)\n",
      "  Downloading keras_nlp-0.8.0-py3-none-any.whl.metadata (7.0 kB)\n",
      "Collecting autokeras\n",
      "  Downloading autokeras-1.1.0-py3-none-any.whl.metadata (5.8 kB)\n",
      "Requirement already satisfied: tensorflow>=2.8.0 in c:\\users\\perso\\.pyenv\\pyenv-win\\versions\\3.11.9\\lib\\site-packages (from autokeras) (2.18.0)\n",
      "Requirement already satisfied: pandas in c:\\users\\perso\\.pyenv\\pyenv-win\\versions\\3.11.9\\lib\\site-packages (from autokeras) (2.2.3)\n",
      "INFO: pip is still looking at multiple versions of keras-hub to determine which version is compatible with other requirements. This could take a while.\n",
      "Collecting keras-nlp>=0.4.0 (from autokeras)\n",
      "  Downloading keras_nlp-0.7.0-py3-none-any.whl.metadata (7.0 kB)\n",
      "  Downloading keras_nlp-0.6.4-py3-none-any.whl.metadata (8.5 kB)\n",
      "  Downloading keras_nlp-0.6.3-py3-none-any.whl.metadata (7.2 kB)\n",
      "  Downloading keras_nlp-0.6.2-py3-none-any.whl.metadata (7.2 kB)\n",
      "  Downloading keras_nlp-0.6.1-py3-none-any.whl.metadata (7.2 kB)\n",
      "  Downloading keras_nlp-0.6.0-py3-none-any.whl.metadata (5.7 kB)\n",
      "  Downloading keras_nlp-0.5.2-py3-none-any.whl.metadata (5.7 kB)\n",
      "  Downloading keras_nlp-0.5.1-py3-none-any.whl.metadata (5.7 kB)\n",
      "  Downloading keras_nlp-0.5.0-py3-none-any.whl.metadata (5.7 kB)\n",
      "  Downloading keras_nlp-0.4.1-py3-none-any.whl.metadata (5.9 kB)\n",
      "  Downloading keras_nlp-0.4.0-py3-none-any.whl.metadata (6.4 kB)\n",
      "Collecting autokeras\n",
      "  Downloading autokeras-1.0.20-py3-none-any.whl.metadata (6.3 kB)\n",
      "Requirement already satisfied: requests in c:\\users\\perso\\.pyenv\\pyenv-win\\versions\\3.11.9\\lib\\site-packages (from keras-tuner>=1.4.0->autokeras) (2.32.3)\n",
      "Collecting kt-legacy (from keras-tuner>=1.4.0->autokeras)\n",
      "  Downloading kt_legacy-1.0.5-py3-none-any.whl.metadata (221 bytes)\n",
      "Requirement already satisfied: tensorflow-intel==2.18.0 in c:\\users\\perso\\.pyenv\\pyenv-win\\versions\\3.11.9\\lib\\site-packages (from tensorflow>=2.8.0->autokeras) (2.18.0)\n",
      "Requirement already satisfied: astunparse>=1.6.0 in c:\\users\\perso\\.pyenv\\pyenv-win\\versions\\3.11.9\\lib\\site-packages (from tensorflow-intel==2.18.0->tensorflow>=2.8.0->autokeras) (1.6.3)\n",
      "Requirement already satisfied: flatbuffers>=24.3.25 in c:\\users\\perso\\.pyenv\\pyenv-win\\versions\\3.11.9\\lib\\site-packages (from tensorflow-intel==2.18.0->tensorflow>=2.8.0->autokeras) (24.12.23)\n",
      "Requirement already satisfied: gast!=0.5.0,!=0.5.1,!=0.5.2,>=0.2.1 in c:\\users\\perso\\.pyenv\\pyenv-win\\versions\\3.11.9\\lib\\site-packages (from tensorflow-intel==2.18.0->tensorflow>=2.8.0->autokeras) (0.6.0)\n",
      "Requirement already satisfied: google-pasta>=0.1.1 in c:\\users\\perso\\.pyenv\\pyenv-win\\versions\\3.11.9\\lib\\site-packages (from tensorflow-intel==2.18.0->tensorflow>=2.8.0->autokeras) (0.2.0)\n",
      "Requirement already satisfied: libclang>=13.0.0 in c:\\users\\perso\\.pyenv\\pyenv-win\\versions\\3.11.9\\lib\\site-packages (from tensorflow-intel==2.18.0->tensorflow>=2.8.0->autokeras) (18.1.1)\n",
      "Requirement already satisfied: opt-einsum>=2.3.2 in c:\\users\\perso\\.pyenv\\pyenv-win\\versions\\3.11.9\\lib\\site-packages (from tensorflow-intel==2.18.0->tensorflow>=2.8.0->autokeras) (3.4.0)\n",
      "Requirement already satisfied: protobuf!=4.21.0,!=4.21.1,!=4.21.2,!=4.21.3,!=4.21.4,!=4.21.5,<6.0.0dev,>=3.20.3 in c:\\users\\perso\\.pyenv\\pyenv-win\\versions\\3.11.9\\lib\\site-packages (from tensorflow-intel==2.18.0->tensorflow>=2.8.0->autokeras) (5.29.2)\n",
      "Requirement already satisfied: setuptools in c:\\users\\perso\\.pyenv\\pyenv-win\\versions\\3.11.9\\lib\\site-packages (from tensorflow-intel==2.18.0->tensorflow>=2.8.0->autokeras) (75.6.0)\n",
      "Requirement already satisfied: six>=1.12.0 in c:\\users\\perso\\.pyenv\\pyenv-win\\versions\\3.11.9\\lib\\site-packages (from tensorflow-intel==2.18.0->tensorflow>=2.8.0->autokeras) (1.17.0)\n",
      "Requirement already satisfied: termcolor>=1.1.0 in c:\\users\\perso\\.pyenv\\pyenv-win\\versions\\3.11.9\\lib\\site-packages (from tensorflow-intel==2.18.0->tensorflow>=2.8.0->autokeras) (2.5.0)\n",
      "Requirement already satisfied: typing-extensions>=3.6.6 in c:\\users\\perso\\.pyenv\\pyenv-win\\versions\\3.11.9\\lib\\site-packages (from tensorflow-intel==2.18.0->tensorflow>=2.8.0->autokeras) (4.9.0)\n",
      "Requirement already satisfied: wrapt>=1.11.0 in c:\\users\\perso\\.pyenv\\pyenv-win\\versions\\3.11.9\\lib\\site-packages (from tensorflow-intel==2.18.0->tensorflow>=2.8.0->autokeras) (1.17.0)\n",
      "Requirement already satisfied: grpcio<2.0,>=1.24.3 in c:\\users\\perso\\.pyenv\\pyenv-win\\versions\\3.11.9\\lib\\site-packages (from tensorflow-intel==2.18.0->tensorflow>=2.8.0->autokeras) (1.68.1)\n",
      "Requirement already satisfied: tensorboard<2.19,>=2.18 in c:\\users\\perso\\.pyenv\\pyenv-win\\versions\\3.11.9\\lib\\site-packages (from tensorflow-intel==2.18.0->tensorflow>=2.8.0->autokeras) (2.18.0)\n",
      "Requirement already satisfied: tensorflow-io-gcs-filesystem>=0.23.1 in c:\\users\\perso\\.pyenv\\pyenv-win\\versions\\3.11.9\\lib\\site-packages (from tensorflow-intel==2.18.0->tensorflow>=2.8.0->autokeras) (0.31.0)\n",
      "Requirement already satisfied: python-dateutil>=2.8.2 in c:\\users\\perso\\.pyenv\\pyenv-win\\versions\\3.11.9\\lib\\site-packages (from pandas->autokeras) (2.9.0.post0)\n",
      "Requirement already satisfied: pytz>=2020.1 in c:\\users\\perso\\.pyenv\\pyenv-win\\versions\\3.11.9\\lib\\site-packages (from pandas->autokeras) (2024.2)\n",
      "Requirement already satisfied: tzdata>=2022.7 in c:\\users\\perso\\.pyenv\\pyenv-win\\versions\\3.11.9\\lib\\site-packages (from pandas->autokeras) (2024.2)\n",
      "Requirement already satisfied: charset-normalizer<4,>=2 in c:\\users\\perso\\.pyenv\\pyenv-win\\versions\\3.11.9\\lib\\site-packages (from requests->keras-tuner>=1.4.0->autokeras) (2.1.1)\n",
      "Requirement already satisfied: idna<4,>=2.5 in c:\\users\\perso\\.pyenv\\pyenv-win\\versions\\3.11.9\\lib\\site-packages (from requests->keras-tuner>=1.4.0->autokeras) (3.4)\n",
      "Requirement already satisfied: urllib3<3,>=1.21.1 in c:\\users\\perso\\.pyenv\\pyenv-win\\versions\\3.11.9\\lib\\site-packages (from requests->keras-tuner>=1.4.0->autokeras) (1.26.13)\n",
      "Requirement already satisfied: certifi>=2017.4.17 in c:\\users\\perso\\.pyenv\\pyenv-win\\versions\\3.11.9\\lib\\site-packages (from requests->keras-tuner>=1.4.0->autokeras) (2022.12.7)\n",
      "Requirement already satisfied: wheel<1.0,>=0.23.0 in c:\\users\\perso\\.pyenv\\pyenv-win\\versions\\3.11.9\\lib\\site-packages (from astunparse>=1.6.0->tensorflow-intel==2.18.0->tensorflow>=2.8.0->autokeras) (0.45.1)\n",
      "Requirement already satisfied: markdown>=2.6.8 in c:\\users\\perso\\.pyenv\\pyenv-win\\versions\\3.11.9\\lib\\site-packages (from tensorboard<2.19,>=2.18->tensorflow-intel==2.18.0->tensorflow>=2.8.0->autokeras) (3.7)\n",
      "Requirement already satisfied: tensorboard-data-server<0.8.0,>=0.7.0 in c:\\users\\perso\\.pyenv\\pyenv-win\\versions\\3.11.9\\lib\\site-packages (from tensorboard<2.19,>=2.18->tensorflow-intel==2.18.0->tensorflow>=2.8.0->autokeras) (0.7.2)\n",
      "Requirement already satisfied: werkzeug>=1.0.1 in c:\\users\\perso\\.pyenv\\pyenv-win\\versions\\3.11.9\\lib\\site-packages (from tensorboard<2.19,>=2.18->tensorflow-intel==2.18.0->tensorflow>=2.8.0->autokeras) (3.1.3)\n",
      "Requirement already satisfied: markdown-it-py>=2.2.0 in c:\\users\\perso\\.pyenv\\pyenv-win\\versions\\3.11.9\\lib\\site-packages (from rich->keras>=3.0.0->autokeras) (3.0.0)\n",
      "Requirement already satisfied: pygments<3.0.0,>=2.13.0 in c:\\users\\perso\\.pyenv\\pyenv-win\\versions\\3.11.9\\lib\\site-packages (from rich->keras>=3.0.0->autokeras) (2.18.0)\n",
      "Requirement already satisfied: mdurl~=0.1 in c:\\users\\perso\\.pyenv\\pyenv-win\\versions\\3.11.9\\lib\\site-packages (from markdown-it-py>=2.2.0->rich->keras>=3.0.0->autokeras) (0.1.2)\n",
      "Requirement already satisfied: MarkupSafe>=2.1.1 in c:\\users\\perso\\.pyenv\\pyenv-win\\versions\\3.11.9\\lib\\site-packages (from werkzeug>=1.0.1->tensorboard<2.19,>=2.18->tensorflow-intel==2.18.0->tensorflow>=2.8.0->autokeras) (2.1.5)\n",
      "Downloading autokeras-1.0.20-py3-none-any.whl (162 kB)\n",
      "Downloading keras_tuner-1.4.7-py3-none-any.whl (129 kB)\n",
      "Downloading kt_legacy-1.0.5-py3-none-any.whl (9.6 kB)\n",
      "Installing collected packages: kt-legacy, keras-tuner, autokeras\n",
      "Successfully installed autokeras-1.0.20 keras-tuner-1.4.7 kt-legacy-1.0.5\n"
     ]
    }
   ],
   "source": [
    "!pip install autokeras"
   ]
  },
  {
   "cell_type": "code",
   "execution_count": 5,
   "metadata": {},
   "outputs": [
    {
     "ename": "ModuleNotFoundError",
     "evalue": "No module named 'tensorflow.keras.layers.experimental'",
     "output_type": "error",
     "traceback": [
      "\u001b[1;31m---------------------------------------------------------------------------\u001b[0m",
      "\u001b[1;31mModuleNotFoundError\u001b[0m                       Traceback (most recent call last)",
      "Cell \u001b[1;32mIn[5], line 1\u001b[0m\n\u001b[1;32m----> 1\u001b[0m \u001b[38;5;28;01mimport\u001b[39;00m \u001b[38;5;21;01mautokeras\u001b[39;00m \u001b[38;5;28;01mas\u001b[39;00m \u001b[38;5;21;01mak\u001b[39;00m\n\u001b[0;32m      3\u001b[0m \u001b[38;5;66;03m# 데이터 로드\u001b[39;00m\n\u001b[0;32m      4\u001b[0m (x_train, y_train), (x_test, y_test) \u001b[38;5;241m=\u001b[39m ak\u001b[38;5;241m.\u001b[39mdatasets\u001b[38;5;241m.\u001b[39mmnist\u001b[38;5;241m.\u001b[39mload_data()\n",
      "File \u001b[1;32mc:\\Users\\perso\\.pyenv\\pyenv-win\\versions\\3.11.9\\Lib\\site-packages\\autokeras\\__init__.py:15\u001b[0m\n\u001b[0;32m      1\u001b[0m \u001b[38;5;66;03m# Copyright 2020 The AutoKeras Authors.\u001b[39;00m\n\u001b[0;32m      2\u001b[0m \u001b[38;5;66;03m#\u001b[39;00m\n\u001b[0;32m      3\u001b[0m \u001b[38;5;66;03m# Licensed under the Apache License, Version 2.0 (the \"License\");\u001b[39;00m\n\u001b[1;32m   (...)\u001b[0m\n\u001b[0;32m     12\u001b[0m \u001b[38;5;66;03m# See the License for the specific language governing permissions and\u001b[39;00m\n\u001b[0;32m     13\u001b[0m \u001b[38;5;66;03m# limitations under the License.\u001b[39;00m\n\u001b[1;32m---> 15\u001b[0m \u001b[38;5;28;01mfrom\u001b[39;00m \u001b[38;5;21;01mautokeras\u001b[39;00m\u001b[38;5;21;01m.\u001b[39;00m\u001b[38;5;21;01mauto_model\u001b[39;00m \u001b[38;5;28;01mimport\u001b[39;00m AutoModel\n\u001b[0;32m     16\u001b[0m \u001b[38;5;28;01mfrom\u001b[39;00m \u001b[38;5;21;01mautokeras\u001b[39;00m\u001b[38;5;21;01m.\u001b[39;00m\u001b[38;5;21;01mblocks\u001b[39;00m \u001b[38;5;28;01mimport\u001b[39;00m BertBlock\n\u001b[0;32m     17\u001b[0m \u001b[38;5;28;01mfrom\u001b[39;00m \u001b[38;5;21;01mautokeras\u001b[39;00m\u001b[38;5;21;01m.\u001b[39;00m\u001b[38;5;21;01mblocks\u001b[39;00m \u001b[38;5;28;01mimport\u001b[39;00m CategoricalToNumerical\n",
      "File \u001b[1;32mc:\\Users\\perso\\.pyenv\\pyenv-win\\versions\\3.11.9\\Lib\\site-packages\\autokeras\\auto_model.py:26\u001b[0m\n\u001b[0;32m     23\u001b[0m \u001b[38;5;28;01mfrom\u001b[39;00m \u001b[38;5;21;01mtensorflow\u001b[39;00m \u001b[38;5;28;01mimport\u001b[39;00m keras\n\u001b[0;32m     24\u001b[0m \u001b[38;5;28;01mfrom\u001b[39;00m \u001b[38;5;21;01mtensorflow\u001b[39;00m \u001b[38;5;28;01mimport\u001b[39;00m nest\n\u001b[1;32m---> 26\u001b[0m \u001b[38;5;28;01mfrom\u001b[39;00m \u001b[38;5;21;01mautokeras\u001b[39;00m \u001b[38;5;28;01mimport\u001b[39;00m blocks\n\u001b[0;32m     27\u001b[0m \u001b[38;5;28;01mfrom\u001b[39;00m \u001b[38;5;21;01mautokeras\u001b[39;00m \u001b[38;5;28;01mimport\u001b[39;00m graph \u001b[38;5;28;01mas\u001b[39;00m graph_module\n\u001b[0;32m     28\u001b[0m \u001b[38;5;28;01mfrom\u001b[39;00m \u001b[38;5;21;01mautokeras\u001b[39;00m \u001b[38;5;28;01mimport\u001b[39;00m pipeline\n",
      "File \u001b[1;32mc:\\Users\\perso\\.pyenv\\pyenv-win\\versions\\3.11.9\\Lib\\site-packages\\autokeras\\blocks\\__init__.py:18\u001b[0m\n\u001b[0;32m     15\u001b[0m \u001b[38;5;28;01mimport\u001b[39;00m \u001b[38;5;21;01mtensorflow\u001b[39;00m \u001b[38;5;28;01mas\u001b[39;00m \u001b[38;5;21;01mtf\u001b[39;00m\n\u001b[0;32m     16\u001b[0m \u001b[38;5;28;01mfrom\u001b[39;00m \u001b[38;5;21;01mtensorflow\u001b[39;00m \u001b[38;5;28;01mimport\u001b[39;00m keras\n\u001b[1;32m---> 18\u001b[0m \u001b[38;5;28;01mfrom\u001b[39;00m \u001b[38;5;21;01mautokeras\u001b[39;00m\u001b[38;5;21;01m.\u001b[39;00m\u001b[38;5;21;01mblocks\u001b[39;00m\u001b[38;5;21;01m.\u001b[39;00m\u001b[38;5;21;01mbasic\u001b[39;00m \u001b[38;5;28;01mimport\u001b[39;00m BertBlock\n\u001b[0;32m     19\u001b[0m \u001b[38;5;28;01mfrom\u001b[39;00m \u001b[38;5;21;01mautokeras\u001b[39;00m\u001b[38;5;21;01m.\u001b[39;00m\u001b[38;5;21;01mblocks\u001b[39;00m\u001b[38;5;21;01m.\u001b[39;00m\u001b[38;5;21;01mbasic\u001b[39;00m \u001b[38;5;28;01mimport\u001b[39;00m ConvBlock\n\u001b[0;32m     20\u001b[0m \u001b[38;5;28;01mfrom\u001b[39;00m \u001b[38;5;21;01mautokeras\u001b[39;00m\u001b[38;5;21;01m.\u001b[39;00m\u001b[38;5;21;01mblocks\u001b[39;00m\u001b[38;5;21;01m.\u001b[39;00m\u001b[38;5;21;01mbasic\u001b[39;00m \u001b[38;5;28;01mimport\u001b[39;00m DenseBlock\n",
      "File \u001b[1;32mc:\\Users\\perso\\.pyenv\\pyenv-win\\versions\\3.11.9\\Lib\\site-packages\\autokeras\\blocks\\basic.py:25\u001b[0m\n\u001b[0;32m     22\u001b[0m \u001b[38;5;28;01mfrom\u001b[39;00m \u001b[38;5;21;01mtensorflow\u001b[39;00m\u001b[38;5;21;01m.\u001b[39;00m\u001b[38;5;21;01mkeras\u001b[39;00m \u001b[38;5;28;01mimport\u001b[39;00m applications\n\u001b[0;32m     23\u001b[0m \u001b[38;5;28;01mfrom\u001b[39;00m \u001b[38;5;21;01mtensorflow\u001b[39;00m\u001b[38;5;21;01m.\u001b[39;00m\u001b[38;5;21;01mkeras\u001b[39;00m \u001b[38;5;28;01mimport\u001b[39;00m layers\n\u001b[1;32m---> 25\u001b[0m \u001b[38;5;28;01mfrom\u001b[39;00m \u001b[38;5;21;01mautokeras\u001b[39;00m \u001b[38;5;28;01mimport\u001b[39;00m keras_layers\n\u001b[0;32m     26\u001b[0m \u001b[38;5;28;01mfrom\u001b[39;00m \u001b[38;5;21;01mautokeras\u001b[39;00m\u001b[38;5;21;01m.\u001b[39;00m\u001b[38;5;21;01mblocks\u001b[39;00m \u001b[38;5;28;01mimport\u001b[39;00m reduction\n\u001b[0;32m     27\u001b[0m \u001b[38;5;28;01mfrom\u001b[39;00m \u001b[38;5;21;01mautokeras\u001b[39;00m\u001b[38;5;21;01m.\u001b[39;00m\u001b[38;5;21;01mengine\u001b[39;00m \u001b[38;5;28;01mimport\u001b[39;00m block \u001b[38;5;28;01mas\u001b[39;00m block_module\n",
      "File \u001b[1;32mc:\\Users\\perso\\.pyenv\\pyenv-win\\versions\\3.11.9\\Lib\\site-packages\\autokeras\\keras_layers.py:27\u001b[0m\n\u001b[0;32m     25\u001b[0m \u001b[38;5;28;01mfrom\u001b[39;00m \u001b[38;5;21;01mtensorflow\u001b[39;00m \u001b[38;5;28;01mimport\u001b[39;00m nest\n\u001b[0;32m     26\u001b[0m \u001b[38;5;28;01mfrom\u001b[39;00m \u001b[38;5;21;01mtensorflow\u001b[39;00m\u001b[38;5;21;01m.\u001b[39;00m\u001b[38;5;21;01mkeras\u001b[39;00m \u001b[38;5;28;01mimport\u001b[39;00m layers\n\u001b[1;32m---> 27\u001b[0m \u001b[38;5;28;01mfrom\u001b[39;00m \u001b[38;5;21;01mtensorflow\u001b[39;00m\u001b[38;5;21;01m.\u001b[39;00m\u001b[38;5;21;01mkeras\u001b[39;00m\u001b[38;5;21;01m.\u001b[39;00m\u001b[38;5;21;01mlayers\u001b[39;00m\u001b[38;5;21;01m.\u001b[39;00m\u001b[38;5;21;01mexperimental\u001b[39;00m \u001b[38;5;28;01mimport\u001b[39;00m preprocessing\n\u001b[0;32m     29\u001b[0m \u001b[38;5;28;01mfrom\u001b[39;00m \u001b[38;5;21;01mautokeras\u001b[39;00m \u001b[38;5;28;01mimport\u001b[39;00m constants\n\u001b[0;32m     30\u001b[0m \u001b[38;5;28;01mfrom\u001b[39;00m \u001b[38;5;21;01mautokeras\u001b[39;00m\u001b[38;5;21;01m.\u001b[39;00m\u001b[38;5;21;01mutils\u001b[39;00m \u001b[38;5;28;01mimport\u001b[39;00m data_utils\n",
      "\u001b[1;31mModuleNotFoundError\u001b[0m: No module named 'tensorflow.keras.layers.experimental'"
     ]
    }
   ],
   "source": [
    "import autokeras as ak\n",
    "\n",
    "# 데이터 로드\n",
    "(x_train, y_train), (x_test, y_test) = ak.datasets.mnist.load_data()\n",
    "\n",
    "# 이미지 분류 모델 정의 및 훈련\n",
    "clf = ak.ImageClassifier(max_trials=3)\n",
    "clf.fit(x_train, y_train, epochs=10)\n",
    "\n",
    "# 모델 평가\n",
    "accuracy = clf.evaluate(x_test, y_test)\n",
    "print(f'Accuracy: {accuracy}')"
   ]
  },
  {
   "cell_type": "markdown",
   "metadata": {},
   "source": [
    "3. 하이퍼파라미터 튜닝 기법\n",
    "    - 그리드 서치(Grid Search)\n",
    "        - 모든 하이퍼파라미터 조합을 탐색하여 최적의 하이퍼파라미터 조합 찾기"
   ]
  },
  {
   "cell_type": "code",
   "execution_count": 6,
   "metadata": {},
   "outputs": [
    {
     "name": "stdout",
     "output_type": "stream",
     "text": [
      "Best parameters found: {'max_depth': 10, 'n_estimators': 50}\n"
     ]
    }
   ],
   "source": [
    "from sklearn.model_selection import GridSearchCV\n",
    "from sklearn.ensemble import RandomForestClassifier\n",
    "\n",
    "# 하이퍼파라미터 그리드 설정\n",
    "param_grid = {\n",
    "    'n_estimators': [50, 100, 200],\n",
    "    'max_depth': [None, 10, 20, 30]\n",
    "}\n",
    "\n",
    "# 모델 및 그리드 서치 객체 생성\n",
    "model = RandomForestClassifier()\n",
    "grid_search = GridSearchCV(estimator=model, param_grid=param_grid, cv=3)\n",
    "\n",
    "# 데이터 로드 (예시용 데이터)\n",
    "from sklearn.datasets import load_iris\n",
    "X, y = load_iris(return_X_y=True)\n",
    "\n",
    "# 그리드 서치 수행\n",
    "grid_search.fit(X, y)\n",
    "print(f'Best parameters found: {grid_search.best_params_}')"
   ]
  },
  {
   "cell_type": "markdown",
   "metadata": {},
   "source": [
    "- 랜덤 서치(Random Search)\n",
    "    - 무작위로 선택한 하이퍼파라미터 조합을 탐색하여 최적의 조합 찾기"
   ]
  },
  {
   "cell_type": "code",
   "execution_count": 7,
   "metadata": {},
   "outputs": [
    {
     "name": "stdout",
     "output_type": "stream",
     "text": [
      "Best parameters found: {'n_estimators': 50, 'max_depth': 30}\n"
     ]
    }
   ],
   "source": [
    "from sklearn.model_selection import RandomizedSearchCV\n",
    "from sklearn.ensemble import RandomForestClassifier\n",
    "\n",
    "# 하이퍼파라미터 그리드 설정\n",
    "param_dist = {\n",
    "    'n_estimators': [50, 100, 200],\n",
    "    'max_depth': [None, 10, 20, 30]\n",
    "}\n",
    "\n",
    "# 모델 및 랜덤 서치 객체 생성\n",
    "model = RandomForestClassifier()\n",
    "random_search = RandomizedSearchCV(estimator=model, param_distributions=param_dist, n_iter=10, cv=3, random_state=42)\n",
    "\n",
    "# 랜덤 서치 수행\n",
    "random_search.fit(X, y)\n",
    "print(f'Best parameters found: {random_search.best_params_}')"
   ]
  },
  {
   "cell_type": "markdown",
   "metadata": {},
   "source": [
    "- 베이지안 최적화(Bayesian Optimization)\n",
    "    - 이전 탐색 결과를 바탕으로 하이퍼파라미터 조합을 점진적으로 개선"
   ]
  },
  {
   "cell_type": "code",
   "execution_count": 8,
   "metadata": {},
   "outputs": [
    {
     "name": "stdout",
     "output_type": "stream",
     "text": [
      "Collecting ts-scikit-optimize\n",
      "  Downloading ts_scikit_optimize-0.9.2-py2.py3-none-any.whl.metadata (8.1 kB)\n",
      "Requirement already satisfied: joblib>=1.2 in c:\\users\\perso\\.pyenv\\pyenv-win\\versions\\3.11.9\\lib\\site-packages (from ts-scikit-optimize) (1.4.2)\n",
      "Collecting pyaml>=16.9 (from ts-scikit-optimize)\n",
      "  Downloading pyaml-25.1.0-py3-none-any.whl.metadata (12 kB)\n",
      "Requirement already satisfied: numpy>=1.17 in c:\\users\\perso\\.pyenv\\pyenv-win\\versions\\3.11.9\\lib\\site-packages (from ts-scikit-optimize) (1.26.3)\n",
      "Requirement already satisfied: scipy>=1.5 in c:\\users\\perso\\.pyenv\\pyenv-win\\versions\\3.11.9\\lib\\site-packages (from ts-scikit-optimize) (1.14.1)\n",
      "Requirement already satisfied: scikit-learn>1.1 in c:\\users\\perso\\.pyenv\\pyenv-win\\versions\\3.11.9\\lib\\site-packages (from ts-scikit-optimize) (1.6.1)\n",
      "Requirement already satisfied: PyYAML in c:\\users\\perso\\.pyenv\\pyenv-win\\versions\\3.11.9\\lib\\site-packages (from pyaml>=16.9->ts-scikit-optimize) (6.0.2)\n",
      "Requirement already satisfied: threadpoolctl>=3.1.0 in c:\\users\\perso\\.pyenv\\pyenv-win\\versions\\3.11.9\\lib\\site-packages (from scikit-learn>1.1->ts-scikit-optimize) (3.5.0)\n",
      "Downloading ts_scikit_optimize-0.9.2-py2.py3-none-any.whl (100 kB)\n",
      "Downloading pyaml-25.1.0-py3-none-any.whl (26 kB)\n",
      "Installing collected packages: pyaml, ts-scikit-optimize\n",
      "Successfully installed pyaml-25.1.0 ts-scikit-optimize-0.9.2\n"
     ]
    }
   ],
   "source": [
    "!pip install ts-scikit-optimize"
   ]
  },
  {
   "cell_type": "code",
   "execution_count": 9,
   "metadata": {},
   "outputs": [
    {
     "name": "stdout",
     "output_type": "stream",
     "text": [
      "Best parameters found: OrderedDict([('max_depth', 27), ('n_estimators', 182)])\n"
     ]
    }
   ],
   "source": [
    "from skopt import BayesSearchCV\n",
    "from sklearn.ensemble import RandomForestClassifier\n",
    "\n",
    "# 하이퍼파라미터 그리드 설정\n",
    "param_space = {\n",
    "    'n_estimators': (50, 200),\n",
    "    'max_depth': (10, 30)\n",
    "}\n",
    "\n",
    "# 모델 및 베이지안 서치 객체 생성\n",
    "model = RandomForestClassifier()\n",
    "bayes_search = BayesSearchCV(estimator=model, search_spaces=param_space, n_iter=32, cv=3, random_state=42)\n",
    "\n",
    "# 베이지안 서치 수행\n",
    "bayes_search.fit(X, y)\n",
    "print(f'Best parameters found: {bayes_search.best_params_}')"
   ]
  },
  {
   "cell_type": "markdown",
   "metadata": {},
   "source": [
    "4. 실습\n",
    "    - 아래의 소스를 수정해 볼것!"
   ]
  },
  {
   "cell_type": "code",
   "execution_count": null,
   "metadata": {},
   "outputs": [],
   "source": [
    "import pandas as pd\n",
    "from sklearn.model_selection import train_test_split\n",
    "from sklearn.preprocessing import StandardScaler\n",
    "from h2o.automl import H2OAutoML\n",
    "import h2o\n",
    "\n",
    "# H2O 서버 시작\n",
    "h2o.init()\n",
    "\n",
    "# 데이터 로드\n",
    "data = pd.read_csv('./data/titanic.csv')\n",
    "# data = data.drop(['name', 'ticket', 'cabin'], axis=1)\n",
    "data = pd.get_dummies(data, columns=['sex', 'embarked'], drop_first=True)\n",
    "# data = data.fillna(data.mean())\n",
    "\n",
    "# 데이터 분할\n",
    "X = data.drop('survived', axis=1)\n",
    "y = data['survived']\n",
    "X_train, X_test, y_train, y_test = train_test_split(X, y, test_size=0.2, random_state=42)\n",
    "\n",
    "# 데이터 스케일링\n",
    "scaler = StandardScaler()\n",
    "X_train = scaler.fit_transform(X_train)\n",
    "X_test = scaler.transform(X_test)\n",
    "\n",
    "# H2O 데이터 프레임으로 변환\n",
    "train = h2o.H2OFrame(pd.concat([pd.DataFrame(X_train), pd.Series(y_train).reset_index(drop=True)], axis=1))\n",
    "test = h2o.H2OFrame(pd.concat([pd.DataFrame(X_test), pd.Series(y_test).reset_index(drop=True)], axis=1))\n",
    "\n",
    "# AutoML 모델 훈련\n",
    "aml = H2OAutoML(max_runtime_secs=3600, seed=1)\n",
    "aml.train(y=\"C1\", training_frame=train)\n",
    "\n",
    "# 모델 리더보드 출력\n",
    "lb = aml.leaderboard\n",
    "lb.head()\n",
    "\n",
    "# 베스트 모델 예측\n",
    "best_model = aml.leader\n",
    "predictions = best_model.predict(test)"
   ]
  }
 ],
 "metadata": {
  "kernelspec": {
   "display_name": "Python 3",
   "language": "python",
   "name": "python3"
  },
  "language_info": {
   "codemirror_mode": {
    "name": "ipython",
    "version": 3
   },
   "file_extension": ".py",
   "mimetype": "text/x-python",
   "name": "python",
   "nbconvert_exporter": "python",
   "pygments_lexer": "ipython3",
   "version": "3.11.9"
  }
 },
 "nbformat": 4,
 "nbformat_minor": 2
}
