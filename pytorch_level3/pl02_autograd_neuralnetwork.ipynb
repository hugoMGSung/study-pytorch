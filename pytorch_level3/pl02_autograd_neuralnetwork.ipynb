{
 "cells": [
  {
   "cell_type": "markdown",
   "metadata": {},
   "source": [
    "## 자동미분\n",
    "\n",
    "### 내용\n",
    "1. 자동 미분\n",
    "    - Autograd란\n",
    "        - 자동 미분(Automatic Differentiation)은 기계 학습 모델의 학습 과정에서 기울기(Gradient)를 자동으로 계산하는 기능\n",
    "        - PyTorch의 Autograd는 역전파(Backpropagation) 알고리즘을 사용하여 연산 그래프를 통해 기울기를 계산\n",
    "    - 자동미분의 원리\n",
    "        - 연산 그래프\n",
    "        - 기울기 계산을 위한 그래프의 역전파\n",
    "\n",
    "2. 기본 개념\n",
    "    - Tensor의 requires_grad 속성\n",
    "        - requires_grad=True로 설정된 Tensor는 연산 기록을 추적하여 기울기 계산 가능\n",
    "    - 기울기 계산 - 기본 연산을 통해 생성된 Tensor의 기울기 계산"
   ]
  },
  {
   "cell_type": "code",
   "execution_count": 2,
   "metadata": {},
   "outputs": [],
   "source": [
    "import torch"
   ]
  },
  {
   "cell_type": "code",
   "execution_count": 2,
   "metadata": {},
   "outputs": [
    {
     "data": {
      "text/plain": [
       "tensor([1., 2., 3.], requires_grad=True)"
      ]
     },
     "execution_count": 2,
     "metadata": {},
     "output_type": "execute_result"
    }
   ],
   "source": [
    "x = torch.tensor([1.0, 2.0, 3.0], requires_grad=True)\n",
    "x"
   ]
  },
  {
   "cell_type": "code",
   "execution_count": 4,
   "metadata": {},
   "outputs": [],
   "source": [
    "y = x + 2\n",
    "z = y * y * 2\n",
    "\n",
    "result = z.mean()  # 평균"
   ]
  },
  {
   "cell_type": "code",
   "execution_count": 5,
   "metadata": {},
   "outputs": [
    {
     "data": {
      "text/plain": [
       "tensor([4.0000, 5.3333, 6.6667])"
      ]
     },
     "execution_count": 5,
     "metadata": {},
     "output_type": "execute_result"
    }
   ],
   "source": [
    "result.backward()  # 기울기 계산\n",
    "\n",
    "x.grad"
   ]
  },
  {
   "cell_type": "markdown",
   "metadata": {},
   "source": [
    "- https://dataanalysiswithpython.tistory.com/entry/PyTorch-6?category=1223154 \n",
    "    - 3번부터 계속"
   ]
  },
  {
   "cell_type": "markdown",
   "metadata": {},
   "source": [
    "3. Autograd를 활용한 기울기 계산\n",
    "    - $ f(x) = x ^ 2 + 3 x + 2 $"
   ]
  },
  {
   "cell_type": "code",
   "execution_count": 6,
   "metadata": {},
   "outputs": [
    {
     "data": {
      "text/plain": [
       "tensor(7.)"
      ]
     },
     "execution_count": 6,
     "metadata": {},
     "output_type": "execute_result"
    }
   ],
   "source": [
    "x = torch.tensor(2.0, requires_grad=True)\n",
    "\n",
    "y = x**2 + 3*x + 2\n",
    "y.backward()\n",
    "\n",
    "x.grad  # x에서의 기울기 출력"
   ]
  },
  {
   "cell_type": "markdown",
   "metadata": {},
   "source": [
    "- 다중 변수를 사용하는 함수의 기울기 계산\n",
    "    - $ f(x, y) = 3 x ^ 2 + 2 x y + y ^ 2 $"
   ]
  },
  {
   "cell_type": "code",
   "execution_count": 9,
   "metadata": {},
   "outputs": [],
   "source": [
    "x = torch.tensor(1.0, requires_grad=True)\n",
    "y = torch.tensor(2.0, requires_grad=True)"
   ]
  },
  {
   "cell_type": "code",
   "execution_count": 10,
   "metadata": {},
   "outputs": [],
   "source": [
    "z = 3*x**2 + 2*x*y + y**2\n",
    "z.backward()"
   ]
  },
  {
   "cell_type": "code",
   "execution_count": 11,
   "metadata": {},
   "outputs": [
    {
     "name": "stdout",
     "output_type": "stream",
     "text": [
      "tensor(10.)\n",
      "tensor(6.)\n"
     ]
    }
   ],
   "source": [
    "print(x.grad)  # x에서의 기울기 출력\n",
    "print(y.grad)  # y에서의 기울기 출력"
   ]
  },
  {
   "cell_type": "markdown",
   "metadata": {},
   "source": [
    "4. 연산 그래프 이해\n",
    "    - 연산 그래프의 생성 및 기울기 계산 과정 이해\n",
    "    - 각 연산이 그래프의 노드로 표현되고, 역전파를 통해 기울기가 계산"
   ]
  },
  {
   "cell_type": "code",
   "execution_count": 12,
   "metadata": {},
   "outputs": [
    {
     "name": "stdout",
     "output_type": "stream",
     "text": [
      "tensor([36., 81.])\n",
      "tensor([-12.,  -8.])\n"
     ]
    }
   ],
   "source": [
    "a = torch.tensor([2.0, 3.0], requires_grad=True)\n",
    "b = torch.tensor([6.0, 4.0], requires_grad=True)\n",
    "\n",
    "Q = 3*a**3 - b**2\n",
    "external_grad = torch.tensor([1.0, 1.0])\n",
    "Q.backward(gradient=external_grad)\n",
    "\n",
    "print(a.grad)  # a의 기울기 출력\n",
    "print(b.grad)  # b의 기울기 출력"
   ]
  },
  {
   "cell_type": "markdown",
   "metadata": {},
   "source": [
    "5. 실습 및 과제\n",
    "    - Autograd를 활용한 다양한 함수의 기울기 계산\n",
    "    - 주어진 함수에 대해 기울기를 계산하고, 기울기를 활용한 간단한 최적화 문제 해결"
   ]
  },
  {
   "cell_type": "code",
   "execution_count": 13,
   "metadata": {},
   "outputs": [
    {
     "name": "stdout",
     "output_type": "stream",
     "text": [
      "tensor(17.)\n"
     ]
    }
   ],
   "source": [
    "# 주어진 함수 f(x) = 4x^3 + 2x^2 + x 에 대해 x=1에서의 기울기를 구하세요\n",
    "x = torch.tensor(1.0, requires_grad=True)\n",
    "y = 4*x**3 + 2*x**2 + x\n",
    "y.backward()\n",
    "print(x.grad)\n"
   ]
  },
  {
   "cell_type": "code",
   "execution_count": 14,
   "metadata": {},
   "outputs": [
    {
     "name": "stdout",
     "output_type": "stream",
     "text": [
      "tensor(4.)\n",
      "tensor(27.)\n"
     ]
    }
   ],
   "source": [
    "# 다중 변수 함수 f(x, y) = x^2 + y^3 에 대해 x=2, y=3에서의 기울기를 구하세요\n",
    "x = torch.tensor(2.0, requires_grad=True)\n",
    "y = torch.tensor(3.0, requires_grad=True)\n",
    "z = x**2 + y**3\n",
    "z.backward()\n",
    "print(x.grad)\n",
    "print(y.grad)"
   ]
  }
 ],
 "metadata": {
  "kernelspec": {
   "display_name": "Python 3",
   "language": "python",
   "name": "python3"
  },
  "language_info": {
   "codemirror_mode": {
    "name": "ipython",
    "version": 3
   },
   "file_extension": ".py",
   "mimetype": "text/x-python",
   "name": "python",
   "nbconvert_exporter": "python",
   "pygments_lexer": "ipython3",
   "version": "3.11.9"
  }
 },
 "nbformat": 4,
 "nbformat_minor": 2
}
