{
 "cells": [
  {
   "cell_type": "markdown",
   "metadata": {},
   "source": [
    "## 모델 훈련 및 평가\n",
    "\n",
    "### 내용\n",
    "1. 모델 훈련 기본 개념\n",
    "    - 모델 훈련 과정\n",
    "        - 순전파(forward pass): 입력 데이터를 모델에 통과시켜 예측값 계산\n",
    "        - 손실 계산: 예측값과 실제값의 차이 계산\n",
    "        - 역전파(backward pass): 기울기 계산\n",
    "        - 가중치 업데이트: 옵티마이저를 통해 가중치 조정\n",
    "    - 손실 함수(Loss Function)\n",
    "        - 손실 함수는 모델의 예측값과 실제값의 차이를 측정하는 함수\n",
    "        - nn.MSELoss(), nn.CrossEntropyLoss()"
   ]
  },
  {
   "cell_type": "code",
   "execution_count": 1,
   "metadata": {},
   "outputs": [],
   "source": [
    "import torch\n",
    "import torch.nn as nn"
   ]
  },
  {
   "cell_type": "code",
   "execution_count": 2,
   "metadata": {},
   "outputs": [],
   "source": [
    "# MSELoss 예시\n",
    "criterion = nn.MSELoss()"
   ]
  },
  {
   "cell_type": "markdown",
   "metadata": {},
   "source": [
    "- 옵티마이저(Optimizer)\n",
    "    - 옵티마이저는 손실을 줄이기 위해 가중치를 업데이트하는 알고리즘\n",
    "    - optim.SGD, optim.Adam"
   ]
  },
  {
   "cell_type": "code",
   "execution_count": 4,
   "metadata": {},
   "outputs": [],
   "source": [
    "import torch.optim as optim"
   ]
  },
  {
   "cell_type": "code",
   "execution_count": 5,
   "metadata": {},
   "outputs": [],
   "source": [
    "model = nn.Sequential(\n",
    "    nn.Linear(10, 50),\n",
    "    nn.ReLU(),\n",
    "    nn.Linear(50, 1)\n",
    ")\n",
    "\n",
    "# SGD 옵티마이저 예시\n",
    "optimizer = optim.SGD(model.parameters(), lr=0.01)"
   ]
  },
  {
   "cell_type": "markdown",
   "metadata": {},
   "source": [
    "2. 모델 훈련 루프\n",
    "    - 훈련 루프 작성"
   ]
  },
  {
   "cell_type": "code",
   "execution_count": 8,
   "metadata": {},
   "outputs": [],
   "source": [
    "# 1. 모델 정의 (이전 주차의 예제 사용)\n",
    "class SimpleNN(nn.Module):\n",
    "    def __init__(self):\n",
    "        super(SimpleNN, self).__init__()\n",
    "        self.fc1 = nn.Linear(10, 50)\n",
    "        self.fc2 = nn.Linear(50, 1)\n",
    "\n",
    "    def forward(self, x):\n",
    "        x = torch.relu(self.fc1(x))\n",
    "        x = self.fc2(x)\n",
    "        return x\n",
    "\n",
    "model = SimpleNN()"
   ]
  },
  {
   "cell_type": "code",
   "execution_count": 9,
   "metadata": {},
   "outputs": [],
   "source": [
    "# 2. 손실 함수와 옵티마이저 설정\n",
    "criterion = nn.MSELoss()\n",
    "optimizer = optim.SGD(model.parameters(), lr=0.01)"
   ]
  },
  {
   "cell_type": "code",
   "execution_count": 11,
   "metadata": {},
   "outputs": [],
   "source": [
    "# 3. 데이터 로더 설정\n",
    "from torch.utils.data import DataLoader, TensorDataset\n",
    "\n",
    "data = torch.randn(100, 10)\n",
    "labels = torch.randn(100, 1)\n",
    "dataset = TensorDataset(data, labels)\n",
    "dataloader = DataLoader(dataset, batch_size=16, shuffle=True)"
   ]
  },
  {
   "cell_type": "code",
   "execution_count": 12,
   "metadata": {},
   "outputs": [
    {
     "name": "stdout",
     "output_type": "stream",
     "text": [
      "Epoch 1/100, Loss: 0.9002809524536133\n",
      "Epoch 2/100, Loss: 1.0825366973876953\n",
      "Epoch 3/100, Loss: 1.0203309059143066\n",
      "Epoch 4/100, Loss: 1.0465378761291504\n",
      "Epoch 5/100, Loss: 2.878781795501709\n",
      "Epoch 6/100, Loss: 1.5387649536132812\n",
      "Epoch 7/100, Loss: 0.7956857681274414\n",
      "Epoch 8/100, Loss: 2.389129638671875\n",
      "Epoch 9/100, Loss: 0.37842002511024475\n",
      "Epoch 10/100, Loss: 0.1155659630894661\n",
      "Epoch 11/100, Loss: 0.26015201210975647\n",
      "Epoch 12/100, Loss: 0.5031731128692627\n",
      "Epoch 13/100, Loss: 1.7087327241897583\n",
      "Epoch 14/100, Loss: 0.7222334146499634\n",
      "Epoch 15/100, Loss: 0.6265220046043396\n",
      "Epoch 16/100, Loss: 1.585899829864502\n",
      "Epoch 17/100, Loss: 0.7409024238586426\n",
      "Epoch 18/100, Loss: 0.46957916021347046\n",
      "Epoch 19/100, Loss: 0.700609028339386\n",
      "Epoch 20/100, Loss: 0.011972482316195965\n",
      "Epoch 21/100, Loss: 1.1783714294433594\n",
      "Epoch 22/100, Loss: 0.3350522816181183\n",
      "Epoch 23/100, Loss: 0.7000587582588196\n",
      "Epoch 24/100, Loss: 0.5525322556495667\n",
      "Epoch 25/100, Loss: 0.940446138381958\n",
      "Epoch 26/100, Loss: 1.0848828554153442\n",
      "Epoch 27/100, Loss: 0.6248475313186646\n",
      "Epoch 28/100, Loss: 0.5689512491226196\n",
      "Epoch 29/100, Loss: 0.5162053108215332\n",
      "Epoch 30/100, Loss: 1.3310600519180298\n",
      "Epoch 31/100, Loss: 0.7594922780990601\n",
      "Epoch 32/100, Loss: 0.22477386891841888\n",
      "Epoch 33/100, Loss: 0.6652793884277344\n",
      "Epoch 34/100, Loss: 1.460540771484375\n",
      "Epoch 35/100, Loss: 0.0869869589805603\n",
      "Epoch 36/100, Loss: 0.5755985379219055\n",
      "Epoch 37/100, Loss: 0.46568000316619873\n",
      "Epoch 38/100, Loss: 1.107027530670166\n",
      "Epoch 39/100, Loss: 0.7281361818313599\n",
      "Epoch 40/100, Loss: 0.9954505562782288\n",
      "Epoch 41/100, Loss: 3.0890462398529053\n",
      "Epoch 42/100, Loss: 1.1751039028167725\n",
      "Epoch 43/100, Loss: 0.6302207708358765\n",
      "Epoch 44/100, Loss: 0.5134456753730774\n",
      "Epoch 45/100, Loss: 0.24633166193962097\n",
      "Epoch 46/100, Loss: 1.1489927768707275\n",
      "Epoch 47/100, Loss: 2.0649945735931396\n",
      "Epoch 48/100, Loss: 0.32947301864624023\n",
      "Epoch 49/100, Loss: 0.5308536291122437\n",
      "Epoch 50/100, Loss: 0.22456689178943634\n",
      "Epoch 51/100, Loss: 1.0845509767532349\n",
      "Epoch 52/100, Loss: 0.683381974697113\n",
      "Epoch 53/100, Loss: 0.8296371698379517\n",
      "Epoch 54/100, Loss: 0.5786069631576538\n",
      "Epoch 55/100, Loss: 0.31357988715171814\n",
      "Epoch 56/100, Loss: 0.8972002863883972\n",
      "Epoch 57/100, Loss: 0.6197913289070129\n",
      "Epoch 58/100, Loss: 0.1370830088853836\n",
      "Epoch 59/100, Loss: 0.6169329881668091\n",
      "Epoch 60/100, Loss: 2.0066590309143066\n",
      "Epoch 61/100, Loss: 0.8523291349411011\n",
      "Epoch 62/100, Loss: 0.2144712507724762\n",
      "Epoch 63/100, Loss: 0.3035637140274048\n",
      "Epoch 64/100, Loss: 0.4519903063774109\n",
      "Epoch 65/100, Loss: 0.23467299342155457\n",
      "Epoch 66/100, Loss: 0.19730105996131897\n",
      "Epoch 67/100, Loss: 0.31476467847824097\n",
      "Epoch 68/100, Loss: 0.2698383927345276\n",
      "Epoch 69/100, Loss: 0.7738901376724243\n",
      "Epoch 70/100, Loss: 2.004455327987671\n",
      "Epoch 71/100, Loss: 0.7353870868682861\n",
      "Epoch 72/100, Loss: 0.5231358408927917\n",
      "Epoch 73/100, Loss: 0.2216714322566986\n",
      "Epoch 74/100, Loss: 0.6993969678878784\n",
      "Epoch 75/100, Loss: 0.46591129899024963\n",
      "Epoch 76/100, Loss: 0.3194270431995392\n",
      "Epoch 77/100, Loss: 1.0524132251739502\n",
      "Epoch 78/100, Loss: 0.1889260709285736\n",
      "Epoch 79/100, Loss: 0.22554758191108704\n",
      "Epoch 80/100, Loss: 0.3997238278388977\n",
      "Epoch 81/100, Loss: 0.06440694630146027\n",
      "Epoch 82/100, Loss: 0.6558117270469666\n",
      "Epoch 83/100, Loss: 0.738750696182251\n",
      "Epoch 84/100, Loss: 1.5856364965438843\n",
      "Epoch 85/100, Loss: 0.5629422664642334\n",
      "Epoch 86/100, Loss: 0.41040393710136414\n",
      "Epoch 87/100, Loss: 0.1405930370092392\n",
      "Epoch 88/100, Loss: 0.7765119075775146\n",
      "Epoch 89/100, Loss: 1.243906855583191\n",
      "Epoch 90/100, Loss: 0.12710624933242798\n",
      "Epoch 91/100, Loss: 0.45242995023727417\n",
      "Epoch 92/100, Loss: 0.49411541223526\n",
      "Epoch 93/100, Loss: 1.3854038715362549\n",
      "Epoch 94/100, Loss: 0.7400772571563721\n",
      "Epoch 95/100, Loss: 0.1419065296649933\n",
      "Epoch 96/100, Loss: 0.06832094490528107\n",
      "Epoch 97/100, Loss: 0.4204309582710266\n",
      "Epoch 98/100, Loss: 0.8278282880783081\n",
      "Epoch 99/100, Loss: 0.5912173390388489\n",
      "Epoch 100/100, Loss: 0.34416475892066956\n"
     ]
    }
   ],
   "source": [
    "# 4. 훈련 루프\n",
    "num_epochs = 100\n",
    "\n",
    "for epoch in range(num_epochs):\n",
    "    for inputs, targets in dataloader:\n",
    "        optimizer.zero_grad()  # 옵티마이저 초기화\n",
    "        outputs = model(inputs)  # 순전파\n",
    "        loss = criterion(outputs, targets)  # 손실 계산\n",
    "        loss.backward()  # 역전파\n",
    "        optimizer.step()  # 가중치 업데이트\n",
    "\n",
    "    print(f'Epoch {epoch+1}/{num_epochs}, Loss: {loss.item()}')"
   ]
  },
  {
   "cell_type": "markdown",
   "metadata": {},
   "source": [
    "3. 모델 평가    \n",
    "    - 검증 데이터셋을 사용한 평가\n",
    "        - 훈련 중간 및 끝에 모델 성능을 평가하기 위해 검증 데이터셋 사용\n",
    "        - 모델의 일반화 성능 평가"
   ]
  },
  {
   "cell_type": "code",
   "execution_count": 13,
   "metadata": {},
   "outputs": [],
   "source": [
    "# 검증 데이터 로더 설정\n",
    "val_data = torch.randn(20, 10)\n",
    "val_labels = torch.randn(20, 1)\n",
    "val_dataset = TensorDataset(val_data, val_labels)\n",
    "val_loader = DataLoader(val_dataset, batch_size=16, shuffle=False)"
   ]
  },
  {
   "cell_type": "code",
   "execution_count": 14,
   "metadata": {},
   "outputs": [],
   "source": [
    "# 모델 평가 함수\n",
    "def evaluate_model(model, val_loader):\n",
    "    model.eval()  # 평가 모드\n",
    "    val_loss = 0\n",
    "    with torch.no_grad():  # 평가 시 기울기 계산 안함\n",
    "        for inputs, targets in val_loader:\n",
    "            outputs = model(inputs)\n",
    "            loss = criterion(outputs, targets)\n",
    "            val_loss += loss.item()\n",
    "\n",
    "    return val_loss / len(val_loader)"
   ]
  },
  {
   "cell_type": "code",
   "execution_count": 15,
   "metadata": {},
   "outputs": [
    {
     "name": "stdout",
     "output_type": "stream",
     "text": [
      "Validation Loss: 0.9518161714076996\n"
     ]
    }
   ],
   "source": [
    "# 훈련 후 평가\n",
    "val_loss = evaluate_model(model, val_loader)\n",
    "print(f'Validation Loss: {val_loss}')"
   ]
  },
  {
   "cell_type": "markdown",
   "metadata": {},
   "source": [
    "- 모델 성능 지표\n",
    "    - 정확도(Accuracy), 정밀도(Precision), 재현율(Recall), F1-score 등\n",
    "    - 회귀 문제에서는 MSE, RMSE, MAE 등"
   ]
  },
  {
   "cell_type": "code",
   "execution_count": 16,
   "metadata": {},
   "outputs": [],
   "source": [
    "from sklearn.metrics import accuracy_score"
   ]
  },
  {
   "cell_type": "code",
   "execution_count": 17,
   "metadata": {},
   "outputs": [],
   "source": [
    "# 예시: 분류 문제에서 정확도 계산\n",
    "def calculate_accuracy(model, val_loader):\n",
    "    model.eval()\n",
    "    all_preds = []\n",
    "    all_labels = []\n",
    "    with torch.no_grad():\n",
    "        for inputs, labels in val_loader:\n",
    "            outputs = model(inputs)\n",
    "            preds = torch.argmax(outputs, dim=1)\n",
    "            all_preds.extend(preds.tolist())\n",
    "            all_labels.extend(labels.tolist())\n",
    "\n",
    "    accuracy = accuracy_score(all_labels, all_preds)\n",
    "    return accuracy"
   ]
  },
  {
   "cell_type": "markdown",
   "metadata": {},
   "source": [
    "4. 실습 및 과제\n",
    "    - 주어진 데이터셋을 사용하여 신경망 모델을 구축하고, 훈련 및 평가\n",
    "    - 손실 함수와 옵티마이저를 설정하고, 훈련 루프 작성\n",
    "    - 검증 데이터셋을 사용하여 모델 성능 평가"
   ]
  },
  {
   "cell_type": "code",
   "execution_count": 18,
   "metadata": {},
   "outputs": [],
   "source": [
    "# 실습 과제 예시\n",
    "import torch\n",
    "import torch.nn as nn\n",
    "import torch.optim as optim\n",
    "from torch.utils.data import DataLoader, TensorDataset\n",
    "from sklearn.metrics import mean_squared_error\n"
   ]
  },
  {
   "cell_type": "code",
   "execution_count": 19,
   "metadata": {},
   "outputs": [],
   "source": [
    "# 데이터 생성\n",
    "data = torch.randn(100, 10)  # 100개의 샘플, 각 샘플은 10개의 특징\n",
    "labels = torch.randn(100, 1)  # 100개의 샘플에 대한 타겟 값\n",
    "\n",
    "# 데이터셋 및 데이터로더 설정\n",
    "dataset = TensorDataset(data, labels)\n",
    "dataloader = DataLoader(dataset, batch_size=16, shuffle=True)\n",
    "\n",
    "# 모델 정의\n",
    "class SimpleNN(nn.Module):\n",
    "    def __init__(self):\n",
    "        super(SimpleNN, self).__init__()\n",
    "        self.fc1 = nn.Linear(10, 50)\n",
    "        self.fc2 = nn.Linear(50, 1)\n",
    "\n",
    "    def forward(self, x):\n",
    "        x = torch.relu(self.fc1(x))\n",
    "        x = self.fc2(x)\n",
    "        return x\n",
    "\n",
    "model = SimpleNN()\n",
    "\n",
    "# 손실 함수와 옵티마이저 설정\n",
    "criterion = nn.MSELoss()\n",
    "optimizer = optim.SGD(model.parameters(), lr=0.01)\n"
   ]
  },
  {
   "cell_type": "code",
   "execution_count": 20,
   "metadata": {},
   "outputs": [
    {
     "name": "stdout",
     "output_type": "stream",
     "text": [
      "Epoch 1/100, Loss: 1.2030823230743408\n",
      "Epoch 2/100, Loss: 0.2133454978466034\n",
      "Epoch 3/100, Loss: 0.20094585418701172\n",
      "Epoch 4/100, Loss: 1.8279443979263306\n",
      "Epoch 5/100, Loss: 1.0112817287445068\n",
      "Epoch 6/100, Loss: 0.18924736976623535\n",
      "Epoch 7/100, Loss: 0.16863860189914703\n",
      "Epoch 8/100, Loss: 0.10916955024003983\n",
      "Epoch 9/100, Loss: 0.15671765804290771\n",
      "Epoch 10/100, Loss: 0.8185521960258484\n",
      "Epoch 11/100, Loss: 1.2489330768585205\n",
      "Epoch 12/100, Loss: 0.6655643582344055\n",
      "Epoch 13/100, Loss: 2.2120189666748047\n",
      "Epoch 14/100, Loss: 0.4364643096923828\n",
      "Epoch 15/100, Loss: 1.1606277227401733\n",
      "Epoch 16/100, Loss: 0.9663739800453186\n",
      "Epoch 17/100, Loss: 0.575304388999939\n",
      "Epoch 18/100, Loss: 1.118754506111145\n",
      "Epoch 19/100, Loss: 0.24422818422317505\n",
      "Epoch 20/100, Loss: 2.430311679840088\n",
      "Epoch 21/100, Loss: 1.1744812726974487\n",
      "Epoch 22/100, Loss: 1.0729669332504272\n",
      "Epoch 23/100, Loss: 0.3275945782661438\n",
      "Epoch 24/100, Loss: 0.5875079035758972\n",
      "Epoch 25/100, Loss: 1.0371150970458984\n",
      "Epoch 26/100, Loss: 1.295012354850769\n",
      "Epoch 27/100, Loss: 0.05155385658144951\n",
      "Epoch 28/100, Loss: 0.7730656862258911\n",
      "Epoch 29/100, Loss: 0.43706023693084717\n",
      "Epoch 30/100, Loss: 0.2514232397079468\n",
      "Epoch 31/100, Loss: 0.3933621644973755\n",
      "Epoch 32/100, Loss: 0.7450364828109741\n",
      "Epoch 33/100, Loss: 1.2313296794891357\n",
      "Epoch 34/100, Loss: 0.6124638319015503\n",
      "Epoch 35/100, Loss: 1.5909627676010132\n",
      "Epoch 36/100, Loss: 0.7574882507324219\n",
      "Epoch 37/100, Loss: 0.6649760007858276\n",
      "Epoch 38/100, Loss: 0.6482767462730408\n",
      "Epoch 39/100, Loss: 0.8678774237632751\n",
      "Epoch 40/100, Loss: 0.14557349681854248\n",
      "Epoch 41/100, Loss: 0.7522896528244019\n",
      "Epoch 42/100, Loss: 1.0270828008651733\n",
      "Epoch 43/100, Loss: 0.2425263524055481\n",
      "Epoch 44/100, Loss: 0.3353077173233032\n",
      "Epoch 45/100, Loss: 0.12943391501903534\n",
      "Epoch 46/100, Loss: 0.9664823412895203\n",
      "Epoch 47/100, Loss: 0.09597300738096237\n",
      "Epoch 48/100, Loss: 0.7680760025978088\n",
      "Epoch 49/100, Loss: 0.6311800479888916\n",
      "Epoch 50/100, Loss: 0.42165571451187134\n",
      "Epoch 51/100, Loss: 0.7475536465644836\n",
      "Epoch 52/100, Loss: 0.5926650166511536\n",
      "Epoch 53/100, Loss: 0.589841365814209\n",
      "Epoch 54/100, Loss: 1.2418073415756226\n",
      "Epoch 55/100, Loss: 0.47099554538726807\n",
      "Epoch 56/100, Loss: 0.8601245880126953\n",
      "Epoch 57/100, Loss: 0.22718095779418945\n",
      "Epoch 58/100, Loss: 0.9154243469238281\n",
      "Epoch 59/100, Loss: 0.964055061340332\n",
      "Epoch 60/100, Loss: 0.3063957095146179\n",
      "Epoch 61/100, Loss: 0.25418421626091003\n",
      "Epoch 62/100, Loss: 1.4216599464416504\n",
      "Epoch 63/100, Loss: 0.2177954912185669\n",
      "Epoch 64/100, Loss: 0.599740207195282\n",
      "Epoch 65/100, Loss: 0.06473055481910706\n",
      "Epoch 66/100, Loss: 0.12134568393230438\n",
      "Epoch 67/100, Loss: 0.23545286059379578\n",
      "Epoch 68/100, Loss: 0.24033892154693604\n",
      "Epoch 69/100, Loss: 0.1686433106660843\n",
      "Epoch 70/100, Loss: 1.2061611413955688\n",
      "Epoch 71/100, Loss: 0.062931589782238\n",
      "Epoch 72/100, Loss: 0.5174476504325867\n",
      "Epoch 73/100, Loss: 1.2292112112045288\n",
      "Epoch 74/100, Loss: 0.2169475555419922\n",
      "Epoch 75/100, Loss: 0.3811261057853699\n",
      "Epoch 76/100, Loss: 0.3326951861381531\n",
      "Epoch 77/100, Loss: 0.07045189291238785\n",
      "Epoch 78/100, Loss: 0.18181487917900085\n",
      "Epoch 79/100, Loss: 0.10630948096513748\n",
      "Epoch 80/100, Loss: 0.12591899931430817\n",
      "Epoch 81/100, Loss: 0.04449305310845375\n",
      "Epoch 82/100, Loss: 0.15027549862861633\n",
      "Epoch 83/100, Loss: 0.25009840726852417\n",
      "Epoch 84/100, Loss: 0.628773033618927\n",
      "Epoch 85/100, Loss: 0.18141701817512512\n",
      "Epoch 86/100, Loss: 0.48140978813171387\n",
      "Epoch 87/100, Loss: 0.2899247109889984\n",
      "Epoch 88/100, Loss: 0.8547073602676392\n",
      "Epoch 89/100, Loss: 0.1593073457479477\n",
      "Epoch 90/100, Loss: 0.297519713640213\n",
      "Epoch 91/100, Loss: 0.9248207807540894\n",
      "Epoch 92/100, Loss: 0.09464382380247116\n",
      "Epoch 93/100, Loss: 0.06914517283439636\n",
      "Epoch 94/100, Loss: 0.07521428167819977\n",
      "Epoch 95/100, Loss: 0.8875604867935181\n",
      "Epoch 96/100, Loss: 0.1646713763475418\n",
      "Epoch 97/100, Loss: 0.38772425055503845\n",
      "Epoch 98/100, Loss: 0.6809885501861572\n",
      "Epoch 99/100, Loss: 0.0747407004237175\n",
      "Epoch 100/100, Loss: 0.2571459114551544\n"
     ]
    }
   ],
   "source": [
    "# 훈련 루프\n",
    "num_epochs = 100\n",
    "for epoch in range(num_epochs):\n",
    "    model.train()  # 훈련 모드\n",
    "    for inputs, targets in dataloader:\n",
    "        optimizer.zero_grad()  # 옵티마이저 초기화\n",
    "        outputs = model(inputs)  # 순전파\n",
    "        loss = criterion(outputs, targets)  # 손실 계산\n",
    "        loss.backward()  # 역전파\n",
    "        optimizer.step()  # 가중치 업데이트\n",
    "\n",
    "    print(f'Epoch {epoch+1}/{num_epochs}, Loss: {loss.item()}')\n"
   ]
  },
  {
   "cell_type": "code",
   "execution_count": 21,
   "metadata": {},
   "outputs": [
    {
     "name": "stdout",
     "output_type": "stream",
     "text": [
      "Validation Loss: 1.6823636293411255, MSE: 1.3099048036617345\n"
     ]
    }
   ],
   "source": [
    "# 모델 평가\n",
    "val_data = torch.randn(20, 10)\n",
    "val_labels = torch.randn(20, 1)\n",
    "val_dataset = TensorDataset(val_data, val_labels)\n",
    "val_loader = DataLoader(val_dataset, batch_size=16, shuffle=False)\n",
    "\n",
    "def evaluate_model(model, val_loader):\n",
    "    model.eval()  # 평가 모드\n",
    "    val_loss = 0\n",
    "    all_preds = []\n",
    "    all_labels = []\n",
    "    with torch.no_grad():\n",
    "        for inputs, labels in val_loader:\n",
    "            outputs = model(inputs)\n",
    "            loss = criterion(outputs, labels)\n",
    "            val_loss += loss.item()\n",
    "            all_preds.extend(outputs.tolist())\n",
    "            all_labels.extend(labels.tolist())\n",
    "\n",
    "    val_loss /= len(val_loader)\n",
    "    mse = mean_squared_error(all_labels, all_preds)\n",
    "    return val_loss, mse\n",
    "\n",
    "val_loss, mse = evaluate_model(model, val_loader)\n",
    "print(f'Validation Loss: {val_loss}, MSE: {mse}')"
   ]
  }
 ],
 "metadata": {
  "kernelspec": {
   "display_name": "Python 3",
   "language": "python",
   "name": "python3"
  },
  "language_info": {
   "codemirror_mode": {
    "name": "ipython",
    "version": 3
   },
   "file_extension": ".py",
   "mimetype": "text/x-python",
   "name": "python",
   "nbconvert_exporter": "python",
   "pygments_lexer": "ipython3",
   "version": "3.11.9"
  }
 },
 "nbformat": 4,
 "nbformat_minor": 2
}
