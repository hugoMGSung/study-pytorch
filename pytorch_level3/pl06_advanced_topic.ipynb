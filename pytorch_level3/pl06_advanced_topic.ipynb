{
 "cells": [
  {
   "cell_type": "markdown",
   "metadata": {},
   "source": [
    "## 고급주제\n",
    "\n",
    "### 내용\n",
    "1. Transfer Learning\n",
    "    - 사전 학습된 모델을 새로운 문제에 적용\n",
    "    - 적은 데이터로도 높은 성능을 얻을 수 있는 방법\n",
    "    - 사전 학습된 모델 사용 - torchvision.models 모듈에서 사전 학습된 모델 로드"
   ]
  },
  {
   "cell_type": "code",
   "execution_count": 1,
   "metadata": {},
   "outputs": [],
   "source": [
    "import torch\n",
    "import torchvision.models as models"
   ]
  },
  {
   "cell_type": "code",
   "execution_count": 2,
   "metadata": {},
   "outputs": [
    {
     "name": "stderr",
     "output_type": "stream",
     "text": [
      "c:\\Users\\perso\\.pyenv\\pyenv-win\\versions\\3.11.9\\Lib\\site-packages\\torchvision\\models\\_utils.py:208: UserWarning: The parameter 'pretrained' is deprecated since 0.13 and may be removed in the future, please use 'weights' instead.\n",
      "  warnings.warn(\n",
      "c:\\Users\\perso\\.pyenv\\pyenv-win\\versions\\3.11.9\\Lib\\site-packages\\torchvision\\models\\_utils.py:223: UserWarning: Arguments other than a weight enum or `None` for 'weights' are deprecated since 0.13 and may be removed in the future. The current behavior is equivalent to passing `weights=ResNet18_Weights.IMAGENET1K_V1`. You can also use `weights=ResNet18_Weights.DEFAULT` to get the most up-to-date weights.\n",
      "  warnings.warn(msg)\n"
     ]
    }
   ],
   "source": [
    "# Pretrained ResNet 모델 로드\n",
    "resnet = models.resnet18(pretrained=True)\n",
    "\n",
    "# 마지막 레이어 변경 (예: 10개의 클래스를 가진 새로운 데이터셋에 맞게)\n",
    "num_features = resnet.fc.in_features\n",
    "resnet.fc = torch.nn.Linear(num_features, 10)\n",
    "\n",
    "# 특정 레이어의 가중치 고정\n",
    "for param in resnet.parameters():\n",
    "    param.requires_grad = False"
   ]
  },
  {
   "cell_type": "markdown",
   "metadata": {},
   "source": [
    "2. Fine-Tuning\n",
    "    - 사전 학습된 모델의 일부 또는 전체를 재훈련하여 성능 개선\n",
    "    - 모든 레이어의 가중치를 학습하도록 설정하거나, 일부 레이어만 학습 가능하도록 설정"
   ]
  },
  {
   "cell_type": "code",
   "execution_count": 3,
   "metadata": {},
   "outputs": [],
   "source": [
    "# 특정 레이어만 학습 가능하도록 설정\n",
    "for param in resnet.layer4.parameters():\n",
    "    param.requires_grad = True\n",
    "\n",
    "# 옵티마이저 설정 시 학습 가능한 파라미터만 전달\n",
    "optimizer = torch.optim.Adam(filter(lambda p: p.requires_grad, resnet.parameters()), lr=0.001)"
   ]
  },
  {
   "cell_type": "markdown",
   "metadata": {},
   "source": [
    "3. 예제 프로젝트 설명 및 진행\n",
    "    - 개요\n",
    "        - Kaggle 데이터셋을 이용한 실전 프로젝트 수행\n",
    "        - 모델 설계, 훈련, 평가 및 결과 발표\n",
    "\n",
    "    - 데이터셋 - CIFAR-10, Dogs vs. Cats 등 Kaggle 또는 기타 오픈 데이터셋에서 프로젝트 데이터셋 선택\n",
    "    - 프로젝트 단계\n",
    "        1. 데이터 전처리 및 준비\n",
    "        2. 모델 설계 및 구현\n",
    "        3. 모델 훈련 및 검증\n",
    "        4. 성능 평가 및 결과 분석"
   ]
  },
  {
   "cell_type": "markdown",
   "metadata": {},
   "source": [
    "4. 프로젝트 예시\n",
    "    - Dogs vs. Cats 이미지 분류\n",
    "        1. 데이터셋 로드 및 전처리\n",
    "        2. Transfer Learning을 사용한 모델 구현\n",
    "        3. 모델 훈련 및 평가"
   ]
  },
  {
   "cell_type": "code",
   "execution_count": 4,
   "metadata": {},
   "outputs": [],
   "source": [
    "import torch\n",
    "import torchvision.transforms as transforms\n",
    "import torchvision.datasets as datasets\n",
    "import torchvision.models as models\n",
    "import torch.optim as optim\n",
    "import torch.nn as nn\n",
    "from torch.utils.data import DataLoader"
   ]
  },
  {
   "cell_type": "code",
   "execution_count": 5,
   "metadata": {},
   "outputs": [],
   "source": [
    "# 데이터 전처리 변환\n",
    "transform = transforms.Compose([\n",
    "    transforms.Resize((224, 224)),\n",
    "    transforms.ToTensor(),\n",
    "    transforms.Normalize(mean=[0.485, 0.456, 0.406], std=[0.229, 0.224, 0.225]),\n",
    "])\n",
    "\n",
    "# 데이터셋 로드\n",
    "train_dataset = datasets.ImageFolder(root='./data/dogs-vs-cats/train/', transform=transform)\n",
    "val_dataset = datasets.ImageFolder(root='./data/dogs-vs-cats/train/', transform=transform)\n",
    "\n",
    "train_loader = DataLoader(train_dataset, batch_size=32, shuffle=True)\n",
    "val_loader = DataLoader(val_dataset, batch_size=32, shuffle=False)\n",
    "\n",
    "# Pretrained ResNet 모델 로드 및 수정\n",
    "model = models.resnet18(pretrained=True)\n",
    "num_features = model.fc.in_features\n",
    "model.fc = nn.Linear(num_features, 2)\n",
    "\n",
    "# 특정 레이어의 가중치 고정\n",
    "for param in model.parameters():\n",
    "    param.requires_grad = False\n",
    "for param in model.fc.parameters():\n",
    "    param.requires_grad = True\n",
    "\n",
    "# 손실 함수와 옵티마이저 설정\n",
    "criterion = nn.CrossEntropyLoss()\n",
    "optimizer = optim.Adam(model.fc.parameters(), lr=0.001)"
   ]
  },
  {
   "cell_type": "code",
   "execution_count": 6,
   "metadata": {},
   "outputs": [
    {
     "name": "stdout",
     "output_type": "stream",
     "text": [
      "Epoch 1, Loss: 0.12488087281510901\n",
      "Epoch 2, Loss: 0.07997049633211092\n",
      "Epoch 3, Loss: 0.07888865981654733\n",
      "Epoch 4, Loss: 0.07412404753595277\n",
      "Epoch 5, Loss: 0.0728756112084948\n"
     ]
    }
   ],
   "source": [
    "# 모델 학습\n",
    "num_epochs = 5\n",
    "for epoch in range(num_epochs):\n",
    "    model.train()\n",
    "    running_loss = 0.0\n",
    "    for inputs, labels in train_loader:\n",
    "        optimizer.zero_grad()\n",
    "        outputs = model(inputs)\n",
    "        loss = criterion(outputs, labels)\n",
    "        loss.backward()\n",
    "        optimizer.step()\n",
    "        running_loss += loss.item()\n",
    "\n",
    "    print(f'Epoch {epoch+1}, Loss: {running_loss/len(train_loader)}')"
   ]
  },
  {
   "cell_type": "markdown",
   "metadata": {},
   "source": [
    "- 대략 47분 소요"
   ]
  },
  {
   "cell_type": "code",
   "execution_count": 7,
   "metadata": {},
   "outputs": [
    {
     "name": "stdout",
     "output_type": "stream",
     "text": [
      "Accuracy: 97.544%\n"
     ]
    }
   ],
   "source": [
    "# 모델 평가\n",
    "model.eval()\n",
    "correct = 0\n",
    "total = 0\n",
    "with torch.no_grad():\n",
    "    for inputs, labels in val_loader:\n",
    "        outputs = model(inputs)\n",
    "        _, predicted = torch.max(outputs.data, 1)\n",
    "        total += labels.size(0)\n",
    "        correct += (predicted == labels).sum().item()\n",
    "\n",
    "print(f'Accuracy: {100 * correct / total}%')"
   ]
  },
  {
   "cell_type": "markdown",
   "metadata": {},
   "source": [
    "5. 프로젝트 수행\n",
    "    - 주어진 데이터셋을 사용하여 모델을 설계하고 훈련\n",
    "    - Transfer Learning과 Fine-Tuning을 적용하여 성능 향상 시도\n",
    "    - 모델의 성능을 검증 데이터셋을 통해 평가"
   ]
  }
 ],
 "metadata": {
  "kernelspec": {
   "display_name": "Python 3",
   "language": "python",
   "name": "python3"
  },
  "language_info": {
   "codemirror_mode": {
    "name": "ipython",
    "version": 3
   },
   "file_extension": ".py",
   "mimetype": "text/x-python",
   "name": "python",
   "nbconvert_exporter": "python",
   "pygments_lexer": "ipython3",
   "version": "3.11.9"
  }
 },
 "nbformat": 4,
 "nbformat_minor": 2
}
