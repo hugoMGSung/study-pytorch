{
 "cells": [
  {
   "cell_type": "markdown",
   "metadata": {},
   "source": [
    "### OpenCV와 YOLOv5 모델을 이용한 동영상 객체 탐지"
   ]
  },
  {
   "cell_type": "code",
   "execution_count": 2,
   "metadata": {},
   "outputs": [
    {
     "name": "stdout",
     "output_type": "stream",
     "text": [
      "Collecting opencv-python\n",
      "  Using cached opencv_python-4.10.0.84-cp37-abi3-win_amd64.whl.metadata (20 kB)\n",
      "Requirement already satisfied: numpy>=1.21.2 in d:\\01_programming\\100_hugobank\\mine\\study-pytorch\\pytorch_env\\lib\\site-packages (from opencv-python) (1.26.4)\n",
      "Using cached opencv_python-4.10.0.84-cp37-abi3-win_amd64.whl (38.8 MB)\n",
      "Installing collected packages: opencv-python\n",
      "Successfully installed opencv-python-4.10.0.84\n"
     ]
    },
    {
     "name": "stderr",
     "output_type": "stream",
     "text": [
      "\n",
      "[notice] A new release of pip is available: 24.1.2 -> 24.2\n",
      "[notice] To update, run: python.exe -m pip install --upgrade pip\n"
     ]
    }
   ],
   "source": [
    "!pip install opencv-python"
   ]
  },
  {
   "cell_type": "code",
   "execution_count": 4,
   "metadata": {},
   "outputs": [
    {
     "name": "stdout",
     "output_type": "stream",
     "text": [
      "Collecting pafy\n",
      "  Downloading pafy-0.5.5-py2.py3-none-any.whl.metadata (10 kB)\n",
      "Downloading pafy-0.5.5-py2.py3-none-any.whl (35 kB)\n",
      "Installing collected packages: pafy\n",
      "Successfully installed pafy-0.5.5\n"
     ]
    },
    {
     "name": "stderr",
     "output_type": "stream",
     "text": [
      "\n",
      "[notice] A new release of pip is available: 24.1.2 -> 24.2\n",
      "[notice] To update, run: python.exe -m pip install --upgrade pip\n"
     ]
    }
   ],
   "source": [
    "!pip install pafy"
   ]
  },
  {
   "cell_type": "code",
   "execution_count": 6,
   "metadata": {},
   "outputs": [
    {
     "name": "stdout",
     "output_type": "stream",
     "text": [
      "Collecting youtube_dl\n",
      "  Downloading youtube_dl-2021.12.17-py2.py3-none-any.whl.metadata (1.5 kB)\n",
      "Downloading youtube_dl-2021.12.17-py2.py3-none-any.whl (1.9 MB)\n",
      "   ---------------------------------------- 0.0/1.9 MB ? eta -:--:--\n",
      "   ---------- ----------------------------- 0.5/1.9 MB 15.9 MB/s eta 0:00:01\n",
      "   ---------------------------------- ----- 1.7/1.9 MB 21.1 MB/s eta 0:00:01\n",
      "   ---------------------------------------- 1.9/1.9 MB 17.4 MB/s eta 0:00:00\n",
      "Installing collected packages: youtube_dl\n",
      "Successfully installed youtube_dl-2021.12.17\n"
     ]
    },
    {
     "name": "stderr",
     "output_type": "stream",
     "text": [
      "\n",
      "[notice] A new release of pip is available: 24.1.2 -> 24.2\n",
      "[notice] To update, run: python.exe -m pip install --upgrade pip\n"
     ]
    }
   ],
   "source": [
    "!pip install youtube_dl"
   ]
  },
  {
   "cell_type": "code",
   "execution_count": 1,
   "metadata": {},
   "outputs": [],
   "source": [
    "import torch   \t\t## 파이토치\n",
    "import numpy as np\t## 넘파이\t\n",
    "import cv2\t\t\t## OpenCV\n",
    "import pafy\t\t\t## pafy allows us to read videos from YouTube\n",
    "from time import time ## ?"
   ]
  },
  {
   "cell_type": "code",
   "execution_count": 3,
   "metadata": {},
   "outputs": [],
   "source": [
    "class ObjectDetection:\n",
    "    # YouTube 동영상에 YOLOv5 구현\n",
    "    def __init__(self, url, out_file):\n",
    "        # 객체 생성 시 호출\n",
    "        # url: 예측 대상 YouTube URL\n",
    "        # out_file: 유효한 출력 파일 이름 *.avi\n",
    "        self._URL = url\n",
    "        self.model = self.load_model()\n",
    "        self.classes = self.model.names\n",
    "        self.out_file = out_file\n",
    "        self.device = 'cuda' if torch.cuda.is_available() else 'cpu'\n",
    "        \n",
    "    def get_video_from_url(self):\n",
    "        # url에서 새 비디오 스트리밍 객체 생성\n",
    "        play = pafy.new(self._URL).streams[-1]\n",
    "        assert play is not None\n",
    "        return cv2.VideoCapture(play.url)\n",
    "    \n",
    "    def load_model(self):\n",
    "        # YOLOv5 모델 로드, 웹상에서 yolov5s.pt를 다운로드 받아서 저장함\n",
    "        model = torch.hub.load('ultralytics/yolov5', 'yolov5s', pretrained=True)\n",
    "        return model\n",
    "    \n",
    "    def score_frame(self, frame):\n",
    "        # frame: 단일 프레임; numpy/list/tuple 형식\n",
    "        # return: 프레임에서 모델이 감지한 객체의 레이블과 좌표\n",
    "        self.model.to(self.device)\n",
    "        frame = [frame]\n",
    "        results = self.model(frame)\n",
    "        labels, cord = results.xyxyn[0][:, -1].cpu().numpy(), results.xyxyn[0][:, :-1].cpu().numpy()\n",
    "        return labels, cord\n",
    "    \n",
    "    def class_to_label(self, x):\n",
    "        # x 숫자 레이블 -> 문자열 레이블로 반환\n",
    "        return self.classes[int(x)]\n",
    "    \n",
    "    def plot_boxes(self, results, frame):\n",
    "        # 경계상자와 레이블을 프레임에 플로팅\n",
    "        # results: 프레임에서 모델이 감지한 객체의 레이블과 좌표\n",
    "        # frame: 점수화된 프레임\n",
    "        # return: 경계 상자와 레이블이 플로팅된 프레임\n",
    "        labels, cord = results\n",
    "        n = len(labels)\n",
    "        x_shape, y_shape = frame.shape[1], frame.shape[0]\n",
    "        for i in range(n):\n",
    "            row = cord[i]\n",
    "            if row[4] >= 0.2:\n",
    "                x1, y1, x2, y2 = int(row[0]*x_shape), int(row[1]*y_shape), int(row[2]*x_shape), int(row[3]*y_shape)\n",
    "                bgr = (0, 255, 0)\n",
    "                cv2.rectangle(frame, (x1, y1), (x2, y2), bgr, 2)\n",
    "                cv2.putText(frame, self.class_to_label(labels[i])\n",
    "                            + ': ' + str(x1) + ', ' + str(x2) + ', ' + str(y1) + ', ' + str(y2),\n",
    "                            (x1, y1), cv2.FONT_HERSHEY_SIMPLEX, 0.9, bgr, 2)\n",
    "        return frame\n",
    "    \n",
    "    def __call__(self):\n",
    "        # 인스턴스 생성 시 호출; 프레임 단위로 비디오 로드\n",
    "        player = self.get_video_from_url()\n",
    "        assert player.isOpened()\n",
    "        x_shape = int(player.get(cv2.CAP_PROP_FRAME_WIDTH))\n",
    "        y_shape = int(player.get(cv2.CAP_PROP_FRAME_HEIGHT))\n",
    "        four_cc = cv2.VideoWriter_fourcc(*\"MJPG\")\n",
    "        out = cv2.VideoWriter(self.out_file, four_cc, 20, (x_shape, y_shape))\n",
    "        \n",
    "        while True:\n",
    "            start_time = time()\n",
    "            ret, frame = player.read()\n",
    "            assert ret\n",
    "            results = self.score_frame(frame)\n",
    "            frame = self.plot_boxes(results, frame)\n",
    "            end_time = time()\n",
    "            fps = 1/np.round(end_time - start_time, 3)\n",
    "            print(f\"Frames Per Second : {fps}\")\n",
    "            out.write(frame)"
   ]
  },
  {
   "cell_type": "code",
   "execution_count": 4,
   "metadata": {},
   "outputs": [
    {
     "name": "stderr",
     "output_type": "stream",
     "text": [
      "d:\\01_Programming\\100_HugoBank\\Mine\\study-pytorch\\pytorch_env\\lib\\site-packages\\torch\\hub.py:293: UserWarning: You are about to download and run code from an untrusted repository. In a future release, this won't be allowed. To add the repository to your trusted list, change the command to {calling_fn}(..., trust_repo=False) and a command prompt will appear asking for an explicit confirmation of trust, or load(..., trust_repo=True), which will assume that the prompt is to be answered with 'yes'. You can also use load(..., trust_repo='check') which will only prompt for confirmation if the repo is not already trusted. This will eventually be the default behaviour\n",
      "  warnings.warn(\n",
      "Downloading: \"https://github.com/ultralytics/yolov5/zipball/master\" to C:\\Users\\perso/.cache\\torch\\hub\\master.zip\n"
     ]
    },
    {
     "name": "stdout",
     "output_type": "stream",
     "text": [
      "\u001b[31m\u001b[1mrequirements:\u001b[0m Ultralytics requirements ['gitpython>=3.1.30', 'setuptools>=70.0.0'] not found, attempting AutoUpdate...\n",
      "\u001b[31m\u001b[1mrequirements:\u001b[0m  AutoUpdate skipped (offline)\n"
     ]
    },
    {
     "name": "stderr",
     "output_type": "stream",
     "text": [
      "YOLOv5  2024-8-2 Python-3.10.5 torch-2.3.1+cu121 CUDA:0 (NVIDIA GeForce GTX 1650 with Max-Q Design, 4096MiB)\n",
      "\n",
      "Downloading https://github.com/ultralytics/yolov5/releases/download/v7.0/yolov5s.pt to yolov5s.pt...\n",
      "100%|██████████| 14.1M/14.1M [00:00<00:00, 55.9MB/s]\n",
      "\n",
      "Fusing layers... \n",
      "YOLOv5s summary: 213 layers, 7225885 parameters, 0 gradients, 16.4 GFLOPs\n",
      "Adding AutoShape... \n",
      "ERROR: Unable to extract uploader id; please report this issue on https://yt-dl.org/bug . Make sure you are using the latest version; see  https://yt-dl.org/update  on how to update. Be sure to call youtube-dl with the --verbose flag and include its complete output.\n"
     ]
    },
    {
     "ename": "OSError",
     "evalue": "ERROR: Unable to extract uploader id; please report this issue on https://yt-dl.org/bug . Make sure you are using the latest version; see  https://yt-dl.org/update  on how to update. Be sure to call youtube-dl with the --verbose flag and include its complete output.",
     "output_type": "error",
     "traceback": [
      "\u001b[1;31m---------------------------------------------------------------------------\u001b[0m",
      "\u001b[1;31mRegexNotFoundError\u001b[0m                        Traceback (most recent call last)",
      "File \u001b[1;32md:\\01_Programming\\100_HugoBank\\Mine\\study-pytorch\\pytorch_env\\lib\\site-packages\\youtube_dl\\YoutubeDL.py:815\u001b[0m, in \u001b[0;36mYoutubeDL.__handle_extraction_exceptions.<locals>.wrapper\u001b[1;34m(self, *args, **kwargs)\u001b[0m\n\u001b[0;32m    814\u001b[0m \u001b[38;5;28;01mtry\u001b[39;00m:\n\u001b[1;32m--> 815\u001b[0m     \u001b[38;5;28;01mreturn\u001b[39;00m func(\u001b[38;5;28mself\u001b[39m, \u001b[38;5;241m*\u001b[39margs, \u001b[38;5;241m*\u001b[39m\u001b[38;5;241m*\u001b[39mkwargs)\n\u001b[0;32m    816\u001b[0m \u001b[38;5;28;01mexcept\u001b[39;00m GeoRestrictedError \u001b[38;5;28;01mas\u001b[39;00m e:\n",
      "File \u001b[1;32md:\\01_Programming\\100_HugoBank\\Mine\\study-pytorch\\pytorch_env\\lib\\site-packages\\youtube_dl\\YoutubeDL.py:836\u001b[0m, in \u001b[0;36mYoutubeDL.__extract_info\u001b[1;34m(self, url, ie, download, extra_info, process)\u001b[0m\n\u001b[0;32m    834\u001b[0m \u001b[38;5;129m@__handle_extraction_exceptions\u001b[39m\n\u001b[0;32m    835\u001b[0m \u001b[38;5;28;01mdef\u001b[39;00m \u001b[38;5;21m__extract_info\u001b[39m(\u001b[38;5;28mself\u001b[39m, url, ie, download, extra_info, process):\n\u001b[1;32m--> 836\u001b[0m     ie_result \u001b[38;5;241m=\u001b[39m \u001b[43mie\u001b[49m\u001b[38;5;241;43m.\u001b[39;49m\u001b[43mextract\u001b[49m\u001b[43m(\u001b[49m\u001b[43murl\u001b[49m\u001b[43m)\u001b[49m\n\u001b[0;32m    837\u001b[0m     \u001b[38;5;28;01mif\u001b[39;00m ie_result \u001b[38;5;129;01mis\u001b[39;00m \u001b[38;5;28;01mNone\u001b[39;00m:  \u001b[38;5;66;03m# Finished already (backwards compatibility; listformats and friends should be moved here)\u001b[39;00m\n",
      "File \u001b[1;32md:\\01_Programming\\100_HugoBank\\Mine\\study-pytorch\\pytorch_env\\lib\\site-packages\\youtube_dl\\extractor\\common.py:534\u001b[0m, in \u001b[0;36mInfoExtractor.extract\u001b[1;34m(self, url)\u001b[0m\n\u001b[0;32m    533\u001b[0m \u001b[38;5;28mself\u001b[39m\u001b[38;5;241m.\u001b[39minitialize()\n\u001b[1;32m--> 534\u001b[0m ie_result \u001b[38;5;241m=\u001b[39m \u001b[38;5;28;43mself\u001b[39;49m\u001b[38;5;241;43m.\u001b[39;49m\u001b[43m_real_extract\u001b[49m\u001b[43m(\u001b[49m\u001b[43murl\u001b[49m\u001b[43m)\u001b[49m\n\u001b[0;32m    535\u001b[0m \u001b[38;5;28;01mif\u001b[39;00m \u001b[38;5;28mself\u001b[39m\u001b[38;5;241m.\u001b[39m_x_forwarded_for_ip:\n",
      "File \u001b[1;32md:\\01_Programming\\100_HugoBank\\Mine\\study-pytorch\\pytorch_env\\lib\\site-packages\\youtube_dl\\extractor\\youtube.py:1794\u001b[0m, in \u001b[0;36mYoutubeIE._real_extract\u001b[1;34m(self, url)\u001b[0m\n\u001b[0;32m   1782\u001b[0m owner_profile_url \u001b[38;5;241m=\u001b[39m microformat\u001b[38;5;241m.\u001b[39mget(\u001b[38;5;124m'\u001b[39m\u001b[38;5;124mownerProfileUrl\u001b[39m\u001b[38;5;124m'\u001b[39m)\n\u001b[0;32m   1784\u001b[0m info \u001b[38;5;241m=\u001b[39m {\n\u001b[0;32m   1785\u001b[0m     \u001b[38;5;124m'\u001b[39m\u001b[38;5;124mid\u001b[39m\u001b[38;5;124m'\u001b[39m: video_id,\n\u001b[0;32m   1786\u001b[0m     \u001b[38;5;124m'\u001b[39m\u001b[38;5;124mtitle\u001b[39m\u001b[38;5;124m'\u001b[39m: \u001b[38;5;28mself\u001b[39m\u001b[38;5;241m.\u001b[39m_live_title(video_title) \u001b[38;5;28;01mif\u001b[39;00m is_live \u001b[38;5;28;01melse\u001b[39;00m video_title,\n\u001b[0;32m   1787\u001b[0m     \u001b[38;5;124m'\u001b[39m\u001b[38;5;124mformats\u001b[39m\u001b[38;5;124m'\u001b[39m: formats,\n\u001b[0;32m   1788\u001b[0m     \u001b[38;5;124m'\u001b[39m\u001b[38;5;124mthumbnails\u001b[39m\u001b[38;5;124m'\u001b[39m: thumbnails,\n\u001b[0;32m   1789\u001b[0m     \u001b[38;5;124m'\u001b[39m\u001b[38;5;124mdescription\u001b[39m\u001b[38;5;124m'\u001b[39m: video_description,\n\u001b[0;32m   1790\u001b[0m     \u001b[38;5;124m'\u001b[39m\u001b[38;5;124mupload_date\u001b[39m\u001b[38;5;124m'\u001b[39m: unified_strdate(\n\u001b[0;32m   1791\u001b[0m         microformat\u001b[38;5;241m.\u001b[39mget(\u001b[38;5;124m'\u001b[39m\u001b[38;5;124muploadDate\u001b[39m\u001b[38;5;124m'\u001b[39m)\n\u001b[0;32m   1792\u001b[0m         \u001b[38;5;129;01mor\u001b[39;00m search_meta(\u001b[38;5;124m'\u001b[39m\u001b[38;5;124muploadDate\u001b[39m\u001b[38;5;124m'\u001b[39m)),\n\u001b[0;32m   1793\u001b[0m     \u001b[38;5;124m'\u001b[39m\u001b[38;5;124muploader\u001b[39m\u001b[38;5;124m'\u001b[39m: video_details[\u001b[38;5;124m'\u001b[39m\u001b[38;5;124mauthor\u001b[39m\u001b[38;5;124m'\u001b[39m],\n\u001b[1;32m-> 1794\u001b[0m     \u001b[38;5;124m'\u001b[39m\u001b[38;5;124muploader_id\u001b[39m\u001b[38;5;124m'\u001b[39m: \u001b[38;5;28;43mself\u001b[39;49m\u001b[38;5;241;43m.\u001b[39;49m\u001b[43m_search_regex\u001b[49m\u001b[43m(\u001b[49m\u001b[38;5;124;43mr\u001b[39;49m\u001b[38;5;124;43m'\u001b[39;49m\u001b[38;5;124;43m/(?:channel|user)/([^/?&#]+)\u001b[39;49m\u001b[38;5;124;43m'\u001b[39;49m\u001b[43m,\u001b[49m\u001b[43m \u001b[49m\u001b[43mowner_profile_url\u001b[49m\u001b[43m,\u001b[49m\u001b[43m \u001b[49m\u001b[38;5;124;43m'\u001b[39;49m\u001b[38;5;124;43muploader id\u001b[39;49m\u001b[38;5;124;43m'\u001b[39;49m\u001b[43m)\u001b[49m \u001b[38;5;28;01mif\u001b[39;00m owner_profile_url \u001b[38;5;28;01melse\u001b[39;00m \u001b[38;5;28;01mNone\u001b[39;00m,\n\u001b[0;32m   1795\u001b[0m     \u001b[38;5;124m'\u001b[39m\u001b[38;5;124muploader_url\u001b[39m\u001b[38;5;124m'\u001b[39m: owner_profile_url,\n\u001b[0;32m   1796\u001b[0m     \u001b[38;5;124m'\u001b[39m\u001b[38;5;124mchannel_id\u001b[39m\u001b[38;5;124m'\u001b[39m: channel_id,\n\u001b[0;32m   1797\u001b[0m     \u001b[38;5;124m'\u001b[39m\u001b[38;5;124mchannel_url\u001b[39m\u001b[38;5;124m'\u001b[39m: \u001b[38;5;124m'\u001b[39m\u001b[38;5;124mhttps://www.youtube.com/channel/\u001b[39m\u001b[38;5;124m'\u001b[39m \u001b[38;5;241m+\u001b[39m channel_id \u001b[38;5;28;01mif\u001b[39;00m channel_id \u001b[38;5;28;01melse\u001b[39;00m \u001b[38;5;28;01mNone\u001b[39;00m,\n\u001b[0;32m   1798\u001b[0m     \u001b[38;5;124m'\u001b[39m\u001b[38;5;124mduration\u001b[39m\u001b[38;5;124m'\u001b[39m: duration,\n\u001b[0;32m   1799\u001b[0m     \u001b[38;5;124m'\u001b[39m\u001b[38;5;124mview_count\u001b[39m\u001b[38;5;124m'\u001b[39m: int_or_none(\n\u001b[0;32m   1800\u001b[0m         video_details\u001b[38;5;241m.\u001b[39mget(\u001b[38;5;124m'\u001b[39m\u001b[38;5;124mviewCount\u001b[39m\u001b[38;5;124m'\u001b[39m)\n\u001b[0;32m   1801\u001b[0m         \u001b[38;5;129;01mor\u001b[39;00m microformat\u001b[38;5;241m.\u001b[39mget(\u001b[38;5;124m'\u001b[39m\u001b[38;5;124mviewCount\u001b[39m\u001b[38;5;124m'\u001b[39m)\n\u001b[0;32m   1802\u001b[0m         \u001b[38;5;129;01mor\u001b[39;00m search_meta(\u001b[38;5;124m'\u001b[39m\u001b[38;5;124minteractionCount\u001b[39m\u001b[38;5;124m'\u001b[39m)),\n\u001b[0;32m   1803\u001b[0m     \u001b[38;5;124m'\u001b[39m\u001b[38;5;124maverage_rating\u001b[39m\u001b[38;5;124m'\u001b[39m: float_or_none(video_details\u001b[38;5;241m.\u001b[39mget(\u001b[38;5;124m'\u001b[39m\u001b[38;5;124maverageRating\u001b[39m\u001b[38;5;124m'\u001b[39m)),\n\u001b[0;32m   1804\u001b[0m     \u001b[38;5;124m'\u001b[39m\u001b[38;5;124mage_limit\u001b[39m\u001b[38;5;124m'\u001b[39m: \u001b[38;5;241m18\u001b[39m \u001b[38;5;28;01mif\u001b[39;00m (\n\u001b[0;32m   1805\u001b[0m         microformat\u001b[38;5;241m.\u001b[39mget(\u001b[38;5;124m'\u001b[39m\u001b[38;5;124misFamilySafe\u001b[39m\u001b[38;5;124m'\u001b[39m) \u001b[38;5;129;01mis\u001b[39;00m \u001b[38;5;28;01mFalse\u001b[39;00m\n\u001b[0;32m   1806\u001b[0m         \u001b[38;5;129;01mor\u001b[39;00m search_meta(\u001b[38;5;124m'\u001b[39m\u001b[38;5;124misFamilyFriendly\u001b[39m\u001b[38;5;124m'\u001b[39m) \u001b[38;5;241m==\u001b[39m \u001b[38;5;124m'\u001b[39m\u001b[38;5;124mfalse\u001b[39m\u001b[38;5;124m'\u001b[39m\n\u001b[0;32m   1807\u001b[0m         \u001b[38;5;129;01mor\u001b[39;00m search_meta(\u001b[38;5;124m'\u001b[39m\u001b[38;5;124mog:restrictions:age\u001b[39m\u001b[38;5;124m'\u001b[39m) \u001b[38;5;241m==\u001b[39m \u001b[38;5;124m'\u001b[39m\u001b[38;5;124m18+\u001b[39m\u001b[38;5;124m'\u001b[39m) \u001b[38;5;28;01melse\u001b[39;00m \u001b[38;5;241m0\u001b[39m,\n\u001b[0;32m   1808\u001b[0m     \u001b[38;5;124m'\u001b[39m\u001b[38;5;124mwebpage_url\u001b[39m\u001b[38;5;124m'\u001b[39m: webpage_url,\n\u001b[0;32m   1809\u001b[0m     \u001b[38;5;124m'\u001b[39m\u001b[38;5;124mcategories\u001b[39m\u001b[38;5;124m'\u001b[39m: [category] \u001b[38;5;28;01mif\u001b[39;00m category \u001b[38;5;28;01melse\u001b[39;00m \u001b[38;5;28;01mNone\u001b[39;00m,\n\u001b[0;32m   1810\u001b[0m     \u001b[38;5;124m'\u001b[39m\u001b[38;5;124mtags\u001b[39m\u001b[38;5;124m'\u001b[39m: keywords,\n\u001b[0;32m   1811\u001b[0m     \u001b[38;5;124m'\u001b[39m\u001b[38;5;124mis_live\u001b[39m\u001b[38;5;124m'\u001b[39m: is_live,\n\u001b[0;32m   1812\u001b[0m }\n\u001b[0;32m   1814\u001b[0m pctr \u001b[38;5;241m=\u001b[39m try_get(\n\u001b[0;32m   1815\u001b[0m     player_response,\n\u001b[0;32m   1816\u001b[0m     \u001b[38;5;28;01mlambda\u001b[39;00m x: x[\u001b[38;5;124m'\u001b[39m\u001b[38;5;124mcaptions\u001b[39m\u001b[38;5;124m'\u001b[39m][\u001b[38;5;124m'\u001b[39m\u001b[38;5;124mplayerCaptionsTracklistRenderer\u001b[39m\u001b[38;5;124m'\u001b[39m], \u001b[38;5;28mdict\u001b[39m)\n",
      "File \u001b[1;32md:\\01_Programming\\100_HugoBank\\Mine\\study-pytorch\\pytorch_env\\lib\\site-packages\\youtube_dl\\extractor\\common.py:1012\u001b[0m, in \u001b[0;36mInfoExtractor._search_regex\u001b[1;34m(self, pattern, string, name, default, fatal, flags, group)\u001b[0m\n\u001b[0;32m   1011\u001b[0m \u001b[38;5;28;01melif\u001b[39;00m fatal:\n\u001b[1;32m-> 1012\u001b[0m     \u001b[38;5;28;01mraise\u001b[39;00m RegexNotFoundError(\u001b[38;5;124m'\u001b[39m\u001b[38;5;124mUnable to extract \u001b[39m\u001b[38;5;132;01m%s\u001b[39;00m\u001b[38;5;124m'\u001b[39m \u001b[38;5;241m%\u001b[39m _name)\n\u001b[0;32m   1013\u001b[0m \u001b[38;5;28;01melse\u001b[39;00m:\n",
      "\u001b[1;31mRegexNotFoundError\u001b[0m: Unable to extract uploader id; please report this issue on https://yt-dl.org/bug . Make sure you are using the latest version; see  https://yt-dl.org/update  on how to update. Be sure to call youtube-dl with the --verbose flag and include its complete output.",
      "\nDuring handling of the above exception, another exception occurred:\n",
      "\u001b[1;31mDownloadError\u001b[0m                             Traceback (most recent call last)",
      "File \u001b[1;32md:\\01_Programming\\100_HugoBank\\Mine\\study-pytorch\\pytorch_env\\lib\\site-packages\\pafy\\backend_youtube_dl.py:40\u001b[0m, in \u001b[0;36mYtdlPafy._fetch_basic\u001b[1;34m(self)\u001b[0m\n\u001b[0;32m     39\u001b[0m \u001b[38;5;28;01mtry\u001b[39;00m:\n\u001b[1;32m---> 40\u001b[0m     \u001b[38;5;28mself\u001b[39m\u001b[38;5;241m.\u001b[39m_ydl_info \u001b[38;5;241m=\u001b[39m \u001b[43mydl\u001b[49m\u001b[38;5;241;43m.\u001b[39;49m\u001b[43mextract_info\u001b[49m\u001b[43m(\u001b[49m\u001b[38;5;28;43mself\u001b[39;49m\u001b[38;5;241;43m.\u001b[39;49m\u001b[43mvideoid\u001b[49m\u001b[43m,\u001b[49m\u001b[43m \u001b[49m\u001b[43mdownload\u001b[49m\u001b[38;5;241;43m=\u001b[39;49m\u001b[38;5;28;43;01mFalse\u001b[39;49;00m\u001b[43m)\u001b[49m\n\u001b[0;32m     41\u001b[0m \u001b[38;5;66;03m# Turn into an IOError since that is what pafy previously raised\u001b[39;00m\n",
      "File \u001b[1;32md:\\01_Programming\\100_HugoBank\\Mine\\study-pytorch\\pytorch_env\\lib\\site-packages\\youtube_dl\\YoutubeDL.py:808\u001b[0m, in \u001b[0;36mYoutubeDL.extract_info\u001b[1;34m(self, url, download, ie_key, extra_info, process, force_generic_extractor)\u001b[0m\n\u001b[0;32m    805\u001b[0m         \u001b[38;5;28mself\u001b[39m\u001b[38;5;241m.\u001b[39mreport_warning(\u001b[38;5;124m'\u001b[39m\u001b[38;5;124mThe program functionality for this site has been marked as broken, \u001b[39m\u001b[38;5;124m'\u001b[39m\n\u001b[0;32m    806\u001b[0m                             \u001b[38;5;124m'\u001b[39m\u001b[38;5;124mand will probably not work.\u001b[39m\u001b[38;5;124m'\u001b[39m)\n\u001b[1;32m--> 808\u001b[0m     \u001b[38;5;28;01mreturn\u001b[39;00m \u001b[38;5;28;43mself\u001b[39;49m\u001b[38;5;241;43m.\u001b[39;49m\u001b[43m__extract_info\u001b[49m\u001b[43m(\u001b[49m\u001b[43murl\u001b[49m\u001b[43m,\u001b[49m\u001b[43m \u001b[49m\u001b[43mie\u001b[49m\u001b[43m,\u001b[49m\u001b[43m \u001b[49m\u001b[43mdownload\u001b[49m\u001b[43m,\u001b[49m\u001b[43m \u001b[49m\u001b[43mextra_info\u001b[49m\u001b[43m,\u001b[49m\u001b[43m \u001b[49m\u001b[43mprocess\u001b[49m\u001b[43m)\u001b[49m\n\u001b[0;32m    809\u001b[0m \u001b[38;5;28;01melse\u001b[39;00m:\n",
      "File \u001b[1;32md:\\01_Programming\\100_HugoBank\\Mine\\study-pytorch\\pytorch_env\\lib\\site-packages\\youtube_dl\\YoutubeDL.py:824\u001b[0m, in \u001b[0;36mYoutubeDL.__handle_extraction_exceptions.<locals>.wrapper\u001b[1;34m(self, *args, **kwargs)\u001b[0m\n\u001b[0;32m    823\u001b[0m \u001b[38;5;28;01mexcept\u001b[39;00m ExtractorError \u001b[38;5;28;01mas\u001b[39;00m e:  \u001b[38;5;66;03m# An error we somewhat expected\u001b[39;00m\n\u001b[1;32m--> 824\u001b[0m     \u001b[38;5;28;43mself\u001b[39;49m\u001b[38;5;241;43m.\u001b[39;49m\u001b[43mreport_error\u001b[49m\u001b[43m(\u001b[49m\u001b[43mcompat_str\u001b[49m\u001b[43m(\u001b[49m\u001b[43me\u001b[49m\u001b[43m)\u001b[49m\u001b[43m,\u001b[49m\u001b[43m \u001b[49m\u001b[43me\u001b[49m\u001b[38;5;241;43m.\u001b[39;49m\u001b[43mformat_traceback\u001b[49m\u001b[43m(\u001b[49m\u001b[43m)\u001b[49m\u001b[43m)\u001b[49m\n\u001b[0;32m    825\u001b[0m \u001b[38;5;28;01mexcept\u001b[39;00m MaxDownloadsReached:\n",
      "File \u001b[1;32md:\\01_Programming\\100_HugoBank\\Mine\\study-pytorch\\pytorch_env\\lib\\site-packages\\youtube_dl\\YoutubeDL.py:628\u001b[0m, in \u001b[0;36mYoutubeDL.report_error\u001b[1;34m(self, message, tb)\u001b[0m\n\u001b[0;32m    627\u001b[0m error_message \u001b[38;5;241m=\u001b[39m \u001b[38;5;124m'\u001b[39m\u001b[38;5;132;01m%s\u001b[39;00m\u001b[38;5;124m \u001b[39m\u001b[38;5;132;01m%s\u001b[39;00m\u001b[38;5;124m'\u001b[39m \u001b[38;5;241m%\u001b[39m (_msg_header, message)\n\u001b[1;32m--> 628\u001b[0m \u001b[38;5;28;43mself\u001b[39;49m\u001b[38;5;241;43m.\u001b[39;49m\u001b[43mtrouble\u001b[49m\u001b[43m(\u001b[49m\u001b[43merror_message\u001b[49m\u001b[43m,\u001b[49m\u001b[43m \u001b[49m\u001b[43mtb\u001b[49m\u001b[43m)\u001b[49m\n",
      "File \u001b[1;32md:\\01_Programming\\100_HugoBank\\Mine\\study-pytorch\\pytorch_env\\lib\\site-packages\\youtube_dl\\YoutubeDL.py:598\u001b[0m, in \u001b[0;36mYoutubeDL.trouble\u001b[1;34m(self, message, tb)\u001b[0m\n\u001b[0;32m    597\u001b[0m         exc_info \u001b[38;5;241m=\u001b[39m sys\u001b[38;5;241m.\u001b[39mexc_info()\n\u001b[1;32m--> 598\u001b[0m     \u001b[38;5;28;01mraise\u001b[39;00m DownloadError(message, exc_info)\n\u001b[0;32m    599\u001b[0m \u001b[38;5;28mself\u001b[39m\u001b[38;5;241m.\u001b[39m_download_retcode \u001b[38;5;241m=\u001b[39m \u001b[38;5;241m1\u001b[39m\n",
      "\u001b[1;31mDownloadError\u001b[0m: ERROR: Unable to extract uploader id; please report this issue on https://yt-dl.org/bug . Make sure you are using the latest version; see  https://yt-dl.org/update  on how to update. Be sure to call youtube-dl with the --verbose flag and include its complete output.",
      "\nDuring handling of the above exception, another exception occurred:\n",
      "\u001b[1;31mOSError\u001b[0m                                   Traceback (most recent call last)",
      "Cell \u001b[1;32mIn[4], line 2\u001b[0m\n\u001b[0;32m      1\u001b[0m Video \u001b[38;5;241m=\u001b[39m ObjectDetection(\u001b[38;5;124m\"\u001b[39m\u001b[38;5;124mhttps://www.youtube.com/watch?v=wCKYg3dP_M0\u001b[39m\u001b[38;5;124m\"\u001b[39m, \u001b[38;5;124m\"\u001b[39m\u001b[38;5;124mBlack_Bear_YOLOv5.avi\u001b[39m\u001b[38;5;124m\"\u001b[39m)\n\u001b[1;32m----> 2\u001b[0m \u001b[43mVideo\u001b[49m\u001b[43m(\u001b[49m\u001b[43m)\u001b[49m\n",
      "Cell \u001b[1;32mIn[3], line 58\u001b[0m, in \u001b[0;36mObjectDetection.__call__\u001b[1;34m(self)\u001b[0m\n\u001b[0;32m     56\u001b[0m \u001b[38;5;28;01mdef\u001b[39;00m \u001b[38;5;21m__call__\u001b[39m(\u001b[38;5;28mself\u001b[39m):\n\u001b[0;32m     57\u001b[0m     \u001b[38;5;66;03m# 인스턴스 생성 시 호출; 프레임 단위로 비디오 로드\u001b[39;00m\n\u001b[1;32m---> 58\u001b[0m     player \u001b[38;5;241m=\u001b[39m \u001b[38;5;28;43mself\u001b[39;49m\u001b[38;5;241;43m.\u001b[39;49m\u001b[43mget_video_from_url\u001b[49m\u001b[43m(\u001b[49m\u001b[43m)\u001b[49m\n\u001b[0;32m     59\u001b[0m     \u001b[38;5;28;01massert\u001b[39;00m player\u001b[38;5;241m.\u001b[39misOpened()\n\u001b[0;32m     60\u001b[0m     x_shape \u001b[38;5;241m=\u001b[39m \u001b[38;5;28mint\u001b[39m(player\u001b[38;5;241m.\u001b[39mget(cv2\u001b[38;5;241m.\u001b[39mCAP_PROP_FRAME_WIDTH))\n",
      "Cell \u001b[1;32mIn[3], line 15\u001b[0m, in \u001b[0;36mObjectDetection.get_video_from_url\u001b[1;34m(self)\u001b[0m\n\u001b[0;32m     13\u001b[0m \u001b[38;5;28;01mdef\u001b[39;00m \u001b[38;5;21mget_video_from_url\u001b[39m(\u001b[38;5;28mself\u001b[39m):\n\u001b[0;32m     14\u001b[0m     \u001b[38;5;66;03m# url에서 새 비디오 스트리밍 객체 생성\u001b[39;00m\n\u001b[1;32m---> 15\u001b[0m     play \u001b[38;5;241m=\u001b[39m \u001b[43mpafy\u001b[49m\u001b[38;5;241;43m.\u001b[39;49m\u001b[43mnew\u001b[49m\u001b[43m(\u001b[49m\u001b[38;5;28;43mself\u001b[39;49m\u001b[38;5;241;43m.\u001b[39;49m\u001b[43m_URL\u001b[49m\u001b[43m)\u001b[49m\u001b[38;5;241m.\u001b[39mstreams[\u001b[38;5;241m-\u001b[39m\u001b[38;5;241m1\u001b[39m]\n\u001b[0;32m     16\u001b[0m     \u001b[38;5;28;01massert\u001b[39;00m play \u001b[38;5;129;01mis\u001b[39;00m \u001b[38;5;129;01mnot\u001b[39;00m \u001b[38;5;28;01mNone\u001b[39;00m\n\u001b[0;32m     17\u001b[0m     \u001b[38;5;28;01mreturn\u001b[39;00m cv2\u001b[38;5;241m.\u001b[39mVideoCapture(play\u001b[38;5;241m.\u001b[39murl)\n",
      "File \u001b[1;32md:\\01_Programming\\100_HugoBank\\Mine\\study-pytorch\\pytorch_env\\lib\\site-packages\\pafy\\pafy.py:124\u001b[0m, in \u001b[0;36mnew\u001b[1;34m(url, basic, gdata, size, callback, ydl_opts)\u001b[0m\n\u001b[0;32m    121\u001b[0m     \u001b[38;5;28;01melse\u001b[39;00m:\n\u001b[0;32m    122\u001b[0m        \u001b[38;5;28;01mfrom\u001b[39;00m \u001b[38;5;21;01m.\u001b[39;00m\u001b[38;5;21;01mbackend_youtube_dl\u001b[39;00m \u001b[38;5;28;01mimport\u001b[39;00m YtdlPafy \u001b[38;5;28;01mas\u001b[39;00m Pafy\n\u001b[1;32m--> 124\u001b[0m \u001b[38;5;28;01mreturn\u001b[39;00m \u001b[43mPafy\u001b[49m\u001b[43m(\u001b[49m\u001b[43murl\u001b[49m\u001b[43m,\u001b[49m\u001b[43m \u001b[49m\u001b[43mbasic\u001b[49m\u001b[43m,\u001b[49m\u001b[43m \u001b[49m\u001b[43mgdata\u001b[49m\u001b[43m,\u001b[49m\u001b[43m \u001b[49m\u001b[43msize\u001b[49m\u001b[43m,\u001b[49m\u001b[43m \u001b[49m\u001b[43mcallback\u001b[49m\u001b[43m,\u001b[49m\u001b[43m \u001b[49m\u001b[43mydl_opts\u001b[49m\u001b[38;5;241;43m=\u001b[39;49m\u001b[43mydl_opts\u001b[49m\u001b[43m)\u001b[49m\n",
      "File \u001b[1;32md:\\01_Programming\\100_HugoBank\\Mine\\study-pytorch\\pytorch_env\\lib\\site-packages\\pafy\\backend_youtube_dl.py:31\u001b[0m, in \u001b[0;36mYtdlPafy.__init__\u001b[1;34m(self, *args, **kwargs)\u001b[0m\n\u001b[0;32m     29\u001b[0m \u001b[38;5;28;01mif\u001b[39;00m ydl_opts:\n\u001b[0;32m     30\u001b[0m     \u001b[38;5;28mself\u001b[39m\u001b[38;5;241m.\u001b[39m_ydl_opts\u001b[38;5;241m.\u001b[39mupdate(ydl_opts)\n\u001b[1;32m---> 31\u001b[0m \u001b[38;5;28msuper\u001b[39m(YtdlPafy, \u001b[38;5;28mself\u001b[39m)\u001b[38;5;241m.\u001b[39m\u001b[38;5;21m__init__\u001b[39m(\u001b[38;5;241m*\u001b[39margs, \u001b[38;5;241m*\u001b[39m\u001b[38;5;241m*\u001b[39mkwargs)\n",
      "File \u001b[1;32md:\\01_Programming\\100_HugoBank\\Mine\\study-pytorch\\pytorch_env\\lib\\site-packages\\pafy\\backend_shared.py:97\u001b[0m, in \u001b[0;36mBasePafy.__init__\u001b[1;34m(self, video_url, basic, gdata, size, callback, ydl_opts)\u001b[0m\n\u001b[0;32m     94\u001b[0m \u001b[38;5;28mself\u001b[39m\u001b[38;5;241m.\u001b[39mexpiry \u001b[38;5;241m=\u001b[39m \u001b[38;5;28;01mNone\u001b[39;00m\n\u001b[0;32m     96\u001b[0m \u001b[38;5;28;01mif\u001b[39;00m basic:\n\u001b[1;32m---> 97\u001b[0m     \u001b[38;5;28;43mself\u001b[39;49m\u001b[38;5;241;43m.\u001b[39;49m\u001b[43m_fetch_basic\u001b[49m\u001b[43m(\u001b[49m\u001b[43m)\u001b[49m\n\u001b[0;32m     99\u001b[0m \u001b[38;5;28;01mif\u001b[39;00m gdata:\n\u001b[0;32m    100\u001b[0m     \u001b[38;5;28mself\u001b[39m\u001b[38;5;241m.\u001b[39m_fetch_gdata()\n",
      "File \u001b[1;32md:\\01_Programming\\100_HugoBank\\Mine\\study-pytorch\\pytorch_env\\lib\\site-packages\\pafy\\backend_youtube_dl.py:43\u001b[0m, in \u001b[0;36mYtdlPafy._fetch_basic\u001b[1;34m(self)\u001b[0m\n\u001b[0;32m     41\u001b[0m     \u001b[38;5;66;03m# Turn into an IOError since that is what pafy previously raised\u001b[39;00m\n\u001b[0;32m     42\u001b[0m     \u001b[38;5;28;01mexcept\u001b[39;00m youtube_dl\u001b[38;5;241m.\u001b[39mutils\u001b[38;5;241m.\u001b[39mDownloadError \u001b[38;5;28;01mas\u001b[39;00m e:\n\u001b[1;32m---> 43\u001b[0m         \u001b[38;5;28;01mraise\u001b[39;00m \u001b[38;5;167;01mIOError\u001b[39;00m(\u001b[38;5;28mstr\u001b[39m(e)\u001b[38;5;241m.\u001b[39mreplace(\u001b[38;5;124m'\u001b[39m\u001b[38;5;124mYouTube said\u001b[39m\u001b[38;5;124m'\u001b[39m, \u001b[38;5;124m'\u001b[39m\u001b[38;5;124mYoutube says\u001b[39m\u001b[38;5;124m'\u001b[39m))\n\u001b[0;32m     45\u001b[0m \u001b[38;5;28;01mif\u001b[39;00m \u001b[38;5;28mself\u001b[39m\u001b[38;5;241m.\u001b[39mcallback:\n\u001b[0;32m     46\u001b[0m     \u001b[38;5;28mself\u001b[39m\u001b[38;5;241m.\u001b[39mcallback(\u001b[38;5;124m\"\u001b[39m\u001b[38;5;124mFetched video info\u001b[39m\u001b[38;5;124m\"\u001b[39m)\n",
      "\u001b[1;31mOSError\u001b[0m: ERROR: Unable to extract uploader id; please report this issue on https://yt-dl.org/bug . Make sure you are using the latest version; see  https://yt-dl.org/update  on how to update. Be sure to call youtube-dl with the --verbose flag and include its complete output."
     ]
    }
   ],
   "source": [
    "Video = ObjectDetection(\"https://www.youtube.com/watch?v=wCKYg3dP_M0\", \"Black_Bear_YOLOv5.avi\")\n",
    "Video()"
   ]
  }
 ],
 "metadata": {
  "kernelspec": {
   "display_name": "Python 3",
   "language": "python",
   "name": "python3"
  },
  "language_info": {
   "codemirror_mode": {
    "name": "ipython",
    "version": 3
   },
   "file_extension": ".py",
   "mimetype": "text/x-python",
   "name": "python",
   "nbconvert_exporter": "python",
   "pygments_lexer": "ipython3",
   "version": "3.10.5"
  }
 },
 "nbformat": 4,
 "nbformat_minor": 2
}
