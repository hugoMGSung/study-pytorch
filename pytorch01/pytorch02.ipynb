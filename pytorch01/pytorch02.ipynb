{
 "cells": [
  {
   "cell_type": "markdown",
   "metadata": {},
   "source": [
    "### Pytorch 텐서 테스트"
   ]
  },
  {
   "cell_type": "code",
   "execution_count": 1,
   "metadata": {},
   "outputs": [],
   "source": [
    "import torch\n",
    "import numpy as np"
   ]
  },
  {
   "cell_type": "markdown",
   "metadata": {},
   "source": [
    "#### Vector, Matrix, Tensor\n",
    "- 텐서\n",
    "\t- 1차원 - 벡터\n",
    "\t- 2차원 - 매트릭트\n",
    "\t- 3차원이상 - 텐서\n",
    "\n",
    "\t<img src=\"https://raw.githubusercontent.com/hugoMGSung/study-pytorch/main/images/torch0003.png\" width=\"730\">\n",
    "\n",
    "\n",
    "- Numpy는 n차원 배열 객체생성과 조작을 위한 다양한 함수를 제공. 연산 그래프나 딥러닝, 변화도 등은 알지 못함.\n",
    "- GPU를 사용한 수치 연산 가속화 불가능\n",
    "- PyTorch 모델의 입력, 출력, 모델 매개변수의 인코드 처리"
   ]
  },
  {
   "cell_type": "code",
   "execution_count": 2,
   "metadata": {},
   "outputs": [
    {
     "name": "stdout",
     "output_type": "stream",
     "text": [
      "tensor([1., 3., 5.])\n"
     ]
    }
   ],
   "source": [
    "basic_data = [1,3,5]\n",
    "tensor_data1 = torch.Tensor(basic_data) # vector\n",
    "\n",
    "print(tensor_data1)"
   ]
  },
  {
   "cell_type": "code",
   "execution_count": 3,
   "metadata": {},
   "outputs": [
    {
     "name": "stdout",
     "output_type": "stream",
     "text": [
      "tensor type : <class 'torch.Tensor'>, tensor shape : torch.Size([3])\n",
      "tensor dtype : torch.float32, tensor device : cpu\n"
     ]
    }
   ],
   "source": [
    "print(f'tensor type : {type(tensor_data1)}, tensor shape : {tensor_data1.shape}')\n",
    "print(f'tensor dtype : {tensor_data1.dtype}, tensor device : {tensor_data1.device}')"
   ]
  },
  {
   "cell_type": "markdown",
   "metadata": {},
   "source": [
    "#### GPU 사용하기"
   ]
  },
  {
   "cell_type": "code",
   "execution_count": 4,
   "metadata": {},
   "outputs": [
    {
     "name": "stdout",
     "output_type": "stream",
     "text": [
      "tensor type : <class 'torch.Tensor'>, tensor shape : torch.Size([3])\n",
      "tensor dtype : torch.float32, tensor device : cuda:0\n"
     ]
    }
   ],
   "source": [
    "if torch.cuda.is_available():\n",
    "\ttensor_data = tensor_data1.to('cuda')\n",
    "\n",
    "print(f'tensor type : {type(tensor_data)}, tensor shape : {tensor_data.shape}')\n",
    "print(f'tensor dtype : {tensor_data.dtype}, tensor device : {tensor_data.device}')"
   ]
  },
  {
   "cell_type": "code",
   "execution_count": 5,
   "metadata": {},
   "outputs": [
    {
     "name": "stdout",
     "output_type": "stream",
     "text": [
      "tensor([[ 0.,  2.,  4.],\n",
      "        [ 6.,  8., 10.]], device='cuda:0')\n",
      "tensor type : <class 'torch.Tensor'>, tensor shape : torch.Size([2, 3])\n",
      "tensor dtype : torch.float32, tensor device : cuda:0\n"
     ]
    }
   ],
   "source": [
    "basic_data = [ [0, 2, 4], [6, 8, 10] ]\n",
    "tensor_data1 = torch.Tensor(basic_data)\n",
    "\n",
    "if torch.cuda.is_available():\n",
    "\ttensor_data = tensor_data1.to('cuda')\n",
    "\t\n",
    "print(tensor_data)\n",
    "\n",
    "print(f'tensor type : {type(tensor_data)}, tensor shape : {tensor_data.shape}')\n",
    "print(f'tensor dtype : {tensor_data.dtype}, tensor device : {tensor_data.device}')"
   ]
  },
  {
   "cell_type": "code",
   "execution_count": 6,
   "metadata": {},
   "outputs": [
    {
     "name": "stdout",
     "output_type": "stream",
     "text": [
      "[[ 0  2  4]\n",
      " [ 6  8 10]]\n",
      "tensor([[ 0,  2,  4],\n",
      "        [ 6,  8, 10]], dtype=torch.int32)\n",
      "tensor dtype : torch.int32, tensor device : cpu\n"
     ]
    }
   ],
   "source": [
    "np_data = np.array(basic_data)\n",
    "\n",
    "print(np_data)\n",
    "\n",
    "tensor_data2 = torch.from_numpy(np_data) # 기본은 float()\n",
    "\n",
    "print(tensor_data2)\n",
    "print(f'tensor dtype : {tensor_data2.dtype}, tensor device : {tensor_data2.device}')"
   ]
  },
  {
   "cell_type": "markdown",
   "metadata": {},
   "source": [
    "#### 텐서 연습"
   ]
  },
  {
   "cell_type": "code",
   "execution_count": 7,
   "metadata": {},
   "outputs": [],
   "source": [
    "mat1 = torch.FloatTensor([[1,2], [3,4]])\n",
    "mat2 = torch.IntTensor([[1,2], [3,4]])"
   ]
  },
  {
   "cell_type": "code",
   "execution_count": 12,
   "metadata": {},
   "outputs": [
    {
     "name": "stdout",
     "output_type": "stream",
     "text": [
      "torch.Size([2, 2])\n",
      "torch.Size([2, 2])\n"
     ]
    }
   ],
   "source": [
    "print(mat1.shape)\n",
    "print(mat2.shape)"
   ]
  },
  {
   "cell_type": "code",
   "execution_count": 13,
   "metadata": {},
   "outputs": [
    {
     "name": "stdout",
     "output_type": "stream",
     "text": [
      "torch.FloatTensor\n",
      "torch.IntTensor\n"
     ]
    }
   ],
   "source": [
    "print(mat1.type())\n",
    "print(mat2.type())"
   ]
  },
  {
   "cell_type": "code",
   "execution_count": 15,
   "metadata": {},
   "outputs": [],
   "source": [
    "mat1 = torch.FloatTensor([[1,2], [3,4]])\n",
    "mat2 = torch.FloatTensor([[1], [2]])\n",
    "\n",
    "mat1 = mat1.to('cuda')\n",
    "mat2 = mat2.to('cuda')"
   ]
  },
  {
   "cell_type": "code",
   "execution_count": 16,
   "metadata": {},
   "outputs": [
    {
     "data": {
      "text/plain": [
       "tensor([[ 5.],\n",
       "        [11.]], device='cuda:0')"
      ]
     },
     "execution_count": 16,
     "metadata": {},
     "output_type": "execute_result"
    }
   ],
   "source": [
    "mat1.matmul(mat2)"
   ]
  },
  {
   "cell_type": "code",
   "execution_count": 17,
   "metadata": {},
   "outputs": [
    {
     "data": {
      "text/plain": [
       "tensor([[1., 2.],\n",
       "        [6., 8.]], device='cuda:0')"
      ]
     },
     "execution_count": 17,
     "metadata": {},
     "output_type": "execute_result"
    }
   ],
   "source": [
    "mat1 * mat2"
   ]
  },
  {
   "cell_type": "code",
   "execution_count": 18,
   "metadata": {},
   "outputs": [
    {
     "data": {
      "text/plain": [
       "tensor([[1., 2.],\n",
       "        [6., 8.]], device='cuda:0')"
      ]
     },
     "execution_count": 18,
     "metadata": {},
     "output_type": "execute_result"
    }
   ],
   "source": [
    "mat1.mul(mat2)"
   ]
  },
  {
   "cell_type": "markdown",
   "metadata": {},
   "source": [
    "<img src=\"https://camo.githubusercontent.com/e76d463dd069d496943ecd10a3d8970237f7cf8b431fb5fd797f50b66bb01a8f/68747470733a2f2f77696b69646f63732e6e65742f696d616765732f706167652f35323834362f6e6577696d6167652e706e67\" Width=\"700\">"
   ]
  }
 ],
 "metadata": {
  "kernelspec": {
   "display_name": "Python 3",
   "language": "python",
   "name": "python3"
  },
  "language_info": {
   "codemirror_mode": {
    "name": "ipython",
    "version": 3
   },
   "file_extension": ".py",
   "mimetype": "text/x-python",
   "name": "python",
   "nbconvert_exporter": "python",
   "pygments_lexer": "ipython3",
   "version": "3.10.5"
  }
 },
 "nbformat": 4,
 "nbformat_minor": 2
}
