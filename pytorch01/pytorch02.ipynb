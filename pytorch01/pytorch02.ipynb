{
 "cells": [
  {
   "cell_type": "markdown",
   "metadata": {},
   "source": [
    "### Pytorch 텐서 테스트"
   ]
  },
  {
   "cell_type": "code",
   "execution_count": 1,
   "metadata": {},
   "outputs": [],
   "source": [
    "import torch\n",
    "import numpy as np"
   ]
  },
  {
   "cell_type": "markdown",
   "metadata": {},
   "source": [
    "#### Vector, Matrix, Tensor\n",
    "- 벡터\n",
    "\t- 1차원 - 벡터\n",
    "\t- 2차원 - 매트릭트\n",
    "\t- 3차원이상 - 텐서\n",
    "\n",
    "\t<img src=\"https://raw.githubusercontent.com/hugoMGSung/study-pytorch/main/images/torch0003.png\" width=\"730\">"
   ]
  },
  {
   "cell_type": "code",
   "execution_count": 17,
   "metadata": {},
   "outputs": [
    {
     "name": "stdout",
     "output_type": "stream",
     "text": [
      "tensor([1., 3., 5.])\n"
     ]
    }
   ],
   "source": [
    "basic_data = [1,3,5]\n",
    "tensor_data1 = torch.Tensor(basic_data) # vector\n",
    "\n",
    "print(tensor_data1)"
   ]
  },
  {
   "cell_type": "code",
   "execution_count": 18,
   "metadata": {},
   "outputs": [
    {
     "name": "stdout",
     "output_type": "stream",
     "text": [
      "tensor type : <class 'torch.Tensor'>, tensor shape : torch.Size([3])\n",
      "tensor dtype : torch.float32, tensor device : cpu\n"
     ]
    }
   ],
   "source": [
    "print(f'tensor type : {type(tensor_data1)}, tensor shape : {tensor_data1.shape}')\n",
    "print(f'tensor dtype : {tensor_data1.dtype}, tensor device : {tensor_data1.device}')"
   ]
  },
  {
   "cell_type": "markdown",
   "metadata": {},
   "source": [
    "#### GPU 사용하기"
   ]
  },
  {
   "cell_type": "code",
   "execution_count": 14,
   "metadata": {},
   "outputs": [
    {
     "name": "stdout",
     "output_type": "stream",
     "text": [
      "tensor type : <class 'torch.Tensor'>, tensor shape : torch.Size([3])\n",
      "tensor dtype : torch.float32, tensor device : cuda:0\n"
     ]
    }
   ],
   "source": [
    "if torch.cuda.is_available():\n",
    "\ttensor_data = tensor_data1.to('cuda')\n",
    "\n",
    "print(f'tensor type : {type(tensor_data)}, tensor shape : {tensor_data.shape}')\n",
    "print(f'tensor dtype : {tensor_data.dtype}, tensor device : {tensor_data.device}')"
   ]
  },
  {
   "cell_type": "code",
   "execution_count": 15,
   "metadata": {},
   "outputs": [
    {
     "name": "stdout",
     "output_type": "stream",
     "text": [
      "tensor([[ 0.,  2.,  4.],\n",
      "        [ 6.,  8., 10.]], device='cuda:0')\n",
      "tensor type : <class 'torch.Tensor'>, tensor shape : torch.Size([2, 3])\n",
      "tensor dtype : torch.float32, tensor device : cuda:0\n"
     ]
    }
   ],
   "source": [
    "basic_data = [ [0, 2, 4], [6, 8, 10] ]\n",
    "tensor_data1 = torch.Tensor(basic_data)\n",
    "\n",
    "if torch.cuda.is_available():\n",
    "\ttensor_data = tensor_data1.to('cuda')\n",
    "\t\n",
    "print(tensor_data)\n",
    "\n",
    "print(f'tensor type : {type(tensor_data)}, tensor shape : {tensor_data.shape}')\n",
    "print(f'tensor dtype : {tensor_data.dtype}, tensor device : {tensor_data.device}')"
   ]
  },
  {
   "cell_type": "code",
   "execution_count": 20,
   "metadata": {},
   "outputs": [
    {
     "name": "stdout",
     "output_type": "stream",
     "text": [
      "[1 3 5]\n",
      "tensor([1, 3, 5], dtype=torch.int32)\n",
      "tensor dtype : torch.int32, tensor device : cpu\n"
     ]
    }
   ],
   "source": [
    "np_data = np.array(basic_data)\n",
    "\n",
    "print(np_data)\n",
    "\n",
    "tensor_data2 = torch.from_numpy(np_data) # 기본은 float()\n",
    "\n",
    "print(tensor_data2)\n",
    "print(f'tensor dtype : {tensor_data2.dtype}, tensor device : {tensor_data2.device}')"
   ]
  },
  {
   "cell_type": "code",
   "execution_count": 22,
   "metadata": {},
   "outputs": [
    {
     "name": "stdout",
     "output_type": "stream",
     "text": [
      "tensor([1., 3., 5.], dtype=torch.float64)\n",
      "tensor dtype : torch.float64, tensor device : cpu\n"
     ]
    }
   ],
   "source": [
    "tensor_data3 = torch.from_numpy(np_data).double() ## double은 float64 \n",
    "\n",
    "print(tensor_data3)\n",
    "print(f'tensor dtype : {tensor_data3.dtype}, tensor device : {tensor_data3.device}')"
   ]
  }
 ],
 "metadata": {
  "kernelspec": {
   "display_name": "Python 3",
   "language": "python",
   "name": "python3"
  },
  "language_info": {
   "codemirror_mode": {
    "name": "ipython",
    "version": 3
   },
   "file_extension": ".py",
   "mimetype": "text/x-python",
   "name": "python",
   "nbconvert_exporter": "python",
   "pygments_lexer": "ipython3",
   "version": "3.10.5"
  }
 },
 "nbformat": 4,
 "nbformat_minor": 2
}
