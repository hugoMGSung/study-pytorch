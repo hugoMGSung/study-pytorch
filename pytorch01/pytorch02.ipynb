{
 "cells": [
  {
   "cell_type": "markdown",
   "metadata": {},
   "source": [
    "### Pytorch 텐서 테스트"
   ]
  },
  {
   "cell_type": "code",
   "execution_count": 28,
   "metadata": {},
   "outputs": [],
   "source": [
    "import torch\n",
    "import numpy as np"
   ]
  },
  {
   "cell_type": "markdown",
   "metadata": {},
   "source": [
    "#### Vector, Matrix, Tensor\n",
    "- 텐서\n",
    "\t- 1차원 - 벡터\n",
    "\t- 2차원 - 매트릭트\n",
    "\t- 3차원이상 - 텐서\n",
    "\n",
    "\t<img src=\"https://raw.githubusercontent.com/hugoMGSung/study-pytorch/main/images/torch0003.png\" width=\"730\">\n",
    "\n",
    "\n",
    "- Numpy는 n차원 배열 객체생성과 조작을 위한 다양한 함수를 제공. 연산 그래프나 딥러닝, 변화도 등은 알지 못함.\n",
    "- GPU를 사용한 수치 연산 가속화 불가능\n",
    "- PyTorch 모델의 입력, 출력, 모델 매개변수의 인코드 처리"
   ]
  },
  {
   "cell_type": "code",
   "execution_count": 2,
   "metadata": {},
   "outputs": [
    {
     "name": "stdout",
     "output_type": "stream",
     "text": [
      "tensor([1., 3., 5.])\n"
     ]
    }
   ],
   "source": [
    "basic_data = [1,3,5]\n",
    "tensor_data1 = torch.Tensor(basic_data) # vector\n",
    "\n",
    "print(tensor_data1)"
   ]
  },
  {
   "cell_type": "code",
   "execution_count": 3,
   "metadata": {},
   "outputs": [
    {
     "name": "stdout",
     "output_type": "stream",
     "text": [
      "tensor type : <class 'torch.Tensor'>, tensor shape : torch.Size([3])\n",
      "tensor dtype : torch.float32, tensor device : cpu\n"
     ]
    }
   ],
   "source": [
    "print(f'tensor type : {type(tensor_data1)}, tensor shape : {tensor_data1.shape}')\n",
    "print(f'tensor dtype : {tensor_data1.dtype}, tensor device : {tensor_data1.device}')"
   ]
  },
  {
   "cell_type": "markdown",
   "metadata": {},
   "source": [
    "#### GPU 사용하기"
   ]
  },
  {
   "cell_type": "code",
   "execution_count": 4,
   "metadata": {},
   "outputs": [
    {
     "name": "stdout",
     "output_type": "stream",
     "text": [
      "tensor type : <class 'torch.Tensor'>, tensor shape : torch.Size([3])\n",
      "tensor dtype : torch.float32, tensor device : cuda:0\n"
     ]
    }
   ],
   "source": [
    "if torch.cuda.is_available():\n",
    "\ttensor_data = tensor_data1.to('cuda')\n",
    "\n",
    "print(f'tensor type : {type(tensor_data)}, tensor shape : {tensor_data.shape}')\n",
    "print(f'tensor dtype : {tensor_data.dtype}, tensor device : {tensor_data.device}')"
   ]
  },
  {
   "cell_type": "code",
   "execution_count": 5,
   "metadata": {},
   "outputs": [
    {
     "name": "stdout",
     "output_type": "stream",
     "text": [
      "tensor([[ 0.,  2.,  4.],\n",
      "        [ 6.,  8., 10.]], device='cuda:0')\n",
      "tensor type : <class 'torch.Tensor'>, tensor shape : torch.Size([2, 3])\n",
      "tensor dtype : torch.float32, tensor device : cuda:0\n"
     ]
    }
   ],
   "source": [
    "basic_data = [ [0, 2, 4], [6, 8, 10] ]\n",
    "tensor_data1 = torch.Tensor(basic_data)\n",
    "\n",
    "if torch.cuda.is_available():\n",
    "\ttensor_data = tensor_data1.to('cuda')\n",
    "\t\n",
    "print(tensor_data)\n",
    "\n",
    "print(f'tensor type : {type(tensor_data)}, tensor shape : {tensor_data.shape}')\n",
    "print(f'tensor dtype : {tensor_data.dtype}, tensor device : {tensor_data.device}')"
   ]
  },
  {
   "cell_type": "code",
   "execution_count": 6,
   "metadata": {},
   "outputs": [
    {
     "name": "stdout",
     "output_type": "stream",
     "text": [
      "[[ 0  2  4]\n",
      " [ 6  8 10]]\n",
      "tensor([[ 0,  2,  4],\n",
      "        [ 6,  8, 10]], dtype=torch.int32)\n",
      "tensor dtype : torch.int32, tensor device : cpu\n"
     ]
    }
   ],
   "source": [
    "np_data = np.array(basic_data)\n",
    "\n",
    "print(np_data)\n",
    "\n",
    "tensor_data2 = torch.from_numpy(np_data) # 기본은 float()\n",
    "\n",
    "print(tensor_data2)\n",
    "print(f'tensor dtype : {tensor_data2.dtype}, tensor device : {tensor_data2.device}')"
   ]
  },
  {
   "cell_type": "markdown",
   "metadata": {},
   "source": [
    "#### 텐서 연습"
   ]
  },
  {
   "cell_type": "code",
   "execution_count": 7,
   "metadata": {},
   "outputs": [],
   "source": [
    "mat1 = torch.FloatTensor([[1,2], [3,4]])\n",
    "mat2 = torch.IntTensor([[1,2], [3,4]])"
   ]
  },
  {
   "cell_type": "code",
   "execution_count": 8,
   "metadata": {},
   "outputs": [
    {
     "name": "stdout",
     "output_type": "stream",
     "text": [
      "torch.Size([2, 2])\n",
      "torch.Size([2, 2])\n"
     ]
    }
   ],
   "source": [
    "print(mat1.shape)\n",
    "print(mat2.shape)"
   ]
  },
  {
   "cell_type": "code",
   "execution_count": 9,
   "metadata": {},
   "outputs": [
    {
     "name": "stdout",
     "output_type": "stream",
     "text": [
      "torch.FloatTensor\n",
      "torch.IntTensor\n"
     ]
    }
   ],
   "source": [
    "print(mat1.type())\n",
    "print(mat2.type())"
   ]
  },
  {
   "cell_type": "code",
   "execution_count": 10,
   "metadata": {},
   "outputs": [],
   "source": [
    "mat1 = torch.FloatTensor([[1,2], [3,4]])\n",
    "mat2 = torch.FloatTensor([[1], [2]])\n",
    "\n",
    "mat1 = mat1.to('cuda')\n",
    "mat2 = mat2.to('cuda')"
   ]
  },
  {
   "cell_type": "code",
   "execution_count": 11,
   "metadata": {},
   "outputs": [
    {
     "data": {
      "text/plain": [
       "tensor([[ 5.],\n",
       "        [11.]], device='cuda:0')"
      ]
     },
     "execution_count": 11,
     "metadata": {},
     "output_type": "execute_result"
    }
   ],
   "source": [
    "mat1.matmul(mat2)"
   ]
  },
  {
   "cell_type": "code",
   "execution_count": 12,
   "metadata": {},
   "outputs": [
    {
     "data": {
      "text/plain": [
       "tensor([[1., 2.],\n",
       "        [6., 8.]], device='cuda:0')"
      ]
     },
     "execution_count": 12,
     "metadata": {},
     "output_type": "execute_result"
    }
   ],
   "source": [
    "mat1 * mat2"
   ]
  },
  {
   "cell_type": "code",
   "execution_count": 13,
   "metadata": {},
   "outputs": [
    {
     "data": {
      "text/plain": [
       "tensor([[1., 2.],\n",
       "        [6., 8.]], device='cuda:0')"
      ]
     },
     "execution_count": 13,
     "metadata": {},
     "output_type": "execute_result"
    }
   ],
   "source": [
    "mat1.mul(mat2)"
   ]
  },
  {
   "cell_type": "markdown",
   "metadata": {},
   "source": [
    "<img src=\"https://camo.githubusercontent.com/e76d463dd069d496943ecd10a3d8970237f7cf8b431fb5fd797f50b66bb01a8f/68747470733a2f2f77696b69646f63732e6e65742f696d616765732f706167652f35323834362f6e6577696d6167652e706e67\" Width=\"700\">"
   ]
  },
  {
   "cell_type": "markdown",
   "metadata": {},
   "source": [
    "#### 기본 사용법 다시\n",
    "\n",
    "##### 텐서 생성"
   ]
  },
  {
   "cell_type": "code",
   "execution_count": 15,
   "metadata": {},
   "outputs": [
    {
     "data": {
      "text/plain": [
       "tensor([[0.5389, 0.4542, 0.8759],\n",
       "        [0.3275, 0.4472, 0.9417]])"
      ]
     },
     "execution_count": 15,
     "metadata": {},
     "output_type": "execute_result"
    }
   ],
   "source": [
    "## 0에서 1사이의 랜덤숫자 생성\n",
    "torch.rand(2, 3)"
   ]
  },
  {
   "cell_type": "code",
   "execution_count": 16,
   "metadata": {},
   "outputs": [
    {
     "data": {
      "text/plain": [
       "tensor([[-0.3429,  0.8886,  0.1039],\n",
       "        [-1.0649, -0.4265,  1.0233]])"
      ]
     },
     "execution_count": 16,
     "metadata": {},
     "output_type": "execute_result"
    }
   ],
   "source": [
    "## 0에서 1사이의 정규분포로 샘플링한 랜덤숫자 생성\n",
    "torch.randn(2, 3)"
   ]
  },
  {
   "cell_type": "code",
   "execution_count": 17,
   "metadata": {},
   "outputs": [
    {
     "data": {
      "text/plain": [
       "tensor([[4, 1, 7],\n",
       "        [1, 2, 7]])"
      ]
     },
     "execution_count": 17,
     "metadata": {},
     "output_type": "execute_result"
    }
   ],
   "source": [
    "## 시작수와 종료수 사이의 랜덤숫자 생성\n",
    "torch.randint(0, 9, size=(2, 3))"
   ]
  },
  {
   "cell_type": "markdown",
   "metadata": {},
   "source": [
    "##### 초기화"
   ]
  },
  {
   "cell_type": "code",
   "execution_count": 18,
   "metadata": {},
   "outputs": [
    {
     "data": {
      "text/plain": [
       "tensor([[0., 0., 0.],\n",
       "        [0., 0., 0.]])"
      ]
     },
     "execution_count": 18,
     "metadata": {},
     "output_type": "execute_result"
    }
   ],
   "source": [
    "## 0 초기화 텐서\n",
    "torch.zeros(2,3)"
   ]
  },
  {
   "cell_type": "code",
   "execution_count": 19,
   "metadata": {},
   "outputs": [
    {
     "data": {
      "text/plain": [
       "tensor([[1., 1., 1.],\n",
       "        [1., 1., 1.]])"
      ]
     },
     "execution_count": 19,
     "metadata": {},
     "output_type": "execute_result"
    }
   ],
   "source": [
    "## 1초기화 텐서\n",
    "torch.ones(2, 3)"
   ]
  },
  {
   "cell_type": "code",
   "execution_count": 20,
   "metadata": {},
   "outputs": [
    {
     "data": {
      "text/plain": [
       "tensor([[0., 0., 0., 0., 0.],\n",
       "        [0., 0., 0., 0., 0.],\n",
       "        [0., 0., 0., 0., 0.],\n",
       "        [0., 0., 0., 0., 0.]])"
      ]
     },
     "execution_count": 20,
     "metadata": {},
     "output_type": "execute_result"
    }
   ],
   "source": [
    "## 0 초기화 방법2\n",
    "ref = torch.rand(4, 5)\n",
    "torch.zeros_like(ref)"
   ]
  },
  {
   "cell_type": "code",
   "execution_count": 21,
   "metadata": {},
   "outputs": [
    {
     "data": {
      "text/plain": [
       "tensor([[1., 1., 1., 1., 1.],\n",
       "        [1., 1., 1., 1., 1.],\n",
       "        [1., 1., 1., 1., 1.],\n",
       "        [1., 1., 1., 1., 1.]])"
      ]
     },
     "execution_count": 21,
     "metadata": {},
     "output_type": "execute_result"
    }
   ],
   "source": [
    "## 1 초기화 방법2\n",
    "torch.ones_like(ref)"
   ]
  },
  {
   "cell_type": "markdown",
   "metadata": {},
   "source": [
    "##### 텐서 데이터타입"
   ]
  },
  {
   "cell_type": "code",
   "execution_count": 25,
   "metadata": {},
   "outputs": [
    {
     "data": {
      "text/plain": [
       "'torch.FloatTensor'"
      ]
     },
     "execution_count": 25,
     "metadata": {},
     "output_type": "execute_result"
    }
   ],
   "source": [
    "## 데이터타입 확인법 / FloatTensor(기본)\n",
    "ref.type()"
   ]
  },
  {
   "cell_type": "code",
   "execution_count": 26,
   "metadata": {},
   "outputs": [
    {
     "data": {
      "text/plain": [
       "'torch.DoubleTensor'"
      ]
     },
     "execution_count": 26,
     "metadata": {},
     "output_type": "execute_result"
    }
   ],
   "source": [
    "## DoubleTensor\n",
    "x = torch.rand(2, 3)\n",
    "x_d = x.type(dtype = torch.DoubleTensor)\n",
    "x_d.type()"
   ]
  },
  {
   "cell_type": "code",
   "execution_count": 27,
   "metadata": {},
   "outputs": [
    {
     "data": {
      "text/plain": [
       "'torch.IntTensor'"
      ]
     },
     "execution_count": 27,
     "metadata": {},
     "output_type": "execute_result"
    }
   ],
   "source": [
    "## IntTensor\n",
    "x.type_as(torch.IntTensor()).type()"
   ]
  },
  {
   "cell_type": "markdown",
   "metadata": {},
   "source": [
    "##### Numpy를 Tensor로"
   ]
  }
 ],
 "metadata": {
  "kernelspec": {
   "display_name": "Python 3",
   "language": "python",
   "name": "python3"
  },
  "language_info": {
   "codemirror_mode": {
    "name": "ipython",
    "version": 3
   },
   "file_extension": ".py",
   "mimetype": "text/x-python",
   "name": "python",
   "nbconvert_exporter": "python",
   "pygments_lexer": "ipython3",
   "version": "3.10.5"
  }
 },
 "nbformat": 4,
 "nbformat_minor": 2
}
